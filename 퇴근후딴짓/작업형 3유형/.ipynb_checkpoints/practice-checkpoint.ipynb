{
 "cells": [
  {
   "cell_type": "code",
   "execution_count": 1,
   "id": "94ec91c4-e696-4aed-bb51-f80a01f1a352",
   "metadata": {
    "tags": []
   },
   "outputs": [],
   "source": [
    "import pandas as pd"
   ]
  },
  {
   "cell_type": "code",
   "execution_count": 2,
   "id": "db17f00d-e81a-4044-9e74-bf0bdc16aa94",
   "metadata": {
    "tags": []
   },
   "outputs": [],
   "source": [
    "df = pd.read_csv('christmas_decoration_sales.csv')"
   ]
  },
  {
   "cell_type": "code",
   "execution_count": 3,
   "id": "1024d93c-19ca-4b41-8e07-c4eb9dc74ada",
   "metadata": {
    "tags": []
   },
   "outputs": [
    {
     "data": {
      "text/html": [
       "<div>\n",
       "<style scoped>\n",
       "    .dataframe tbody tr th:only-of-type {\n",
       "        vertical-align: middle;\n",
       "    }\n",
       "\n",
       "    .dataframe tbody tr th {\n",
       "        vertical-align: top;\n",
       "    }\n",
       "\n",
       "    .dataframe thead th {\n",
       "        text-align: right;\n",
       "    }\n",
       "</style>\n",
       "<table border=\"1\" class=\"dataframe\">\n",
       "  <thead>\n",
       "    <tr style=\"text-align: right;\">\n",
       "      <th></th>\n",
       "      <th>Decoration_Type</th>\n",
       "      <th>Region</th>\n",
       "      <th>Sales</th>\n",
       "    </tr>\n",
       "  </thead>\n",
       "  <tbody>\n",
       "    <tr>\n",
       "      <th>0</th>\n",
       "      <td>트리</td>\n",
       "      <td>북부</td>\n",
       "      <td>64</td>\n",
       "    </tr>\n",
       "    <tr>\n",
       "      <th>1</th>\n",
       "      <td>트리</td>\n",
       "      <td>남부</td>\n",
       "      <td>67</td>\n",
       "    </tr>\n",
       "    <tr>\n",
       "      <th>2</th>\n",
       "      <td>트리</td>\n",
       "      <td>동부</td>\n",
       "      <td>84</td>\n",
       "    </tr>\n",
       "    <tr>\n",
       "      <th>3</th>\n",
       "      <td>트리</td>\n",
       "      <td>서부</td>\n",
       "      <td>87</td>\n",
       "    </tr>\n",
       "    <tr>\n",
       "      <th>4</th>\n",
       "      <td>트리</td>\n",
       "      <td>북부</td>\n",
       "      <td>87</td>\n",
       "    </tr>\n",
       "  </tbody>\n",
       "</table>\n",
       "</div>"
      ],
      "text/plain": [
       "  Decoration_Type Region  Sales\n",
       "0              트리     북부     64\n",
       "1              트리     남부     67\n",
       "2              트리     동부     84\n",
       "3              트리     서부     87\n",
       "4              트리     북부     87"
      ]
     },
     "execution_count": 3,
     "metadata": {},
     "output_type": "execute_result"
    }
   ],
   "source": [
    "df.head()"
   ]
  },
  {
   "cell_type": "code",
   "execution_count": 4,
   "id": "791380ee-503d-41f0-a839-bf1487b2a264",
   "metadata": {
    "tags": []
   },
   "outputs": [
    {
     "name": "stdout",
     "output_type": "stream",
     "text": [
      "<class 'pandas.core.frame.DataFrame'>\n",
      "RangeIndex: 36 entries, 0 to 35\n",
      "Data columns (total 3 columns):\n",
      " #   Column           Non-Null Count  Dtype \n",
      "---  ------           --------------  ----- \n",
      " 0   Decoration_Type  36 non-null     object\n",
      " 1   Region           36 non-null     object\n",
      " 2   Sales            36 non-null     int64 \n",
      "dtypes: int64(1), object(2)\n",
      "memory usage: 996.0+ bytes\n"
     ]
    }
   ],
   "source": [
    "df.info()"
   ]
  },
  {
   "cell_type": "code",
   "execution_count": 5,
   "id": "897c8381-d356-4f94-8ca4-0114623fcdc9",
   "metadata": {
    "tags": []
   },
   "outputs": [
    {
     "data": {
      "text/plain": [
       "트리     12\n",
       "조명     12\n",
       "장식품    12\n",
       "Name: Decoration_Type, dtype: int64"
      ]
     },
     "execution_count": 5,
     "metadata": {},
     "output_type": "execute_result"
    }
   ],
   "source": [
    "df['Decoration_Type'].value_counts()"
   ]
  },
  {
   "cell_type": "code",
   "execution_count": 11,
   "id": "a4836aed-5130-46f8-9a9b-772cd6e90e96",
   "metadata": {
    "tags": []
   },
   "outputs": [],
   "source": [
    "from statsmodels.formula.api import ols\n",
    "from statsmodels.api import stats"
   ]
  },
  {
   "cell_type": "code",
   "execution_count": 13,
   "id": "7841b8d4-a217-48e7-8255-2d606acace5f",
   "metadata": {
    "tags": []
   },
   "outputs": [],
   "source": [
    "formula = 'Sales ~ C(Decoration_Type) * C(Region)'"
   ]
  },
  {
   "cell_type": "code",
   "execution_count": 14,
   "id": "49a729b4-8016-475c-9d3b-c2ce1ce3d2ab",
   "metadata": {
    "tags": []
   },
   "outputs": [],
   "source": [
    "model = ols(formula, df).fit()"
   ]
  },
  {
   "cell_type": "code",
   "execution_count": 18,
   "id": "8804ad7d-ddb4-49c3-b620-b78be80323cb",
   "metadata": {
    "tags": []
   },
   "outputs": [
    {
     "data": {
      "text/html": [
       "<div>\n",
       "<style scoped>\n",
       "    .dataframe tbody tr th:only-of-type {\n",
       "        vertical-align: middle;\n",
       "    }\n",
       "\n",
       "    .dataframe tbody tr th {\n",
       "        vertical-align: top;\n",
       "    }\n",
       "\n",
       "    .dataframe thead th {\n",
       "        text-align: right;\n",
       "    }\n",
       "</style>\n",
       "<table border=\"1\" class=\"dataframe\">\n",
       "  <thead>\n",
       "    <tr style=\"text-align: right;\">\n",
       "      <th></th>\n",
       "      <th>df</th>\n",
       "      <th>sum_sq</th>\n",
       "      <th>mean_sq</th>\n",
       "      <th>F</th>\n",
       "      <th>PR(&gt;F)</th>\n",
       "    </tr>\n",
       "  </thead>\n",
       "  <tbody>\n",
       "    <tr>\n",
       "      <th>C(Decoration_Type)</th>\n",
       "      <td>2.0</td>\n",
       "      <td>1764.500000</td>\n",
       "      <td>882.250000</td>\n",
       "      <td>2.370578</td>\n",
       "      <td>0.114943</td>\n",
       "    </tr>\n",
       "    <tr>\n",
       "      <th>C(Region)</th>\n",
       "      <td>3.0</td>\n",
       "      <td>804.305556</td>\n",
       "      <td>268.101852</td>\n",
       "      <td>0.720381</td>\n",
       "      <td>0.549614</td>\n",
       "    </tr>\n",
       "    <tr>\n",
       "      <th>C(Decoration_Type):C(Region)</th>\n",
       "      <td>6.0</td>\n",
       "      <td>5153.944444</td>\n",
       "      <td>858.990741</td>\n",
       "      <td>2.308081</td>\n",
       "      <td>0.066915</td>\n",
       "    </tr>\n",
       "    <tr>\n",
       "      <th>Residual</th>\n",
       "      <td>24.0</td>\n",
       "      <td>8932.000000</td>\n",
       "      <td>372.166667</td>\n",
       "      <td>NaN</td>\n",
       "      <td>NaN</td>\n",
       "    </tr>\n",
       "  </tbody>\n",
       "</table>\n",
       "</div>"
      ],
      "text/plain": [
       "                                df       sum_sq     mean_sq         F  \\\n",
       "C(Decoration_Type)             2.0  1764.500000  882.250000  2.370578   \n",
       "C(Region)                      3.0   804.305556  268.101852  0.720381   \n",
       "C(Decoration_Type):C(Region)   6.0  5153.944444  858.990741  2.308081   \n",
       "Residual                      24.0  8932.000000  372.166667       NaN   \n",
       "\n",
       "                                PR(>F)  \n",
       "C(Decoration_Type)            0.114943  \n",
       "C(Region)                     0.549614  \n",
       "C(Decoration_Type):C(Region)  0.066915  \n",
       "Residual                           NaN  "
      ]
     },
     "execution_count": 18,
     "metadata": {},
     "output_type": "execute_result"
    }
   ],
   "source": [
    "stats.anova_lm(model, typ=1)"
   ]
  },
  {
   "cell_type": "code",
   "execution_count": 19,
   "id": "11bca664-3497-4880-9272-c5e7cad37276",
   "metadata": {
    "tags": []
   },
   "outputs": [
    {
     "data": {
      "text/html": [
       "<div>\n",
       "<style scoped>\n",
       "    .dataframe tbody tr th:only-of-type {\n",
       "        vertical-align: middle;\n",
       "    }\n",
       "\n",
       "    .dataframe tbody tr th {\n",
       "        vertical-align: top;\n",
       "    }\n",
       "\n",
       "    .dataframe thead th {\n",
       "        text-align: right;\n",
       "    }\n",
       "</style>\n",
       "<table border=\"1\" class=\"dataframe\">\n",
       "  <thead>\n",
       "    <tr style=\"text-align: right;\">\n",
       "      <th></th>\n",
       "      <th>sum_sq</th>\n",
       "      <th>df</th>\n",
       "      <th>F</th>\n",
       "      <th>PR(&gt;F)</th>\n",
       "    </tr>\n",
       "  </thead>\n",
       "  <tbody>\n",
       "    <tr>\n",
       "      <th>C(Decoration_Type)</th>\n",
       "      <td>1764.500000</td>\n",
       "      <td>2.0</td>\n",
       "      <td>2.370578</td>\n",
       "      <td>0.114943</td>\n",
       "    </tr>\n",
       "    <tr>\n",
       "      <th>C(Region)</th>\n",
       "      <td>804.305556</td>\n",
       "      <td>3.0</td>\n",
       "      <td>0.720381</td>\n",
       "      <td>0.549614</td>\n",
       "    </tr>\n",
       "    <tr>\n",
       "      <th>C(Decoration_Type):C(Region)</th>\n",
       "      <td>5153.944444</td>\n",
       "      <td>6.0</td>\n",
       "      <td>2.308081</td>\n",
       "      <td>0.066915</td>\n",
       "    </tr>\n",
       "    <tr>\n",
       "      <th>Residual</th>\n",
       "      <td>8932.000000</td>\n",
       "      <td>24.0</td>\n",
       "      <td>NaN</td>\n",
       "      <td>NaN</td>\n",
       "    </tr>\n",
       "  </tbody>\n",
       "</table>\n",
       "</div>"
      ],
      "text/plain": [
       "                                   sum_sq    df         F    PR(>F)\n",
       "C(Decoration_Type)            1764.500000   2.0  2.370578  0.114943\n",
       "C(Region)                      804.305556   3.0  0.720381  0.549614\n",
       "C(Decoration_Type):C(Region)  5153.944444   6.0  2.308081  0.066915\n",
       "Residual                      8932.000000  24.0       NaN       NaN"
      ]
     },
     "execution_count": 19,
     "metadata": {},
     "output_type": "execute_result"
    }
   ],
   "source": [
    "stats.anova_lm(model, typ=2)"
   ]
  },
  {
   "cell_type": "code",
   "execution_count": 20,
   "id": "d480197c-8ad3-4842-b3ea-9ce2f428fcee",
   "metadata": {
    "tags": []
   },
   "outputs": [
    {
     "data": {
      "text/html": [
       "<div>\n",
       "<style scoped>\n",
       "    .dataframe tbody tr th:only-of-type {\n",
       "        vertical-align: middle;\n",
       "    }\n",
       "\n",
       "    .dataframe tbody tr th {\n",
       "        vertical-align: top;\n",
       "    }\n",
       "\n",
       "    .dataframe thead th {\n",
       "        text-align: right;\n",
       "    }\n",
       "</style>\n",
       "<table border=\"1\" class=\"dataframe\">\n",
       "  <thead>\n",
       "    <tr style=\"text-align: right;\">\n",
       "      <th></th>\n",
       "      <th>sum_sq</th>\n",
       "      <th>df</th>\n",
       "      <th>F</th>\n",
       "      <th>PR(&gt;F)</th>\n",
       "    </tr>\n",
       "  </thead>\n",
       "  <tbody>\n",
       "    <tr>\n",
       "      <th>Intercept</th>\n",
       "      <td>11408.333333</td>\n",
       "      <td>1.0</td>\n",
       "      <td>30.653829</td>\n",
       "      <td>0.000011</td>\n",
       "    </tr>\n",
       "    <tr>\n",
       "      <th>C(Decoration_Type)</th>\n",
       "      <td>2786.000000</td>\n",
       "      <td>2.0</td>\n",
       "      <td>3.742947</td>\n",
       "      <td>0.038472</td>\n",
       "    </tr>\n",
       "    <tr>\n",
       "      <th>C(Region)</th>\n",
       "      <td>638.916667</td>\n",
       "      <td>3.0</td>\n",
       "      <td>0.572250</td>\n",
       "      <td>0.638739</td>\n",
       "    </tr>\n",
       "    <tr>\n",
       "      <th>C(Decoration_Type):C(Region)</th>\n",
       "      <td>5153.944444</td>\n",
       "      <td>6.0</td>\n",
       "      <td>2.308081</td>\n",
       "      <td>0.066915</td>\n",
       "    </tr>\n",
       "    <tr>\n",
       "      <th>Residual</th>\n",
       "      <td>8932.000000</td>\n",
       "      <td>24.0</td>\n",
       "      <td>NaN</td>\n",
       "      <td>NaN</td>\n",
       "    </tr>\n",
       "  </tbody>\n",
       "</table>\n",
       "</div>"
      ],
      "text/plain": [
       "                                    sum_sq    df          F    PR(>F)\n",
       "Intercept                     11408.333333   1.0  30.653829  0.000011\n",
       "C(Decoration_Type)             2786.000000   2.0   3.742947  0.038472\n",
       "C(Region)                       638.916667   3.0   0.572250  0.638739\n",
       "C(Decoration_Type):C(Region)   5153.944444   6.0   2.308081  0.066915\n",
       "Residual                       8932.000000  24.0        NaN       NaN"
      ]
     },
     "execution_count": 20,
     "metadata": {},
     "output_type": "execute_result"
    }
   ],
   "source": [
    "stats.anova_lm(model, typ=3)"
   ]
  },
  {
   "cell_type": "code",
   "execution_count": 21,
   "id": "58506855-8463-424d-9fa4-e5b0cabf16de",
   "metadata": {
    "tags": []
   },
   "outputs": [],
   "source": [
    "df = pd.read_csv('Titanic.csv')"
   ]
  },
  {
   "cell_type": "code",
   "execution_count": 22,
   "id": "9b38e99b-ad34-48d8-b21e-b38396228261",
   "metadata": {
    "tags": []
   },
   "outputs": [
    {
     "data": {
      "text/html": [
       "<div>\n",
       "<style scoped>\n",
       "    .dataframe tbody tr th:only-of-type {\n",
       "        vertical-align: middle;\n",
       "    }\n",
       "\n",
       "    .dataframe tbody tr th {\n",
       "        vertical-align: top;\n",
       "    }\n",
       "\n",
       "    .dataframe thead th {\n",
       "        text-align: right;\n",
       "    }\n",
       "</style>\n",
       "<table border=\"1\" class=\"dataframe\">\n",
       "  <thead>\n",
       "    <tr style=\"text-align: right;\">\n",
       "      <th></th>\n",
       "      <th>PassengerId</th>\n",
       "      <th>Survived</th>\n",
       "      <th>Pclass</th>\n",
       "      <th>Name</th>\n",
       "      <th>Gender</th>\n",
       "      <th>Age</th>\n",
       "      <th>SibSp</th>\n",
       "      <th>Parch</th>\n",
       "      <th>Ticket</th>\n",
       "      <th>Fare</th>\n",
       "      <th>Cabin</th>\n",
       "      <th>Embarked</th>\n",
       "    </tr>\n",
       "  </thead>\n",
       "  <tbody>\n",
       "    <tr>\n",
       "      <th>0</th>\n",
       "      <td>1</td>\n",
       "      <td>0</td>\n",
       "      <td>3</td>\n",
       "      <td>Braund, Mr. Owen Harris</td>\n",
       "      <td>male</td>\n",
       "      <td>22.0</td>\n",
       "      <td>1</td>\n",
       "      <td>0</td>\n",
       "      <td>A/5 21171</td>\n",
       "      <td>7.2500</td>\n",
       "      <td>NaN</td>\n",
       "      <td>S</td>\n",
       "    </tr>\n",
       "    <tr>\n",
       "      <th>1</th>\n",
       "      <td>2</td>\n",
       "      <td>1</td>\n",
       "      <td>1</td>\n",
       "      <td>Cumings, Mrs. John Bradley (Florence Briggs Th...</td>\n",
       "      <td>female</td>\n",
       "      <td>38.0</td>\n",
       "      <td>1</td>\n",
       "      <td>0</td>\n",
       "      <td>PC 17599</td>\n",
       "      <td>71.2833</td>\n",
       "      <td>C85</td>\n",
       "      <td>C</td>\n",
       "    </tr>\n",
       "    <tr>\n",
       "      <th>2</th>\n",
       "      <td>3</td>\n",
       "      <td>1</td>\n",
       "      <td>3</td>\n",
       "      <td>Heikkinen, Miss. Laina</td>\n",
       "      <td>female</td>\n",
       "      <td>26.0</td>\n",
       "      <td>0</td>\n",
       "      <td>0</td>\n",
       "      <td>STON/O2. 3101282</td>\n",
       "      <td>7.9250</td>\n",
       "      <td>NaN</td>\n",
       "      <td>S</td>\n",
       "    </tr>\n",
       "    <tr>\n",
       "      <th>3</th>\n",
       "      <td>4</td>\n",
       "      <td>1</td>\n",
       "      <td>1</td>\n",
       "      <td>Futrelle, Mrs. Jacques Heath (Lily May Peel)</td>\n",
       "      <td>female</td>\n",
       "      <td>35.0</td>\n",
       "      <td>1</td>\n",
       "      <td>0</td>\n",
       "      <td>113803</td>\n",
       "      <td>53.1000</td>\n",
       "      <td>C123</td>\n",
       "      <td>S</td>\n",
       "    </tr>\n",
       "    <tr>\n",
       "      <th>4</th>\n",
       "      <td>5</td>\n",
       "      <td>0</td>\n",
       "      <td>3</td>\n",
       "      <td>Allen, Mr. William Henry</td>\n",
       "      <td>male</td>\n",
       "      <td>35.0</td>\n",
       "      <td>0</td>\n",
       "      <td>0</td>\n",
       "      <td>373450</td>\n",
       "      <td>8.0500</td>\n",
       "      <td>NaN</td>\n",
       "      <td>S</td>\n",
       "    </tr>\n",
       "  </tbody>\n",
       "</table>\n",
       "</div>"
      ],
      "text/plain": [
       "   PassengerId  Survived  Pclass  \\\n",
       "0            1         0       3   \n",
       "1            2         1       1   \n",
       "2            3         1       3   \n",
       "3            4         1       1   \n",
       "4            5         0       3   \n",
       "\n",
       "                                                Name  Gender   Age  SibSp  \\\n",
       "0                            Braund, Mr. Owen Harris    male  22.0      1   \n",
       "1  Cumings, Mrs. John Bradley (Florence Briggs Th...  female  38.0      1   \n",
       "2                             Heikkinen, Miss. Laina  female  26.0      0   \n",
       "3       Futrelle, Mrs. Jacques Heath (Lily May Peel)  female  35.0      1   \n",
       "4                           Allen, Mr. William Henry    male  35.0      0   \n",
       "\n",
       "   Parch            Ticket     Fare Cabin Embarked  \n",
       "0      0         A/5 21171   7.2500   NaN        S  \n",
       "1      0          PC 17599  71.2833   C85        C  \n",
       "2      0  STON/O2. 3101282   7.9250   NaN        S  \n",
       "3      0            113803  53.1000  C123        S  \n",
       "4      0            373450   8.0500   NaN        S  "
      ]
     },
     "execution_count": 22,
     "metadata": {},
     "output_type": "execute_result"
    }
   ],
   "source": [
    "df.head()"
   ]
  },
  {
   "cell_type": "code",
   "execution_count": 24,
   "id": "fa70900f-cdf5-454c-a258-b2a7b56a13aa",
   "metadata": {
    "tags": []
   },
   "outputs": [
    {
     "data": {
      "text/plain": [
       "0    678\n",
       "1    118\n",
       "2     80\n",
       "5      5\n",
       "3      5\n",
       "4      4\n",
       "6      1\n",
       "Name: Parch, dtype: int64"
      ]
     },
     "execution_count": 24,
     "metadata": {},
     "output_type": "execute_result"
    }
   ],
   "source": [
    "df['Parch'].value_counts()"
   ]
  },
  {
   "cell_type": "code",
   "execution_count": 23,
   "id": "a88a7225-3583-42b9-b34f-e0ef91feae99",
   "metadata": {
    "tags": []
   },
   "outputs": [],
   "source": [
    "from statsmodels.formula.api import logit"
   ]
  },
  {
   "cell_type": "code",
   "execution_count": 25,
   "id": "216c267e-8619-4c98-887e-fb36914952aa",
   "metadata": {
    "tags": []
   },
   "outputs": [
    {
     "name": "stdout",
     "output_type": "stream",
     "text": [
      "Optimization terminated successfully.\n",
      "         Current function value: 0.459565\n",
      "         Iterations 6\n"
     ]
    }
   ],
   "source": [
    "formula = 'Survived ~ C(Pclass) + C(Gender) + SibSp + Parch'\n",
    "model = logit(formula, df).fit()"
   ]
  },
  {
   "cell_type": "code",
   "execution_count": 27,
   "id": "346fa764-dd1f-4fd9-8f69-8b86ef095198",
   "metadata": {
    "tags": []
   },
   "outputs": [
    {
     "data": {
      "text/html": [
       "<table class=\"simpletable\">\n",
       "<caption>Logit Regression Results</caption>\n",
       "<tr>\n",
       "  <th>Dep. Variable:</th>       <td>Survived</td>     <th>  No. Observations:  </th>  <td>   891</td>  \n",
       "</tr>\n",
       "<tr>\n",
       "  <th>Model:</th>                 <td>Logit</td>      <th>  Df Residuals:      </th>  <td>   885</td>  \n",
       "</tr>\n",
       "<tr>\n",
       "  <th>Method:</th>                 <td>MLE</td>       <th>  Df Model:          </th>  <td>     5</td>  \n",
       "</tr>\n",
       "<tr>\n",
       "  <th>Date:</th>            <td>Fri, 01 Dec 2023</td> <th>  Pseudo R-squ.:     </th>  <td>0.3099</td>  \n",
       "</tr>\n",
       "<tr>\n",
       "  <th>Time:</th>                <td>09:47:15</td>     <th>  Log-Likelihood:    </th> <td> -409.47</td> \n",
       "</tr>\n",
       "<tr>\n",
       "  <th>converged:</th>             <td>True</td>       <th>  LL-Null:           </th> <td> -593.33</td> \n",
       "</tr>\n",
       "<tr>\n",
       "  <th>Covariance Type:</th>     <td>nonrobust</td>    <th>  LLR p-value:       </th> <td>2.687e-77</td>\n",
       "</tr>\n",
       "</table>\n",
       "<table class=\"simpletable\">\n",
       "<tr>\n",
       "          <td></td>             <th>coef</th>     <th>std err</th>      <th>z</th>      <th>P>|z|</th>  <th>[0.025</th>    <th>0.975]</th>  \n",
       "</tr>\n",
       "<tr>\n",
       "  <th>Intercept</th>         <td>    2.4917</td> <td>    0.239</td> <td>   10.432</td> <td> 0.000</td> <td>    2.024</td> <td>    2.960</td>\n",
       "</tr>\n",
       "<tr>\n",
       "  <th>C(Pclass)[T.2]</th>    <td>   -0.8482</td> <td>    0.247</td> <td>   -3.439</td> <td> 0.001</td> <td>   -1.331</td> <td>   -0.365</td>\n",
       "</tr>\n",
       "<tr>\n",
       "  <th>C(Pclass)[T.3]</th>    <td>   -1.8669</td> <td>    0.215</td> <td>   -8.682</td> <td> 0.000</td> <td>   -2.288</td> <td>   -1.445</td>\n",
       "</tr>\n",
       "<tr>\n",
       "  <th>C(Gender)[T.male]</th> <td>   -2.7603</td> <td>    0.196</td> <td>  -14.116</td> <td> 0.000</td> <td>   -3.144</td> <td>   -2.377</td>\n",
       "</tr>\n",
       "<tr>\n",
       "  <th>SibSp</th>             <td>   -0.2326</td> <td>    0.099</td> <td>   -2.341</td> <td> 0.019</td> <td>   -0.427</td> <td>   -0.038</td>\n",
       "</tr>\n",
       "<tr>\n",
       "  <th>Parch</th>             <td>   -0.0498</td> <td>    0.110</td> <td>   -0.451</td> <td> 0.652</td> <td>   -0.266</td> <td>    0.167</td>\n",
       "</tr>\n",
       "</table>"
      ],
      "text/plain": [
       "<class 'statsmodels.iolib.summary.Summary'>\n",
       "\"\"\"\n",
       "                           Logit Regression Results                           \n",
       "==============================================================================\n",
       "Dep. Variable:               Survived   No. Observations:                  891\n",
       "Model:                          Logit   Df Residuals:                      885\n",
       "Method:                           MLE   Df Model:                            5\n",
       "Date:                Fri, 01 Dec 2023   Pseudo R-squ.:                  0.3099\n",
       "Time:                        09:47:15   Log-Likelihood:                -409.47\n",
       "converged:                       True   LL-Null:                       -593.33\n",
       "Covariance Type:            nonrobust   LLR p-value:                 2.687e-77\n",
       "=====================================================================================\n",
       "                        coef    std err          z      P>|z|      [0.025      0.975]\n",
       "-------------------------------------------------------------------------------------\n",
       "Intercept             2.4917      0.239     10.432      0.000       2.024       2.960\n",
       "C(Pclass)[T.2]       -0.8482      0.247     -3.439      0.001      -1.331      -0.365\n",
       "C(Pclass)[T.3]       -1.8669      0.215     -8.682      0.000      -2.288      -1.445\n",
       "C(Gender)[T.male]    -2.7603      0.196    -14.116      0.000      -3.144      -2.377\n",
       "SibSp                -0.2326      0.099     -2.341      0.019      -0.427      -0.038\n",
       "Parch                -0.0498      0.110     -0.451      0.652      -0.266       0.167\n",
       "=====================================================================================\n",
       "\"\"\""
      ]
     },
     "execution_count": 27,
     "metadata": {},
     "output_type": "execute_result"
    }
   ],
   "source": [
    "model.summary()"
   ]
  },
  {
   "cell_type": "code",
   "execution_count": 28,
   "id": "2093e49a-8f7a-4835-9293-3545ac1746c7",
   "metadata": {
    "tags": []
   },
   "outputs": [
    {
     "data": {
      "text/plain": [
       "Intercept            2.491729\n",
       "C(Pclass)[T.2]      -0.848152\n",
       "C(Pclass)[T.3]      -1.866905\n",
       "C(Gender)[T.male]   -2.760281\n",
       "SibSp               -0.232553\n",
       "Parch               -0.049847\n",
       "dtype: float64"
      ]
     },
     "execution_count": 28,
     "metadata": {},
     "output_type": "execute_result"
    }
   ],
   "source": [
    "model.params"
   ]
  },
  {
   "cell_type": "code",
   "execution_count": 29,
   "id": "0b28bcf2-1b13-424a-b1ca-0a846e6e664e",
   "metadata": {
    "tags": []
   },
   "outputs": [],
   "source": [
    "import pandas as pd\n",
    "df = pd.DataFrame({\n",
    "    'A':[77, 75, 82, 80, 81, 83, 84, 76, 75, 87],\n",
    "    'B':[80, 74, 77, 79, 71, 74, 78, 69, 70, 72],\n",
    "})"
   ]
  },
  {
   "cell_type": "code",
   "execution_count": 30,
   "id": "0f07ca56-30c0-452c-abe8-1492f393f178",
   "metadata": {
    "tags": []
   },
   "outputs": [],
   "source": [
    "from scipy.stats import ttest_ind, f_oneway"
   ]
  },
  {
   "cell_type": "code",
   "execution_count": 31,
   "id": "95c7f84a-e4d5-4fd4-bf42-57f16042d94f",
   "metadata": {
    "tags": []
   },
   "outputs": [],
   "source": [
    "a = df['A']\n",
    "b = df['B']"
   ]
  },
  {
   "cell_type": "code",
   "execution_count": 32,
   "id": "5c1c3b50-3427-474c-b32d-7fc1dc3902dc",
   "metadata": {
    "tags": []
   },
   "outputs": [
    {
     "data": {
      "text/plain": [
       "Ttest_indResult(statistic=3.1068522301122954, pvalue=0.006087373605949963)"
      ]
     },
     "execution_count": 32,
     "metadata": {},
     "output_type": "execute_result"
    }
   ],
   "source": [
    "ttest_ind(a, b)"
   ]
  },
  {
   "cell_type": "code",
   "execution_count": 33,
   "id": "8e8efb93-4cfd-4a1e-a8b1-9c9ab0a0d314",
   "metadata": {
    "tags": []
   },
   "outputs": [
    {
     "data": {
      "text/plain": [
       "F_onewayResult(statistic=9.652530779753763, pvalue=0.006087373605949924)"
      ]
     },
     "execution_count": 33,
     "metadata": {},
     "output_type": "execute_result"
    }
   ],
   "source": [
    "f_oneway(a, b)"
   ]
  },
  {
   "cell_type": "code",
   "execution_count": 34,
   "id": "cdaea0cf-bb07-4cae-a7d8-e7a77cf70fc0",
   "metadata": {
    "tags": []
   },
   "outputs": [],
   "source": [
    "a = [200*0.2, 200*0.3, 200*0.25, 200*0.15, 200*0.1]\n",
    "b = [30, 60, 50, 40, 20]\n",
    "\n",
    "from scipy.stats import chisquare"
   ]
  },
  {
   "cell_type": "code",
   "execution_count": 38,
   "id": "a85bb7bd-624d-4329-9f7e-b7012604553e",
   "metadata": {
    "tags": []
   },
   "outputs": [
    {
     "data": {
      "text/plain": [
       "Power_divergenceResult(statistic=5.833333333333334, pvalue=0.21194558437271782)"
      ]
     },
     "execution_count": 38,
     "metadata": {},
     "output_type": "execute_result"
    }
   ],
   "source": [
    "chisquare(a, b)"
   ]
  },
  {
   "cell_type": "code",
   "execution_count": 39,
   "id": "6d78c041-bca4-4cf6-9929-9cf29168003c",
   "metadata": {
    "tags": []
   },
   "outputs": [],
   "source": [
    "df = pd.DataFrame({'남자': [100, 200],\n",
    "                   '여자': [130, 170]},\n",
    "                  index=['합격', '불합격'])"
   ]
  },
  {
   "cell_type": "code",
   "execution_count": 40,
   "id": "e5563703-93d9-4e44-be6d-5ddb6a3d1312",
   "metadata": {
    "tags": []
   },
   "outputs": [
    {
     "data": {
      "text/html": [
       "<div>\n",
       "<style scoped>\n",
       "    .dataframe tbody tr th:only-of-type {\n",
       "        vertical-align: middle;\n",
       "    }\n",
       "\n",
       "    .dataframe tbody tr th {\n",
       "        vertical-align: top;\n",
       "    }\n",
       "\n",
       "    .dataframe thead th {\n",
       "        text-align: right;\n",
       "    }\n",
       "</style>\n",
       "<table border=\"1\" class=\"dataframe\">\n",
       "  <thead>\n",
       "    <tr style=\"text-align: right;\">\n",
       "      <th></th>\n",
       "      <th>남자</th>\n",
       "      <th>여자</th>\n",
       "    </tr>\n",
       "  </thead>\n",
       "  <tbody>\n",
       "    <tr>\n",
       "      <th>합격</th>\n",
       "      <td>100</td>\n",
       "      <td>130</td>\n",
       "    </tr>\n",
       "    <tr>\n",
       "      <th>불합격</th>\n",
       "      <td>200</td>\n",
       "      <td>170</td>\n",
       "    </tr>\n",
       "  </tbody>\n",
       "</table>\n",
       "</div>"
      ],
      "text/plain": [
       "      남자   여자\n",
       "합격   100  130\n",
       "불합격  200  170"
      ]
     },
     "execution_count": 40,
     "metadata": {},
     "output_type": "execute_result"
    }
   ],
   "source": [
    "df"
   ]
  },
  {
   "cell_type": "code",
   "execution_count": 41,
   "id": "58cb9eba-d5ef-463b-81df-a6b9e8bbbd14",
   "metadata": {
    "tags": []
   },
   "outputs": [],
   "source": [
    "from scipy.stats import chi2_contingency"
   ]
  },
  {
   "cell_type": "code",
   "execution_count": 42,
   "id": "2eec5b10-4a63-4a83-9898-49359ae3c071",
   "metadata": {
    "tags": []
   },
   "outputs": [
    {
     "data": {
      "text/plain": [
       "Chi2ContingencyResult(statistic=5.929494712103407, pvalue=0.01488951060599475, dof=1, expected_freq=array([[115., 115.],\n",
       "       [185., 185.]]))"
      ]
     },
     "execution_count": 42,
     "metadata": {},
     "output_type": "execute_result"
    }
   ],
   "source": [
    "chi2_contingency(df)"
   ]
  },
  {
   "cell_type": "code",
   "execution_count": 43,
   "id": "a7b904d4-1828-41e8-a425-51060cfb0213",
   "metadata": {
    "tags": []
   },
   "outputs": [],
   "source": [
    "df = pd.read_csv('t3_success.csv')"
   ]
  },
  {
   "cell_type": "code",
   "execution_count": 44,
   "id": "2568dcd1-a931-4148-979d-2e9aeb65accb",
   "metadata": {
    "tags": []
   },
   "outputs": [
    {
     "data": {
      "text/html": [
       "<div>\n",
       "<style scoped>\n",
       "    .dataframe tbody tr th:only-of-type {\n",
       "        vertical-align: middle;\n",
       "    }\n",
       "\n",
       "    .dataframe tbody tr th {\n",
       "        vertical-align: top;\n",
       "    }\n",
       "\n",
       "    .dataframe thead th {\n",
       "        text-align: right;\n",
       "    }\n",
       "</style>\n",
       "<table border=\"1\" class=\"dataframe\">\n",
       "  <thead>\n",
       "    <tr style=\"text-align: right;\">\n",
       "      <th></th>\n",
       "      <th>Success</th>\n",
       "    </tr>\n",
       "  </thead>\n",
       "  <tbody>\n",
       "    <tr>\n",
       "      <th>0</th>\n",
       "      <td>1</td>\n",
       "    </tr>\n",
       "    <tr>\n",
       "      <th>1</th>\n",
       "      <td>0</td>\n",
       "    </tr>\n",
       "    <tr>\n",
       "      <th>2</th>\n",
       "      <td>0</td>\n",
       "    </tr>\n",
       "    <tr>\n",
       "      <th>3</th>\n",
       "      <td>1</td>\n",
       "    </tr>\n",
       "    <tr>\n",
       "      <th>4</th>\n",
       "      <td>1</td>\n",
       "    </tr>\n",
       "  </tbody>\n",
       "</table>\n",
       "</div>"
      ],
      "text/plain": [
       "   Success\n",
       "0        1\n",
       "1        0\n",
       "2        0\n",
       "3        1\n",
       "4        1"
      ]
     },
     "execution_count": 44,
     "metadata": {},
     "output_type": "execute_result"
    }
   ],
   "source": [
    "df.head()"
   ]
  },
  {
   "cell_type": "code",
   "execution_count": 47,
   "id": "83dbf4a7-c510-4835-9d0c-5a8ec56b8249",
   "metadata": {
    "tags": []
   },
   "outputs": [],
   "source": [
    "n = len(df)\n",
    "p = df.Success.sum() / n"
   ]
  },
  {
   "cell_type": "code",
   "execution_count": 49,
   "id": "f8492b66-eb07-4482-b499-4f3eb83411be",
   "metadata": {
    "tags": []
   },
   "outputs": [
    {
     "data": {
      "text/plain": [
       "0.62"
      ]
     },
     "execution_count": 49,
     "metadata": {},
     "output_type": "execute_result"
    }
   ],
   "source": [
    "p"
   ]
  },
  {
   "cell_type": "code",
   "execution_count": 50,
   "id": "2e70bb78-af07-4809-a866-f6f0530895ae",
   "metadata": {
    "tags": []
   },
   "outputs": [],
   "source": [
    "from scipy.stats import binom"
   ]
  },
  {
   "cell_type": "code",
   "execution_count": 53,
   "id": "b8d075c6-5743-49c9-b51b-6662602b30e9",
   "metadata": {
    "tags": []
   },
   "outputs": [
    {
     "data": {
      "text/plain": [
       "0.07464985555860272"
      ]
     },
     "execution_count": 53,
     "metadata": {},
     "output_type": "execute_result"
    }
   ],
   "source": [
    "binom.pmf(60, n, p)"
   ]
  },
  {
   "cell_type": "code",
   "execution_count": 54,
   "id": "6779be2a-dd6f-40af-8fa1-1a971417ff9f",
   "metadata": {
    "tags": []
   },
   "outputs": [],
   "source": [
    "df = pd.read_csv('christmas_decoration_sales.csv')"
   ]
  },
  {
   "cell_type": "code",
   "execution_count": 56,
   "id": "8d4d4595-bdf3-4e0d-b276-e984f8d70b14",
   "metadata": {
    "tags": []
   },
   "outputs": [
    {
     "data": {
      "text/html": [
       "<div>\n",
       "<style scoped>\n",
       "    .dataframe tbody tr th:only-of-type {\n",
       "        vertical-align: middle;\n",
       "    }\n",
       "\n",
       "    .dataframe tbody tr th {\n",
       "        vertical-align: top;\n",
       "    }\n",
       "\n",
       "    .dataframe thead th {\n",
       "        text-align: right;\n",
       "    }\n",
       "</style>\n",
       "<table border=\"1\" class=\"dataframe\">\n",
       "  <thead>\n",
       "    <tr style=\"text-align: right;\">\n",
       "      <th></th>\n",
       "      <th>Decoration_Type</th>\n",
       "      <th>Region</th>\n",
       "      <th>Sales</th>\n",
       "    </tr>\n",
       "  </thead>\n",
       "  <tbody>\n",
       "    <tr>\n",
       "      <th>0</th>\n",
       "      <td>트리</td>\n",
       "      <td>북부</td>\n",
       "      <td>64</td>\n",
       "    </tr>\n",
       "    <tr>\n",
       "      <th>1</th>\n",
       "      <td>트리</td>\n",
       "      <td>남부</td>\n",
       "      <td>67</td>\n",
       "    </tr>\n",
       "    <tr>\n",
       "      <th>2</th>\n",
       "      <td>트리</td>\n",
       "      <td>동부</td>\n",
       "      <td>84</td>\n",
       "    </tr>\n",
       "    <tr>\n",
       "      <th>3</th>\n",
       "      <td>트리</td>\n",
       "      <td>서부</td>\n",
       "      <td>87</td>\n",
       "    </tr>\n",
       "    <tr>\n",
       "      <th>4</th>\n",
       "      <td>트리</td>\n",
       "      <td>북부</td>\n",
       "      <td>87</td>\n",
       "    </tr>\n",
       "  </tbody>\n",
       "</table>\n",
       "</div>"
      ],
      "text/plain": [
       "  Decoration_Type Region  Sales\n",
       "0              트리     북부     64\n",
       "1              트리     남부     67\n",
       "2              트리     동부     84\n",
       "3              트리     서부     87\n",
       "4              트리     북부     87"
      ]
     },
     "execution_count": 56,
     "metadata": {},
     "output_type": "execute_result"
    }
   ],
   "source": [
    "df.head()"
   ]
  },
  {
   "cell_type": "code",
   "execution_count": 57,
   "id": "ab5e8d80-4350-4ec2-8a6b-270bd56e9a53",
   "metadata": {
    "tags": []
   },
   "outputs": [],
   "source": [
    "from statsmodels.api import stats"
   ]
  },
  {
   "cell_type": "code",
   "execution_count": 58,
   "id": "eaf97a58-ffcb-4567-bdae-20b5db906ef0",
   "metadata": {
    "tags": []
   },
   "outputs": [],
   "source": [
    "from statsmodels.formula.api import ols"
   ]
  },
  {
   "cell_type": "code",
   "execution_count": 63,
   "id": "57808c2b-847d-49b7-b7c5-c1701f11f769",
   "metadata": {
    "tags": []
   },
   "outputs": [],
   "source": [
    "formula = 'Sales ~ C(Decoration_Type) * C(Region)'\n",
    "model = ols(formula, df).fit()"
   ]
  },
  {
   "cell_type": "code",
   "execution_count": 64,
   "id": "0eb0812d-9e78-495b-980d-87e9c9cf8b53",
   "metadata": {
    "tags": []
   },
   "outputs": [
    {
     "data": {
      "text/html": [
       "<div>\n",
       "<style scoped>\n",
       "    .dataframe tbody tr th:only-of-type {\n",
       "        vertical-align: middle;\n",
       "    }\n",
       "\n",
       "    .dataframe tbody tr th {\n",
       "        vertical-align: top;\n",
       "    }\n",
       "\n",
       "    .dataframe thead th {\n",
       "        text-align: right;\n",
       "    }\n",
       "</style>\n",
       "<table border=\"1\" class=\"dataframe\">\n",
       "  <thead>\n",
       "    <tr style=\"text-align: right;\">\n",
       "      <th></th>\n",
       "      <th>df</th>\n",
       "      <th>sum_sq</th>\n",
       "      <th>mean_sq</th>\n",
       "      <th>F</th>\n",
       "      <th>PR(&gt;F)</th>\n",
       "    </tr>\n",
       "  </thead>\n",
       "  <tbody>\n",
       "    <tr>\n",
       "      <th>C(Decoration_Type)</th>\n",
       "      <td>2.0</td>\n",
       "      <td>1764.500000</td>\n",
       "      <td>882.250000</td>\n",
       "      <td>2.370578</td>\n",
       "      <td>0.114943</td>\n",
       "    </tr>\n",
       "    <tr>\n",
       "      <th>C(Region)</th>\n",
       "      <td>3.0</td>\n",
       "      <td>804.305556</td>\n",
       "      <td>268.101852</td>\n",
       "      <td>0.720381</td>\n",
       "      <td>0.549614</td>\n",
       "    </tr>\n",
       "    <tr>\n",
       "      <th>C(Decoration_Type):C(Region)</th>\n",
       "      <td>6.0</td>\n",
       "      <td>5153.944444</td>\n",
       "      <td>858.990741</td>\n",
       "      <td>2.308081</td>\n",
       "      <td>0.066915</td>\n",
       "    </tr>\n",
       "    <tr>\n",
       "      <th>Residual</th>\n",
       "      <td>24.0</td>\n",
       "      <td>8932.000000</td>\n",
       "      <td>372.166667</td>\n",
       "      <td>NaN</td>\n",
       "      <td>NaN</td>\n",
       "    </tr>\n",
       "  </tbody>\n",
       "</table>\n",
       "</div>"
      ],
      "text/plain": [
       "                                df       sum_sq     mean_sq         F  \\\n",
       "C(Decoration_Type)             2.0  1764.500000  882.250000  2.370578   \n",
       "C(Region)                      3.0   804.305556  268.101852  0.720381   \n",
       "C(Decoration_Type):C(Region)   6.0  5153.944444  858.990741  2.308081   \n",
       "Residual                      24.0  8932.000000  372.166667       NaN   \n",
       "\n",
       "                                PR(>F)  \n",
       "C(Decoration_Type)            0.114943  \n",
       "C(Region)                     0.549614  \n",
       "C(Decoration_Type):C(Region)  0.066915  \n",
       "Residual                           NaN  "
      ]
     },
     "execution_count": 64,
     "metadata": {},
     "output_type": "execute_result"
    }
   ],
   "source": [
    "stats.anova_lm(model)"
   ]
  },
  {
   "cell_type": "code",
   "execution_count": 65,
   "id": "1e920cc7-2581-4cc2-bf41-62681697e1ae",
   "metadata": {
    "tags": []
   },
   "outputs": [
    {
     "data": {
      "text/html": [
       "<div>\n",
       "<style scoped>\n",
       "    .dataframe tbody tr th:only-of-type {\n",
       "        vertical-align: middle;\n",
       "    }\n",
       "\n",
       "    .dataframe tbody tr th {\n",
       "        vertical-align: top;\n",
       "    }\n",
       "\n",
       "    .dataframe thead th {\n",
       "        text-align: right;\n",
       "    }\n",
       "</style>\n",
       "<table border=\"1\" class=\"dataframe\">\n",
       "  <thead>\n",
       "    <tr style=\"text-align: right;\">\n",
       "      <th></th>\n",
       "      <th>df</th>\n",
       "      <th>sum_sq</th>\n",
       "      <th>mean_sq</th>\n",
       "      <th>F</th>\n",
       "      <th>PR(&gt;F)</th>\n",
       "    </tr>\n",
       "  </thead>\n",
       "  <tbody>\n",
       "    <tr>\n",
       "      <th>C(Decoration_Type)</th>\n",
       "      <td>2.0</td>\n",
       "      <td>1764.500000</td>\n",
       "      <td>882.250000</td>\n",
       "      <td>1.879001</td>\n",
       "      <td>0.170282</td>\n",
       "    </tr>\n",
       "    <tr>\n",
       "      <th>C(Region)</th>\n",
       "      <td>3.0</td>\n",
       "      <td>804.305556</td>\n",
       "      <td>268.101852</td>\n",
       "      <td>0.570999</td>\n",
       "      <td>0.638462</td>\n",
       "    </tr>\n",
       "    <tr>\n",
       "      <th>Residual</th>\n",
       "      <td>30.0</td>\n",
       "      <td>14085.944444</td>\n",
       "      <td>469.531481</td>\n",
       "      <td>NaN</td>\n",
       "      <td>NaN</td>\n",
       "    </tr>\n",
       "  </tbody>\n",
       "</table>\n",
       "</div>"
      ],
      "text/plain": [
       "                      df        sum_sq     mean_sq         F    PR(>F)\n",
       "C(Decoration_Type)   2.0   1764.500000  882.250000  1.879001  0.170282\n",
       "C(Region)            3.0    804.305556  268.101852  0.570999  0.638462\n",
       "Residual            30.0  14085.944444  469.531481       NaN       NaN"
      ]
     },
     "execution_count": 65,
     "metadata": {},
     "output_type": "execute_result"
    }
   ],
   "source": [
    "formula = 'Sales ~ C(Decoration_Type) + C(Region)'\n",
    "model = ols(formula, df).fit()\n",
    "stats.anova_lm(model)"
   ]
  },
  {
   "cell_type": "code",
   "execution_count": null,
   "id": "143f146f-95d5-47fa-94a6-f057f4e0d76d",
   "metadata": {},
   "outputs": [],
   "source": []
  }
 ],
 "metadata": {
  "kernelspec": {
   "display_name": "Python 3",
   "language": "python",
   "name": "python3"
  },
  "language_info": {
   "codemirror_mode": {
    "name": "ipython",
    "version": 3
   },
   "file_extension": ".py",
   "mimetype": "text/x-python",
   "name": "python",
   "nbconvert_exporter": "python",
   "pygments_lexer": "ipython3",
   "version": "3.11.4"
  }
 },
 "nbformat": 4,
 "nbformat_minor": 5
}
