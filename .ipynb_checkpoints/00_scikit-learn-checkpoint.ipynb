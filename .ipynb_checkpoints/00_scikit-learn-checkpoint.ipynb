{
 "cells": [
  {
   "cell_type": "markdown",
   "id": "dbd22ff3-c64c-4c6b-b174-add897a1a157",
   "metadata": {},
   "source": [
    "# Scikit-learn"
   ]
  },
  {
   "cell_type": "code",
   "execution_count": 1,
   "id": "a150d6aa-30a5-4085-b2f7-75ba5ff90b2d",
   "metadata": {
    "tags": []
   },
   "outputs": [
    {
     "data": {
      "text/plain": [
       "'1.3.0'"
      ]
     },
     "execution_count": 1,
     "metadata": {},
     "output_type": "execute_result"
    }
   ],
   "source": [
    "import sklearn\n",
    "sklearn.__version__"
   ]
  },
  {
   "cell_type": "markdown",
   "id": "eb0f7dc1-ace5-4165-ba41-d78a83ea1c8a",
   "metadata": {
    "tags": []
   },
   "source": [
    "## Scikit-learn 기본 구성"
   ]
  },
  {
   "cell_type": "markdown",
   "id": "0ea4d77e-7eb0-4726-86b4-b9a1d04aafd4",
   "metadata": {},
   "source": [
    "**Estimator**\n",
    "- **Classifier**\n",
    "    - Decsion Tree\n",
    "    - Random Forest\n",
    "    - Gradient Boosting\n",
    "    - Gaussian NB\n",
    "    - SVC\n",
    "- **Regressor**\n",
    "    - Linear Regression\n",
    "    - Ridge\n",
    "    - Lasso\n",
    "    - Random Forest\n",
    "    - Gradeint Boosting\n",
    "\n",
    "\n",
    "Estimator 클래스는 fit 함수와 predict 함수를 제공한다."
   ]
  },
  {
   "cell_type": "markdown",
   "id": "33ec831d-61d9-4b29-8f87-8a675febd5a8",
   "metadata": {},
   "source": [
    "## Scikit-learn 주요 모듈"
   ]
  },
  {
   "cell_type": "markdown",
   "id": "4154c0a5-4746-4f9d-bf78-ee94c4dd2b6c",
   "metadata": {},
   "source": [
    "**sklearn.datasets** : 예제 데이터  \n",
    "\n",
    "**sklearn.preprocessing** : 데이터 전처리 (인코딩, 정규화, 스케일링 등)  \n",
    "**sklearn.feature_selection** : 변수 선택에 관련된 작업  \n",
    "**sklearn.feature_extraction** : 데이터에서 벡터화된 변수 추출  \n",
    "\n",
    "**sklearn.decomposition** : 차원 축소 (PCA, NMF, Truncated SVD 등)  \n",
    "\n",
    "**sklearn.model_selection** : 데이터 분리, 검증, 매개변수 튜닝  \n",
    "\n",
    "**sklearn.metrics** : 평가 (Accuracy, Precision, Recall, ROC_AUC, RMSE 등)  \n",
    "\n",
    "**sklearn.ensemble** : 앙상블 (Random Forest, AdaBoost, Gradient Boosting 등)  \n",
    "**sklearn.linear_model** : Linear Regression, Ridge, Lasso, Logistic Regression, SGD 등  \n",
    "**sklearn.naive_bayes** : Gaussian NB, Polynomial NB  \n",
    "**sklearn.neighbors** : K-NN 등  \n",
    "**sklearn.svm** : SVM  \n",
    "**sklearn.cluster** : Clustering, K-Means, 계층형, DBSCAN 등  \n",
    "\n",
    "**sklearn.pipeline** : 다양한 처리를 함께 묶어서 실행할 수 있는 유틸리티 제공"
   ]
  },
  {
   "cell_type": "markdown",
   "id": "cfb9d4ee-18d3-494d-bdb1-ccdef4ceae31",
   "metadata": {},
   "source": [
    "## Scikit-learn 머신러닝 예제"
   ]
  },
  {
   "cell_type": "markdown",
   "id": "294b9e63-77e3-4b18-b54d-e0384615bdb7",
   "metadata": {},
   "source": [
    "### 데이터 준비"
   ]
  },
  {
   "cell_type": "code",
   "execution_count": 4,
   "id": "ecb3c935-1e2c-44f4-aa3e-b149451739fc",
   "metadata": {
    "tags": []
   },
   "outputs": [],
   "source": [
    "from sklearn.datasets import load_iris\n",
    "import pandas as pd\n",
    "\n",
    "iris = load_iris()\n",
    "iris_df = pd.DataFrame(data=iris.data, columns=iris.feature_names)\n",
    "iris_df['label'] = iris.target"
   ]
  },
  {
   "cell_type": "code",
   "execution_count": 5,
   "id": "d171a77a-9379-4162-bd3b-b5f57964e718",
   "metadata": {
    "tags": []
   },
   "outputs": [
    {
     "data": {
      "text/html": [
       "<div>\n",
       "<style scoped>\n",
       "    .dataframe tbody tr th:only-of-type {\n",
       "        vertical-align: middle;\n",
       "    }\n",
       "\n",
       "    .dataframe tbody tr th {\n",
       "        vertical-align: top;\n",
       "    }\n",
       "\n",
       "    .dataframe thead th {\n",
       "        text-align: right;\n",
       "    }\n",
       "</style>\n",
       "<table border=\"1\" class=\"dataframe\">\n",
       "  <thead>\n",
       "    <tr style=\"text-align: right;\">\n",
       "      <th></th>\n",
       "      <th>sepal length (cm)</th>\n",
       "      <th>sepal width (cm)</th>\n",
       "      <th>petal length (cm)</th>\n",
       "      <th>petal width (cm)</th>\n",
       "      <th>label</th>\n",
       "    </tr>\n",
       "  </thead>\n",
       "  <tbody>\n",
       "    <tr>\n",
       "      <th>0</th>\n",
       "      <td>5.1</td>\n",
       "      <td>3.5</td>\n",
       "      <td>1.4</td>\n",
       "      <td>0.2</td>\n",
       "      <td>0</td>\n",
       "    </tr>\n",
       "    <tr>\n",
       "      <th>1</th>\n",
       "      <td>4.9</td>\n",
       "      <td>3.0</td>\n",
       "      <td>1.4</td>\n",
       "      <td>0.2</td>\n",
       "      <td>0</td>\n",
       "    </tr>\n",
       "    <tr>\n",
       "      <th>2</th>\n",
       "      <td>4.7</td>\n",
       "      <td>3.2</td>\n",
       "      <td>1.3</td>\n",
       "      <td>0.2</td>\n",
       "      <td>0</td>\n",
       "    </tr>\n",
       "  </tbody>\n",
       "</table>\n",
       "</div>"
      ],
      "text/plain": [
       "   sepal length (cm)  sepal width (cm)  petal length (cm)  petal width (cm)  \\\n",
       "0                5.1               3.5                1.4               0.2   \n",
       "1                4.9               3.0                1.4               0.2   \n",
       "2                4.7               3.2                1.3               0.2   \n",
       "\n",
       "   label  \n",
       "0      0  \n",
       "1      0  \n",
       "2      0  "
      ]
     },
     "execution_count": 5,
     "metadata": {},
     "output_type": "execute_result"
    }
   ],
   "source": [
    "iris_df.head(3)"
   ]
  },
  {
   "cell_type": "markdown",
   "id": "8fd97b4a-6e4b-41d6-ac24-315e6bc7d61f",
   "metadata": {},
   "source": [
    "### 데이터 세트 분할"
   ]
  },
  {
   "cell_type": "code",
   "execution_count": 6,
   "id": "e91cdb18-7e01-48a0-9016-06b94741c7c3",
   "metadata": {
    "tags": []
   },
   "outputs": [
    {
     "name": "stdout",
     "output_type": "stream",
     "text": [
      "train dataset\n",
      "x_train dataset 120\n",
      "y_train dataset 120\n",
      "test dataset\n",
      "x_test dataset 30\n",
      "y_test dataset 30\n"
     ]
    }
   ],
   "source": [
    "from sklearn.model_selection import train_test_split\n",
    "\n",
    "iris_data = iris.data\n",
    "iris_label = iris.target\n",
    "\n",
    "x_train, x_test, y_train, y_test = train_test_split(iris_data, iris_label, test_size=0.2, random_state=11)\n",
    "\n",
    "print(\"train dataset\")\n",
    "print(f\"x_train dataset {len(x_train)}\")\n",
    "print(f\"y_train dataset {len(y_train)}\")\n",
    "\n",
    "print(\"test dataset\")\n",
    "print(f\"x_test dataset {len(x_test)}\")\n",
    "print(f\"y_test dataset {len(y_test)}\")"
   ]
  },
  {
   "cell_type": "markdown",
   "id": "d46f841c-7ca5-48b1-8388-b7880ca4272a",
   "metadata": {},
   "source": [
    "### 의사결정트리 머신러닝"
   ]
  },
  {
   "cell_type": "code",
   "execution_count": 7,
   "id": "5d658bc5-04c6-4a36-b870-77ecc864f11b",
   "metadata": {
    "tags": []
   },
   "outputs": [
    {
     "data": {
      "text/html": [
       "<style>#sk-container-id-1 {color: black;}#sk-container-id-1 pre{padding: 0;}#sk-container-id-1 div.sk-toggleable {background-color: white;}#sk-container-id-1 label.sk-toggleable__label {cursor: pointer;display: block;width: 100%;margin-bottom: 0;padding: 0.3em;box-sizing: border-box;text-align: center;}#sk-container-id-1 label.sk-toggleable__label-arrow:before {content: \"▸\";float: left;margin-right: 0.25em;color: #696969;}#sk-container-id-1 label.sk-toggleable__label-arrow:hover:before {color: black;}#sk-container-id-1 div.sk-estimator:hover label.sk-toggleable__label-arrow:before {color: black;}#sk-container-id-1 div.sk-toggleable__content {max-height: 0;max-width: 0;overflow: hidden;text-align: left;background-color: #f0f8ff;}#sk-container-id-1 div.sk-toggleable__content pre {margin: 0.2em;color: black;border-radius: 0.25em;background-color: #f0f8ff;}#sk-container-id-1 input.sk-toggleable__control:checked~div.sk-toggleable__content {max-height: 200px;max-width: 100%;overflow: auto;}#sk-container-id-1 input.sk-toggleable__control:checked~label.sk-toggleable__label-arrow:before {content: \"▾\";}#sk-container-id-1 div.sk-estimator input.sk-toggleable__control:checked~label.sk-toggleable__label {background-color: #d4ebff;}#sk-container-id-1 div.sk-label input.sk-toggleable__control:checked~label.sk-toggleable__label {background-color: #d4ebff;}#sk-container-id-1 input.sk-hidden--visually {border: 0;clip: rect(1px 1px 1px 1px);clip: rect(1px, 1px, 1px, 1px);height: 1px;margin: -1px;overflow: hidden;padding: 0;position: absolute;width: 1px;}#sk-container-id-1 div.sk-estimator {font-family: monospace;background-color: #f0f8ff;border: 1px dotted black;border-radius: 0.25em;box-sizing: border-box;margin-bottom: 0.5em;}#sk-container-id-1 div.sk-estimator:hover {background-color: #d4ebff;}#sk-container-id-1 div.sk-parallel-item::after {content: \"\";width: 100%;border-bottom: 1px solid gray;flex-grow: 1;}#sk-container-id-1 div.sk-label:hover label.sk-toggleable__label {background-color: #d4ebff;}#sk-container-id-1 div.sk-serial::before {content: \"\";position: absolute;border-left: 1px solid gray;box-sizing: border-box;top: 0;bottom: 0;left: 50%;z-index: 0;}#sk-container-id-1 div.sk-serial {display: flex;flex-direction: column;align-items: center;background-color: white;padding-right: 0.2em;padding-left: 0.2em;position: relative;}#sk-container-id-1 div.sk-item {position: relative;z-index: 1;}#sk-container-id-1 div.sk-parallel {display: flex;align-items: stretch;justify-content: center;background-color: white;position: relative;}#sk-container-id-1 div.sk-item::before, #sk-container-id-1 div.sk-parallel-item::before {content: \"\";position: absolute;border-left: 1px solid gray;box-sizing: border-box;top: 0;bottom: 0;left: 50%;z-index: -1;}#sk-container-id-1 div.sk-parallel-item {display: flex;flex-direction: column;z-index: 1;position: relative;background-color: white;}#sk-container-id-1 div.sk-parallel-item:first-child::after {align-self: flex-end;width: 50%;}#sk-container-id-1 div.sk-parallel-item:last-child::after {align-self: flex-start;width: 50%;}#sk-container-id-1 div.sk-parallel-item:only-child::after {width: 0;}#sk-container-id-1 div.sk-dashed-wrapped {border: 1px dashed gray;margin: 0 0.4em 0.5em 0.4em;box-sizing: border-box;padding-bottom: 0.4em;background-color: white;}#sk-container-id-1 div.sk-label label {font-family: monospace;font-weight: bold;display: inline-block;line-height: 1.2em;}#sk-container-id-1 div.sk-label-container {text-align: center;}#sk-container-id-1 div.sk-container {/* jupyter's `normalize.less` sets `[hidden] { display: none; }` but bootstrap.min.css set `[hidden] { display: none !important; }` so we also need the `!important` here to be able to override the default hidden behavior on the sphinx rendered scikit-learn.org. See: https://github.com/scikit-learn/scikit-learn/issues/21755 */display: inline-block !important;position: relative;}#sk-container-id-1 div.sk-text-repr-fallback {display: none;}</style><div id=\"sk-container-id-1\" class=\"sk-top-container\"><div class=\"sk-text-repr-fallback\"><pre>DecisionTreeClassifier(random_state=11)</pre><b>In a Jupyter environment, please rerun this cell to show the HTML representation or trust the notebook. <br />On GitHub, the HTML representation is unable to render, please try loading this page with nbviewer.org.</b></div><div class=\"sk-container\" hidden><div class=\"sk-item\"><div class=\"sk-estimator sk-toggleable\"><input class=\"sk-toggleable__control sk-hidden--visually\" id=\"sk-estimator-id-1\" type=\"checkbox\" checked><label for=\"sk-estimator-id-1\" class=\"sk-toggleable__label sk-toggleable__label-arrow\">DecisionTreeClassifier</label><div class=\"sk-toggleable__content\"><pre>DecisionTreeClassifier(random_state=11)</pre></div></div></div></div></div>"
      ],
      "text/plain": [
       "DecisionTreeClassifier(random_state=11)"
      ]
     },
     "execution_count": 7,
     "metadata": {},
     "output_type": "execute_result"
    }
   ],
   "source": [
    "from sklearn.tree import DecisionTreeClassifier\n",
    "\n",
    "df_clf = DecisionTreeClassifier(random_state=11)\n",
    "df_clf.fit(x_train, y_train)"
   ]
  },
  {
   "cell_type": "markdown",
   "id": "346c3dbe-759f-44a1-8ca6-9438e9420c67",
   "metadata": {},
   "source": [
    "### 의사결정트리 테스트/평가"
   ]
  },
  {
   "cell_type": "code",
   "execution_count": 8,
   "id": "6e74704d-5acf-49af-bd88-0cfa349b2ea8",
   "metadata": {
    "tags": []
   },
   "outputs": [
    {
     "name": "stdout",
     "output_type": "stream",
     "text": [
      "Accuracy Score : 0.9333333333333333\n"
     ]
    }
   ],
   "source": [
    "from sklearn.metrics import accuracy_score\n",
    "\n",
    "pred = df_clf.predict(x_test)\n",
    "ac_score = accuracy_score(y_test, pred)\n",
    "\n",
    "print(f\"Accuracy Score : {ac_score}\")"
   ]
  },
  {
   "cell_type": "markdown",
   "id": "8525e3cf-badf-4c51-84a4-f5150a7537f7",
   "metadata": {},
   "source": [
    "## Scikit-learn 데이터 전처리"
   ]
  },
  {
   "cell_type": "markdown",
   "id": "75913093-92a8-423c-85c8-c986d26409b6",
   "metadata": {},
   "source": [
    "1. scikit-learn에서 결측치는 허용되지 않는다.\n",
    "    - 결측치가 많지 않다면 평균값 등으로 대체\n",
    "    - 결측치가 많다면 해당 데이터를 삭제\n",
    "1. scikit-learn에서 문자열 값은 허용하지 않는다.\n",
    "    - 인코딩을 통해 숫자형으로 변환해야 한다.\n",
    "    - 레이블 인코딩 등"
   ]
  },
  {
   "cell_type": "markdown",
   "id": "fe80d780-097f-48eb-a2ad-335216126c46",
   "metadata": {},
   "source": [
    "### 레이블 인코딩"
   ]
  },
  {
   "cell_type": "code",
   "execution_count": 9,
   "id": "69c715a6-505c-4fe3-826d-c68375c7ca82",
   "metadata": {
    "tags": []
   },
   "outputs": [
    {
     "name": "stdout",
     "output_type": "stream",
     "text": [
      "인코딩 변환값 : [0 1 2 3 0 1 3 3]\n",
      "인코딩 클래스 : ['TV' '냉장고' '전자레인지' '컴퓨터']\n"
     ]
    }
   ],
   "source": [
    "from sklearn.preprocessing import LabelEncoder\n",
    "\n",
    "items = [\"TV\", \"냉장고\", \"전자레인지\", \"컴퓨터\", \"TV\", \"냉장고\", \"컴퓨터\", \"컴퓨터\"]\n",
    "\n",
    "encoder = LabelEncoder()\n",
    "encoder.fit(items)\n",
    "labels = encoder.transform(items)\n",
    "\n",
    "print(f\"인코딩 변환값 : {labels}\")\n",
    "print(f\"인코딩 클래스 : {encoder.classes_}\")"
   ]
  },
  {
   "cell_type": "markdown",
   "id": "e8386fdd-ba60-4b8a-a324-d23754c55a1b",
   "metadata": {},
   "source": [
    "#### 레이블 디코딩"
   ]
  },
  {
   "cell_type": "code",
   "execution_count": 10,
   "id": "d9c14cc5-1f0f-44bb-938a-fa1f5ca1d657",
   "metadata": {
    "tags": []
   },
   "outputs": [
    {
     "name": "stdout",
     "output_type": "stream",
     "text": [
      "디코딩 원본값 : ['TV' '냉장고' '전자레인지' '컴퓨터' 'TV' '냉장고' '컴퓨터' '컴퓨터']\n"
     ]
    }
   ],
   "source": [
    "origins = encoder.inverse_transform([0, 1, 2, 3, 0, 1, 3, 3])\n",
    "\n",
    "print(f\"디코딩 원본값 : {origins}\")"
   ]
  },
  {
   "cell_type": "markdown",
   "id": "5f48dde0-eaa3-438e-abd7-c02cf4899063",
   "metadata": {},
   "source": [
    "### 원-핫 인코딩"
   ]
  },
  {
   "cell_type": "markdown",
   "id": "e669be1e-a239-4789-89b6-48f6d48b4cbd",
   "metadata": {},
   "source": [
    "**원-핫 인코딩 시 주의 사항**  \n",
    "1. 모든 문자열 값은 숫자형으로 변환되어 있어야 한다.\n",
    "1. 입력값은 2차원의 데이터여야 한다."
   ]
  },
  {
   "cell_type": "code",
   "execution_count": 16,
   "id": "4de64b21-86d5-4309-82ca-8161635a4463",
   "metadata": {
    "tags": []
   },
   "outputs": [
    {
     "name": "stdout",
     "output_type": "stream",
     "text": [
      "원-핫 인코딩 데이터\n",
      "[[1. 0. 0. 0.]\n",
      " [0. 1. 0. 0.]\n",
      " [0. 0. 1. 0.]\n",
      " [0. 0. 0. 1.]\n",
      " [1. 0. 0. 0.]\n",
      " [0. 1. 0. 0.]\n",
      " [0. 0. 0. 1.]\n",
      " [0. 0. 0. 1.]]\n",
      "원-핫 인코딩 데이터 차원\n",
      "(8, 4)\n"
     ]
    }
   ],
   "source": [
    "from sklearn.preprocessing import OneHotEncoder\n",
    "import numpy as np\n",
    "\n",
    "labels = labels.reshape(-1, 1) # (기존 차원 유지, 한 차원 추가하고 하나씩 할당)\n",
    "\n",
    "oh_encoder = OneHotEncoder()\n",
    "oh_encoder.fit(labels)\n",
    "oh_labels = oh_encoder.transform(labels)\n",
    "\n",
    "print(\"원-핫 인코딩 데이터\")\n",
    "print(oh_labels.toarray())\n",
    "print(\"원-핫 인코딩 데이터 차원\")\n",
    "print(oh_labels.shape)"
   ]
  },
  {
   "cell_type": "markdown",
   "id": "5e31cc3e-968d-4289-8eb0-d6c3747c8727",
   "metadata": {},
   "source": [
    "#### Pandas를 통한 원-핫 인코딩"
   ]
  },
  {
   "cell_type": "code",
   "execution_count": 17,
   "id": "64f7f4a4-42db-4752-8a24-8f85b7c7b11b",
   "metadata": {
    "tags": []
   },
   "outputs": [
    {
     "data": {
      "text/html": [
       "<div>\n",
       "<style scoped>\n",
       "    .dataframe tbody tr th:only-of-type {\n",
       "        vertical-align: middle;\n",
       "    }\n",
       "\n",
       "    .dataframe tbody tr th {\n",
       "        vertical-align: top;\n",
       "    }\n",
       "\n",
       "    .dataframe thead th {\n",
       "        text-align: right;\n",
       "    }\n",
       "</style>\n",
       "<table border=\"1\" class=\"dataframe\">\n",
       "  <thead>\n",
       "    <tr style=\"text-align: right;\">\n",
       "      <th></th>\n",
       "      <th>item_TV</th>\n",
       "      <th>item_냉장고</th>\n",
       "      <th>item_전자레인지</th>\n",
       "      <th>item_컴퓨터</th>\n",
       "    </tr>\n",
       "  </thead>\n",
       "  <tbody>\n",
       "    <tr>\n",
       "      <th>0</th>\n",
       "      <td>1</td>\n",
       "      <td>0</td>\n",
       "      <td>0</td>\n",
       "      <td>0</td>\n",
       "    </tr>\n",
       "    <tr>\n",
       "      <th>1</th>\n",
       "      <td>0</td>\n",
       "      <td>1</td>\n",
       "      <td>0</td>\n",
       "      <td>0</td>\n",
       "    </tr>\n",
       "    <tr>\n",
       "      <th>2</th>\n",
       "      <td>0</td>\n",
       "      <td>0</td>\n",
       "      <td>1</td>\n",
       "      <td>0</td>\n",
       "    </tr>\n",
       "    <tr>\n",
       "      <th>3</th>\n",
       "      <td>0</td>\n",
       "      <td>0</td>\n",
       "      <td>0</td>\n",
       "      <td>1</td>\n",
       "    </tr>\n",
       "    <tr>\n",
       "      <th>4</th>\n",
       "      <td>1</td>\n",
       "      <td>0</td>\n",
       "      <td>0</td>\n",
       "      <td>0</td>\n",
       "    </tr>\n",
       "    <tr>\n",
       "      <th>5</th>\n",
       "      <td>0</td>\n",
       "      <td>1</td>\n",
       "      <td>0</td>\n",
       "      <td>0</td>\n",
       "    </tr>\n",
       "    <tr>\n",
       "      <th>6</th>\n",
       "      <td>0</td>\n",
       "      <td>0</td>\n",
       "      <td>0</td>\n",
       "      <td>1</td>\n",
       "    </tr>\n",
       "    <tr>\n",
       "      <th>7</th>\n",
       "      <td>0</td>\n",
       "      <td>0</td>\n",
       "      <td>0</td>\n",
       "      <td>1</td>\n",
       "    </tr>\n",
       "  </tbody>\n",
       "</table>\n",
       "</div>"
      ],
      "text/plain": [
       "   item_TV  item_냉장고  item_전자레인지  item_컴퓨터\n",
       "0        1         0           0         0\n",
       "1        0         1           0         0\n",
       "2        0         0           1         0\n",
       "3        0         0           0         1\n",
       "4        1         0           0         0\n",
       "5        0         1           0         0\n",
       "6        0         0           0         1\n",
       "7        0         0           0         1"
      ]
     },
     "execution_count": 17,
     "metadata": {},
     "output_type": "execute_result"
    }
   ],
   "source": [
    "import pandas as pd\n",
    "\n",
    "item_df = pd.DataFrame({'item':items})\n",
    "pd.get_dummies(item_df)"
   ]
  },
  {
   "cell_type": "markdown",
   "id": "6f13b597-e043-4ef0-8f35-f957243b5948",
   "metadata": {},
   "source": [
    "### 스케일링"
   ]
  },
  {
   "cell_type": "markdown",
   "id": "bf9f34ca-fa24-4a1e-8642-f9df957c965b",
   "metadata": {},
   "source": [
    "#### 표준화"
   ]
  },
  {
   "cell_type": "markdown",
   "id": "31c59c27-a79b-4e2b-bd6a-d765efd21974",
   "metadata": {},
   "source": [
    "**표준화** : 평균 0, 분산 1  \n",
    "$\\dfrac{x-\\overline{X}}{s}$"
   ]
  },
  {
   "cell_type": "markdown",
   "id": "87315fa6-f688-4917-a7ed-887f2b1f12e8",
   "metadata": {},
   "source": [
    "**SVM, Linear Regression, Logistic Regression**은  \n",
    "데이터 정규 분포를 가지고 있다고 가정하고 구현되었기 때문에  \n",
    "**표준화를 적용**하는 것이 예측 성능 향상에 중요한 요소가 될 수 있다."
   ]
  },
  {
   "cell_type": "code",
   "execution_count": 19,
   "id": "5b238ddd-f64f-40ac-8810-01471f013a39",
   "metadata": {
    "tags": []
   },
   "outputs": [
    {
     "name": "stdout",
     "output_type": "stream",
     "text": [
      "feature들의 평균 값\n",
      "sepal length (cm)    5.843333\n",
      "sepal width (cm)     3.057333\n",
      "petal length (cm)    3.758000\n",
      "petal width (cm)     1.199333\n",
      "dtype: float64\n",
      "feature들의 분산 값\n",
      "sepal length (cm)    0.685694\n",
      "sepal width (cm)     0.189979\n",
      "petal length (cm)    3.116278\n",
      "petal width (cm)     0.581006\n",
      "dtype: float64\n"
     ]
    }
   ],
   "source": [
    "from sklearn.datasets import load_iris\n",
    "import pandas as pd\n",
    "\n",
    "iris = load_iris()\n",
    "iris_data = iris.data\n",
    "iris_df = pd.DataFrame(data=iris_data, columns=iris.feature_names)\n",
    "\n",
    "print(\"feature들의 평균 값\")\n",
    "print(iris_df.mean())\n",
    "print(\"feature들의 분산 값\")\n",
    "print(iris_df.var())"
   ]
  },
  {
   "cell_type": "code",
   "execution_count": 20,
   "id": "9c0fa218-174e-4ada-b847-d3c28f51a5da",
   "metadata": {
    "tags": []
   },
   "outputs": [
    {
     "name": "stdout",
     "output_type": "stream",
     "text": [
      "feature들의 평균 값\n",
      "sepal length (cm)   -1.690315e-15\n",
      "sepal width (cm)    -1.842970e-15\n",
      "petal length (cm)   -1.698641e-15\n",
      "petal width (cm)    -1.409243e-15\n",
      "dtype: float64\n",
      "feature들의 분산 값\n",
      "sepal length (cm)    1.006711\n",
      "sepal width (cm)     1.006711\n",
      "petal length (cm)    1.006711\n",
      "petal width (cm)     1.006711\n",
      "dtype: float64\n"
     ]
    }
   ],
   "source": [
    "from sklearn.preprocessing import StandardScaler\n",
    "\n",
    "scaler = StandardScaler()\n",
    "scaler.fit(iris_df)\n",
    "iris_scaled = scaler.transform(iris_df)\n",
    "iris_df_scaled = pd.DataFrame(data=iris_scaled, columns=iris.feature_names)\n",
    "\n",
    "print(\"feature들의 평균 값\")\n",
    "print(iris_df_scaled.mean())\n",
    "print(\"feature들의 분산 값\")\n",
    "print(iris_df_scaled.var())"
   ]
  },
  {
   "cell_type": "markdown",
   "id": "d956564d-1416-4fea-b8fd-616156579c6a",
   "metadata": {},
   "source": [
    "#### 정규화"
   ]
  },
  {
   "cell_type": "markdown",
   "id": "cdca9d7a-d292-4d32-a1ec-5b9d861998c8",
   "metadata": {
    "tags": []
   },
   "source": [
    "**정규화** : 0과 1사이의 값을 갖도록  \n",
    "$\\dfrac{x-x_{\\text{min}}}{x_{max}-x_{min}}$"
   ]
  },
  {
   "cell_type": "code",
   "execution_count": 23,
   "id": "415a7f73-e379-4fb3-b1de-892e6d87a16f",
   "metadata": {
    "tags": []
   },
   "outputs": [
    {
     "name": "stdout",
     "output_type": "stream",
     "text": [
      "feature들의 최소 값\n",
      "sepal length (cm)    0.0\n",
      "sepal width (cm)     0.0\n",
      "petal length (cm)    0.0\n",
      "petal width (cm)     0.0\n",
      "dtype: float64\n",
      "feature들의 최대 값\n",
      "sepal length (cm)    1.0\n",
      "sepal width (cm)     1.0\n",
      "petal length (cm)    1.0\n",
      "petal width (cm)     1.0\n",
      "dtype: float64\n"
     ]
    }
   ],
   "source": [
    "from sklearn.preprocessing import MinMaxScaler\n",
    "\n",
    "scaler = MinMaxScaler()\n",
    "scaler.fit(iris_df)\n",
    "iris_scaled = scaler.transform(iris_df)\n",
    "iris_df_scaled = pd.DataFrame(data=iris_scaled, columns=iris.feature_names)\n",
    "\n",
    "print(\"feature들의 최소 값\")\n",
    "print(iris_df_scaled.min())\n",
    "print(\"feature들의 최대 값\")\n",
    "print(iris_df_scaled.max())"
   ]
  },
  {
   "cell_type": "markdown",
   "id": "c5cf712c-7c90-4dcf-ad1d-c4a2f4525c39",
   "metadata": {},
   "source": [
    "#### 주의할점"
   ]
  },
  {
   "cell_type": "markdown",
   "id": "35fb0bd8-23be-4e8a-86e2-a93787cc151f",
   "metadata": {},
   "source": [
    "**scaler에 학습 데이터를 fit한 경우,  \n",
    "테스트 데이터를 scaler에 또 fit하면 안된다.**\n",
    "\n",
    "앞서 학습 데이터를 fit하면서 기준이 정해졌기 때문에  \n",
    "테스트 데이터로 다시 fit하게 되면 기준이 달라져 올바른 예측 결과를 도출하지 못할 수 있다."
   ]
  },
  {
   "cell_type": "code",
   "execution_count": 27,
   "id": "5e5d8104-d9bd-4662-91d6-f8fbc38839cd",
   "metadata": {
    "tags": []
   },
   "outputs": [
    {
     "name": "stdout",
     "output_type": "stream",
     "text": [
      "원본 train_array 데이터 : [ 0  1  2  3  4  5  6  7  8  9 10]\n",
      "Scaled train_array 데이터 : [0.  0.1 0.2 0.3 0.4 0.5 0.6 0.7 0.8 0.9 1. ]\n",
      "\n",
      "원본 test_array 데이터 : [0 1 2 3 4 5]\n",
      "Scaled test_array 데이터 : [0.  0.1 0.2 0.3 0.4 0.5]\n"
     ]
    }
   ],
   "source": [
    "from sklearn.preprocessing import MinMaxScaler\n",
    "import numpy as np\n",
    "\n",
    "train_array = np.arange(0, 11).reshape(-1, 1)\n",
    "test_array = np.arange(0, 6).reshape(-1, 1)\n",
    "\n",
    "scaler = MinMaxScaler()\n",
    "scaler.fit(train_array)\n",
    "train_scaled = scaler.transform(train_array)\n",
    "\n",
    "print(f\"원본 train_array 데이터 : {np.round(train_array.reshape(-1), 2)}\")\n",
    "print(f\"Scaled train_array 데이터 : {np.round(train_scaled.reshape(-1), 2)}\")\n",
    "\n",
    "# scaler.fit(test_array)\n",
    "test_scaled = scaler.transform(test_array)\n",
    "\n",
    "print()\n",
    "print(f\"원본 test_array 데이터 : {np.round(test_array.reshape(-1), 2)}\")\n",
    "print(f\"Scaled test_array 데이터 : {np.round(test_scaled.reshape(-1), 2)}\")"
   ]
  },
  {
   "cell_type": "code",
   "execution_count": null,
   "id": "818e3dc5-bef6-4746-a7f7-63be41f8c81a",
   "metadata": {},
   "outputs": [],
   "source": []
  }
 ],
 "metadata": {
  "kernelspec": {
   "display_name": "Python 3",
   "language": "python",
   "name": "python3"
  },
  "language_info": {
   "codemirror_mode": {
    "name": "ipython",
    "version": 3
   },
   "file_extension": ".py",
   "mimetype": "text/x-python",
   "name": "python",
   "nbconvert_exporter": "python",
   "pygments_lexer": "ipython3",
   "version": "3.11.4"
  }
 },
 "nbformat": 4,
 "nbformat_minor": 5
}
