{
 "cells": [
  {
   "cell_type": "code",
   "execution_count": 1,
   "id": "e490537c-8396-4c3b-94af-2348a21388e6",
   "metadata": {
    "tags": []
   },
   "outputs": [
    {
     "data": {
      "text/html": [
       "<div>\n",
       "<style scoped>\n",
       "    .dataframe tbody tr th:only-of-type {\n",
       "        vertical-align: middle;\n",
       "    }\n",
       "\n",
       "    .dataframe tbody tr th {\n",
       "        vertical-align: top;\n",
       "    }\n",
       "\n",
       "    .dataframe thead th {\n",
       "        text-align: right;\n",
       "    }\n",
       "</style>\n",
       "<table border=\"1\" class=\"dataframe\">\n",
       "  <thead>\n",
       "    <tr style=\"text-align: right;\">\n",
       "      <th></th>\n",
       "      <th>행복랭킹</th>\n",
       "      <th>나라명</th>\n",
       "      <th>점수</th>\n",
       "      <th>상대GDP</th>\n",
       "      <th>사회적지원</th>\n",
       "      <th>행복기대치</th>\n",
       "      <th>선택의 자유도</th>\n",
       "      <th>관대함</th>\n",
       "      <th>부패에 대한인식</th>\n",
       "      <th>년도</th>\n",
       "    </tr>\n",
       "  </thead>\n",
       "  <tbody>\n",
       "    <tr>\n",
       "      <th>0</th>\n",
       "      <td>1</td>\n",
       "      <td>Finland</td>\n",
       "      <td>7.769</td>\n",
       "      <td>1.340</td>\n",
       "      <td>1.587</td>\n",
       "      <td>0.986</td>\n",
       "      <td>0.596</td>\n",
       "      <td>0.153</td>\n",
       "      <td>0.393</td>\n",
       "      <td>2019</td>\n",
       "    </tr>\n",
       "    <tr>\n",
       "      <th>1</th>\n",
       "      <td>2</td>\n",
       "      <td>Denmark</td>\n",
       "      <td>7.600</td>\n",
       "      <td>1.383</td>\n",
       "      <td>1.573</td>\n",
       "      <td>0.996</td>\n",
       "      <td>0.592</td>\n",
       "      <td>0.252</td>\n",
       "      <td>0.410</td>\n",
       "      <td>2019</td>\n",
       "    </tr>\n",
       "    <tr>\n",
       "      <th>2</th>\n",
       "      <td>3</td>\n",
       "      <td>Norway</td>\n",
       "      <td>7.554</td>\n",
       "      <td>1.488</td>\n",
       "      <td>1.582</td>\n",
       "      <td>1.028</td>\n",
       "      <td>0.603</td>\n",
       "      <td>0.271</td>\n",
       "      <td>0.341</td>\n",
       "      <td>2019</td>\n",
       "    </tr>\n",
       "    <tr>\n",
       "      <th>3</th>\n",
       "      <td>4</td>\n",
       "      <td>Iceland</td>\n",
       "      <td>7.494</td>\n",
       "      <td>1.380</td>\n",
       "      <td>1.624</td>\n",
       "      <td>1.026</td>\n",
       "      <td>0.591</td>\n",
       "      <td>0.354</td>\n",
       "      <td>0.118</td>\n",
       "      <td>2019</td>\n",
       "    </tr>\n",
       "    <tr>\n",
       "      <th>4</th>\n",
       "      <td>5</td>\n",
       "      <td>Netherlands</td>\n",
       "      <td>7.488</td>\n",
       "      <td>1.396</td>\n",
       "      <td>1.522</td>\n",
       "      <td>0.999</td>\n",
       "      <td>0.557</td>\n",
       "      <td>0.322</td>\n",
       "      <td>0.298</td>\n",
       "      <td>2019</td>\n",
       "    </tr>\n",
       "  </tbody>\n",
       "</table>\n",
       "</div>"
      ],
      "text/plain": [
       "   행복랭킹          나라명     점수  상대GDP  사회적지원  행복기대치  선택의 자유도    관대함  부패에 대한인식  \\\n",
       "0     1      Finland  7.769  1.340  1.587  0.986    0.596  0.153     0.393   \n",
       "1     2      Denmark  7.600  1.383  1.573  0.996    0.592  0.252     0.410   \n",
       "2     3       Norway  7.554  1.488  1.582  1.028    0.603  0.271     0.341   \n",
       "3     4      Iceland  7.494  1.380  1.624  1.026    0.591  0.354     0.118   \n",
       "4     5  Netherlands  7.488  1.396  1.522  0.999    0.557  0.322     0.298   \n",
       "\n",
       "     년도  \n",
       "0  2019  \n",
       "1  2019  \n",
       "2  2019  \n",
       "3  2019  \n",
       "4  2019  "
      ]
     },
     "execution_count": 1,
     "metadata": {},
     "output_type": "execute_result"
    }
   ],
   "source": [
    "import pandas as pd\n",
    "df =pd.read_csv('https://raw.githubusercontent.com/Datamanim/datarepo/main/happy2/happiness.csv',encoding='utf-8')\n",
    "df.head()"
   ]
  },
  {
   "cell_type": "code",
   "execution_count": 4,
   "id": "cf6c9cfe-0d6f-46ce-9973-b7c47a6070c8",
   "metadata": {
    "tags": []
   },
   "outputs": [
    {
     "data": {
      "text/plain": [
       "7.259"
      ]
     },
     "execution_count": 4,
     "metadata": {},
     "output_type": "execute_result"
    }
   ],
   "source": [
    "filt = (df['행복랭킹'] == 10) & (df['년도'].isin([2018, 2019]))\n",
    "df[filt]['점수'].mean()"
   ]
  },
  {
   "cell_type": "code",
   "execution_count": 9,
   "id": "c671feb3-47d1-40eb-8d3a-9933e41ac057",
   "metadata": {
    "tags": []
   },
   "outputs": [
    {
     "data": {
      "text/html": [
       "<div>\n",
       "<style scoped>\n",
       "    .dataframe tbody tr th:only-of-type {\n",
       "        vertical-align: middle;\n",
       "    }\n",
       "\n",
       "    .dataframe tbody tr th {\n",
       "        vertical-align: top;\n",
       "    }\n",
       "\n",
       "    .dataframe thead th {\n",
       "        text-align: right;\n",
       "    }\n",
       "</style>\n",
       "<table border=\"1\" class=\"dataframe\">\n",
       "  <thead>\n",
       "    <tr style=\"text-align: right;\">\n",
       "      <th></th>\n",
       "      <th>점수</th>\n",
       "    </tr>\n",
       "    <tr>\n",
       "      <th>년도</th>\n",
       "      <th></th>\n",
       "    </tr>\n",
       "  </thead>\n",
       "  <tbody>\n",
       "    <tr>\n",
       "      <th>2018</th>\n",
       "      <td>6.64678</td>\n",
       "    </tr>\n",
       "    <tr>\n",
       "      <th>2019</th>\n",
       "      <td>6.67002</td>\n",
       "    </tr>\n",
       "  </tbody>\n",
       "</table>\n",
       "</div>"
      ],
      "text/plain": [
       "           점수\n",
       "년도           \n",
       "2018  6.64678\n",
       "2019  6.67002"
      ]
     },
     "execution_count": 9,
     "metadata": {},
     "output_type": "execute_result"
    }
   ],
   "source": [
    "filt = (df['행복랭킹'] <= 50)\n",
    "df[filt].groupby('년도')['점수'].mean().to_frame()"
   ]
  },
  {
   "cell_type": "code",
   "execution_count": 12,
   "id": "addec451-65c7-4fb1-9062-468d03ed8d2f",
   "metadata": {
    "tags": []
   },
   "outputs": [
    {
     "data": {
      "text/plain": [
       "0.40529152271510027"
      ]
     },
     "execution_count": 12,
     "metadata": {},
     "output_type": "execute_result"
    }
   ],
   "source": [
    "filt = (df['년도'] == 2018)\n",
    "df[filt][['점수', '부패에 대한인식']].corr().iloc[0, 1]"
   ]
  },
  {
   "cell_type": "code",
   "execution_count": 18,
   "id": "4f57f218-6179-412b-8e16-7bd70b646e43",
   "metadata": {
    "tags": []
   },
   "outputs": [
    {
     "data": {
      "text/plain": [
       "15"
      ]
     },
     "execution_count": 18,
     "metadata": {},
     "output_type": "execute_result"
    }
   ],
   "source": [
    "len(df[['행복랭킹', '나라명']]) - len(df[['행복랭킹', '나라명']].drop_duplicates())"
   ]
  },
  {
   "cell_type": "code",
   "execution_count": 19,
   "id": "2655ff15-a99c-4085-b5e4-33f5b603d3e1",
   "metadata": {
    "tags": []
   },
   "outputs": [],
   "source": [
    "filt = (df['년도'] == 2019)"
   ]
  },
  {
   "cell_type": "code",
   "execution_count": 26,
   "id": "2ae4af1a-9fb2-40e0-9fdb-46d7c27cf4e3",
   "metadata": {
    "tags": []
   },
   "outputs": [
    {
     "name": "stderr",
     "output_type": "stream",
     "text": [
      "C:\\Users\\pc\\AppData\\Local\\Temp\\ipykernel_23272\\1384226708.py:1: FutureWarning: The default value of numeric_only in DataFrame.corr is deprecated. In a future version, it will default to False. Select only valid columns or specify the value of numeric_only to silence this warning.\n",
      "  temp = df[filt].corr().unstack().to_frame().reset_index().dropna()\n"
     ]
    }
   ],
   "source": [
    "temp = df[filt].corr().unstack().to_frame().reset_index().dropna()"
   ]
  },
  {
   "cell_type": "code",
   "execution_count": 32,
   "id": "a5e858d2-929b-4985-b18c-ba4d77180747",
   "metadata": {
    "tags": []
   },
   "outputs": [],
   "source": [
    "temp = temp[temp[0] != 1].sort_values(0, ascending=False)"
   ]
  },
  {
   "cell_type": "code",
   "execution_count": 33,
   "id": "891ae500-ee06-44b5-8d17-fd4affea4465",
   "metadata": {
    "tags": []
   },
   "outputs": [],
   "source": [
    "temp.columns = ['v1', 'v2', 'corr']"
   ]
  },
  {
   "cell_type": "code",
   "execution_count": 40,
   "id": "da441e6f-b4ae-4b27-9f01-96cffce6f736",
   "metadata": {
    "tags": []
   },
   "outputs": [
    {
     "data": {
      "text/html": [
       "<div>\n",
       "<style scoped>\n",
       "    .dataframe tbody tr th:only-of-type {\n",
       "        vertical-align: middle;\n",
       "    }\n",
       "\n",
       "    .dataframe tbody tr th {\n",
       "        vertical-align: top;\n",
       "    }\n",
       "\n",
       "    .dataframe thead th {\n",
       "        text-align: right;\n",
       "    }\n",
       "</style>\n",
       "<table border=\"1\" class=\"dataframe\">\n",
       "  <thead>\n",
       "    <tr style=\"text-align: right;\">\n",
       "      <th></th>\n",
       "      <th>v1</th>\n",
       "      <th>v2</th>\n",
       "      <th>corr</th>\n",
       "    </tr>\n",
       "  </thead>\n",
       "  <tbody>\n",
       "    <tr>\n",
       "      <th>38</th>\n",
       "      <td>행복기대치</td>\n",
       "      <td>상대GDP</td>\n",
       "      <td>0.835462</td>\n",
       "    </tr>\n",
       "    <tr>\n",
       "      <th>19</th>\n",
       "      <td>상대GDP</td>\n",
       "      <td>점수</td>\n",
       "      <td>0.793883</td>\n",
       "    </tr>\n",
       "    <tr>\n",
       "      <th>37</th>\n",
       "      <td>행복기대치</td>\n",
       "      <td>점수</td>\n",
       "      <td>0.779883</td>\n",
       "    </tr>\n",
       "    <tr>\n",
       "      <th>28</th>\n",
       "      <td>사회적지원</td>\n",
       "      <td>점수</td>\n",
       "      <td>0.777058</td>\n",
       "    </tr>\n",
       "    <tr>\n",
       "      <th>29</th>\n",
       "      <td>사회적지원</td>\n",
       "      <td>상대GDP</td>\n",
       "      <td>0.754906</td>\n",
       "    </tr>\n",
       "  </tbody>\n",
       "</table>\n",
       "</div>"
      ],
      "text/plain": [
       "       v1     v2      corr\n",
       "38  행복기대치  상대GDP  0.835462\n",
       "19  상대GDP     점수  0.793883\n",
       "37  행복기대치     점수  0.779883\n",
       "28  사회적지원     점수  0.777058\n",
       "29  사회적지원  상대GDP  0.754906"
      ]
     },
     "execution_count": 40,
     "metadata": {},
     "output_type": "execute_result"
    }
   ],
   "source": [
    "temp.drop_duplicates('corr').head(5)"
   ]
  },
  {
   "cell_type": "code",
   "execution_count": 58,
   "id": "c6f7e603-8c9f-4545-926d-b2cb17ea203e",
   "metadata": {
    "tags": []
   },
   "outputs": [
    {
     "name": "stderr",
     "output_type": "stream",
     "text": [
      "C:\\Users\\pc\\AppData\\Local\\Temp\\ipykernel_23272\\2333135405.py:1: FutureWarning: The default value of numeric_only in DataFrameGroupBy.mean is deprecated. In a future version, numeric_only will default to False. Either specify numeric_only or select only columns which should be valid for the function.\n",
      "  df.groupby('년도').tail(5).groupby('년도').mean()[['점수']]\n"
     ]
    },
    {
     "data": {
      "text/html": [
       "<div>\n",
       "<style scoped>\n",
       "    .dataframe tbody tr th:only-of-type {\n",
       "        vertical-align: middle;\n",
       "    }\n",
       "\n",
       "    .dataframe tbody tr th {\n",
       "        vertical-align: top;\n",
       "    }\n",
       "\n",
       "    .dataframe thead th {\n",
       "        text-align: right;\n",
       "    }\n",
       "</style>\n",
       "<table border=\"1\" class=\"dataframe\">\n",
       "  <thead>\n",
       "    <tr style=\"text-align: right;\">\n",
       "      <th></th>\n",
       "      <th>점수</th>\n",
       "    </tr>\n",
       "    <tr>\n",
       "      <th>년도</th>\n",
       "      <th></th>\n",
       "    </tr>\n",
       "  </thead>\n",
       "  <tbody>\n",
       "    <tr>\n",
       "      <th>2018</th>\n",
       "      <td>3.1800</td>\n",
       "    </tr>\n",
       "    <tr>\n",
       "      <th>2019</th>\n",
       "      <td>3.1408</td>\n",
       "    </tr>\n",
       "  </tbody>\n",
       "</table>\n",
       "</div>"
      ],
      "text/plain": [
       "          점수\n",
       "년도          \n",
       "2018  3.1800\n",
       "2019  3.1408"
      ]
     },
     "execution_count": 58,
     "metadata": {},
     "output_type": "execute_result"
    }
   ],
   "source": [
    "df.groupby('년도').tail(5).groupby('년도').mean()[['점수']]"
   ]
  },
  {
   "cell_type": "code",
   "execution_count": 71,
   "id": "87c7f8d9-c62e-4d62-b986-de6ea0a0a097",
   "metadata": {
    "tags": []
   },
   "outputs": [],
   "source": [
    "filt = (df['년도'] == 2019)"
   ]
  },
  {
   "cell_type": "code",
   "execution_count": 72,
   "id": "13a98e7a-5bbb-4b1a-9247-6952e15a2d8a",
   "metadata": {
    "tags": []
   },
   "outputs": [],
   "source": [
    "filt2 = (df['상대GDP'].mean())"
   ]
  },
  {
   "cell_type": "code",
   "execution_count": 73,
   "id": "882a0fff-ce79-40f6-bdc8-bcf23bf3a02d",
   "metadata": {
    "tags": []
   },
   "outputs": [],
   "source": [
    "ge = df[filt & (df['상대GDP'] >= filt2)]"
   ]
  },
  {
   "cell_type": "code",
   "execution_count": 74,
   "id": "f8c34aff-4c64-4fa3-b85d-82b6d957a1f9",
   "metadata": {
    "tags": []
   },
   "outputs": [],
   "source": [
    "le = df[filt & (df['상대GDP'] <= filt2)]"
   ]
  },
  {
   "cell_type": "code",
   "execution_count": 75,
   "id": "922ea1c2-4161-4156-bc59-884fb3e06c1f",
   "metadata": {
    "tags": []
   },
   "outputs": [
    {
     "data": {
      "text/plain": [
       "1.390483957219251"
      ]
     },
     "execution_count": 75,
     "metadata": {},
     "output_type": "execute_result"
    }
   ],
   "source": [
    "ge['점수'].mean() - le['점수'].mean()"
   ]
  },
  {
   "cell_type": "code",
   "execution_count": 93,
   "id": "403ca634-e723-4d64-824a-9066bed9e50c",
   "metadata": {
    "tags": []
   },
   "outputs": [
    {
     "data": {
      "text/plain": [
       "년도\n",
       "2018    0.3267\n",
       "2019    0.3201\n",
       "Name: 부패에 대한인식, dtype: float64"
      ]
     },
     "execution_count": 93,
     "metadata": {},
     "output_type": "execute_result"
    }
   ],
   "source": [
    "df.sort_values(['년도', '부패에 대한인식'], ascending=False).groupby('년도').head(20).groupby('년도')['부패에 대한인식'].mean()"
   ]
  },
  {
   "cell_type": "code",
   "execution_count": 105,
   "id": "233edfab-ed31-4714-ad66-ff86c92deeeb",
   "metadata": {
    "tags": []
   },
   "outputs": [
    {
     "data": {
      "text/plain": [
       "4"
      ]
     },
     "execution_count": 105,
     "metadata": {},
     "output_type": "execute_result"
    }
   ],
   "source": [
    "filt1 = (df['년도'] == 2018) & (df['행복랭킹'] <= 50)\n",
    "filt2 = (df['년도'] == 2019) & (df['행복랭킹'] <= 50)\n",
    "len(set(df[filt1]['나라명']) - set(df[filt2]['나라명']))"
   ]
  },
  {
   "cell_type": "code",
   "execution_count": 166,
   "id": "d90fa5f1-1260-4d73-8cf8-055677b2f9d5",
   "metadata": {
    "tags": []
   },
   "outputs": [],
   "source": [
    "filt = (df['나라명'].value_counts())"
   ]
  },
  {
   "cell_type": "code",
   "execution_count": 167,
   "id": "9396db04-28f7-48b6-82db-f7b9675967f8",
   "metadata": {
    "tags": []
   },
   "outputs": [],
   "source": [
    "temp = filt[filt == 2].index"
   ]
  },
  {
   "cell_type": "code",
   "execution_count": 168,
   "id": "61704c48-a5bf-4f06-9596-993aaf5610f1",
   "metadata": {
    "tags": []
   },
   "outputs": [],
   "source": [
    "temp2 = df[df['나라명'].isin(temp)]"
   ]
  },
  {
   "cell_type": "code",
   "execution_count": 169,
   "id": "4a2634b0-7a61-43d9-a2b9-435723a2a3ad",
   "metadata": {
    "tags": []
   },
   "outputs": [],
   "source": [
    "temp2.loc[temp2['년도'] == 2018, '점수'] = temp2.loc[temp2['년도'] == 2018, '점수'].values * (-1)"
   ]
  },
  {
   "cell_type": "code",
   "execution_count": 175,
   "id": "8a731cc9-ccc9-4e30-a8dc-293a99fcbbb9",
   "metadata": {
    "tags": []
   },
   "outputs": [
    {
     "data": {
      "text/plain": [
       "점수    0.87\n",
       "Name: Burundi, dtype: float64"
      ]
     },
     "execution_count": 175,
     "metadata": {},
     "output_type": "execute_result"
    }
   ],
   "source": [
    "temp2.groupby('나라명').sum()['점수'].sort_values().to_frame().iloc[-1]"
   ]
  },
  {
   "cell_type": "code",
   "execution_count": null,
   "id": "350e28f2-60e2-4bf3-8b68-3941bb05cb21",
   "metadata": {},
   "outputs": [],
   "source": []
  }
 ],
 "metadata": {
  "kernelspec": {
   "display_name": "Python 3",
   "language": "python",
   "name": "python3"
  },
  "language_info": {
   "codemirror_mode": {
    "name": "ipython",
    "version": 3
   },
   "file_extension": ".py",
   "mimetype": "text/x-python",
   "name": "python",
   "nbconvert_exporter": "python",
   "pygments_lexer": "ipython3",
   "version": "3.11.4"
  }
 },
 "nbformat": 4,
 "nbformat_minor": 5
}
