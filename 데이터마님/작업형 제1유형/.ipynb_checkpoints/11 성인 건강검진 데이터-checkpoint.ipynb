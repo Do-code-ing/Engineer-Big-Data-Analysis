{
 "cells": [
  {
   "cell_type": "code",
   "execution_count": 1,
   "id": "22d8b33c-72c3-48ae-8cdc-43512b3a4448",
   "metadata": {
    "tags": []
   },
   "outputs": [
    {
     "data": {
      "text/html": [
       "<div>\n",
       "<style scoped>\n",
       "    .dataframe tbody tr th:only-of-type {\n",
       "        vertical-align: middle;\n",
       "    }\n",
       "\n",
       "    .dataframe tbody tr th {\n",
       "        vertical-align: top;\n",
       "    }\n",
       "\n",
       "    .dataframe thead th {\n",
       "        text-align: right;\n",
       "    }\n",
       "</style>\n",
       "<table border=\"1\" class=\"dataframe\">\n",
       "  <thead>\n",
       "    <tr style=\"text-align: right;\">\n",
       "      <th></th>\n",
       "      <th>성별코드</th>\n",
       "      <th>연령대코드(5세단위)</th>\n",
       "      <th>신장(5Cm단위)</th>\n",
       "      <th>체중(5Kg단위)</th>\n",
       "      <th>허리둘레</th>\n",
       "      <th>시력(좌)</th>\n",
       "      <th>시력(우)</th>\n",
       "      <th>청력(좌)</th>\n",
       "      <th>청력(우)</th>\n",
       "      <th>수축기혈압</th>\n",
       "      <th>...</th>\n",
       "      <th>혈색소</th>\n",
       "      <th>요단백</th>\n",
       "      <th>혈청크레아티닌</th>\n",
       "      <th>(혈청지오티)AST</th>\n",
       "      <th>(혈청지오티)ALT</th>\n",
       "      <th>감마지티피</th>\n",
       "      <th>흡연상태</th>\n",
       "      <th>구강검진수검여부</th>\n",
       "      <th>치아우식증유무</th>\n",
       "      <th>치석</th>\n",
       "    </tr>\n",
       "  </thead>\n",
       "  <tbody>\n",
       "    <tr>\n",
       "      <th>0</th>\n",
       "      <td>F</td>\n",
       "      <td>55</td>\n",
       "      <td>145</td>\n",
       "      <td>55</td>\n",
       "      <td>73.0</td>\n",
       "      <td>0.7</td>\n",
       "      <td>0.5</td>\n",
       "      <td>1.0</td>\n",
       "      <td>1.0</td>\n",
       "      <td>129.0</td>\n",
       "      <td>...</td>\n",
       "      <td>12.9</td>\n",
       "      <td>1.0</td>\n",
       "      <td>0.9</td>\n",
       "      <td>172.0</td>\n",
       "      <td>209.0</td>\n",
       "      <td>15.0</td>\n",
       "      <td>0</td>\n",
       "      <td>Y</td>\n",
       "      <td>0.0</td>\n",
       "      <td>Y</td>\n",
       "    </tr>\n",
       "    <tr>\n",
       "      <th>1</th>\n",
       "      <td>M</td>\n",
       "      <td>40</td>\n",
       "      <td>180</td>\n",
       "      <td>55</td>\n",
       "      <td>74.0</td>\n",
       "      <td>1.5</td>\n",
       "      <td>1.5</td>\n",
       "      <td>1.0</td>\n",
       "      <td>1.0</td>\n",
       "      <td>102.0</td>\n",
       "      <td>...</td>\n",
       "      <td>15.6</td>\n",
       "      <td>1.0</td>\n",
       "      <td>0.8</td>\n",
       "      <td>30.0</td>\n",
       "      <td>19.0</td>\n",
       "      <td>23.0</td>\n",
       "      <td>1</td>\n",
       "      <td>Y</td>\n",
       "      <td>0.0</td>\n",
       "      <td>Y</td>\n",
       "    </tr>\n",
       "    <tr>\n",
       "      <th>2</th>\n",
       "      <td>F</td>\n",
       "      <td>55</td>\n",
       "      <td>150</td>\n",
       "      <td>50</td>\n",
       "      <td>72.0</td>\n",
       "      <td>1.0</td>\n",
       "      <td>0.2</td>\n",
       "      <td>1.0</td>\n",
       "      <td>1.0</td>\n",
       "      <td>116.0</td>\n",
       "      <td>...</td>\n",
       "      <td>14.1</td>\n",
       "      <td>1.0</td>\n",
       "      <td>1.0</td>\n",
       "      <td>31.0</td>\n",
       "      <td>19.0</td>\n",
       "      <td>10.0</td>\n",
       "      <td>0</td>\n",
       "      <td>Y</td>\n",
       "      <td>0.0</td>\n",
       "      <td>N</td>\n",
       "    </tr>\n",
       "    <tr>\n",
       "      <th>3</th>\n",
       "      <td>M</td>\n",
       "      <td>40</td>\n",
       "      <td>170</td>\n",
       "      <td>85</td>\n",
       "      <td>89.0</td>\n",
       "      <td>1.0</td>\n",
       "      <td>0.8</td>\n",
       "      <td>1.0</td>\n",
       "      <td>1.0</td>\n",
       "      <td>124.0</td>\n",
       "      <td>...</td>\n",
       "      <td>16.7</td>\n",
       "      <td>1.0</td>\n",
       "      <td>1.0</td>\n",
       "      <td>26.0</td>\n",
       "      <td>38.0</td>\n",
       "      <td>108.0</td>\n",
       "      <td>1</td>\n",
       "      <td>Y</td>\n",
       "      <td>1.0</td>\n",
       "      <td>Y</td>\n",
       "    </tr>\n",
       "    <tr>\n",
       "      <th>4</th>\n",
       "      <td>F</td>\n",
       "      <td>40</td>\n",
       "      <td>155</td>\n",
       "      <td>45</td>\n",
       "      <td>62.0</td>\n",
       "      <td>0.5</td>\n",
       "      <td>1.0</td>\n",
       "      <td>1.0</td>\n",
       "      <td>1.0</td>\n",
       "      <td>127.0</td>\n",
       "      <td>...</td>\n",
       "      <td>12.9</td>\n",
       "      <td>1.0</td>\n",
       "      <td>0.7</td>\n",
       "      <td>20.0</td>\n",
       "      <td>11.0</td>\n",
       "      <td>13.0</td>\n",
       "      <td>0</td>\n",
       "      <td>Y</td>\n",
       "      <td>0.0</td>\n",
       "      <td>N</td>\n",
       "    </tr>\n",
       "  </tbody>\n",
       "</table>\n",
       "<p>5 rows × 26 columns</p>\n",
       "</div>"
      ],
      "text/plain": [
       "  성별코드  연령대코드(5세단위)  신장(5Cm단위)  체중(5Kg단위)  허리둘레  시력(좌)  시력(우)  청력(좌)  청력(우)  \\\n",
       "0    F           55        145         55  73.0    0.7    0.5    1.0    1.0   \n",
       "1    M           40        180         55  74.0    1.5    1.5    1.0    1.0   \n",
       "2    F           55        150         50  72.0    1.0    0.2    1.0    1.0   \n",
       "3    M           40        170         85  89.0    1.0    0.8    1.0    1.0   \n",
       "4    F           40        155         45  62.0    0.5    1.0    1.0    1.0   \n",
       "\n",
       "   수축기혈압  ...   혈색소  요단백  혈청크레아티닌  (혈청지오티)AST  (혈청지오티)ALT  감마지티피  흡연상태  \\\n",
       "0  129.0  ...  12.9  1.0      0.9       172.0       209.0   15.0     0   \n",
       "1  102.0  ...  15.6  1.0      0.8        30.0        19.0   23.0     1   \n",
       "2  116.0  ...  14.1  1.0      1.0        31.0        19.0   10.0     0   \n",
       "3  124.0  ...  16.7  1.0      1.0        26.0        38.0  108.0     1   \n",
       "4  127.0  ...  12.9  1.0      0.7        20.0        11.0   13.0     0   \n",
       "\n",
       "   구강검진수검여부  치아우식증유무  치석  \n",
       "0         Y      0.0   Y  \n",
       "1         Y      0.0   Y  \n",
       "2         Y      0.0   N  \n",
       "3         Y      1.0   Y  \n",
       "4         Y      0.0   N  \n",
       "\n",
       "[5 rows x 26 columns]"
      ]
     },
     "execution_count": 1,
     "metadata": {},
     "output_type": "execute_result"
    }
   ],
   "source": [
    "import pandas as pd\n",
    "df = pd.read_csv(\"https://raw.githubusercontent.com/Datamanim/datarepo/main/smoke/train.csv\")\n",
    "df.head()"
   ]
  },
  {
   "cell_type": "code",
   "execution_count": 4,
   "id": "bb102e66-5f2d-43f5-933e-f20c4d48a2ca",
   "metadata": {
    "tags": []
   },
   "outputs": [
    {
     "data": {
      "text/plain": [
       "Index(['성별코드', '연령대코드(5세단위)', '신장(5Cm단위)', '체중(5Kg단위)', '허리둘레', '시력(좌)',\n",
       "       '시력(우)', '청력(좌)', '청력(우)', '수축기혈압', '이완기혈압', '식전혈당(공복혈당)', '총콜레스테롤',\n",
       "       '트리글리세라이드', 'HDL콜레스테롤', 'LDL콜레스테롤', '혈색소', '요단백', '혈청크레아티닌',\n",
       "       '(혈청지오티)AST', '(혈청지오티)ALT', '감마지티피', '흡연상태', '구강검진수검여부', '치아우식증유무',\n",
       "       '치석'],\n",
       "      dtype='object')"
      ]
     },
     "execution_count": 4,
     "metadata": {},
     "output_type": "execute_result"
    }
   ],
   "source": [
    "df.columns"
   ]
  },
  {
   "cell_type": "code",
   "execution_count": 5,
   "id": "ac5fa8b7-cf27-4c6c-8aea-592342c9ce75",
   "metadata": {
    "tags": []
   },
   "outputs": [],
   "source": [
    "df['혈압차'] = df.수축기혈압 - df.이완기혈압"
   ]
  },
  {
   "cell_type": "code",
   "execution_count": 11,
   "id": "b7d2f938-6aa9-46b2-864d-ebafce5d2a58",
   "metadata": {
    "tags": []
   },
   "outputs": [
    {
     "data": {
      "text/plain": [
       "60"
      ]
     },
     "execution_count": 11,
     "metadata": {},
     "output_type": "execute_result"
    }
   ],
   "source": [
    "df.groupby('연령대코드(5세단위)').혈압차.var().sort_values(ascending=False).index[4]"
   ]
  },
  {
   "cell_type": "code",
   "execution_count": 17,
   "id": "169796e6-263e-42e3-8900-263e24fe4af3",
   "metadata": {
    "tags": []
   },
   "outputs": [],
   "source": [
    "df['WHtR'] = df.허리둘레 / df['신장(5Cm단위)']"
   ]
  },
  {
   "cell_type": "code",
   "execution_count": 18,
   "id": "92d2318c-9d7b-47b8-a8c5-21f015fbb92c",
   "metadata": {
    "tags": []
   },
   "outputs": [],
   "source": [
    "filt = df.WHtR >= 0.58"
   ]
  },
  {
   "cell_type": "code",
   "execution_count": 24,
   "id": "4827fe65-fd8c-458d-8ce5-735cb5b3743e",
   "metadata": {
    "tags": []
   },
   "outputs": [
    {
     "data": {
      "text/plain": [
       "1.1693877551020408"
      ]
     },
     "execution_count": 24,
     "metadata": {},
     "output_type": "execute_result"
    }
   ],
   "source": [
    "(df[filt & (df.성별코드 == 'M')].count() / df[filt & (df.성별코드 == 'F')].count())[0]"
   ]
  },
  {
   "cell_type": "code",
   "execution_count": null,
   "id": "4303af02-77ed-4edd-9fd4-1e160b366a29",
   "metadata": {},
   "outputs": [],
   "source": []
  }
 ],
 "metadata": {
  "kernelspec": {
   "display_name": "Python 3",
   "language": "python",
   "name": "python3"
  },
  "language_info": {
   "codemirror_mode": {
    "name": "ipython",
    "version": 3
   },
   "file_extension": ".py",
   "mimetype": "text/x-python",
   "name": "python",
   "nbconvert_exporter": "python",
   "pygments_lexer": "ipython3",
   "version": "3.11.4"
  }
 },
 "nbformat": 4,
 "nbformat_minor": 5
}
