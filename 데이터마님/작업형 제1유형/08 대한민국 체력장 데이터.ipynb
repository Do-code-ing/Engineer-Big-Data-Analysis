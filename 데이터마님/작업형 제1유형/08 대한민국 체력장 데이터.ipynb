{
 "cells": [
  {
   "cell_type": "code",
   "execution_count": 1,
   "id": "182b10fe-011e-4240-969e-18855fe1986e",
   "metadata": {
    "tags": []
   },
   "outputs": [
    {
     "data": {
      "text/html": [
       "<div>\n",
       "<style scoped>\n",
       "    .dataframe tbody tr th:only-of-type {\n",
       "        vertical-align: middle;\n",
       "    }\n",
       "\n",
       "    .dataframe tbody tr th {\n",
       "        vertical-align: top;\n",
       "    }\n",
       "\n",
       "    .dataframe thead th {\n",
       "        text-align: right;\n",
       "    }\n",
       "</style>\n",
       "<table border=\"1\" class=\"dataframe\">\n",
       "  <thead>\n",
       "    <tr style=\"text-align: right;\">\n",
       "      <th></th>\n",
       "      <th>측정나이</th>\n",
       "      <th>측정회원성별</th>\n",
       "      <th>신장 : cm</th>\n",
       "      <th>체중 : kg</th>\n",
       "      <th>체지방율 : %</th>\n",
       "      <th>이완기혈압(최저) : mmHg</th>\n",
       "      <th>수축기혈압(최고) : mmHg</th>\n",
       "      <th>악력D : kg</th>\n",
       "      <th>앉아윗몸앞으로굽히기 : cm</th>\n",
       "      <th>교차윗몸일으키기 : 회</th>\n",
       "      <th>제자리 멀리뛰기 : cm</th>\n",
       "      <th>등급</th>\n",
       "    </tr>\n",
       "  </thead>\n",
       "  <tbody>\n",
       "    <tr>\n",
       "      <th>0</th>\n",
       "      <td>59.0</td>\n",
       "      <td>M</td>\n",
       "      <td>175.0</td>\n",
       "      <td>70.6</td>\n",
       "      <td>19.2</td>\n",
       "      <td>91.0</td>\n",
       "      <td>150.0</td>\n",
       "      <td>40.6</td>\n",
       "      <td>12.2</td>\n",
       "      <td>30.0</td>\n",
       "      <td>179.0</td>\n",
       "      <td>C</td>\n",
       "    </tr>\n",
       "    <tr>\n",
       "      <th>1</th>\n",
       "      <td>40.0</td>\n",
       "      <td>F</td>\n",
       "      <td>161.4</td>\n",
       "      <td>45.8</td>\n",
       "      <td>21.7</td>\n",
       "      <td>62.0</td>\n",
       "      <td>119.0</td>\n",
       "      <td>22.1</td>\n",
       "      <td>16.0</td>\n",
       "      <td>32.0</td>\n",
       "      <td>165.0</td>\n",
       "      <td>B</td>\n",
       "    </tr>\n",
       "    <tr>\n",
       "      <th>2</th>\n",
       "      <td>27.0</td>\n",
       "      <td>M</td>\n",
       "      <td>176.6</td>\n",
       "      <td>84.8</td>\n",
       "      <td>19.2</td>\n",
       "      <td>87.0</td>\n",
       "      <td>153.0</td>\n",
       "      <td>45.9</td>\n",
       "      <td>13.2</td>\n",
       "      <td>61.0</td>\n",
       "      <td>216.0</td>\n",
       "      <td>B</td>\n",
       "    </tr>\n",
       "    <tr>\n",
       "      <th>3</th>\n",
       "      <td>38.0</td>\n",
       "      <td>M</td>\n",
       "      <td>167.6</td>\n",
       "      <td>76.7</td>\n",
       "      <td>24.7</td>\n",
       "      <td>63.0</td>\n",
       "      <td>132.0</td>\n",
       "      <td>43.6</td>\n",
       "      <td>16.0</td>\n",
       "      <td>45.0</td>\n",
       "      <td>231.0</td>\n",
       "      <td>A</td>\n",
       "    </tr>\n",
       "    <tr>\n",
       "      <th>4</th>\n",
       "      <td>21.0</td>\n",
       "      <td>M</td>\n",
       "      <td>165.2</td>\n",
       "      <td>66.2</td>\n",
       "      <td>21.5</td>\n",
       "      <td>83.0</td>\n",
       "      <td>106.0</td>\n",
       "      <td>33.5</td>\n",
       "      <td>10.6</td>\n",
       "      <td>46.0</td>\n",
       "      <td>198.0</td>\n",
       "      <td>C</td>\n",
       "    </tr>\n",
       "  </tbody>\n",
       "</table>\n",
       "</div>"
      ],
      "text/plain": [
       "   측정나이 측정회원성별  신장 : cm  체중 : kg  체지방율 : %  이완기혈압(최저) : mmHg  \\\n",
       "0  59.0      M    175.0     70.6      19.2              91.0   \n",
       "1  40.0      F    161.4     45.8      21.7              62.0   \n",
       "2  27.0      M    176.6     84.8      19.2              87.0   \n",
       "3  38.0      M    167.6     76.7      24.7              63.0   \n",
       "4  21.0      M    165.2     66.2      21.5              83.0   \n",
       "\n",
       "   수축기혈압(최고) : mmHg  악력D : kg  앉아윗몸앞으로굽히기 : cm  교차윗몸일으키기 : 회  제자리 멀리뛰기 : cm 등급  \n",
       "0             150.0      40.6             12.2          30.0          179.0  C  \n",
       "1             119.0      22.1             16.0          32.0          165.0  B  \n",
       "2             153.0      45.9             13.2          61.0          216.0  B  \n",
       "3             132.0      43.6             16.0          45.0          231.0  A  \n",
       "4             106.0      33.5             10.6          46.0          198.0  C  "
      ]
     },
     "execution_count": 1,
     "metadata": {},
     "output_type": "execute_result"
    }
   ],
   "source": [
    "import pandas as pd\n",
    "df =pd.read_csv('https://raw.githubusercontent.com/Datamanim/datarepo/main/body/body.csv')\n",
    "df.head()"
   ]
  },
  {
   "cell_type": "code",
   "execution_count": 2,
   "id": "3285c1f0-5e8c-4c2c-a148-c44c7ed67678",
   "metadata": {
    "tags": []
   },
   "outputs": [
    {
     "data": {
      "text/plain": [
       "52.19539414750672"
      ]
     },
     "execution_count": 2,
     "metadata": {},
     "output_type": "execute_result"
    }
   ],
   "source": [
    "(df['수축기혈압(최고) : mmHg'] - df['이완기혈압(최저) : mmHg']).mean()"
   ]
  },
  {
   "cell_type": "code",
   "execution_count": 8,
   "id": "6e91a779-cb6e-4d1e-86bc-4f4015eaa803",
   "metadata": {
    "tags": []
   },
   "outputs": [],
   "source": [
    "filt = (df.측정나이 >= 50) & (df.측정나이 <= 59)"
   ]
  },
  {
   "cell_type": "code",
   "execution_count": 9,
   "id": "72ff67da-b8cd-4d27-9243-f38f62f63e05",
   "metadata": {
    "tags": []
   },
   "outputs": [
    {
     "data": {
      "text/plain": [
       "164.07490107405314"
      ]
     },
     "execution_count": 9,
     "metadata": {},
     "output_type": "execute_result"
    }
   ],
   "source": [
    "df[filt]['신장 : cm'].mean()"
   ]
  },
  {
   "cell_type": "code",
   "execution_count": 15,
   "id": "6aadf597-8f06-4cce-b64c-c7c96eb66e37",
   "metadata": {
    "tags": []
   },
   "outputs": [],
   "source": [
    "age = df.측정나이 // 10 * 10"
   ]
  },
  {
   "cell_type": "code",
   "execution_count": 16,
   "id": "5acb1b6b-c2a5-4569-bed8-2472c9ea4105",
   "metadata": {
    "tags": []
   },
   "outputs": [
    {
     "data": {
      "text/plain": [
       "20.0    5831\n",
       "30.0    2660\n",
       "40.0    1801\n",
       "50.0    1769\n",
       "60.0    1335\n",
       "Name: 측정나이, dtype: int64"
      ]
     },
     "execution_count": 16,
     "metadata": {},
     "output_type": "execute_result"
    }
   ],
   "source": [
    "age.value_counts()"
   ]
  },
  {
   "cell_type": "code",
   "execution_count": 17,
   "id": "5ac402c8-5e9d-4229-978d-757a6722f309",
   "metadata": {
    "tags": []
   },
   "outputs": [],
   "source": [
    "df['연령대'] = age"
   ]
  },
  {
   "cell_type": "code",
   "execution_count": 30,
   "id": "d9208c85-8835-4caa-beef-23273abd38e1",
   "metadata": {
    "tags": []
   },
   "outputs": [
    {
     "data": {
      "text/html": [
       "<div>\n",
       "<style scoped>\n",
       "    .dataframe tbody tr th:only-of-type {\n",
       "        vertical-align: middle;\n",
       "    }\n",
       "\n",
       "    .dataframe tbody tr th {\n",
       "        vertical-align: top;\n",
       "    }\n",
       "\n",
       "    .dataframe thead th {\n",
       "        text-align: right;\n",
       "    }\n",
       "</style>\n",
       "<table border=\"1\" class=\"dataframe\">\n",
       "  <thead>\n",
       "    <tr style=\"text-align: right;\">\n",
       "      <th></th>\n",
       "      <th></th>\n",
       "      <th>0</th>\n",
       "    </tr>\n",
       "    <tr>\n",
       "      <th>연령대</th>\n",
       "      <th>등급</th>\n",
       "      <th></th>\n",
       "    </tr>\n",
       "  </thead>\n",
       "  <tbody>\n",
       "    <tr>\n",
       "      <th rowspan=\"4\" valign=\"top\">20.0</th>\n",
       "      <th>A</th>\n",
       "      <td>1585</td>\n",
       "    </tr>\n",
       "    <tr>\n",
       "      <th>B</th>\n",
       "      <td>1443</td>\n",
       "    </tr>\n",
       "    <tr>\n",
       "      <th>C</th>\n",
       "      <td>1455</td>\n",
       "    </tr>\n",
       "    <tr>\n",
       "      <th>D</th>\n",
       "      <td>1348</td>\n",
       "    </tr>\n",
       "    <tr>\n",
       "      <th rowspan=\"4\" valign=\"top\">30.0</th>\n",
       "      <th>A</th>\n",
       "      <td>743</td>\n",
       "    </tr>\n",
       "    <tr>\n",
       "      <th>B</th>\n",
       "      <td>697</td>\n",
       "    </tr>\n",
       "    <tr>\n",
       "      <th>C</th>\n",
       "      <td>626</td>\n",
       "    </tr>\n",
       "    <tr>\n",
       "      <th>D</th>\n",
       "      <td>594</td>\n",
       "    </tr>\n",
       "    <tr>\n",
       "      <th rowspan=\"4\" valign=\"top\">40.0</th>\n",
       "      <th>A</th>\n",
       "      <td>386</td>\n",
       "    </tr>\n",
       "    <tr>\n",
       "      <th>B</th>\n",
       "      <td>428</td>\n",
       "    </tr>\n",
       "    <tr>\n",
       "      <th>C</th>\n",
       "      <td>455</td>\n",
       "    </tr>\n",
       "    <tr>\n",
       "      <th>D</th>\n",
       "      <td>532</td>\n",
       "    </tr>\n",
       "    <tr>\n",
       "      <th rowspan=\"4\" valign=\"top\">50.0</th>\n",
       "      <th>A</th>\n",
       "      <td>321</td>\n",
       "    </tr>\n",
       "    <tr>\n",
       "      <th>B</th>\n",
       "      <td>410</td>\n",
       "    </tr>\n",
       "    <tr>\n",
       "      <th>C</th>\n",
       "      <td>474</td>\n",
       "    </tr>\n",
       "    <tr>\n",
       "      <th>D</th>\n",
       "      <td>564</td>\n",
       "    </tr>\n",
       "    <tr>\n",
       "      <th rowspan=\"4\" valign=\"top\">60.0</th>\n",
       "      <th>A</th>\n",
       "      <td>314</td>\n",
       "    </tr>\n",
       "    <tr>\n",
       "      <th>B</th>\n",
       "      <td>371</td>\n",
       "    </tr>\n",
       "    <tr>\n",
       "      <th>C</th>\n",
       "      <td>339</td>\n",
       "    </tr>\n",
       "    <tr>\n",
       "      <th>D</th>\n",
       "      <td>311</td>\n",
       "    </tr>\n",
       "  </tbody>\n",
       "</table>\n",
       "</div>"
      ],
      "text/plain": [
       "            0\n",
       "연령대  등급      \n",
       "20.0 A   1585\n",
       "     B   1443\n",
       "     C   1455\n",
       "     D   1348\n",
       "30.0 A    743\n",
       "     B    697\n",
       "     C    626\n",
       "     D    594\n",
       "40.0 A    386\n",
       "     B    428\n",
       "     C    455\n",
       "     D    532\n",
       "50.0 A    321\n",
       "     B    410\n",
       "     C    474\n",
       "     D    564\n",
       "60.0 A    314\n",
       "     B    371\n",
       "     C    339\n",
       "     D    311"
      ]
     },
     "execution_count": 30,
     "metadata": {},
     "output_type": "execute_result"
    }
   ],
   "source": [
    "df.groupby(['연령대', '등급']).size().to_frame()"
   ]
  },
  {
   "cell_type": "code",
   "execution_count": 36,
   "id": "2ca5ee12-d633-41e3-bb8a-96e5e199c1d9",
   "metadata": {
    "tags": []
   },
   "outputs": [
    {
     "data": {
      "text/plain": [
       "7.932086486137521"
      ]
     },
     "execution_count": 36,
     "metadata": {},
     "output_type": "execute_result"
    }
   ],
   "source": [
    "filt = df.측정회원성별 == 'M'\n",
    "filt2 = df.등급\n",
    "abs(df[filt & (filt2 == 'A')]['체지방율 : %'].mean() - df[filt & (filt2 == 'D')]['체지방율 : %'].mean())"
   ]
  },
  {
   "cell_type": "code",
   "execution_count": 39,
   "id": "0aae71fd-be76-446c-8719-173a6213c578",
   "metadata": {
    "tags": []
   },
   "outputs": [
    {
     "data": {
      "text/plain": [
       "5.176211590296504"
      ]
     },
     "execution_count": 39,
     "metadata": {},
     "output_type": "execute_result"
    }
   ],
   "source": [
    "filt = df.측정회원성별 == 'F'\n",
    "filt2 = df.등급\n",
    "abs(df[filt & (filt2 == 'A')]['체중 : kg'].mean() - df[filt & (filt2 == 'D')]['체중 : kg'].mean())"
   ]
  },
  {
   "cell_type": "code",
   "execution_count": 42,
   "id": "99230d84-89bd-46cb-b512-2c0fa945aae6",
   "metadata": {
    "tags": []
   },
   "outputs": [],
   "source": [
    "df['bmi'] = df['체중 : kg'] / (df['신장 : cm']/100)**2"
   ]
  },
  {
   "cell_type": "code",
   "execution_count": 44,
   "id": "a4f49c89-bcf8-416b-a216-0d778383ab68",
   "metadata": {
    "tags": []
   },
   "outputs": [],
   "source": [
    "filt = df.측정회원성별 == 'M'"
   ]
  },
  {
   "cell_type": "code",
   "execution_count": 45,
   "id": "ab457a14-0a69-47a7-992b-163f4836c143",
   "metadata": {
    "tags": []
   },
   "outputs": [
    {
     "data": {
      "text/plain": [
       "24.46134409819308"
      ]
     },
     "execution_count": 45,
     "metadata": {},
     "output_type": "execute_result"
    }
   ],
   "source": [
    "df[filt].bmi.mean()"
   ]
  },
  {
   "cell_type": "code",
   "execution_count": 46,
   "id": "34b10a49-8a21-4ae5-aa3e-5dcfd80fcde3",
   "metadata": {
    "tags": []
   },
   "outputs": [],
   "source": [
    "filt = df['체지방율 : %'] > df.bmi"
   ]
  },
  {
   "cell_type": "code",
   "execution_count": 47,
   "id": "dc89e13b-2300-4591-97a1-624e349f45af",
   "metadata": {
    "tags": []
   },
   "outputs": [
    {
     "data": {
      "text/plain": [
       "61.7408806392542"
      ]
     },
     "execution_count": 47,
     "metadata": {},
     "output_type": "execute_result"
    }
   ],
   "source": [
    "df[filt]['체중 : kg'].mean()"
   ]
  },
  {
   "cell_type": "code",
   "execution_count": 48,
   "id": "de9ce984-0be9-4286-91f5-119c8818a8dd",
   "metadata": {
    "tags": []
   },
   "outputs": [],
   "source": [
    "filt = df.측정회원성별"
   ]
  },
  {
   "cell_type": "code",
   "execution_count": 49,
   "id": "e0703dcb-3fdb-49d4-89a4-1278c8010f44",
   "metadata": {
    "tags": []
   },
   "outputs": [
    {
     "data": {
      "text/plain": [
       "17.55954185047464"
      ]
     },
     "execution_count": 49,
     "metadata": {},
     "output_type": "execute_result"
    }
   ],
   "source": [
    "df[filt == 'M']['악력D : kg'].mean() - df[filt == 'F']['악력D : kg'].mean()"
   ]
  },
  {
   "cell_type": "code",
   "execution_count": 50,
   "id": "3a5d2630-356c-4dda-a9f1-d2b9b0e0137d",
   "metadata": {
    "tags": []
   },
   "outputs": [
    {
     "data": {
      "text/plain": [
       "14.243156833157627"
      ]
     },
     "execution_count": 50,
     "metadata": {},
     "output_type": "execute_result"
    }
   ],
   "source": [
    "df[filt == 'M']['교차윗몸일으키기 : 회'].mean() - df[filt == 'F']['교차윗몸일으키기 : 회'].mean()"
   ]
  },
  {
   "cell_type": "code",
   "execution_count": null,
   "id": "acc65ae3-3b40-4f16-b6cb-202baa060918",
   "metadata": {},
   "outputs": [],
   "source": []
  }
 ],
 "metadata": {
  "kernelspec": {
   "display_name": "Python 3",
   "language": "python",
   "name": "python3"
  },
  "language_info": {
   "codemirror_mode": {
    "name": "ipython",
    "version": 3
   },
   "file_extension": ".py",
   "mimetype": "text/x-python",
   "name": "python",
   "nbconvert_exporter": "python",
   "pygments_lexer": "ipython3",
   "version": "3.11.4"
  }
 },
 "nbformat": 4,
 "nbformat_minor": 5
}
