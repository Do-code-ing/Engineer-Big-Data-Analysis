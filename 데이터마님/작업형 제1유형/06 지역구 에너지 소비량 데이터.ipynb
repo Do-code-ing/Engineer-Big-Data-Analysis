{
 "cells": [
  {
   "cell_type": "code",
   "execution_count": 3,
   "id": "4cbdcf21-adf5-4fa8-b253-e1e84e7f7b6a",
   "metadata": {
    "tags": []
   },
   "outputs": [
    {
     "data": {
      "text/html": [
       "<div>\n",
       "<style scoped>\n",
       "    .dataframe tbody tr th:only-of-type {\n",
       "        vertical-align: middle;\n",
       "    }\n",
       "\n",
       "    .dataframe tbody tr th {\n",
       "        vertical-align: top;\n",
       "    }\n",
       "\n",
       "    .dataframe thead th {\n",
       "        text-align: right;\n",
       "    }\n",
       "</style>\n",
       "<table border=\"1\" class=\"dataframe\">\n",
       "  <thead>\n",
       "    <tr style=\"text-align: right;\">\n",
       "      <th></th>\n",
       "      <th>DateTime</th>\n",
       "      <th>Temperature</th>\n",
       "      <th>Humidity</th>\n",
       "      <th>Wind Speed</th>\n",
       "      <th>general diffuse flows</th>\n",
       "      <th>diffuse flows</th>\n",
       "      <th>Zone 1 Power Consumption</th>\n",
       "      <th>Zone 2  Power Consumption</th>\n",
       "      <th>Zone 3  Power Consumption</th>\n",
       "    </tr>\n",
       "  </thead>\n",
       "  <tbody>\n",
       "    <tr>\n",
       "      <th>0</th>\n",
       "      <td>1/1/2017 0:00</td>\n",
       "      <td>6.559</td>\n",
       "      <td>73.8</td>\n",
       "      <td>0.083</td>\n",
       "      <td>0.051</td>\n",
       "      <td>0.119</td>\n",
       "      <td>34055.69620</td>\n",
       "      <td>16128.87538</td>\n",
       "      <td>20240.96386</td>\n",
       "    </tr>\n",
       "    <tr>\n",
       "      <th>1</th>\n",
       "      <td>1/1/2017 0:10</td>\n",
       "      <td>6.414</td>\n",
       "      <td>74.5</td>\n",
       "      <td>0.083</td>\n",
       "      <td>0.070</td>\n",
       "      <td>0.085</td>\n",
       "      <td>29814.68354</td>\n",
       "      <td>19375.07599</td>\n",
       "      <td>20131.08434</td>\n",
       "    </tr>\n",
       "    <tr>\n",
       "      <th>2</th>\n",
       "      <td>1/1/2017 0:20</td>\n",
       "      <td>6.313</td>\n",
       "      <td>74.5</td>\n",
       "      <td>0.080</td>\n",
       "      <td>0.062</td>\n",
       "      <td>0.100</td>\n",
       "      <td>29128.10127</td>\n",
       "      <td>19006.68693</td>\n",
       "      <td>19668.43373</td>\n",
       "    </tr>\n",
       "    <tr>\n",
       "      <th>3</th>\n",
       "      <td>1/1/2017 0:30</td>\n",
       "      <td>6.121</td>\n",
       "      <td>75.0</td>\n",
       "      <td>0.083</td>\n",
       "      <td>0.091</td>\n",
       "      <td>0.096</td>\n",
       "      <td>28228.86076</td>\n",
       "      <td>18361.09422</td>\n",
       "      <td>18899.27711</td>\n",
       "    </tr>\n",
       "    <tr>\n",
       "      <th>4</th>\n",
       "      <td>1/1/2017 0:40</td>\n",
       "      <td>5.921</td>\n",
       "      <td>75.7</td>\n",
       "      <td>0.081</td>\n",
       "      <td>0.048</td>\n",
       "      <td>0.085</td>\n",
       "      <td>27335.69620</td>\n",
       "      <td>17872.34043</td>\n",
       "      <td>18442.40964</td>\n",
       "    </tr>\n",
       "  </tbody>\n",
       "</table>\n",
       "</div>"
      ],
      "text/plain": [
       "        DateTime  Temperature  Humidity  Wind Speed  general diffuse flows  \\\n",
       "0  1/1/2017 0:00        6.559      73.8       0.083                  0.051   \n",
       "1  1/1/2017 0:10        6.414      74.5       0.083                  0.070   \n",
       "2  1/1/2017 0:20        6.313      74.5       0.080                  0.062   \n",
       "3  1/1/2017 0:30        6.121      75.0       0.083                  0.091   \n",
       "4  1/1/2017 0:40        5.921      75.7       0.081                  0.048   \n",
       "\n",
       "   diffuse flows  Zone 1 Power Consumption  Zone 2  Power Consumption  \\\n",
       "0          0.119               34055.69620                16128.87538   \n",
       "1          0.085               29814.68354                19375.07599   \n",
       "2          0.100               29128.10127                19006.68693   \n",
       "3          0.096               28228.86076                18361.09422   \n",
       "4          0.085               27335.69620                17872.34043   \n",
       "\n",
       "   Zone 3  Power Consumption  \n",
       "0                20240.96386  \n",
       "1                20131.08434  \n",
       "2                19668.43373  \n",
       "3                18899.27711  \n",
       "4                18442.40964  "
      ]
     },
     "execution_count": 3,
     "metadata": {},
     "output_type": "execute_result"
    }
   ],
   "source": [
    "import pandas as pd\n",
    "df= pd.read_csv('https://raw.githubusercontent.com/Datamanim/datarepo/main/consum/Tetuan%20City%20power%20consumption.csv')\n",
    "df.head()"
   ]
  },
  {
   "cell_type": "code",
   "execution_count": 20,
   "id": "b6715a2c-44bd-448e-a710-8692d6c30770",
   "metadata": {
    "tags": []
   },
   "outputs": [],
   "source": [
    "df.columns = ['DateTime', 'Temperature', 'Humidity', 'Wind Speed', 'general diffuse flows', 'diffuse flows', 'Zone 1 Power Consumption', 'Zone 2 Power Consumption', 'Zone 3 Power Consumption']"
   ]
  },
  {
   "cell_type": "code",
   "execution_count": 6,
   "id": "9d4b1ecd-d9c0-405d-8fde-1268f6353e7c",
   "metadata": {
    "tags": []
   },
   "outputs": [],
   "source": [
    "df.DateTime = pd.to_datetime(df.DateTime)"
   ]
  },
  {
   "cell_type": "code",
   "execution_count": 7,
   "id": "1f0a710a-f67e-4c03-a415-87f58e8f1849",
   "metadata": {
    "tags": []
   },
   "outputs": [
    {
     "data": {
      "text/plain": [
       "DateTime\n",
       "1     4464\n",
       "2     4032\n",
       "3     4464\n",
       "4     4320\n",
       "5     4464\n",
       "6     4320\n",
       "7     4464\n",
       "8     4464\n",
       "9     4320\n",
       "10    4464\n",
       "11    4320\n",
       "12    4320\n",
       "dtype: int64"
      ]
     },
     "execution_count": 7,
     "metadata": {},
     "output_type": "execute_result"
    }
   ],
   "source": [
    "df.groupby(df.DateTime.dt.month).size()"
   ]
  },
  {
   "cell_type": "code",
   "execution_count": 8,
   "id": "5c079afc-5f82-4551-bec8-07826cddbf6e",
   "metadata": {
    "tags": []
   },
   "outputs": [],
   "source": [
    "filt = df.DateTime.dt.month == 3"
   ]
  },
  {
   "cell_type": "code",
   "execution_count": 11,
   "id": "068cee97-89d7-4484-bd37-a80a08151fde",
   "metadata": {
    "tags": []
   },
   "outputs": [],
   "source": [
    "march = df[filt]"
   ]
  },
  {
   "cell_type": "code",
   "execution_count": 14,
   "id": "9dac7ac9-b5bf-43aa-8dfa-70215d511faa",
   "metadata": {
    "tags": []
   },
   "outputs": [
    {
     "data": {
      "text/plain": [
       "11.506612903225806"
      ]
     },
     "execution_count": 14,
     "metadata": {},
     "output_type": "execute_result"
    }
   ],
   "source": [
    "march.groupby(march.DateTime.dt.hour).Temperature.mean().sort_values().values[0]"
   ]
  },
  {
   "cell_type": "code",
   "execution_count": 15,
   "id": "28b37c1b-79fd-464f-9f9b-233f242bf38a",
   "metadata": {
    "tags": []
   },
   "outputs": [
    {
     "data": {
      "text/plain": [
       "18.393602150537635"
      ]
     },
     "execution_count": 15,
     "metadata": {},
     "output_type": "execute_result"
    }
   ],
   "source": [
    "march.groupby(march.DateTime.dt.hour).Temperature.mean().sort_values().values[-1]"
   ]
  },
  {
   "cell_type": "code",
   "execution_count": 22,
   "id": "69113686-5da9-4831-ad00-83d46c0d6829",
   "metadata": {
    "tags": []
   },
   "outputs": [
    {
     "data": {
      "text/plain": [
       "68.23624448055052"
      ]
     },
     "execution_count": 22,
     "metadata": {},
     "output_type": "execute_result"
    }
   ],
   "source": [
    "filt = (df['Zone 1 Power Consumption']) > (df['Zone 2 Power Consumption'])\n",
    "df[filt].Humidity.mean()"
   ]
  },
  {
   "cell_type": "code",
   "execution_count": 23,
   "id": "10c5c23b-695a-48e4-b2aa-d7a6d73c2a81",
   "metadata": {
    "tags": []
   },
   "outputs": [
    {
     "data": {
      "text/html": [
       "<div>\n",
       "<style scoped>\n",
       "    .dataframe tbody tr th:only-of-type {\n",
       "        vertical-align: middle;\n",
       "    }\n",
       "\n",
       "    .dataframe tbody tr th {\n",
       "        vertical-align: top;\n",
       "    }\n",
       "\n",
       "    .dataframe thead th {\n",
       "        text-align: right;\n",
       "    }\n",
       "</style>\n",
       "<table border=\"1\" class=\"dataframe\">\n",
       "  <thead>\n",
       "    <tr style=\"text-align: right;\">\n",
       "      <th></th>\n",
       "      <th>Zone 1 Power Consumption</th>\n",
       "      <th>Zone 2 Power Consumption</th>\n",
       "      <th>Zone 3 Power Consumption</th>\n",
       "    </tr>\n",
       "  </thead>\n",
       "  <tbody>\n",
       "    <tr>\n",
       "      <th>Zone 1 Power Consumption</th>\n",
       "      <td>1.000000</td>\n",
       "      <td>0.834519</td>\n",
       "      <td>0.750733</td>\n",
       "    </tr>\n",
       "    <tr>\n",
       "      <th>Zone 2 Power Consumption</th>\n",
       "      <td>0.834519</td>\n",
       "      <td>1.000000</td>\n",
       "      <td>0.570932</td>\n",
       "    </tr>\n",
       "    <tr>\n",
       "      <th>Zone 3 Power Consumption</th>\n",
       "      <td>0.750733</td>\n",
       "      <td>0.570932</td>\n",
       "      <td>1.000000</td>\n",
       "    </tr>\n",
       "  </tbody>\n",
       "</table>\n",
       "</div>"
      ],
      "text/plain": [
       "                          Zone 1 Power Consumption  Zone 2 Power Consumption  \\\n",
       "Zone 1 Power Consumption                  1.000000                  0.834519   \n",
       "Zone 2 Power Consumption                  0.834519                  1.000000   \n",
       "Zone 3 Power Consumption                  0.750733                  0.570932   \n",
       "\n",
       "                          Zone 3 Power Consumption  \n",
       "Zone 1 Power Consumption                  0.750733  \n",
       "Zone 2 Power Consumption                  0.570932  \n",
       "Zone 3 Power Consumption                  1.000000  "
      ]
     },
     "execution_count": 23,
     "metadata": {},
     "output_type": "execute_result"
    }
   ],
   "source": [
    "df[['Zone 1 Power Consumption', 'Zone 2 Power Consumption', 'Zone 3 Power Consumption']].corr()"
   ]
  },
  {
   "cell_type": "code",
   "execution_count": 24,
   "id": "e05bbe59-b24c-428d-9294-f647e526b451",
   "metadata": {
    "tags": []
   },
   "outputs": [],
   "source": [
    "def ranking(x):\n",
    "    if x < 10:\n",
    "        return 'A'\n",
    "    elif x < 20:\n",
    "        return 'B'\n",
    "    elif x < 30:\n",
    "        return 'C'\n",
    "    return 'D'\n",
    "\n",
    "rank = df.Temperature.apply(ranking)"
   ]
  },
  {
   "cell_type": "code",
   "execution_count": 31,
   "id": "b3b09b6e-812a-4d9e-bc20-86f837ab2ca1",
   "metadata": {
    "tags": []
   },
   "outputs": [
    {
     "data": {
      "text/plain": [
       "B    26993\n",
       "C    21105\n",
       "A     2874\n",
       "D     1444\n",
       "Name: Temperature, dtype: int64"
      ]
     },
     "execution_count": 31,
     "metadata": {},
     "output_type": "execute_result"
    }
   ],
   "source": [
    "rank.value_counts()"
   ]
  },
  {
   "cell_type": "code",
   "execution_count": 32,
   "id": "37cdc6b6-2411-4989-93de-acf2186c7f0a",
   "metadata": {
    "tags": []
   },
   "outputs": [
    {
     "data": {
      "text/plain": [
       "2.049941782795103"
      ]
     },
     "execution_count": 32,
     "metadata": {},
     "output_type": "execute_result"
    }
   ],
   "source": [
    "filt = (df.DateTime.dt.month == 6) & (df.DateTime.dt.hour == 12)\n",
    "df[filt].Temperature.std()"
   ]
  },
  {
   "cell_type": "code",
   "execution_count": 35,
   "id": "6745ba36-ff40-43e8-9ac5-a967050d1337",
   "metadata": {
    "tags": []
   },
   "outputs": [
    {
     "data": {
      "text/plain": [
       "87.9"
      ]
     },
     "execution_count": 35,
     "metadata": {},
     "output_type": "execute_result"
    }
   ],
   "source": [
    "filt = df.Temperature >= df.Temperature.mean()\n",
    "df[filt].sort_values('Temperature').iloc[3]['Humidity']"
   ]
  },
  {
   "cell_type": "code",
   "execution_count": 36,
   "id": "1d976e06-939a-4ca4-a825-6b2f3407cbd1",
   "metadata": {
    "tags": []
   },
   "outputs": [
    {
     "data": {
      "text/plain": [
       "80.3"
      ]
     },
     "execution_count": 36,
     "metadata": {},
     "output_type": "execute_result"
    }
   ],
   "source": [
    "filt = df.Temperature >= df.Temperature.median()\n",
    "df[filt].sort_values('Temperature').iloc[3]['Humidity']"
   ]
  },
  {
   "cell_type": "code",
   "execution_count": null,
   "id": "f841bee4-294f-4a31-875b-f34debc8f71b",
   "metadata": {},
   "outputs": [],
   "source": []
  }
 ],
 "metadata": {
  "kernelspec": {
   "display_name": "Python 3",
   "language": "python",
   "name": "python3"
  },
  "language_info": {
   "codemirror_mode": {
    "name": "ipython",
    "version": 3
   },
   "file_extension": ".py",
   "mimetype": "text/x-python",
   "name": "python",
   "nbconvert_exporter": "python",
   "pygments_lexer": "ipython3",
   "version": "3.11.4"
  }
 },
 "nbformat": 4,
 "nbformat_minor": 5
}
