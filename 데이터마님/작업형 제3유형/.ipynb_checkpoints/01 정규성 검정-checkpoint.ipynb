{
 "cells": [
  {
   "cell_type": "code",
   "execution_count": 1,
   "id": "ad38ad2c-84ac-4af0-a6c8-ec92cec91fa1",
   "metadata": {
    "tags": []
   },
   "outputs": [],
   "source": [
    "import pandas as pd\n",
    "\n",
    "df = pd.read_csv('https://raw.githubusercontent.com/Datamanim/datarepo/main/scipy/normal1.csv')"
   ]
  },
  {
   "cell_type": "code",
   "execution_count": 2,
   "id": "854a45b2-b5c3-435f-8f82-d5266526a418",
   "metadata": {
    "tags": []
   },
   "outputs": [
    {
     "data": {
      "text/plain": [
       "(1000, 1)"
      ]
     },
     "execution_count": 2,
     "metadata": {},
     "output_type": "execute_result"
    }
   ],
   "source": [
    "df.shape"
   ]
  },
  {
   "cell_type": "code",
   "execution_count": 3,
   "id": "abb28ed5-169d-4759-a893-6931cc5f835b",
   "metadata": {
    "tags": []
   },
   "outputs": [],
   "source": [
    "from scipy.stats import shapiro"
   ]
  },
  {
   "cell_type": "code",
   "execution_count": 5,
   "id": "79c2b570-8c1d-4acb-9a00-a95a5318d9b5",
   "metadata": {
    "tags": []
   },
   "outputs": [
    {
     "data": {
      "text/plain": [
       "ShapiroResult(statistic=0.9981444478034973, pvalue=0.34849318861961365)"
      ]
     },
     "execution_count": 5,
     "metadata": {},
     "output_type": "execute_result"
    }
   ],
   "source": [
    "shapiro(df)"
   ]
  },
  {
   "cell_type": "code",
   "execution_count": 6,
   "id": "c8f23bab-2925-49b8-960e-bbe935745fc2",
   "metadata": {
    "tags": []
   },
   "outputs": [],
   "source": [
    "df = pd.read_csv('https://raw.githubusercontent.com/Datamanim/datarepo/main/scipy/normal3.csv')"
   ]
  },
  {
   "cell_type": "code",
   "execution_count": 7,
   "id": "5c391959-6960-409d-bab9-4e295e6ea038",
   "metadata": {
    "tags": []
   },
   "outputs": [
    {
     "data": {
      "text/plain": [
       "(1000, 1)"
      ]
     },
     "execution_count": 7,
     "metadata": {},
     "output_type": "execute_result"
    }
   ],
   "source": [
    "df.shape"
   ]
  },
  {
   "cell_type": "code",
   "execution_count": 8,
   "id": "edea2e7c-9fab-43af-bf2d-547d8b90b618",
   "metadata": {
    "tags": []
   },
   "outputs": [
    {
     "data": {
      "text/plain": [
       "ShapiroResult(statistic=0.9578885436058044, pvalue=2.309641794969743e-16)"
      ]
     },
     "execution_count": 8,
     "metadata": {},
     "output_type": "execute_result"
    }
   ],
   "source": [
    "shapiro(df)"
   ]
  },
  {
   "cell_type": "code",
   "execution_count": 9,
   "id": "dfe39dd8-0695-44cd-bbcc-fd9f2ca5a229",
   "metadata": {
    "tags": []
   },
   "outputs": [],
   "source": [
    "import numpy as np"
   ]
  },
  {
   "cell_type": "code",
   "execution_count": 10,
   "id": "59af6085-4498-4dcb-86d0-d2799f173f44",
   "metadata": {
    "tags": []
   },
   "outputs": [],
   "source": [
    "log_df = np.log1p(df)"
   ]
  },
  {
   "cell_type": "code",
   "execution_count": 11,
   "id": "6e8d1854-8bb6-4227-9449-c5ae6e584588",
   "metadata": {
    "tags": []
   },
   "outputs": [
    {
     "data": {
      "text/plain": [
       "ShapiroResult(statistic=0.9976889491081238, pvalue=0.17540602385997772)"
      ]
     },
     "execution_count": 11,
     "metadata": {},
     "output_type": "execute_result"
    }
   ],
   "source": [
    "shapiro(log_df)"
   ]
  },
  {
   "cell_type": "code",
   "execution_count": 12,
   "id": "2bd9e672-52fd-47b5-9f21-390d59f9e7c8",
   "metadata": {
    "tags": []
   },
   "outputs": [],
   "source": [
    "df = pd.read_csv('https://raw.githubusercontent.com/Datamanim/datarepo/main/scipy/normal6.csv')"
   ]
  },
  {
   "cell_type": "code",
   "execution_count": 13,
   "id": "6ecaec25-42f4-4267-8f2d-f26c14174169",
   "metadata": {
    "tags": []
   },
   "outputs": [
    {
     "data": {
      "text/plain": [
       "(6000, 1)"
      ]
     },
     "execution_count": 13,
     "metadata": {},
     "output_type": "execute_result"
    }
   ],
   "source": [
    "df.shape"
   ]
  },
  {
   "cell_type": "code",
   "execution_count": 14,
   "id": "61ff1a13-d860-4b9e-9806-6364fde30935",
   "metadata": {
    "tags": []
   },
   "outputs": [],
   "source": [
    "from scipy.stats import anderson"
   ]
  },
  {
   "cell_type": "code",
   "execution_count": 17,
   "id": "1ee7a050-9fb7-4bd5-af7f-b53e1bcfc705",
   "metadata": {
    "tags": []
   },
   "outputs": [],
   "source": [
    "result = anderson(df.data.values)"
   ]
  },
  {
   "cell_type": "code",
   "execution_count": 18,
   "id": "cefff146-3f1c-4d57-9367-eed277d1ddc9",
   "metadata": {
    "tags": []
   },
   "outputs": [
    {
     "name": "stdout",
     "output_type": "stream",
     "text": [
      "0.8266993530414766\n",
      "[0.576 0.656 0.786 0.917 1.091]\n",
      "[15.  10.   5.   2.5  1. ]\n"
     ]
    }
   ],
   "source": [
    "for x in result:\n",
    "    print(x)"
   ]
  },
  {
   "cell_type": "code",
   "execution_count": null,
   "id": "422e9bcf-4324-4854-98ef-53c026bc8ffb",
   "metadata": {},
   "outputs": [],
   "source": []
  }
 ],
 "metadata": {
  "kernelspec": {
   "display_name": "Python 3",
   "language": "python",
   "name": "python3"
  },
  "language_info": {
   "codemirror_mode": {
    "name": "ipython",
    "version": 3
   },
   "file_extension": ".py",
   "mimetype": "text/x-python",
   "name": "python",
   "nbconvert_exporter": "python",
   "pygments_lexer": "ipython3",
   "version": "3.11.4"
  }
 },
 "nbformat": 4,
 "nbformat_minor": 5
}
