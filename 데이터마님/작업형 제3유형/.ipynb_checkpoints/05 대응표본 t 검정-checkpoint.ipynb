{
 "cells": [
  {
   "cell_type": "code",
   "execution_count": 1,
   "id": "fc943a37-33ee-49de-b3c0-691ae50f5084",
   "metadata": {
    "tags": []
   },
   "outputs": [],
   "source": [
    "import pandas as pd "
   ]
  },
  {
   "cell_type": "code",
   "execution_count": 2,
   "id": "3927b4d1-789e-474a-953a-9c0e0ed0cde7",
   "metadata": {
    "tags": []
   },
   "outputs": [],
   "source": [
    "df = pd.read_csv('https://raw.githubusercontent.com/Datamanim/datarepo/main/scipy/rel2.csv')"
   ]
  },
  {
   "cell_type": "code",
   "execution_count": 3,
   "id": "62757602-b065-45c1-93ff-2f162abad0c2",
   "metadata": {
    "tags": []
   },
   "outputs": [
    {
     "data": {
      "text/html": [
       "<div>\n",
       "<style scoped>\n",
       "    .dataframe tbody tr th:only-of-type {\n",
       "        vertical-align: middle;\n",
       "    }\n",
       "\n",
       "    .dataframe tbody tr th {\n",
       "        vertical-align: top;\n",
       "    }\n",
       "\n",
       "    .dataframe thead th {\n",
       "        text-align: right;\n",
       "    }\n",
       "</style>\n",
       "<table border=\"1\" class=\"dataframe\">\n",
       "  <thead>\n",
       "    <tr style=\"text-align: right;\">\n",
       "      <th></th>\n",
       "      <th>before</th>\n",
       "      <th>after</th>\n",
       "    </tr>\n",
       "  </thead>\n",
       "  <tbody>\n",
       "    <tr>\n",
       "      <th>0</th>\n",
       "      <td>216.289726</td>\n",
       "      <td>175.897620</td>\n",
       "    </tr>\n",
       "    <tr>\n",
       "      <th>1</th>\n",
       "      <td>190.279454</td>\n",
       "      <td>189.295934</td>\n",
       "    </tr>\n",
       "    <tr>\n",
       "      <th>2</th>\n",
       "      <td>217.744689</td>\n",
       "      <td>219.233935</td>\n",
       "    </tr>\n",
       "    <tr>\n",
       "      <th>3</th>\n",
       "      <td>235.021264</td>\n",
       "      <td>195.021021</td>\n",
       "    </tr>\n",
       "    <tr>\n",
       "      <th>4</th>\n",
       "      <td>234.098484</td>\n",
       "      <td>213.218227</td>\n",
       "    </tr>\n",
       "  </tbody>\n",
       "</table>\n",
       "</div>"
      ],
      "text/plain": [
       "       before       after\n",
       "0  216.289726  175.897620\n",
       "1  190.279454  189.295934\n",
       "2  217.744689  219.233935\n",
       "3  235.021264  195.021021\n",
       "4  234.098484  213.218227"
      ]
     },
     "execution_count": 3,
     "metadata": {},
     "output_type": "execute_result"
    }
   ],
   "source": [
    "df.head()"
   ]
  },
  {
   "cell_type": "code",
   "execution_count": 4,
   "id": "d052d85a-9f3c-4e65-a307-d17d2b0e8637",
   "metadata": {
    "tags": []
   },
   "outputs": [
    {
     "name": "stdout",
     "output_type": "stream",
     "text": [
      "<class 'pandas.core.frame.DataFrame'>\n",
      "RangeIndex: 120 entries, 0 to 119\n",
      "Data columns (total 2 columns):\n",
      " #   Column  Non-Null Count  Dtype  \n",
      "---  ------  --------------  -----  \n",
      " 0   before  120 non-null    float64\n",
      " 1   after   120 non-null    float64\n",
      "dtypes: float64(2)\n",
      "memory usage: 2.0 KB\n"
     ]
    }
   ],
   "source": [
    "df.info()"
   ]
  },
  {
   "cell_type": "code",
   "execution_count": 5,
   "id": "815f00c6-a0a3-46b5-a216-ccf629626f12",
   "metadata": {
    "tags": []
   },
   "outputs": [],
   "source": [
    "before = df['before']\n",
    "after = df['after']"
   ]
  },
  {
   "cell_type": "code",
   "execution_count": 6,
   "id": "906c74c6-29b8-4821-8a6f-951dfa203160",
   "metadata": {
    "tags": []
   },
   "outputs": [],
   "source": [
    "from scipy.stats import shapiro, bartlett, fligner, levene, ttest_rel"
   ]
  },
  {
   "cell_type": "code",
   "execution_count": 8,
   "id": "ccdacfbe-941b-497a-bf44-01bae55b82ca",
   "metadata": {
    "tags": []
   },
   "outputs": [
    {
     "data": {
      "text/plain": [
       "ShapiroResult(statistic=0.9907895922660828, pvalue=0.6065835952758789)"
      ]
     },
     "execution_count": 8,
     "metadata": {},
     "output_type": "execute_result"
    }
   ],
   "source": [
    "shapiro(before)"
   ]
  },
  {
   "cell_type": "code",
   "execution_count": 9,
   "id": "c0e6b437-af55-45f9-b380-181fb743ab4d",
   "metadata": {
    "tags": []
   },
   "outputs": [
    {
     "data": {
      "text/plain": [
       "ShapiroResult(statistic=0.9916961193084717, pvalue=0.6923638582229614)"
      ]
     },
     "execution_count": 9,
     "metadata": {},
     "output_type": "execute_result"
    }
   ],
   "source": [
    "shapiro(after)"
   ]
  },
  {
   "cell_type": "code",
   "execution_count": 10,
   "id": "449f7738-9879-48ea-a83c-e7a7898c9f92",
   "metadata": {
    "tags": []
   },
   "outputs": [
    {
     "data": {
      "text/plain": [
       "BartlettResult(statistic=0.01622416407118679, pvalue=0.8986443060057316)"
      ]
     },
     "execution_count": 10,
     "metadata": {},
     "output_type": "execute_result"
    }
   ],
   "source": [
    "bartlett(before, after)"
   ]
  },
  {
   "cell_type": "code",
   "execution_count": 11,
   "id": "0fa61a0a-5e2e-494e-9117-aaa4b232a906",
   "metadata": {
    "tags": []
   },
   "outputs": [
    {
     "data": {
      "text/plain": [
       "TtestResult(statistic=-2.5535473487670677, pvalue=0.011926744724546513, df=119)"
      ]
     },
     "execution_count": 11,
     "metadata": {},
     "output_type": "execute_result"
    }
   ],
   "source": [
    "ttest_rel(before, after)"
   ]
  },
  {
   "cell_type": "code",
   "execution_count": 12,
   "id": "183781b8-02a3-4bc8-ac5c-7247cae85c5b",
   "metadata": {
    "tags": []
   },
   "outputs": [],
   "source": [
    "df = pd.read_csv('https://raw.githubusercontent.com/Datamanim/datarepo/main/scipy/rel3.csv')"
   ]
  },
  {
   "cell_type": "code",
   "execution_count": 13,
   "id": "5ffc6aa7-0784-4229-a69e-e698769f75e8",
   "metadata": {
    "tags": []
   },
   "outputs": [
    {
     "name": "stdout",
     "output_type": "stream",
     "text": [
      "<class 'pandas.core.frame.DataFrame'>\n",
      "RangeIndex: 120 entries, 0 to 119\n",
      "Data columns (total 2 columns):\n",
      " #   Column  Non-Null Count  Dtype  \n",
      "---  ------  --------------  -----  \n",
      " 0   before  120 non-null    float64\n",
      " 1   after   120 non-null    float64\n",
      "dtypes: float64(2)\n",
      "memory usage: 2.0 KB\n"
     ]
    }
   ],
   "source": [
    "df.info()"
   ]
  },
  {
   "cell_type": "code",
   "execution_count": 14,
   "id": "100d6d45-e9ab-48ca-806e-de5601122b01",
   "metadata": {
    "tags": []
   },
   "outputs": [],
   "source": [
    "before = df['before']\n",
    "after = df['after']"
   ]
  },
  {
   "cell_type": "code",
   "execution_count": 15,
   "id": "109bdc41-c113-4b91-893a-38a117b6e8bf",
   "metadata": {
    "tags": []
   },
   "outputs": [
    {
     "data": {
      "text/plain": [
       "ShapiroResult(statistic=0.9920631051063538, pvalue=0.7270199656486511)"
      ]
     },
     "execution_count": 15,
     "metadata": {},
     "output_type": "execute_result"
    }
   ],
   "source": [
    "shapiro(before)"
   ]
  },
  {
   "cell_type": "code",
   "execution_count": 16,
   "id": "1bb93400-134e-449e-999c-231fa7c1f7c8",
   "metadata": {
    "tags": []
   },
   "outputs": [
    {
     "data": {
      "text/plain": [
       "ShapiroResult(statistic=0.992019534111023, pvalue=0.7229290008544922)"
      ]
     },
     "execution_count": 16,
     "metadata": {},
     "output_type": "execute_result"
    }
   ],
   "source": [
    "shapiro(after)"
   ]
  },
  {
   "cell_type": "code",
   "execution_count": 17,
   "id": "5c4bb3fb-e81c-4784-be6a-d9580fe374db",
   "metadata": {
    "tags": []
   },
   "outputs": [
    {
     "data": {
      "text/plain": [
       "BartlettResult(statistic=1.4043158439382493, pvalue=0.2360022922126205)"
      ]
     },
     "execution_count": 17,
     "metadata": {},
     "output_type": "execute_result"
    }
   ],
   "source": [
    "bartlett(before, after)"
   ]
  },
  {
   "cell_type": "code",
   "execution_count": 18,
   "id": "42c27056-d3b0-481e-b5ef-7bfe75b98f9a",
   "metadata": {
    "tags": []
   },
   "outputs": [
    {
     "data": {
      "text/plain": [
       "TtestResult(statistic=0.188900575991026, pvalue=0.8504925317234707, df=119)"
      ]
     },
     "execution_count": 18,
     "metadata": {},
     "output_type": "execute_result"
    }
   ],
   "source": [
    "ttest_rel(before, after)"
   ]
  },
  {
   "cell_type": "code",
   "execution_count": 19,
   "id": "9e5e3f3c-d62c-4e5a-9dfb-e0aede7bc305",
   "metadata": {
    "tags": []
   },
   "outputs": [],
   "source": [
    "df = pd.read_csv('https://raw.githubusercontent.com/Datamanim/datarepo/main/scipy/rel1.csv')"
   ]
  },
  {
   "cell_type": "code",
   "execution_count": 20,
   "id": "856e73c9-2dee-46ce-9184-7f34532f989d",
   "metadata": {
    "tags": []
   },
   "outputs": [
    {
     "name": "stdout",
     "output_type": "stream",
     "text": [
      "<class 'pandas.core.frame.DataFrame'>\n",
      "RangeIndex: 50 entries, 0 to 49\n",
      "Data columns (total 2 columns):\n",
      " #   Column  Non-Null Count  Dtype\n",
      "---  ------  --------------  -----\n",
      " 0   before  50 non-null     int64\n",
      " 1   after   50 non-null     int64\n",
      "dtypes: int64(2)\n",
      "memory usage: 932.0 bytes\n"
     ]
    }
   ],
   "source": [
    "df.info()"
   ]
  },
  {
   "cell_type": "code",
   "execution_count": 21,
   "id": "751d35f8-87dc-4aa1-a967-223fe9bfbf36",
   "metadata": {
    "tags": []
   },
   "outputs": [],
   "source": [
    "before = df['before']\n",
    "after = df['after']"
   ]
  },
  {
   "cell_type": "code",
   "execution_count": 22,
   "id": "5475f8c2-7731-48b3-bc49-89a611b76533",
   "metadata": {
    "tags": []
   },
   "outputs": [
    {
     "data": {
      "text/plain": [
       "ShapiroResult(statistic=0.9173730611801147, pvalue=0.0018974003614857793)"
      ]
     },
     "execution_count": 22,
     "metadata": {},
     "output_type": "execute_result"
    }
   ],
   "source": [
    "shapiro(before)"
   ]
  },
  {
   "cell_type": "code",
   "execution_count": 23,
   "id": "767d33fe-dbaa-49aa-94ab-11a5e13e2798",
   "metadata": {
    "tags": []
   },
   "outputs": [
    {
     "data": {
      "text/plain": [
       "ShapiroResult(statistic=0.9448966979980469, pvalue=0.021140215918421745)"
      ]
     },
     "execution_count": 23,
     "metadata": {},
     "output_type": "execute_result"
    }
   ],
   "source": [
    "shapiro(after)"
   ]
  },
  {
   "cell_type": "code",
   "execution_count": 24,
   "id": "7191db49-9c70-43dd-8bb7-b226ffc5c425",
   "metadata": {
    "tags": []
   },
   "outputs": [
    {
     "data": {
      "text/plain": [
       "FlignerResult(statistic=0.21891868696926517, pvalue=0.6398650625816064)"
      ]
     },
     "execution_count": 24,
     "metadata": {},
     "output_type": "execute_result"
    }
   ],
   "source": [
    "fligner(before, after)"
   ]
  },
  {
   "cell_type": "code",
   "execution_count": 26,
   "id": "39083ab4-0d7f-4253-b2f6-ad9e30f622a2",
   "metadata": {
    "tags": []
   },
   "outputs": [],
   "source": [
    "from scipy.stats import wilcoxon"
   ]
  },
  {
   "cell_type": "code",
   "execution_count": 27,
   "id": "93eb35d8-e485-404e-b9d8-7daacf8d3432",
   "metadata": {
    "tags": []
   },
   "outputs": [
    {
     "name": "stderr",
     "output_type": "stream",
     "text": [
      "C:\\Users\\pc\\anaconda3\\Lib\\site-packages\\scipy\\stats\\_morestats.py:3414: UserWarning: Exact p-value calculation does not work if there are zeros. Switching to normal approximation.\n",
      "  warnings.warn(\"Exact p-value calculation does not work if there are \"\n"
     ]
    },
    {
     "data": {
      "text/plain": [
       "WilcoxonResult(statistic=437.0, pvalue=0.12098409484052809)"
      ]
     },
     "execution_count": 27,
     "metadata": {},
     "output_type": "execute_result"
    }
   ],
   "source": [
    "wilcoxon(before, after)"
   ]
  },
  {
   "cell_type": "code",
   "execution_count": 30,
   "id": "94aceec0-e265-424f-92f7-ca7d06f4e385",
   "metadata": {
    "tags": []
   },
   "outputs": [],
   "source": [
    "df = pd.read_csv('https://raw.githubusercontent.com/Datamanim/datarepo/main/scipy/rel4.csv')"
   ]
  },
  {
   "cell_type": "code",
   "execution_count": 31,
   "id": "d8b6878f-2ba8-45a2-b69d-e6a6d83381f1",
   "metadata": {
    "tags": []
   },
   "outputs": [
    {
     "name": "stdout",
     "output_type": "stream",
     "text": [
      "<class 'pandas.core.frame.DataFrame'>\n",
      "RangeIndex: 140 entries, 0 to 139\n",
      "Data columns (total 2 columns):\n",
      " #   Column  Non-Null Count  Dtype  \n",
      "---  ------  --------------  -----  \n",
      " 0   rpm     140 non-null    float64\n",
      " 1   group   140 non-null    object \n",
      "dtypes: float64(1), object(1)\n",
      "memory usage: 2.3+ KB\n"
     ]
    }
   ],
   "source": [
    "df.info()"
   ]
  },
  {
   "cell_type": "code",
   "execution_count": 32,
   "id": "3804abdb-4d1d-4738-960a-d8cb28251518",
   "metadata": {
    "tags": []
   },
   "outputs": [
    {
     "data": {
      "text/html": [
       "<div>\n",
       "<style scoped>\n",
       "    .dataframe tbody tr th:only-of-type {\n",
       "        vertical-align: middle;\n",
       "    }\n",
       "\n",
       "    .dataframe tbody tr th {\n",
       "        vertical-align: top;\n",
       "    }\n",
       "\n",
       "    .dataframe thead th {\n",
       "        text-align: right;\n",
       "    }\n",
       "</style>\n",
       "<table border=\"1\" class=\"dataframe\">\n",
       "  <thead>\n",
       "    <tr style=\"text-align: right;\">\n",
       "      <th></th>\n",
       "      <th>rpm</th>\n",
       "      <th>group</th>\n",
       "    </tr>\n",
       "  </thead>\n",
       "  <tbody>\n",
       "    <tr>\n",
       "      <th>0</th>\n",
       "      <td>474.551593</td>\n",
       "      <td>a</td>\n",
       "    </tr>\n",
       "    <tr>\n",
       "      <th>1</th>\n",
       "      <td>450.548420</td>\n",
       "      <td>a</td>\n",
       "    </tr>\n",
       "    <tr>\n",
       "      <th>2</th>\n",
       "      <td>563.720934</td>\n",
       "      <td>a</td>\n",
       "    </tr>\n",
       "    <tr>\n",
       "      <th>3</th>\n",
       "      <td>506.886966</td>\n",
       "      <td>a</td>\n",
       "    </tr>\n",
       "    <tr>\n",
       "      <th>4</th>\n",
       "      <td>471.724049</td>\n",
       "      <td>a</td>\n",
       "    </tr>\n",
       "  </tbody>\n",
       "</table>\n",
       "</div>"
      ],
      "text/plain": [
       "          rpm group\n",
       "0  474.551593     a\n",
       "1  450.548420     a\n",
       "2  563.720934     a\n",
       "3  506.886966     a\n",
       "4  471.724049     a"
      ]
     },
     "execution_count": 32,
     "metadata": {},
     "output_type": "execute_result"
    }
   ],
   "source": [
    "df.head()"
   ]
  },
  {
   "cell_type": "code",
   "execution_count": 33,
   "id": "c7bd9ee1-993d-472b-8b55-ca407f31f3e8",
   "metadata": {
    "tags": []
   },
   "outputs": [],
   "source": [
    "a = df[df['group'] == 'a'].rpm"
   ]
  },
  {
   "cell_type": "code",
   "execution_count": 34,
   "id": "80e0bbd8-fe00-4732-b4d4-b6ce7eba22d0",
   "metadata": {
    "tags": []
   },
   "outputs": [],
   "source": [
    "b = df[df['group'] == 'b'].rpm"
   ]
  },
  {
   "cell_type": "code",
   "execution_count": 35,
   "id": "85ac22e6-a416-4585-bea0-fe342cd9ad80",
   "metadata": {
    "tags": []
   },
   "outputs": [
    {
     "data": {
      "text/plain": [
       "ShapiroResult(statistic=0.9907217025756836, pvalue=0.8884284496307373)"
      ]
     },
     "execution_count": 35,
     "metadata": {},
     "output_type": "execute_result"
    }
   ],
   "source": [
    "shapiro(a)"
   ]
  },
  {
   "cell_type": "code",
   "execution_count": 36,
   "id": "bec056c1-dde3-4a9c-96d9-c755de06db91",
   "metadata": {
    "tags": []
   },
   "outputs": [
    {
     "data": {
      "text/plain": [
       "ShapiroResult(statistic=0.984674870967865, pvalue=0.5505106449127197)"
      ]
     },
     "execution_count": 36,
     "metadata": {},
     "output_type": "execute_result"
    }
   ],
   "source": [
    "shapiro(b)"
   ]
  },
  {
   "cell_type": "code",
   "execution_count": 37,
   "id": "7219875e-fc82-4fb5-9ab4-fa78c39497b9",
   "metadata": {
    "tags": []
   },
   "outputs": [
    {
     "data": {
      "text/plain": [
       "BartlettResult(statistic=0.15889730141293185, pvalue=0.6901737800138499)"
      ]
     },
     "execution_count": 37,
     "metadata": {},
     "output_type": "execute_result"
    }
   ],
   "source": [
    "bartlett(a, b)"
   ]
  },
  {
   "cell_type": "code",
   "execution_count": 39,
   "id": "1fb45bd2-85cd-45a8-8845-44bd8a458680",
   "metadata": {
    "tags": []
   },
   "outputs": [
    {
     "data": {
      "text/plain": [
       "TtestResult(statistic=-1.9018108294460812, pvalue=0.9693143365355352, df=69)"
      ]
     },
     "execution_count": 39,
     "metadata": {},
     "output_type": "execute_result"
    }
   ],
   "source": [
    "ttest_rel(a, b, alternative='greater')"
   ]
  },
  {
   "cell_type": "code",
   "execution_count": null,
   "id": "7fea5cc4-9f71-4cc6-8545-268b9145213a",
   "metadata": {},
   "outputs": [],
   "source": []
  }
 ],
 "metadata": {
  "kernelspec": {
   "display_name": "Python 3",
   "language": "python",
   "name": "python3"
  },
  "language_info": {
   "codemirror_mode": {
    "name": "ipython",
    "version": 3
   },
   "file_extension": ".py",
   "mimetype": "text/x-python",
   "name": "python",
   "nbconvert_exporter": "python",
   "pygments_lexer": "ipython3",
   "version": "3.11.4"
  }
 },
 "nbformat": 4,
 "nbformat_minor": 5
}
