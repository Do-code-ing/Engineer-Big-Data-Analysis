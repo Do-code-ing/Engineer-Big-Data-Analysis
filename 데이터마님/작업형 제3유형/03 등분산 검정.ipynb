{
 "cells": [
  {
   "cell_type": "code",
   "execution_count": 1,
   "id": "acaa9059-1808-462c-bc80-6e51927b5376",
   "metadata": {
    "tags": []
   },
   "outputs": [
    {
     "data": {
      "text/html": [
       "<div>\n",
       "<style scoped>\n",
       "    .dataframe tbody tr th:only-of-type {\n",
       "        vertical-align: middle;\n",
       "    }\n",
       "\n",
       "    .dataframe tbody tr th {\n",
       "        vertical-align: top;\n",
       "    }\n",
       "\n",
       "    .dataframe thead th {\n",
       "        text-align: right;\n",
       "    }\n",
       "</style>\n",
       "<table border=\"1\" class=\"dataframe\">\n",
       "  <thead>\n",
       "    <tr style=\"text-align: right;\">\n",
       "      <th></th>\n",
       "      <th>class</th>\n",
       "      <th>score</th>\n",
       "    </tr>\n",
       "  </thead>\n",
       "  <tbody>\n",
       "    <tr>\n",
       "      <th>0</th>\n",
       "      <td>A</td>\n",
       "      <td>84</td>\n",
       "    </tr>\n",
       "    <tr>\n",
       "      <th>1</th>\n",
       "      <td>A</td>\n",
       "      <td>59</td>\n",
       "    </tr>\n",
       "    <tr>\n",
       "      <th>2</th>\n",
       "      <td>A</td>\n",
       "      <td>49</td>\n",
       "    </tr>\n",
       "    <tr>\n",
       "      <th>3</th>\n",
       "      <td>A</td>\n",
       "      <td>57</td>\n",
       "    </tr>\n",
       "    <tr>\n",
       "      <th>4</th>\n",
       "      <td>A</td>\n",
       "      <td>82</td>\n",
       "    </tr>\n",
       "  </tbody>\n",
       "</table>\n",
       "</div>"
      ],
      "text/plain": [
       "  class  score\n",
       "0     A     84\n",
       "1     A     59\n",
       "2     A     49\n",
       "3     A     57\n",
       "4     A     82"
      ]
     },
     "execution_count": 1,
     "metadata": {},
     "output_type": "execute_result"
    }
   ],
   "source": [
    "import pandas as pd \n",
    "df = pd.read_csv('https://raw.githubusercontent.com/Datamanim/datarepo/main/scipy/scipy2.csv')\n",
    "df.head()"
   ]
  },
  {
   "cell_type": "code",
   "execution_count": 2,
   "id": "962c3a25-ecc5-4bd8-8ce7-e97bc06edb6c",
   "metadata": {
    "tags": []
   },
   "outputs": [],
   "source": [
    "from scipy.stats import bartlett, fligner, levene"
   ]
  },
  {
   "cell_type": "code",
   "execution_count": 6,
   "id": "694bb142-8ca1-407d-a37a-3919802c224f",
   "metadata": {
    "tags": []
   },
   "outputs": [],
   "source": [
    "a = df[df['class'] == 'A'].score\n",
    "b = df[df['class'] == 'B'].score"
   ]
  },
  {
   "cell_type": "code",
   "execution_count": 8,
   "id": "4c81f636-15cc-4a22-b204-8288dd8af6a0",
   "metadata": {
    "tags": []
   },
   "outputs": [
    {
     "data": {
      "text/plain": [
       "BartlettResult(statistic=0.26035880448930865, pvalue=0.609873758447687)"
      ]
     },
     "execution_count": 8,
     "metadata": {},
     "output_type": "execute_result"
    }
   ],
   "source": [
    "bartlett(a, b)"
   ]
  },
  {
   "cell_type": "code",
   "execution_count": 10,
   "id": "3fc3e0bc-10d1-4fe2-b93a-6c716261d6d4",
   "metadata": {
    "tags": []
   },
   "outputs": [
    {
     "name": "stdout",
     "output_type": "stream",
     "text": [
      "FlignerResult(statistic=0.7281251154135562, pvalue=0.39349158741002765)\n",
      "FlignerResult(statistic=0.8272211734319945, pvalue=0.36307728836821906)\n",
      "FlignerResult(statistic=0.5765988709657224, pvalue=0.44764855138840765)\n"
     ]
    }
   ],
   "source": [
    "print(fligner(a, b, center='median'))\n",
    "print(fligner(a, b, center='mean'))\n",
    "print(fligner(a, b, center='trimmed'))"
   ]
  },
  {
   "cell_type": "code",
   "execution_count": 11,
   "id": "005d568b-9488-44eb-a700-3c6b7e5ed4ec",
   "metadata": {
    "tags": []
   },
   "outputs": [
    {
     "name": "stdout",
     "output_type": "stream",
     "text": [
      "LeveneResult(statistic=0.3145466542912649, pvalue=0.5751662820554713)\n",
      "LeveneResult(statistic=0.5086970687685527, pvalue=0.4760514837800255)\n",
      "LeveneResult(statistic=0.5356944101984149, pvalue=0.46462130598391993)\n"
     ]
    }
   ],
   "source": [
    "print(levene(a, b, center='median'))\n",
    "print(levene(a, b, center='mean'))\n",
    "print(levene(a, b, center='trimmed'))"
   ]
  },
  {
   "cell_type": "code",
   "execution_count": 13,
   "id": "6415f99b-5c24-4f3b-9075-24c36b69236a",
   "metadata": {
    "tags": []
   },
   "outputs": [
    {
     "name": "stdout",
     "output_type": "stream",
     "text": [
      "<class 'pandas.core.frame.DataFrame'>\n",
      "RangeIndex: 480 entries, 0 to 479\n",
      "Data columns (total 2 columns):\n",
      " #   Column  Non-Null Count  Dtype \n",
      "---  ------  --------------  ----- \n",
      " 0   class   480 non-null    object\n",
      " 1   score   480 non-null    int64 \n",
      "dtypes: int64(1), object(1)\n",
      "memory usage: 7.6+ KB\n"
     ]
    }
   ],
   "source": [
    "df = pd.read_csv('https://raw.githubusercontent.com/Datamanim/datarepo/main/scipy/scipy3.csv')\n",
    "df.info()"
   ]
  },
  {
   "cell_type": "code",
   "execution_count": 15,
   "id": "96e68e40-91c7-4c59-8a63-fa292feb7c0d",
   "metadata": {
    "tags": []
   },
   "outputs": [
    {
     "data": {
      "text/plain": [
       "A    300\n",
       "B    180\n",
       "Name: class, dtype: int64"
      ]
     },
     "execution_count": 15,
     "metadata": {},
     "output_type": "execute_result"
    }
   ],
   "source": [
    "df['class'].value_counts()"
   ]
  },
  {
   "cell_type": "code",
   "execution_count": 16,
   "id": "9bb24261-7695-4f8b-8460-c83a908a5c9b",
   "metadata": {
    "tags": []
   },
   "outputs": [],
   "source": [
    "a = df[df['class'] == 'A'].score\n",
    "b = df[df['class'] == 'B'].score"
   ]
  },
  {
   "cell_type": "code",
   "execution_count": 17,
   "id": "5ec26547-fc65-4b7b-afef-f445be7d2be3",
   "metadata": {
    "tags": []
   },
   "outputs": [
    {
     "data": {
      "text/plain": [
       "BartlettResult(statistic=1.5116783794562305, pvalue=0.2188831590902503)"
      ]
     },
     "execution_count": 17,
     "metadata": {},
     "output_type": "execute_result"
    }
   ],
   "source": [
    "bartlett(a, b)"
   ]
  },
  {
   "cell_type": "code",
   "execution_count": 18,
   "id": "7c9a86cb-b7a8-4390-87e1-0ca61c65a910",
   "metadata": {
    "tags": []
   },
   "outputs": [
    {
     "name": "stdout",
     "output_type": "stream",
     "text": [
      "FlignerResult(statistic=4.960366756026232, pvalue=0.025934706256615564)\n",
      "FlignerResult(statistic=4.94724457924667, pvalue=0.026132286002684912)\n",
      "FlignerResult(statistic=7.148820970511378, pvalue=0.007501328431219364)\n"
     ]
    }
   ],
   "source": [
    "print(fligner(a, b, center='median'))\n",
    "print(fligner(a, b, center='mean'))\n",
    "print(fligner(a, b, center='trimmed'))"
   ]
  },
  {
   "cell_type": "code",
   "execution_count": 19,
   "id": "31553aa6-2f71-4e4e-bb7f-6a23e07a1ffa",
   "metadata": {
    "tags": []
   },
   "outputs": [
    {
     "name": "stdout",
     "output_type": "stream",
     "text": [
      "LeveneResult(statistic=4.307122424591436, pvalue=0.03848734007752694)\n",
      "LeveneResult(statistic=4.342327020297874, pvalue=0.0377066528874248)\n",
      "LeveneResult(statistic=5.392507314250512, pvalue=0.02068957640532121)\n"
     ]
    }
   ],
   "source": [
    "print(levene(a, b, center='median'))\n",
    "print(levene(a, b, center='mean'))\n",
    "print(levene(a, b, center='trimmed'))"
   ]
  },
  {
   "cell_type": "code",
   "execution_count": 21,
   "id": "6da2d4ab-a197-4232-b933-4e1dc9c67a1c",
   "metadata": {
    "tags": []
   },
   "outputs": [],
   "source": [
    "from scipy.stats import shapiro"
   ]
  },
  {
   "cell_type": "code",
   "execution_count": 22,
   "id": "ae74cb84-ee83-420c-8d87-020c2b12511f",
   "metadata": {
    "tags": []
   },
   "outputs": [
    {
     "data": {
      "text/plain": [
       "ShapiroResult(statistic=0.9444763660430908, pvalue=3.3300091573096324e-09)"
      ]
     },
     "execution_count": 22,
     "metadata": {},
     "output_type": "execute_result"
    }
   ],
   "source": [
    "shapiro(a)"
   ]
  },
  {
   "cell_type": "code",
   "execution_count": 23,
   "id": "4d9f12ca-8af2-4c3a-8952-fdc767a97594",
   "metadata": {
    "tags": []
   },
   "outputs": [
    {
     "data": {
      "text/plain": [
       "ShapiroResult(statistic=0.9614471197128296, pvalue=7.400245522148907e-05)"
      ]
     },
     "execution_count": 23,
     "metadata": {},
     "output_type": "execute_result"
    }
   ],
   "source": [
    "shapiro(b)"
   ]
  },
  {
   "cell_type": "code",
   "execution_count": 24,
   "id": "7d8f9b29-6700-41ad-ad69-7cbd6d467a2a",
   "metadata": {
    "tags": []
   },
   "outputs": [],
   "source": [
    "df = pd.read_csv('https://raw.githubusercontent.com/Datamanim/datarepo/main/scipy/scipy6.csv')"
   ]
  },
  {
   "cell_type": "code",
   "execution_count": 25,
   "id": "a3c8cee7-d806-4946-aca7-0c32e871eada",
   "metadata": {
    "tags": []
   },
   "outputs": [
    {
     "name": "stdout",
     "output_type": "stream",
     "text": [
      "<class 'pandas.core.frame.DataFrame'>\n",
      "RangeIndex: 180 entries, 0 to 179\n",
      "Data columns (total 2 columns):\n",
      " #   Column  Non-Null Count  Dtype\n",
      "---  ------  --------------  -----\n",
      " 0   A       180 non-null    int64\n",
      " 1   B       180 non-null    int64\n",
      "dtypes: int64(2)\n",
      "memory usage: 2.9 KB\n"
     ]
    }
   ],
   "source": [
    "df.info()"
   ]
  },
  {
   "cell_type": "code",
   "execution_count": 26,
   "id": "e6ad38fb-11c3-4c0c-b2bd-43b997bde70c",
   "metadata": {
    "tags": []
   },
   "outputs": [],
   "source": [
    "a = df['A']\n",
    "b = df['B']"
   ]
  },
  {
   "cell_type": "code",
   "execution_count": 27,
   "id": "ca9e4c0d-76f7-4278-a489-5ae83ede0907",
   "metadata": {
    "tags": []
   },
   "outputs": [
    {
     "data": {
      "text/plain": [
       "ShapiroResult(statistic=0.964852511882782, pvalue=0.00016999404761008918)"
      ]
     },
     "execution_count": 27,
     "metadata": {},
     "output_type": "execute_result"
    }
   ],
   "source": [
    "shapiro(a)"
   ]
  },
  {
   "cell_type": "code",
   "execution_count": 28,
   "id": "d9a85889-52d9-45e8-8801-68a2026ec60b",
   "metadata": {
    "tags": []
   },
   "outputs": [
    {
     "data": {
      "text/plain": [
       "ShapiroResult(statistic=0.9371628165245056, pvalue=4.4986816760683723e-07)"
      ]
     },
     "execution_count": 28,
     "metadata": {},
     "output_type": "execute_result"
    }
   ],
   "source": [
    "shapiro(b)"
   ]
  },
  {
   "cell_type": "code",
   "execution_count": 29,
   "id": "bb107bff-5da4-48a0-965f-2f967e9317e1",
   "metadata": {
    "tags": []
   },
   "outputs": [
    {
     "name": "stdout",
     "output_type": "stream",
     "text": [
      "FlignerResult(statistic=5.124831619122788, pvalue=0.023585858890699054)\n",
      "FlignerResult(statistic=6.08420814282746, pvalue=0.01363954875460099)\n",
      "FlignerResult(statistic=8.108920920697694, pvalue=0.004404793996466956)\n"
     ]
    }
   ],
   "source": [
    "print(fligner(a, b, center='median'))\n",
    "print(fligner(a, b, center='mean'))\n",
    "print(fligner(a, b, center='trimmed'))"
   ]
  },
  {
   "cell_type": "code",
   "execution_count": 30,
   "id": "ddcaaf1e-dd9c-4ac9-93de-ada800a2b946",
   "metadata": {
    "tags": []
   },
   "outputs": [
    {
     "name": "stdout",
     "output_type": "stream",
     "text": [
      "LeveneResult(statistic=5.147914610463281, pvalue=0.023868975493455683)\n",
      "LeveneResult(statistic=5.783103950473267, pvalue=0.016687980542371833)\n",
      "LeveneResult(statistic=7.519949776755859, pvalue=0.006443216457692544)\n"
     ]
    }
   ],
   "source": [
    "print(levene(a, b, center='median'))\n",
    "print(levene(a, b, center='mean'))\n",
    "print(levene(a, b, center='trimmed'))"
   ]
  },
  {
   "cell_type": "code",
   "execution_count": 31,
   "id": "d37b48d3-ad7d-4fba-a087-3deded522a07",
   "metadata": {
    "tags": []
   },
   "outputs": [],
   "source": [
    "df = pd.read_csv('https://raw.githubusercontent.com/Datamanim/datarepo/main/scipy/scipy5.csv')"
   ]
  },
  {
   "cell_type": "code",
   "execution_count": 32,
   "id": "ae487ade-616a-4e0f-b10c-0a04f86454bf",
   "metadata": {
    "tags": []
   },
   "outputs": [
    {
     "name": "stdout",
     "output_type": "stream",
     "text": [
      "<class 'pandas.core.frame.DataFrame'>\n",
      "RangeIndex: 300 entries, 0 to 299\n",
      "Data columns (total 2 columns):\n",
      " #   Column  Non-Null Count  Dtype  \n",
      "---  ------  --------------  -----  \n",
      " 0   A       300 non-null    int64  \n",
      " 1   B       180 non-null    float64\n",
      "dtypes: float64(1), int64(1)\n",
      "memory usage: 4.8 KB\n"
     ]
    }
   ],
   "source": [
    "df.info()"
   ]
  },
  {
   "cell_type": "code",
   "execution_count": 33,
   "id": "de0f9940-e6a2-481d-a550-f1ab81f94876",
   "metadata": {
    "tags": []
   },
   "outputs": [],
   "source": [
    "a = df['A']\n",
    "b = df['B']"
   ]
  },
  {
   "cell_type": "code",
   "execution_count": 34,
   "id": "00399988-7577-4cd5-9539-4873dd1d6f32",
   "metadata": {
    "tags": []
   },
   "outputs": [
    {
     "data": {
      "text/plain": [
       "ShapiroResult(statistic=0.93753981590271, pvalue=6.175894240456614e-10)"
      ]
     },
     "execution_count": 34,
     "metadata": {},
     "output_type": "execute_result"
    }
   ],
   "source": [
    "shapiro(a)"
   ]
  },
  {
   "cell_type": "code",
   "execution_count": 37,
   "id": "5da0f14a-c2fd-4520-af85-9a81e4784f16",
   "metadata": {
    "tags": []
   },
   "outputs": [],
   "source": [
    "b = b.dropna()"
   ]
  },
  {
   "cell_type": "code",
   "execution_count": 38,
   "id": "e8847d53-af45-49d2-a8b0-d4e543265dbb",
   "metadata": {
    "tags": []
   },
   "outputs": [
    {
     "data": {
      "text/plain": [
       "ShapiroResult(statistic=0.9639433026313782, pvalue=0.00013568344002123922)"
      ]
     },
     "execution_count": 38,
     "metadata": {},
     "output_type": "execute_result"
    }
   ],
   "source": [
    "shapiro(b)"
   ]
  },
  {
   "cell_type": "code",
   "execution_count": 39,
   "id": "67639e5f-7e05-4cf4-bf5b-2ba31d97e295",
   "metadata": {
    "tags": []
   },
   "outputs": [
    {
     "name": "stdout",
     "output_type": "stream",
     "text": [
      "BartlettResult(statistic=3.024072692680794, pvalue=0.08203720607748438)\n"
     ]
    }
   ],
   "source": [
    "print(bartlett(a, b))"
   ]
  },
  {
   "cell_type": "code",
   "execution_count": 40,
   "id": "1862cdc4-679d-4019-8240-1cd54ca6b932",
   "metadata": {
    "tags": []
   },
   "outputs": [
    {
     "name": "stdout",
     "output_type": "stream",
     "text": [
      "FlignerResult(statistic=7.710320541528441, pvalue=0.005490600130793619)\n",
      "FlignerResult(statistic=7.866701415553152, pvalue=0.005035342411464087)\n",
      "FlignerResult(statistic=13.697601480731837, pvalue=0.00021472855246209004)\n"
     ]
    }
   ],
   "source": [
    "print(fligner(a, b, center='median'))\n",
    "print(fligner(a, b, center='mean'))\n",
    "print(fligner(a, b, center='trimmed'))"
   ]
  },
  {
   "cell_type": "code",
   "execution_count": 41,
   "id": "c5248c93-8d49-4ce4-a461-c9327c41340c",
   "metadata": {
    "tags": []
   },
   "outputs": [
    {
     "name": "stdout",
     "output_type": "stream",
     "text": [
      "LeveneResult(statistic=8.008595918808284, pvalue=0.004851565077063284)\n",
      "LeveneResult(statistic=8.217541809462276, pvalue=0.004331841625789694)\n",
      "LeveneResult(statistic=10.328665050531884, pvalue=0.001408425344627647)\n"
     ]
    }
   ],
   "source": [
    "print(levene(a, b, center='median'))\n",
    "print(levene(a, b, center='mean'))\n",
    "print(levene(a, b, center='trimmed'))"
   ]
  },
  {
   "cell_type": "code",
   "execution_count": null,
   "id": "5c412b26-b123-42b6-b517-8b0c495b9baf",
   "metadata": {},
   "outputs": [],
   "source": []
  }
 ],
 "metadata": {
  "kernelspec": {
   "display_name": "Python 3",
   "language": "python",
   "name": "python3"
  },
  "language_info": {
   "codemirror_mode": {
    "name": "ipython",
    "version": 3
   },
   "file_extension": ".py",
   "mimetype": "text/x-python",
   "name": "python",
   "nbconvert_exporter": "python",
   "pygments_lexer": "ipython3",
   "version": "3.11.4"
  }
 },
 "nbformat": 4,
 "nbformat_minor": 5
}
