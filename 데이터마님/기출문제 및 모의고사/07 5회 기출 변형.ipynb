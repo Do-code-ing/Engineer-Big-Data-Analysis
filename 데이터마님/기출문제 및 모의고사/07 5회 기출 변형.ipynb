{
 "cells": [
  {
   "cell_type": "code",
   "execution_count": 1,
   "id": "634900cb-4916-432c-9a37-a729895ff3c3",
   "metadata": {
    "tags": []
   },
   "outputs": [
    {
     "data": {
      "text/html": [
       "<div>\n",
       "<style scoped>\n",
       "    .dataframe tbody tr th:only-of-type {\n",
       "        vertical-align: middle;\n",
       "    }\n",
       "\n",
       "    .dataframe tbody tr th {\n",
       "        vertical-align: top;\n",
       "    }\n",
       "\n",
       "    .dataframe thead th {\n",
       "        text-align: right;\n",
       "    }\n",
       "</style>\n",
       "<table border=\"1\" class=\"dataframe\">\n",
       "  <thead>\n",
       "    <tr style=\"text-align: right;\">\n",
       "      <th></th>\n",
       "      <th>시도명</th>\n",
       "      <th>시군구명</th>\n",
       "      <th>종량제봉투종류</th>\n",
       "      <th>종량제봉투처리방식</th>\n",
       "      <th>종량제봉투용도</th>\n",
       "      <th>종량제봉투사용대상</th>\n",
       "      <th>1L가격</th>\n",
       "      <th>1.5L가격</th>\n",
       "      <th>2L가격</th>\n",
       "      <th>2.5L가격</th>\n",
       "      <th>...</th>\n",
       "      <th>60L가격</th>\n",
       "      <th>75L가격</th>\n",
       "      <th>100L가격</th>\n",
       "      <th>120L가격</th>\n",
       "      <th>125L가격</th>\n",
       "      <th>관리부서명</th>\n",
       "      <th>관리부서전화번호</th>\n",
       "      <th>데이터기준일자</th>\n",
       "      <th>제공기관코드</th>\n",
       "      <th>제공기관명</th>\n",
       "    </tr>\n",
       "  </thead>\n",
       "  <tbody>\n",
       "    <tr>\n",
       "      <th>0</th>\n",
       "      <td>경기도</td>\n",
       "      <td>안양시</td>\n",
       "      <td>규격봉투</td>\n",
       "      <td>매립용</td>\n",
       "      <td>생활쓰레기</td>\n",
       "      <td>사업장용</td>\n",
       "      <td>0</td>\n",
       "      <td>0</td>\n",
       "      <td>0</td>\n",
       "      <td>0</td>\n",
       "      <td>...</td>\n",
       "      <td>0</td>\n",
       "      <td>2100</td>\n",
       "      <td>0</td>\n",
       "      <td>0</td>\n",
       "      <td>0</td>\n",
       "      <td>자원순환과</td>\n",
       "      <td>031-8045-5448</td>\n",
       "      <td>2022-08-12</td>\n",
       "      <td>3830000</td>\n",
       "      <td>경기도 안양시</td>\n",
       "    </tr>\n",
       "    <tr>\n",
       "      <th>1</th>\n",
       "      <td>경기도</td>\n",
       "      <td>안양시</td>\n",
       "      <td>규격봉투</td>\n",
       "      <td>매립용</td>\n",
       "      <td>생활쓰레기</td>\n",
       "      <td>기타</td>\n",
       "      <td>0</td>\n",
       "      <td>0</td>\n",
       "      <td>0</td>\n",
       "      <td>0</td>\n",
       "      <td>...</td>\n",
       "      <td>0</td>\n",
       "      <td>2100</td>\n",
       "      <td>0</td>\n",
       "      <td>0</td>\n",
       "      <td>0</td>\n",
       "      <td>자원순환과</td>\n",
       "      <td>031-8045-5448</td>\n",
       "      <td>2022-08-12</td>\n",
       "      <td>3830000</td>\n",
       "      <td>경기도 안양시</td>\n",
       "    </tr>\n",
       "    <tr>\n",
       "      <th>2</th>\n",
       "      <td>경기도</td>\n",
       "      <td>안양시</td>\n",
       "      <td>규격봉투</td>\n",
       "      <td>소각용</td>\n",
       "      <td>음식물쓰레기</td>\n",
       "      <td>가정용</td>\n",
       "      <td>0</td>\n",
       "      <td>50</td>\n",
       "      <td>0</td>\n",
       "      <td>80</td>\n",
       "      <td>...</td>\n",
       "      <td>0</td>\n",
       "      <td>0</td>\n",
       "      <td>0</td>\n",
       "      <td>0</td>\n",
       "      <td>0</td>\n",
       "      <td>자원순환과</td>\n",
       "      <td>031-8045-5448</td>\n",
       "      <td>2022-08-12</td>\n",
       "      <td>3830000</td>\n",
       "      <td>경기도 안양시</td>\n",
       "    </tr>\n",
       "    <tr>\n",
       "      <th>3</th>\n",
       "      <td>경기도</td>\n",
       "      <td>안양시</td>\n",
       "      <td>규격봉투</td>\n",
       "      <td>소각용</td>\n",
       "      <td>음식물쓰레기</td>\n",
       "      <td>사업장용</td>\n",
       "      <td>0</td>\n",
       "      <td>50</td>\n",
       "      <td>0</td>\n",
       "      <td>80</td>\n",
       "      <td>...</td>\n",
       "      <td>0</td>\n",
       "      <td>0</td>\n",
       "      <td>0</td>\n",
       "      <td>0</td>\n",
       "      <td>0</td>\n",
       "      <td>자원순환과</td>\n",
       "      <td>031-8045-5448</td>\n",
       "      <td>2022-08-12</td>\n",
       "      <td>3830000</td>\n",
       "      <td>경기도 안양시</td>\n",
       "    </tr>\n",
       "    <tr>\n",
       "      <th>4</th>\n",
       "      <td>경기도</td>\n",
       "      <td>안양시</td>\n",
       "      <td>규격봉투</td>\n",
       "      <td>소각용</td>\n",
       "      <td>음식물쓰레기</td>\n",
       "      <td>기타</td>\n",
       "      <td>0</td>\n",
       "      <td>50</td>\n",
       "      <td>0</td>\n",
       "      <td>80</td>\n",
       "      <td>...</td>\n",
       "      <td>0</td>\n",
       "      <td>0</td>\n",
       "      <td>0</td>\n",
       "      <td>0</td>\n",
       "      <td>0</td>\n",
       "      <td>자원순환과</td>\n",
       "      <td>031-8045-5448</td>\n",
       "      <td>2022-08-12</td>\n",
       "      <td>3830000</td>\n",
       "      <td>경기도 안양시</td>\n",
       "    </tr>\n",
       "  </tbody>\n",
       "</table>\n",
       "<p>5 rows × 26 columns</p>\n",
       "</div>"
      ],
      "text/plain": [
       "   시도명 시군구명 종량제봉투종류 종량제봉투처리방식 종량제봉투용도 종량제봉투사용대상  1L가격  1.5L가격  2L가격  2.5L가격  \\\n",
       "0  경기도  안양시    규격봉투       매립용   생활쓰레기      사업장용     0       0     0       0   \n",
       "1  경기도  안양시    규격봉투       매립용   생활쓰레기        기타     0       0     0       0   \n",
       "2  경기도  안양시    규격봉투       소각용  음식물쓰레기       가정용     0      50     0      80   \n",
       "3  경기도  안양시    규격봉투       소각용  음식물쓰레기      사업장용     0      50     0      80   \n",
       "4  경기도  안양시    규격봉투       소각용  음식물쓰레기        기타     0      50     0      80   \n",
       "\n",
       "   ...  60L가격  75L가격  100L가격  120L가격  125L가격  관리부서명       관리부서전화번호  \\\n",
       "0  ...      0   2100       0       0       0  자원순환과  031-8045-5448   \n",
       "1  ...      0   2100       0       0       0  자원순환과  031-8045-5448   \n",
       "2  ...      0      0       0       0       0  자원순환과  031-8045-5448   \n",
       "3  ...      0      0       0       0       0  자원순환과  031-8045-5448   \n",
       "4  ...      0      0       0       0       0  자원순환과  031-8045-5448   \n",
       "\n",
       "      데이터기준일자   제공기관코드    제공기관명  \n",
       "0  2022-08-12  3830000  경기도 안양시  \n",
       "1  2022-08-12  3830000  경기도 안양시  \n",
       "2  2022-08-12  3830000  경기도 안양시  \n",
       "3  2022-08-12  3830000  경기도 안양시  \n",
       "4  2022-08-12  3830000  경기도 안양시  \n",
       "\n",
       "[5 rows x 26 columns]"
      ]
     },
     "execution_count": 1,
     "metadata": {},
     "output_type": "execute_result"
    }
   ],
   "source": [
    "import pandas as pd\n",
    "df = pd.read_csv('https://raw.githubusercontent.com/Datamanim/datarepo/main/krdatacertificate/e5_p1_1_.csv')\n",
    "df.head(5)"
   ]
  },
  {
   "cell_type": "code",
   "execution_count": 2,
   "id": "358f14de-ce50-4b52-9c99-1eb5a535bd74",
   "metadata": {
    "tags": []
   },
   "outputs": [
    {
     "name": "stdout",
     "output_type": "stream",
     "text": [
      "<class 'pandas.core.frame.DataFrame'>\n",
      "RangeIndex: 762 entries, 0 to 761\n",
      "Data columns (total 26 columns):\n",
      " #   Column     Non-Null Count  Dtype \n",
      "---  ------     --------------  ----- \n",
      " 0   시도명        762 non-null    object\n",
      " 1   시군구명       762 non-null    object\n",
      " 2   종량제봉투종류    762 non-null    object\n",
      " 3   종량제봉투처리방식  762 non-null    object\n",
      " 4   종량제봉투용도    762 non-null    object\n",
      " 5   종량제봉투사용대상  762 non-null    object\n",
      " 6   1L가격       762 non-null    int64 \n",
      " 7   1.5L가격     762 non-null    int64 \n",
      " 8   2L가격       762 non-null    int64 \n",
      " 9   2.5L가격     762 non-null    int64 \n",
      " 10  3L가격       762 non-null    int64 \n",
      " 11  5L가격       762 non-null    int64 \n",
      " 12  10L가격      762 non-null    int64 \n",
      " 13  20L가격      762 non-null    int64 \n",
      " 14  30L가격      762 non-null    int64 \n",
      " 15  50L가격      762 non-null    int64 \n",
      " 16  60L가격      762 non-null    int64 \n",
      " 17  75L가격      762 non-null    int64 \n",
      " 18  100L가격     762 non-null    int64 \n",
      " 19  120L가격     762 non-null    int64 \n",
      " 20  125L가격     762 non-null    int64 \n",
      " 21  관리부서명      762 non-null    object\n",
      " 22  관리부서전화번호   762 non-null    object\n",
      " 23  데이터기준일자    762 non-null    object\n",
      " 24  제공기관코드     762 non-null    object\n",
      " 25  제공기관명      762 non-null    object\n",
      "dtypes: int64(15), object(11)\n",
      "memory usage: 154.9+ KB\n"
     ]
    }
   ],
   "source": [
    "df.info()"
   ]
  },
  {
   "cell_type": "code",
   "execution_count": 5,
   "id": "c6350b5d-8960-4954-a569-4b76dd081930",
   "metadata": {
    "tags": []
   },
   "outputs": [],
   "source": [
    "cond1 = df['20L가격'] != 0\n",
    "cond2 = df['5L가격'] != 0\n",
    "df2 = df[cond1 & cond2]"
   ]
  },
  {
   "cell_type": "code",
   "execution_count": 6,
   "id": "7c74e900-0870-4539-820f-9525f4e4929a",
   "metadata": {
    "tags": []
   },
   "outputs": [
    {
     "name": "stderr",
     "output_type": "stream",
     "text": [
      "C:\\Users\\pc\\AppData\\Local\\Temp\\ipykernel_10980\\2868356971.py:1: SettingWithCopyWarning: \n",
      "A value is trying to be set on a copy of a slice from a DataFrame.\n",
      "Try using .loc[row_indexer,col_indexer] = value instead\n",
      "\n",
      "See the caveats in the documentation: https://pandas.pydata.org/pandas-docs/stable/user_guide/indexing.html#returning-a-view-versus-a-copy\n",
      "  df2['차이가격'] = df2['20L가격'] - df2['5L가격']\n"
     ]
    }
   ],
   "source": [
    "df2['차이가격'] = df2['20L가격'] - df2['5L가격']"
   ]
  },
  {
   "cell_type": "code",
   "execution_count": 10,
   "id": "73c1134e-7a1d-4840-b12a-592d973e5ede",
   "metadata": {
    "tags": []
   },
   "outputs": [
    {
     "data": {
      "text/plain": [
       "619.0"
      ]
     },
     "execution_count": 10,
     "metadata": {},
     "output_type": "execute_result"
    }
   ],
   "source": [
    "round(df2.groupby('시도명')['차이가격'].mean().max(), 1)"
   ]
  },
  {
   "cell_type": "code",
   "execution_count": 11,
   "id": "d56238ac-988b-49bb-9cea-044d89cff2b9",
   "metadata": {
    "tags": []
   },
   "outputs": [
    {
     "data": {
      "text/html": [
       "<div>\n",
       "<style scoped>\n",
       "    .dataframe tbody tr th:only-of-type {\n",
       "        vertical-align: middle;\n",
       "    }\n",
       "\n",
       "    .dataframe tbody tr th {\n",
       "        vertical-align: top;\n",
       "    }\n",
       "\n",
       "    .dataframe thead th {\n",
       "        text-align: right;\n",
       "    }\n",
       "</style>\n",
       "<table border=\"1\" class=\"dataframe\">\n",
       "  <thead>\n",
       "    <tr style=\"text-align: right;\">\n",
       "      <th></th>\n",
       "      <th>ID</th>\n",
       "      <th>height(cm)</th>\n",
       "      <th>weight(kg)</th>\n",
       "    </tr>\n",
       "  </thead>\n",
       "  <tbody>\n",
       "    <tr>\n",
       "      <th>0</th>\n",
       "      <td>user_1</td>\n",
       "      <td>173.0</td>\n",
       "      <td>67.5</td>\n",
       "    </tr>\n",
       "    <tr>\n",
       "      <th>1</th>\n",
       "      <td>user_2</td>\n",
       "      <td>149.5</td>\n",
       "      <td>82.5</td>\n",
       "    </tr>\n",
       "    <tr>\n",
       "      <th>2</th>\n",
       "      <td>user_3</td>\n",
       "      <td>143.8</td>\n",
       "      <td>64.6</td>\n",
       "    </tr>\n",
       "    <tr>\n",
       "      <th>3</th>\n",
       "      <td>user_4</td>\n",
       "      <td>163.1</td>\n",
       "      <td>87.2</td>\n",
       "    </tr>\n",
       "    <tr>\n",
       "      <th>4</th>\n",
       "      <td>user_5</td>\n",
       "      <td>159.6</td>\n",
       "      <td>77.1</td>\n",
       "    </tr>\n",
       "  </tbody>\n",
       "</table>\n",
       "</div>"
      ],
      "text/plain": [
       "       ID  height(cm)  weight(kg)\n",
       "0  user_1       173.0        67.5\n",
       "1  user_2       149.5        82.5\n",
       "2  user_3       143.8        64.6\n",
       "3  user_4       163.1        87.2\n",
       "4  user_5       159.6        77.1"
      ]
     },
     "execution_count": 11,
     "metadata": {},
     "output_type": "execute_result"
    }
   ],
   "source": [
    "import pandas as pd\n",
    "df = pd.read_csv('https://raw.githubusercontent.com/Datamanim/datarepo/main/krdatacertificate/e5_p1_2_.csv')\n",
    "df.head(5)"
   ]
  },
  {
   "cell_type": "code",
   "execution_count": 12,
   "id": "0a429f17-f037-4d2b-8e2e-59db2884352c",
   "metadata": {
    "tags": []
   },
   "outputs": [
    {
     "name": "stdout",
     "output_type": "stream",
     "text": [
      "<class 'pandas.core.frame.DataFrame'>\n",
      "RangeIndex: 10000 entries, 0 to 9999\n",
      "Data columns (total 3 columns):\n",
      " #   Column      Non-Null Count  Dtype  \n",
      "---  ------      --------------  -----  \n",
      " 0   ID          10000 non-null  object \n",
      " 1   height(cm)  10000 non-null  float64\n",
      " 2   weight(kg)  10000 non-null  float64\n",
      "dtypes: float64(2), object(1)\n",
      "memory usage: 234.5+ KB\n"
     ]
    }
   ],
   "source": [
    "df.info()"
   ]
  },
  {
   "cell_type": "code",
   "execution_count": 13,
   "id": "7151fb0d-726c-4b03-a93f-faacb976f950",
   "metadata": {
    "tags": []
   },
   "outputs": [],
   "source": [
    "df['bmi'] = df['weight(kg)'] / df['height(cm)']**2"
   ]
  },
  {
   "cell_type": "code",
   "execution_count": 17,
   "id": "662f338e-2f06-490b-83ba-f3dee7721dbd",
   "metadata": {
    "tags": []
   },
   "outputs": [],
   "source": [
    "df['bmi2'] = df['bmi'] * 10000"
   ]
  },
  {
   "cell_type": "code",
   "execution_count": 18,
   "id": "cdfd3bd1-f480-4566-af64-0d26b6f2c5a9",
   "metadata": {
    "tags": []
   },
   "outputs": [
    {
     "data": {
      "text/html": [
       "<div>\n",
       "<style scoped>\n",
       "    .dataframe tbody tr th:only-of-type {\n",
       "        vertical-align: middle;\n",
       "    }\n",
       "\n",
       "    .dataframe tbody tr th {\n",
       "        vertical-align: top;\n",
       "    }\n",
       "\n",
       "    .dataframe thead th {\n",
       "        text-align: right;\n",
       "    }\n",
       "</style>\n",
       "<table border=\"1\" class=\"dataframe\">\n",
       "  <thead>\n",
       "    <tr style=\"text-align: right;\">\n",
       "      <th></th>\n",
       "      <th>ID</th>\n",
       "      <th>height(cm)</th>\n",
       "      <th>weight(kg)</th>\n",
       "      <th>bmi</th>\n",
       "      <th>bmi2</th>\n",
       "    </tr>\n",
       "  </thead>\n",
       "  <tbody>\n",
       "    <tr>\n",
       "      <th>0</th>\n",
       "      <td>user_1</td>\n",
       "      <td>173.0</td>\n",
       "      <td>67.5</td>\n",
       "      <td>0.002255</td>\n",
       "      <td>22.553376</td>\n",
       "    </tr>\n",
       "    <tr>\n",
       "      <th>1</th>\n",
       "      <td>user_2</td>\n",
       "      <td>149.5</td>\n",
       "      <td>82.5</td>\n",
       "      <td>0.003691</td>\n",
       "      <td>36.912339</td>\n",
       "    </tr>\n",
       "    <tr>\n",
       "      <th>2</th>\n",
       "      <td>user_3</td>\n",
       "      <td>143.8</td>\n",
       "      <td>64.6</td>\n",
       "      <td>0.003124</td>\n",
       "      <td>31.240268</td>\n",
       "    </tr>\n",
       "    <tr>\n",
       "      <th>3</th>\n",
       "      <td>user_4</td>\n",
       "      <td>163.1</td>\n",
       "      <td>87.2</td>\n",
       "      <td>0.003278</td>\n",
       "      <td>32.779971</td>\n",
       "    </tr>\n",
       "    <tr>\n",
       "      <th>4</th>\n",
       "      <td>user_5</td>\n",
       "      <td>159.6</td>\n",
       "      <td>77.1</td>\n",
       "      <td>0.003027</td>\n",
       "      <td>30.268340</td>\n",
       "    </tr>\n",
       "    <tr>\n",
       "      <th>...</th>\n",
       "      <td>...</td>\n",
       "      <td>...</td>\n",
       "      <td>...</td>\n",
       "      <td>...</td>\n",
       "      <td>...</td>\n",
       "    </tr>\n",
       "    <tr>\n",
       "      <th>9995</th>\n",
       "      <td>user_9996</td>\n",
       "      <td>144.0</td>\n",
       "      <td>74.4</td>\n",
       "      <td>0.003588</td>\n",
       "      <td>35.879630</td>\n",
       "    </tr>\n",
       "    <tr>\n",
       "      <th>9996</th>\n",
       "      <td>user_9997</td>\n",
       "      <td>161.1</td>\n",
       "      <td>84.1</td>\n",
       "      <td>0.003240</td>\n",
       "      <td>32.404469</td>\n",
       "    </tr>\n",
       "    <tr>\n",
       "      <th>9997</th>\n",
       "      <td>user_9998</td>\n",
       "      <td>137.1</td>\n",
       "      <td>68.9</td>\n",
       "      <td>0.003666</td>\n",
       "      <td>36.655936</td>\n",
       "    </tr>\n",
       "    <tr>\n",
       "      <th>9998</th>\n",
       "      <td>user_9999</td>\n",
       "      <td>187.5</td>\n",
       "      <td>89.2</td>\n",
       "      <td>0.002537</td>\n",
       "      <td>25.372444</td>\n",
       "    </tr>\n",
       "    <tr>\n",
       "      <th>9999</th>\n",
       "      <td>user_10000</td>\n",
       "      <td>172.3</td>\n",
       "      <td>77.5</td>\n",
       "      <td>0.002611</td>\n",
       "      <td>26.105448</td>\n",
       "    </tr>\n",
       "  </tbody>\n",
       "</table>\n",
       "<p>10000 rows × 5 columns</p>\n",
       "</div>"
      ],
      "text/plain": [
       "              ID  height(cm)  weight(kg)       bmi       bmi2\n",
       "0         user_1       173.0        67.5  0.002255  22.553376\n",
       "1         user_2       149.5        82.5  0.003691  36.912339\n",
       "2         user_3       143.8        64.6  0.003124  31.240268\n",
       "3         user_4       163.1        87.2  0.003278  32.779971\n",
       "4         user_5       159.6        77.1  0.003027  30.268340\n",
       "...          ...         ...         ...       ...        ...\n",
       "9995   user_9996       144.0        74.4  0.003588  35.879630\n",
       "9996   user_9997       161.1        84.1  0.003240  32.404469\n",
       "9997   user_9998       137.1        68.9  0.003666  36.655936\n",
       "9998   user_9999       187.5        89.2  0.002537  25.372444\n",
       "9999  user_10000       172.3        77.5  0.002611  26.105448\n",
       "\n",
       "[10000 rows x 5 columns]"
      ]
     },
     "execution_count": 18,
     "metadata": {},
     "output_type": "execute_result"
    }
   ],
   "source": [
    "df"
   ]
  },
  {
   "cell_type": "code",
   "execution_count": 19,
   "id": "db48e233-b7d3-41d6-b4b6-c96bb0912590",
   "metadata": {
    "tags": []
   },
   "outputs": [],
   "source": [
    "저체중 = df[df['bmi2'] < 18.5]\n",
    "초고도비만 = df[df['bmi2'] >= 25]"
   ]
  },
  {
   "cell_type": "code",
   "execution_count": 20,
   "id": "833e8fdf-aa0e-414e-b3b0-c5ac38747b0b",
   "metadata": {
    "tags": []
   },
   "outputs": [
    {
     "data": {
      "text/plain": [
       "8998"
      ]
     },
     "execution_count": 20,
     "metadata": {},
     "output_type": "execute_result"
    }
   ],
   "source": [
    "len(저체중) + len(초고도비만)"
   ]
  },
  {
   "cell_type": "code",
   "execution_count": 21,
   "id": "372238cf-e90f-4de5-9a15-c66917e4653e",
   "metadata": {
    "tags": []
   },
   "outputs": [
    {
     "data": {
      "text/html": [
       "<div>\n",
       "<style scoped>\n",
       "    .dataframe tbody tr th:only-of-type {\n",
       "        vertical-align: middle;\n",
       "    }\n",
       "\n",
       "    .dataframe tbody tr th {\n",
       "        vertical-align: top;\n",
       "    }\n",
       "\n",
       "    .dataframe thead th {\n",
       "        text-align: right;\n",
       "    }\n",
       "</style>\n",
       "<table border=\"1\" class=\"dataframe\">\n",
       "  <thead>\n",
       "    <tr style=\"text-align: right;\">\n",
       "      <th></th>\n",
       "      <th>지역</th>\n",
       "      <th>초등학교_전출_도내</th>\n",
       "      <th>초등학교_전출_도외</th>\n",
       "      <th>초등학교_전입_도내</th>\n",
       "      <th>초등학교_전입_도외</th>\n",
       "      <th>중학교_전출_도내</th>\n",
       "      <th>중학교_전출_도외</th>\n",
       "      <th>중학교_전입_도내</th>\n",
       "      <th>중학교_전입_도외</th>\n",
       "      <th>고등학교_전출_도내</th>\n",
       "      <th>고등학교_전출_도외</th>\n",
       "      <th>고등학교_전입_도내</th>\n",
       "      <th>고등학교_전입_도외</th>\n",
       "      <th>년도</th>\n",
       "    </tr>\n",
       "  </thead>\n",
       "  <tbody>\n",
       "    <tr>\n",
       "      <th>0</th>\n",
       "      <td>종로구</td>\n",
       "      <td>221</td>\n",
       "      <td>132</td>\n",
       "      <td>255</td>\n",
       "      <td>126</td>\n",
       "      <td>63</td>\n",
       "      <td>71</td>\n",
       "      <td>104</td>\n",
       "      <td>73</td>\n",
       "      <td>203</td>\n",
       "      <td>72</td>\n",
       "      <td>166</td>\n",
       "      <td>75</td>\n",
       "      <td>2012</td>\n",
       "    </tr>\n",
       "    <tr>\n",
       "      <th>1</th>\n",
       "      <td>중구</td>\n",
       "      <td>295</td>\n",
       "      <td>139</td>\n",
       "      <td>203</td>\n",
       "      <td>100</td>\n",
       "      <td>66</td>\n",
       "      <td>43</td>\n",
       "      <td>58</td>\n",
       "      <td>44</td>\n",
       "      <td>156</td>\n",
       "      <td>37</td>\n",
       "      <td>104</td>\n",
       "      <td>39</td>\n",
       "      <td>2012</td>\n",
       "    </tr>\n",
       "    <tr>\n",
       "      <th>2</th>\n",
       "      <td>용산구</td>\n",
       "      <td>380</td>\n",
       "      <td>269</td>\n",
       "      <td>302</td>\n",
       "      <td>174</td>\n",
       "      <td>134</td>\n",
       "      <td>78</td>\n",
       "      <td>91</td>\n",
       "      <td>106</td>\n",
       "      <td>102</td>\n",
       "      <td>66</td>\n",
       "      <td>113</td>\n",
       "      <td>48</td>\n",
       "      <td>2012</td>\n",
       "    </tr>\n",
       "    <tr>\n",
       "      <th>3</th>\n",
       "      <td>성동구</td>\n",
       "      <td>643</td>\n",
       "      <td>344</td>\n",
       "      <td>376</td>\n",
       "      <td>221</td>\n",
       "      <td>154</td>\n",
       "      <td>103</td>\n",
       "      <td>98</td>\n",
       "      <td>82</td>\n",
       "      <td>179</td>\n",
       "      <td>37</td>\n",
       "      <td>153</td>\n",
       "      <td>41</td>\n",
       "      <td>2012</td>\n",
       "    </tr>\n",
       "    <tr>\n",
       "      <th>4</th>\n",
       "      <td>광진구</td>\n",
       "      <td>560</td>\n",
       "      <td>382</td>\n",
       "      <td>595</td>\n",
       "      <td>312</td>\n",
       "      <td>165</td>\n",
       "      <td>158</td>\n",
       "      <td>158</td>\n",
       "      <td>118</td>\n",
       "      <td>115</td>\n",
       "      <td>70</td>\n",
       "      <td>154</td>\n",
       "      <td>66</td>\n",
       "      <td>2012</td>\n",
       "    </tr>\n",
       "  </tbody>\n",
       "</table>\n",
       "</div>"
      ],
      "text/plain": [
       "    지역  초등학교_전출_도내  초등학교_전출_도외  초등학교_전입_도내  초등학교_전입_도외  중학교_전출_도내  중학교_전출_도외  \\\n",
       "0  종로구         221         132         255         126         63         71   \n",
       "1   중구         295         139         203         100         66         43   \n",
       "2  용산구         380         269         302         174        134         78   \n",
       "3  성동구         643         344         376         221        154        103   \n",
       "4  광진구         560         382         595         312        165        158   \n",
       "\n",
       "   중학교_전입_도내  중학교_전입_도외  고등학교_전출_도내  고등학교_전출_도외  고등학교_전입_도내  고등학교_전입_도외    년도  \n",
       "0        104         73         203          72         166          75  2012  \n",
       "1         58         44         156          37         104          39  2012  \n",
       "2         91        106         102          66         113          48  2012  \n",
       "3         98         82         179          37         153          41  2012  \n",
       "4        158        118         115          70         154          66  2012  "
      ]
     },
     "execution_count": 21,
     "metadata": {},
     "output_type": "execute_result"
    }
   ],
   "source": [
    "import pandas as pd\n",
    "df = pd.read_csv('https://raw.githubusercontent.com/Datamanim/datarepo/main/krdatacertificate/e5_p1_3.csv')\n",
    "df.head(5)"
   ]
  },
  {
   "cell_type": "code",
   "execution_count": 22,
   "id": "c9ab1d8d-fa2b-4d41-ae3e-549b7fc94399",
   "metadata": {
    "tags": []
   },
   "outputs": [
    {
     "name": "stdout",
     "output_type": "stream",
     "text": [
      "<class 'pandas.core.frame.DataFrame'>\n",
      "RangeIndex: 250 entries, 0 to 249\n",
      "Data columns (total 14 columns):\n",
      " #   Column      Non-Null Count  Dtype \n",
      "---  ------      --------------  ----- \n",
      " 0   지역          250 non-null    object\n",
      " 1   초등학교_전출_도내  250 non-null    int64 \n",
      " 2   초등학교_전출_도외  250 non-null    int64 \n",
      " 3   초등학교_전입_도내  250 non-null    int64 \n",
      " 4   초등학교_전입_도외  250 non-null    int64 \n",
      " 5   중학교_전출_도내   250 non-null    int64 \n",
      " 6   중학교_전출_도외   250 non-null    int64 \n",
      " 7   중학교_전입_도내   250 non-null    int64 \n",
      " 8   중학교_전입_도외   250 non-null    int64 \n",
      " 9   고등학교_전출_도내  250 non-null    int64 \n",
      " 10  고등학교_전출_도외  250 non-null    int64 \n",
      " 11  고등학교_전입_도내  250 non-null    int64 \n",
      " 12  고등학교_전입_도외  250 non-null    int64 \n",
      " 13  년도          250 non-null    int64 \n",
      "dtypes: int64(13), object(1)\n",
      "memory usage: 27.5+ KB\n"
     ]
    }
   ],
   "source": [
    "df.info()"
   ]
  },
  {
   "cell_type": "code",
   "execution_count": null,
   "id": "2bd82bd4-f485-437b-8a80-2c49f8408e1c",
   "metadata": {},
   "outputs": [],
   "source": [
    "# 순유입인원 = 초중고 도내도외 전입인원 - 초중고 도내도외 전출인원"
   ]
  },
  {
   "cell_type": "code",
   "execution_count": 25,
   "id": "ca34666f-6c1a-4e01-8735-ad3b0e8b2a62",
   "metadata": {
    "tags": []
   },
   "outputs": [],
   "source": [
    "전입 = df.groupby('지역')[['초등학교_전입_도내', '초등학교_전입_도외', '중학교_전입_도내', '중학교_전입_도외', '고등학교_전입_도내', '고등학교_전입_도외']].sum()"
   ]
  },
  {
   "cell_type": "code",
   "execution_count": 28,
   "id": "88895488-5aa1-49e2-b08f-57d7efe75a02",
   "metadata": {
    "tags": []
   },
   "outputs": [],
   "source": [
    "전입['total'] = 전입['초등학교_전입_도내'] + 전입['초등학교_전입_도외'] + 전입['중학교_전입_도내'] + 전입['중학교_전입_도외'] + 전입['고등학교_전입_도내'] + 전입['고등학교_전입_도외']"
   ]
  },
  {
   "cell_type": "code",
   "execution_count": 30,
   "id": "b8f332fd-02dd-4924-922f-8bec6d48fc4d",
   "metadata": {
    "tags": []
   },
   "outputs": [],
   "source": [
    "전출 = df.groupby('지역')[['초등학교_전출_도내', '초등학교_전출_도외', '중학교_전출_도내', '중학교_전출_도외', '고등학교_전출_도내', '고등학교_전출_도외']].sum()"
   ]
  },
  {
   "cell_type": "code",
   "execution_count": 31,
   "id": "c138d77b-30f2-4d5a-8247-0949c0e544a1",
   "metadata": {
    "tags": []
   },
   "outputs": [],
   "source": [
    "전출['total'] = 전출['초등학교_전출_도내'] + 전출['초등학교_전출_도외'] + 전출['중학교_전출_도내'] + 전출['중학교_전출_도외'] + 전출['고등학교_전출_도내'] + 전출['고등학교_전출_도외']"
   ]
  },
  {
   "cell_type": "code",
   "execution_count": 32,
   "id": "473a6d70-2b8c-4954-8af6-69da991bbcbd",
   "metadata": {
    "tags": []
   },
   "outputs": [],
   "source": [
    "ndf = 전입['total'] - 전출['total']"
   ]
  },
  {
   "cell_type": "code",
   "execution_count": 33,
   "id": "b72f9db8-b87d-457a-8955-ec59ebf1e02f",
   "metadata": {
    "tags": []
   },
   "outputs": [
    {
     "data": {
      "text/plain": [
       "지역\n",
       "강남구     13831\n",
       "강동구      2096\n",
       "강북구     -1789\n",
       "강서구     -4807\n",
       "관악구     -6556\n",
       "광진구     -1413\n",
       "구로구     -6866\n",
       "금천구     -3065\n",
       "노원구      -719\n",
       "도봉구     -3618\n",
       "동대문구    -3323\n",
       "동작구     -3686\n",
       "마포구     -3029\n",
       "서대문구       30\n",
       "서초구      4040\n",
       "성동구     -4717\n",
       "성북구     -4590\n",
       "송파구       232\n",
       "양천구      5835\n",
       "영등포구    -5106\n",
       "용산구     -2272\n",
       "은평구     -3668\n",
       "종로구      -430\n",
       "중구      -1972\n",
       "중랑구     -4158\n",
       "Name: total, dtype: int64"
      ]
     },
     "execution_count": 33,
     "metadata": {},
     "output_type": "execute_result"
    }
   ],
   "source": [
    "ndf"
   ]
  },
  {
   "cell_type": "code",
   "execution_count": null,
   "id": "cc40be09-3c05-460c-bc4e-cf6838a14b31",
   "metadata": {},
   "outputs": [],
   "source": [
    "순유입인원은 초중고 도내,도외 전입인원에서 초중고 도내, 도외 전출인원을 뺀값이다.\n",
    "각년도별로 가장 큰 순유입인원을 가진 지역구의 순유입인원을 구하고\n",
    "전체 기간의 해당 순유입인원들의 합을 구하여라"
   ]
  },
  {
   "cell_type": "code",
   "execution_count": 34,
   "id": "579b5f0c-a996-45cb-9d31-c2f6d0619516",
   "metadata": {
    "tags": []
   },
   "outputs": [
    {
     "data": {
      "text/html": [
       "<div>\n",
       "<style scoped>\n",
       "    .dataframe tbody tr th:only-of-type {\n",
       "        vertical-align: middle;\n",
       "    }\n",
       "\n",
       "    .dataframe tbody tr th {\n",
       "        vertical-align: top;\n",
       "    }\n",
       "\n",
       "    .dataframe thead th {\n",
       "        text-align: right;\n",
       "    }\n",
       "</style>\n",
       "<table border=\"1\" class=\"dataframe\">\n",
       "  <thead>\n",
       "    <tr style=\"text-align: right;\">\n",
       "      <th></th>\n",
       "      <th>지역</th>\n",
       "      <th>초등학교_전출_도내</th>\n",
       "      <th>초등학교_전출_도외</th>\n",
       "      <th>초등학교_전입_도내</th>\n",
       "      <th>초등학교_전입_도외</th>\n",
       "      <th>중학교_전출_도내</th>\n",
       "      <th>중학교_전출_도외</th>\n",
       "      <th>중학교_전입_도내</th>\n",
       "      <th>중학교_전입_도외</th>\n",
       "      <th>고등학교_전출_도내</th>\n",
       "      <th>고등학교_전출_도외</th>\n",
       "      <th>고등학교_전입_도내</th>\n",
       "      <th>고등학교_전입_도외</th>\n",
       "      <th>년도</th>\n",
       "    </tr>\n",
       "  </thead>\n",
       "  <tbody>\n",
       "    <tr>\n",
       "      <th>0</th>\n",
       "      <td>종로구</td>\n",
       "      <td>221</td>\n",
       "      <td>132</td>\n",
       "      <td>255</td>\n",
       "      <td>126</td>\n",
       "      <td>63</td>\n",
       "      <td>71</td>\n",
       "      <td>104</td>\n",
       "      <td>73</td>\n",
       "      <td>203</td>\n",
       "      <td>72</td>\n",
       "      <td>166</td>\n",
       "      <td>75</td>\n",
       "      <td>2012</td>\n",
       "    </tr>\n",
       "    <tr>\n",
       "      <th>1</th>\n",
       "      <td>중구</td>\n",
       "      <td>295</td>\n",
       "      <td>139</td>\n",
       "      <td>203</td>\n",
       "      <td>100</td>\n",
       "      <td>66</td>\n",
       "      <td>43</td>\n",
       "      <td>58</td>\n",
       "      <td>44</td>\n",
       "      <td>156</td>\n",
       "      <td>37</td>\n",
       "      <td>104</td>\n",
       "      <td>39</td>\n",
       "      <td>2012</td>\n",
       "    </tr>\n",
       "    <tr>\n",
       "      <th>2</th>\n",
       "      <td>용산구</td>\n",
       "      <td>380</td>\n",
       "      <td>269</td>\n",
       "      <td>302</td>\n",
       "      <td>174</td>\n",
       "      <td>134</td>\n",
       "      <td>78</td>\n",
       "      <td>91</td>\n",
       "      <td>106</td>\n",
       "      <td>102</td>\n",
       "      <td>66</td>\n",
       "      <td>113</td>\n",
       "      <td>48</td>\n",
       "      <td>2012</td>\n",
       "    </tr>\n",
       "    <tr>\n",
       "      <th>3</th>\n",
       "      <td>성동구</td>\n",
       "      <td>643</td>\n",
       "      <td>344</td>\n",
       "      <td>376</td>\n",
       "      <td>221</td>\n",
       "      <td>154</td>\n",
       "      <td>103</td>\n",
       "      <td>98</td>\n",
       "      <td>82</td>\n",
       "      <td>179</td>\n",
       "      <td>37</td>\n",
       "      <td>153</td>\n",
       "      <td>41</td>\n",
       "      <td>2012</td>\n",
       "    </tr>\n",
       "    <tr>\n",
       "      <th>4</th>\n",
       "      <td>광진구</td>\n",
       "      <td>560</td>\n",
       "      <td>382</td>\n",
       "      <td>595</td>\n",
       "      <td>312</td>\n",
       "      <td>165</td>\n",
       "      <td>158</td>\n",
       "      <td>158</td>\n",
       "      <td>118</td>\n",
       "      <td>115</td>\n",
       "      <td>70</td>\n",
       "      <td>154</td>\n",
       "      <td>66</td>\n",
       "      <td>2012</td>\n",
       "    </tr>\n",
       "    <tr>\n",
       "      <th>...</th>\n",
       "      <td>...</td>\n",
       "      <td>...</td>\n",
       "      <td>...</td>\n",
       "      <td>...</td>\n",
       "      <td>...</td>\n",
       "      <td>...</td>\n",
       "      <td>...</td>\n",
       "      <td>...</td>\n",
       "      <td>...</td>\n",
       "      <td>...</td>\n",
       "      <td>...</td>\n",
       "      <td>...</td>\n",
       "      <td>...</td>\n",
       "      <td>...</td>\n",
       "    </tr>\n",
       "    <tr>\n",
       "      <th>245</th>\n",
       "      <td>관악구</td>\n",
       "      <td>536</td>\n",
       "      <td>501</td>\n",
       "      <td>254</td>\n",
       "      <td>178</td>\n",
       "      <td>86</td>\n",
       "      <td>111</td>\n",
       "      <td>43</td>\n",
       "      <td>61</td>\n",
       "      <td>107</td>\n",
       "      <td>55</td>\n",
       "      <td>108</td>\n",
       "      <td>45</td>\n",
       "      <td>2021</td>\n",
       "    </tr>\n",
       "    <tr>\n",
       "      <th>246</th>\n",
       "      <td>서초구</td>\n",
       "      <td>1069</td>\n",
       "      <td>576</td>\n",
       "      <td>1323</td>\n",
       "      <td>363</td>\n",
       "      <td>141</td>\n",
       "      <td>135</td>\n",
       "      <td>172</td>\n",
       "      <td>118</td>\n",
       "      <td>154</td>\n",
       "      <td>71</td>\n",
       "      <td>148</td>\n",
       "      <td>62</td>\n",
       "      <td>2021</td>\n",
       "    </tr>\n",
       "    <tr>\n",
       "      <th>247</th>\n",
       "      <td>강남구</td>\n",
       "      <td>892</td>\n",
       "      <td>497</td>\n",
       "      <td>1828</td>\n",
       "      <td>797</td>\n",
       "      <td>130</td>\n",
       "      <td>239</td>\n",
       "      <td>268</td>\n",
       "      <td>255</td>\n",
       "      <td>261</td>\n",
       "      <td>108</td>\n",
       "      <td>273</td>\n",
       "      <td>101</td>\n",
       "      <td>2021</td>\n",
       "    </tr>\n",
       "    <tr>\n",
       "      <th>248</th>\n",
       "      <td>송파구</td>\n",
       "      <td>1228</td>\n",
       "      <td>975</td>\n",
       "      <td>1297</td>\n",
       "      <td>702</td>\n",
       "      <td>254</td>\n",
       "      <td>256</td>\n",
       "      <td>282</td>\n",
       "      <td>255</td>\n",
       "      <td>180</td>\n",
       "      <td>93</td>\n",
       "      <td>224</td>\n",
       "      <td>91</td>\n",
       "      <td>2021</td>\n",
       "    </tr>\n",
       "    <tr>\n",
       "      <th>249</th>\n",
       "      <td>강동구</td>\n",
       "      <td>940</td>\n",
       "      <td>615</td>\n",
       "      <td>1365</td>\n",
       "      <td>577</td>\n",
       "      <td>137</td>\n",
       "      <td>143</td>\n",
       "      <td>228</td>\n",
       "      <td>143</td>\n",
       "      <td>148</td>\n",
       "      <td>55</td>\n",
       "      <td>176</td>\n",
       "      <td>50</td>\n",
       "      <td>2021</td>\n",
       "    </tr>\n",
       "  </tbody>\n",
       "</table>\n",
       "<p>250 rows × 14 columns</p>\n",
       "</div>"
      ],
      "text/plain": [
       "      지역  초등학교_전출_도내  초등학교_전출_도외  초등학교_전입_도내  초등학교_전입_도외  중학교_전출_도내  \\\n",
       "0    종로구         221         132         255         126         63   \n",
       "1     중구         295         139         203         100         66   \n",
       "2    용산구         380         269         302         174        134   \n",
       "3    성동구         643         344         376         221        154   \n",
       "4    광진구         560         382         595         312        165   \n",
       "..   ...         ...         ...         ...         ...        ...   \n",
       "245  관악구         536         501         254         178         86   \n",
       "246  서초구        1069         576        1323         363        141   \n",
       "247  강남구         892         497        1828         797        130   \n",
       "248  송파구        1228         975        1297         702        254   \n",
       "249  강동구         940         615        1365         577        137   \n",
       "\n",
       "     중학교_전출_도외  중학교_전입_도내  중학교_전입_도외  고등학교_전출_도내  고등학교_전출_도외  고등학교_전입_도내  \\\n",
       "0           71        104         73         203          72         166   \n",
       "1           43         58         44         156          37         104   \n",
       "2           78         91        106         102          66         113   \n",
       "3          103         98         82         179          37         153   \n",
       "4          158        158        118         115          70         154   \n",
       "..         ...        ...        ...         ...         ...         ...   \n",
       "245        111         43         61         107          55         108   \n",
       "246        135        172        118         154          71         148   \n",
       "247        239        268        255         261         108         273   \n",
       "248        256        282        255         180          93         224   \n",
       "249        143        228        143         148          55         176   \n",
       "\n",
       "     고등학교_전입_도외    년도  \n",
       "0            75  2012  \n",
       "1            39  2012  \n",
       "2            48  2012  \n",
       "3            41  2012  \n",
       "4            66  2012  \n",
       "..          ...   ...  \n",
       "245          45  2021  \n",
       "246          62  2021  \n",
       "247         101  2021  \n",
       "248          91  2021  \n",
       "249          50  2021  \n",
       "\n",
       "[250 rows x 14 columns]"
      ]
     },
     "execution_count": 34,
     "metadata": {},
     "output_type": "execute_result"
    }
   ],
   "source": [
    "df"
   ]
  },
  {
   "cell_type": "code",
   "execution_count": 53,
   "id": "262bdbcc-c10e-4193-858e-9f86e53071c3",
   "metadata": {
    "tags": []
   },
   "outputs": [],
   "source": [
    "전입 = df.groupby(['년도', '지역'])[['초등학교_전입_도내', '초등학교_전입_도외', '중학교_전입_도내', '중학교_전입_도외', '고등학교_전입_도내', '고등학교_전입_도외']].sum()"
   ]
  },
  {
   "cell_type": "code",
   "execution_count": 54,
   "id": "bb107cf5-c80a-48c9-a1c9-02b8a902c4d7",
   "metadata": {
    "tags": []
   },
   "outputs": [
    {
     "data": {
      "text/html": [
       "<div>\n",
       "<style scoped>\n",
       "    .dataframe tbody tr th:only-of-type {\n",
       "        vertical-align: middle;\n",
       "    }\n",
       "\n",
       "    .dataframe tbody tr th {\n",
       "        vertical-align: top;\n",
       "    }\n",
       "\n",
       "    .dataframe thead th {\n",
       "        text-align: right;\n",
       "    }\n",
       "</style>\n",
       "<table border=\"1\" class=\"dataframe\">\n",
       "  <thead>\n",
       "    <tr style=\"text-align: right;\">\n",
       "      <th></th>\n",
       "      <th></th>\n",
       "      <th>초등학교_전입_도내</th>\n",
       "      <th>초등학교_전입_도외</th>\n",
       "      <th>중학교_전입_도내</th>\n",
       "      <th>중학교_전입_도외</th>\n",
       "      <th>고등학교_전입_도내</th>\n",
       "      <th>고등학교_전입_도외</th>\n",
       "    </tr>\n",
       "    <tr>\n",
       "      <th>년도</th>\n",
       "      <th>지역</th>\n",
       "      <th></th>\n",
       "      <th></th>\n",
       "      <th></th>\n",
       "      <th></th>\n",
       "      <th></th>\n",
       "      <th></th>\n",
       "    </tr>\n",
       "  </thead>\n",
       "  <tbody>\n",
       "    <tr>\n",
       "      <th rowspan=\"5\" valign=\"top\">2012</th>\n",
       "      <th>강남구</th>\n",
       "      <td>1355</td>\n",
       "      <td>738</td>\n",
       "      <td>341</td>\n",
       "      <td>287</td>\n",
       "      <td>294</td>\n",
       "      <td>183</td>\n",
       "    </tr>\n",
       "    <tr>\n",
       "      <th>강동구</th>\n",
       "      <td>840</td>\n",
       "      <td>545</td>\n",
       "      <td>215</td>\n",
       "      <td>199</td>\n",
       "      <td>215</td>\n",
       "      <td>67</td>\n",
       "    </tr>\n",
       "    <tr>\n",
       "      <th>강북구</th>\n",
       "      <td>486</td>\n",
       "      <td>238</td>\n",
       "      <td>160</td>\n",
       "      <td>85</td>\n",
       "      <td>125</td>\n",
       "      <td>40</td>\n",
       "    </tr>\n",
       "    <tr>\n",
       "      <th>강서구</th>\n",
       "      <td>981</td>\n",
       "      <td>591</td>\n",
       "      <td>226</td>\n",
       "      <td>150</td>\n",
       "      <td>253</td>\n",
       "      <td>122</td>\n",
       "    </tr>\n",
       "    <tr>\n",
       "      <th>관악구</th>\n",
       "      <td>426</td>\n",
       "      <td>390</td>\n",
       "      <td>138</td>\n",
       "      <td>151</td>\n",
       "      <td>287</td>\n",
       "      <td>93</td>\n",
       "    </tr>\n",
       "    <tr>\n",
       "      <th>...</th>\n",
       "      <th>...</th>\n",
       "      <td>...</td>\n",
       "      <td>...</td>\n",
       "      <td>...</td>\n",
       "      <td>...</td>\n",
       "      <td>...</td>\n",
       "      <td>...</td>\n",
       "    </tr>\n",
       "    <tr>\n",
       "      <th rowspan=\"5\" valign=\"top\">2021</th>\n",
       "      <th>용산구</th>\n",
       "      <td>163</td>\n",
       "      <td>132</td>\n",
       "      <td>40</td>\n",
       "      <td>83</td>\n",
       "      <td>54</td>\n",
       "      <td>30</td>\n",
       "    </tr>\n",
       "    <tr>\n",
       "      <th>은평구</th>\n",
       "      <td>580</td>\n",
       "      <td>280</td>\n",
       "      <td>79</td>\n",
       "      <td>94</td>\n",
       "      <td>123</td>\n",
       "      <td>93</td>\n",
       "    </tr>\n",
       "    <tr>\n",
       "      <th>종로구</th>\n",
       "      <td>190</td>\n",
       "      <td>54</td>\n",
       "      <td>46</td>\n",
       "      <td>61</td>\n",
       "      <td>90</td>\n",
       "      <td>55</td>\n",
       "    </tr>\n",
       "    <tr>\n",
       "      <th>중구</th>\n",
       "      <td>128</td>\n",
       "      <td>34</td>\n",
       "      <td>29</td>\n",
       "      <td>16</td>\n",
       "      <td>112</td>\n",
       "      <td>18</td>\n",
       "    </tr>\n",
       "    <tr>\n",
       "      <th>중랑구</th>\n",
       "      <td>317</td>\n",
       "      <td>143</td>\n",
       "      <td>84</td>\n",
       "      <td>64</td>\n",
       "      <td>110</td>\n",
       "      <td>23</td>\n",
       "    </tr>\n",
       "  </tbody>\n",
       "</table>\n",
       "<p>250 rows × 6 columns</p>\n",
       "</div>"
      ],
      "text/plain": [
       "          초등학교_전입_도내  초등학교_전입_도외  중학교_전입_도내  중학교_전입_도외  고등학교_전입_도내  고등학교_전입_도외\n",
       "년도   지역                                                                       \n",
       "2012 강남구        1355         738        341        287         294         183\n",
       "     강동구         840         545        215        199         215          67\n",
       "     강북구         486         238        160         85         125          40\n",
       "     강서구         981         591        226        150         253         122\n",
       "     관악구         426         390        138        151         287          93\n",
       "...              ...         ...        ...        ...         ...         ...\n",
       "2021 용산구         163         132         40         83          54          30\n",
       "     은평구         580         280         79         94         123          93\n",
       "     종로구         190          54         46         61          90          55\n",
       "     중구          128          34         29         16         112          18\n",
       "     중랑구         317         143         84         64         110          23\n",
       "\n",
       "[250 rows x 6 columns]"
      ]
     },
     "execution_count": 54,
     "metadata": {},
     "output_type": "execute_result"
    }
   ],
   "source": [
    "전입"
   ]
  },
  {
   "cell_type": "code",
   "execution_count": 55,
   "id": "c10fbd05-2717-485e-b6da-ad8551dc4e0f",
   "metadata": {
    "tags": []
   },
   "outputs": [],
   "source": [
    "전입['total'] = 전입['초등학교_전입_도내'] + 전입['초등학교_전입_도외'] + 전입['중학교_전입_도내'] + 전입['중학교_전입_도외'] + 전입['고등학교_전입_도내'] + 전입['고등학교_전입_도외']"
   ]
  },
  {
   "cell_type": "code",
   "execution_count": 56,
   "id": "87197128-2c29-4f74-88b5-f17aa44dbea9",
   "metadata": {
    "tags": []
   },
   "outputs": [
    {
     "data": {
      "text/html": [
       "<div>\n",
       "<style scoped>\n",
       "    .dataframe tbody tr th:only-of-type {\n",
       "        vertical-align: middle;\n",
       "    }\n",
       "\n",
       "    .dataframe tbody tr th {\n",
       "        vertical-align: top;\n",
       "    }\n",
       "\n",
       "    .dataframe thead th {\n",
       "        text-align: right;\n",
       "    }\n",
       "</style>\n",
       "<table border=\"1\" class=\"dataframe\">\n",
       "  <thead>\n",
       "    <tr style=\"text-align: right;\">\n",
       "      <th></th>\n",
       "      <th></th>\n",
       "      <th>초등학교_전입_도내</th>\n",
       "      <th>초등학교_전입_도외</th>\n",
       "      <th>중학교_전입_도내</th>\n",
       "      <th>중학교_전입_도외</th>\n",
       "      <th>고등학교_전입_도내</th>\n",
       "      <th>고등학교_전입_도외</th>\n",
       "      <th>total</th>\n",
       "    </tr>\n",
       "    <tr>\n",
       "      <th>년도</th>\n",
       "      <th>지역</th>\n",
       "      <th></th>\n",
       "      <th></th>\n",
       "      <th></th>\n",
       "      <th></th>\n",
       "      <th></th>\n",
       "      <th></th>\n",
       "      <th></th>\n",
       "    </tr>\n",
       "  </thead>\n",
       "  <tbody>\n",
       "    <tr>\n",
       "      <th rowspan=\"5\" valign=\"top\">2012</th>\n",
       "      <th>강남구</th>\n",
       "      <td>1355</td>\n",
       "      <td>738</td>\n",
       "      <td>341</td>\n",
       "      <td>287</td>\n",
       "      <td>294</td>\n",
       "      <td>183</td>\n",
       "      <td>3198</td>\n",
       "    </tr>\n",
       "    <tr>\n",
       "      <th>강동구</th>\n",
       "      <td>840</td>\n",
       "      <td>545</td>\n",
       "      <td>215</td>\n",
       "      <td>199</td>\n",
       "      <td>215</td>\n",
       "      <td>67</td>\n",
       "      <td>2081</td>\n",
       "    </tr>\n",
       "    <tr>\n",
       "      <th>강북구</th>\n",
       "      <td>486</td>\n",
       "      <td>238</td>\n",
       "      <td>160</td>\n",
       "      <td>85</td>\n",
       "      <td>125</td>\n",
       "      <td>40</td>\n",
       "      <td>1134</td>\n",
       "    </tr>\n",
       "    <tr>\n",
       "      <th>강서구</th>\n",
       "      <td>981</td>\n",
       "      <td>591</td>\n",
       "      <td>226</td>\n",
       "      <td>150</td>\n",
       "      <td>253</td>\n",
       "      <td>122</td>\n",
       "      <td>2323</td>\n",
       "    </tr>\n",
       "    <tr>\n",
       "      <th>관악구</th>\n",
       "      <td>426</td>\n",
       "      <td>390</td>\n",
       "      <td>138</td>\n",
       "      <td>151</td>\n",
       "      <td>287</td>\n",
       "      <td>93</td>\n",
       "      <td>1485</td>\n",
       "    </tr>\n",
       "    <tr>\n",
       "      <th>...</th>\n",
       "      <th>...</th>\n",
       "      <td>...</td>\n",
       "      <td>...</td>\n",
       "      <td>...</td>\n",
       "      <td>...</td>\n",
       "      <td>...</td>\n",
       "      <td>...</td>\n",
       "      <td>...</td>\n",
       "    </tr>\n",
       "    <tr>\n",
       "      <th rowspan=\"5\" valign=\"top\">2021</th>\n",
       "      <th>용산구</th>\n",
       "      <td>163</td>\n",
       "      <td>132</td>\n",
       "      <td>40</td>\n",
       "      <td>83</td>\n",
       "      <td>54</td>\n",
       "      <td>30</td>\n",
       "      <td>502</td>\n",
       "    </tr>\n",
       "    <tr>\n",
       "      <th>은평구</th>\n",
       "      <td>580</td>\n",
       "      <td>280</td>\n",
       "      <td>79</td>\n",
       "      <td>94</td>\n",
       "      <td>123</td>\n",
       "      <td>93</td>\n",
       "      <td>1249</td>\n",
       "    </tr>\n",
       "    <tr>\n",
       "      <th>종로구</th>\n",
       "      <td>190</td>\n",
       "      <td>54</td>\n",
       "      <td>46</td>\n",
       "      <td>61</td>\n",
       "      <td>90</td>\n",
       "      <td>55</td>\n",
       "      <td>496</td>\n",
       "    </tr>\n",
       "    <tr>\n",
       "      <th>중구</th>\n",
       "      <td>128</td>\n",
       "      <td>34</td>\n",
       "      <td>29</td>\n",
       "      <td>16</td>\n",
       "      <td>112</td>\n",
       "      <td>18</td>\n",
       "      <td>337</td>\n",
       "    </tr>\n",
       "    <tr>\n",
       "      <th>중랑구</th>\n",
       "      <td>317</td>\n",
       "      <td>143</td>\n",
       "      <td>84</td>\n",
       "      <td>64</td>\n",
       "      <td>110</td>\n",
       "      <td>23</td>\n",
       "      <td>741</td>\n",
       "    </tr>\n",
       "  </tbody>\n",
       "</table>\n",
       "<p>250 rows × 7 columns</p>\n",
       "</div>"
      ],
      "text/plain": [
       "          초등학교_전입_도내  초등학교_전입_도외  중학교_전입_도내  중학교_전입_도외  고등학교_전입_도내  \\\n",
       "년도   지역                                                              \n",
       "2012 강남구        1355         738        341        287         294   \n",
       "     강동구         840         545        215        199         215   \n",
       "     강북구         486         238        160         85         125   \n",
       "     강서구         981         591        226        150         253   \n",
       "     관악구         426         390        138        151         287   \n",
       "...              ...         ...        ...        ...         ...   \n",
       "2021 용산구         163         132         40         83          54   \n",
       "     은평구         580         280         79         94         123   \n",
       "     종로구         190          54         46         61          90   \n",
       "     중구          128          34         29         16         112   \n",
       "     중랑구         317         143         84         64         110   \n",
       "\n",
       "          고등학교_전입_도외  total  \n",
       "년도   지역                      \n",
       "2012 강남구         183   3198  \n",
       "     강동구          67   2081  \n",
       "     강북구          40   1134  \n",
       "     강서구         122   2323  \n",
       "     관악구          93   1485  \n",
       "...              ...    ...  \n",
       "2021 용산구          30    502  \n",
       "     은평구          93   1249  \n",
       "     종로구          55    496  \n",
       "     중구           18    337  \n",
       "     중랑구          23    741  \n",
       "\n",
       "[250 rows x 7 columns]"
      ]
     },
     "execution_count": 56,
     "metadata": {},
     "output_type": "execute_result"
    }
   ],
   "source": [
    "전입"
   ]
  },
  {
   "cell_type": "code",
   "execution_count": 57,
   "id": "ce652b03-6dab-40a8-a321-e1f960df12b2",
   "metadata": {
    "tags": []
   },
   "outputs": [],
   "source": [
    "전출 = df.groupby(['년도', '지역'])[['초등학교_전출_도내', '초등학교_전출_도외', '중학교_전출_도내', '중학교_전출_도외', '고등학교_전출_도내', '고등학교_전출_도외']].sum()"
   ]
  },
  {
   "cell_type": "code",
   "execution_count": 58,
   "id": "0eca53c9-e6f6-4bf7-8a4b-26c54815f60e",
   "metadata": {
    "tags": []
   },
   "outputs": [
    {
     "data": {
      "text/html": [
       "<div>\n",
       "<style scoped>\n",
       "    .dataframe tbody tr th:only-of-type {\n",
       "        vertical-align: middle;\n",
       "    }\n",
       "\n",
       "    .dataframe tbody tr th {\n",
       "        vertical-align: top;\n",
       "    }\n",
       "\n",
       "    .dataframe thead th {\n",
       "        text-align: right;\n",
       "    }\n",
       "</style>\n",
       "<table border=\"1\" class=\"dataframe\">\n",
       "  <thead>\n",
       "    <tr style=\"text-align: right;\">\n",
       "      <th></th>\n",
       "      <th></th>\n",
       "      <th>초등학교_전출_도내</th>\n",
       "      <th>초등학교_전출_도외</th>\n",
       "      <th>중학교_전출_도내</th>\n",
       "      <th>중학교_전출_도외</th>\n",
       "      <th>고등학교_전출_도내</th>\n",
       "      <th>고등학교_전출_도외</th>\n",
       "    </tr>\n",
       "    <tr>\n",
       "      <th>년도</th>\n",
       "      <th>지역</th>\n",
       "      <th></th>\n",
       "      <th></th>\n",
       "      <th></th>\n",
       "      <th></th>\n",
       "      <th></th>\n",
       "      <th></th>\n",
       "    </tr>\n",
       "  </thead>\n",
       "  <tbody>\n",
       "    <tr>\n",
       "      <th rowspan=\"5\" valign=\"top\">2012</th>\n",
       "      <th>강남구</th>\n",
       "      <td>662</td>\n",
       "      <td>600</td>\n",
       "      <td>224</td>\n",
       "      <td>304</td>\n",
       "      <td>298</td>\n",
       "      <td>161</td>\n",
       "    </tr>\n",
       "    <tr>\n",
       "      <th>강동구</th>\n",
       "      <td>911</td>\n",
       "      <td>695</td>\n",
       "      <td>208</td>\n",
       "      <td>231</td>\n",
       "      <td>170</td>\n",
       "      <td>81</td>\n",
       "    </tr>\n",
       "    <tr>\n",
       "      <th>강북구</th>\n",
       "      <td>485</td>\n",
       "      <td>342</td>\n",
       "      <td>174</td>\n",
       "      <td>125</td>\n",
       "      <td>126</td>\n",
       "      <td>32</td>\n",
       "    </tr>\n",
       "    <tr>\n",
       "      <th>강서구</th>\n",
       "      <td>1103</td>\n",
       "      <td>959</td>\n",
       "      <td>227</td>\n",
       "      <td>217</td>\n",
       "      <td>302</td>\n",
       "      <td>169</td>\n",
       "    </tr>\n",
       "    <tr>\n",
       "      <th>관악구</th>\n",
       "      <td>762</td>\n",
       "      <td>638</td>\n",
       "      <td>188</td>\n",
       "      <td>241</td>\n",
       "      <td>285</td>\n",
       "      <td>81</td>\n",
       "    </tr>\n",
       "    <tr>\n",
       "      <th>...</th>\n",
       "      <th>...</th>\n",
       "      <td>...</td>\n",
       "      <td>...</td>\n",
       "      <td>...</td>\n",
       "      <td>...</td>\n",
       "      <td>...</td>\n",
       "      <td>...</td>\n",
       "    </tr>\n",
       "    <tr>\n",
       "      <th rowspan=\"5\" valign=\"top\">2021</th>\n",
       "      <th>용산구</th>\n",
       "      <td>316</td>\n",
       "      <td>200</td>\n",
       "      <td>73</td>\n",
       "      <td>81</td>\n",
       "      <td>108</td>\n",
       "      <td>35</td>\n",
       "    </tr>\n",
       "    <tr>\n",
       "      <th>은평구</th>\n",
       "      <td>597</td>\n",
       "      <td>598</td>\n",
       "      <td>92</td>\n",
       "      <td>142</td>\n",
       "      <td>120</td>\n",
       "      <td>126</td>\n",
       "    </tr>\n",
       "    <tr>\n",
       "      <th>종로구</th>\n",
       "      <td>190</td>\n",
       "      <td>105</td>\n",
       "      <td>55</td>\n",
       "      <td>45</td>\n",
       "      <td>206</td>\n",
       "      <td>77</td>\n",
       "    </tr>\n",
       "    <tr>\n",
       "      <th>중구</th>\n",
       "      <td>202</td>\n",
       "      <td>109</td>\n",
       "      <td>37</td>\n",
       "      <td>38</td>\n",
       "      <td>122</td>\n",
       "      <td>35</td>\n",
       "    </tr>\n",
       "    <tr>\n",
       "      <th>중랑구</th>\n",
       "      <td>450</td>\n",
       "      <td>514</td>\n",
       "      <td>92</td>\n",
       "      <td>132</td>\n",
       "      <td>84</td>\n",
       "      <td>22</td>\n",
       "    </tr>\n",
       "  </tbody>\n",
       "</table>\n",
       "<p>250 rows × 6 columns</p>\n",
       "</div>"
      ],
      "text/plain": [
       "          초등학교_전출_도내  초등학교_전출_도외  중학교_전출_도내  중학교_전출_도외  고등학교_전출_도내  고등학교_전출_도외\n",
       "년도   지역                                                                       \n",
       "2012 강남구         662         600        224        304         298         161\n",
       "     강동구         911         695        208        231         170          81\n",
       "     강북구         485         342        174        125         126          32\n",
       "     강서구        1103         959        227        217         302         169\n",
       "     관악구         762         638        188        241         285          81\n",
       "...              ...         ...        ...        ...         ...         ...\n",
       "2021 용산구         316         200         73         81         108          35\n",
       "     은평구         597         598         92        142         120         126\n",
       "     종로구         190         105         55         45         206          77\n",
       "     중구          202         109         37         38         122          35\n",
       "     중랑구         450         514         92        132          84          22\n",
       "\n",
       "[250 rows x 6 columns]"
      ]
     },
     "execution_count": 58,
     "metadata": {},
     "output_type": "execute_result"
    }
   ],
   "source": [
    "전출"
   ]
  },
  {
   "cell_type": "code",
   "execution_count": 59,
   "id": "671307d5-007b-48b5-a23d-3b9dd88c02df",
   "metadata": {
    "tags": []
   },
   "outputs": [],
   "source": [
    "전출['total'] = 전출['초등학교_전출_도내'] + 전출['초등학교_전출_도외'] + 전출['중학교_전출_도내'] + 전출['중학교_전출_도외'] + 전출['고등학교_전출_도내'] + 전출['고등학교_전출_도외']"
   ]
  },
  {
   "cell_type": "code",
   "execution_count": 60,
   "id": "df6604f9-d55b-4fbd-97d0-707931bc1fab",
   "metadata": {
    "tags": []
   },
   "outputs": [
    {
     "data": {
      "text/html": [
       "<div>\n",
       "<style scoped>\n",
       "    .dataframe tbody tr th:only-of-type {\n",
       "        vertical-align: middle;\n",
       "    }\n",
       "\n",
       "    .dataframe tbody tr th {\n",
       "        vertical-align: top;\n",
       "    }\n",
       "\n",
       "    .dataframe thead th {\n",
       "        text-align: right;\n",
       "    }\n",
       "</style>\n",
       "<table border=\"1\" class=\"dataframe\">\n",
       "  <thead>\n",
       "    <tr style=\"text-align: right;\">\n",
       "      <th></th>\n",
       "      <th></th>\n",
       "      <th>초등학교_전출_도내</th>\n",
       "      <th>초등학교_전출_도외</th>\n",
       "      <th>중학교_전출_도내</th>\n",
       "      <th>중학교_전출_도외</th>\n",
       "      <th>고등학교_전출_도내</th>\n",
       "      <th>고등학교_전출_도외</th>\n",
       "      <th>total</th>\n",
       "    </tr>\n",
       "    <tr>\n",
       "      <th>년도</th>\n",
       "      <th>지역</th>\n",
       "      <th></th>\n",
       "      <th></th>\n",
       "      <th></th>\n",
       "      <th></th>\n",
       "      <th></th>\n",
       "      <th></th>\n",
       "      <th></th>\n",
       "    </tr>\n",
       "  </thead>\n",
       "  <tbody>\n",
       "    <tr>\n",
       "      <th rowspan=\"5\" valign=\"top\">2012</th>\n",
       "      <th>강남구</th>\n",
       "      <td>662</td>\n",
       "      <td>600</td>\n",
       "      <td>224</td>\n",
       "      <td>304</td>\n",
       "      <td>298</td>\n",
       "      <td>161</td>\n",
       "      <td>2249</td>\n",
       "    </tr>\n",
       "    <tr>\n",
       "      <th>강동구</th>\n",
       "      <td>911</td>\n",
       "      <td>695</td>\n",
       "      <td>208</td>\n",
       "      <td>231</td>\n",
       "      <td>170</td>\n",
       "      <td>81</td>\n",
       "      <td>2296</td>\n",
       "    </tr>\n",
       "    <tr>\n",
       "      <th>강북구</th>\n",
       "      <td>485</td>\n",
       "      <td>342</td>\n",
       "      <td>174</td>\n",
       "      <td>125</td>\n",
       "      <td>126</td>\n",
       "      <td>32</td>\n",
       "      <td>1284</td>\n",
       "    </tr>\n",
       "    <tr>\n",
       "      <th>강서구</th>\n",
       "      <td>1103</td>\n",
       "      <td>959</td>\n",
       "      <td>227</td>\n",
       "      <td>217</td>\n",
       "      <td>302</td>\n",
       "      <td>169</td>\n",
       "      <td>2977</td>\n",
       "    </tr>\n",
       "    <tr>\n",
       "      <th>관악구</th>\n",
       "      <td>762</td>\n",
       "      <td>638</td>\n",
       "      <td>188</td>\n",
       "      <td>241</td>\n",
       "      <td>285</td>\n",
       "      <td>81</td>\n",
       "      <td>2195</td>\n",
       "    </tr>\n",
       "    <tr>\n",
       "      <th>...</th>\n",
       "      <th>...</th>\n",
       "      <td>...</td>\n",
       "      <td>...</td>\n",
       "      <td>...</td>\n",
       "      <td>...</td>\n",
       "      <td>...</td>\n",
       "      <td>...</td>\n",
       "      <td>...</td>\n",
       "    </tr>\n",
       "    <tr>\n",
       "      <th rowspan=\"5\" valign=\"top\">2021</th>\n",
       "      <th>용산구</th>\n",
       "      <td>316</td>\n",
       "      <td>200</td>\n",
       "      <td>73</td>\n",
       "      <td>81</td>\n",
       "      <td>108</td>\n",
       "      <td>35</td>\n",
       "      <td>813</td>\n",
       "    </tr>\n",
       "    <tr>\n",
       "      <th>은평구</th>\n",
       "      <td>597</td>\n",
       "      <td>598</td>\n",
       "      <td>92</td>\n",
       "      <td>142</td>\n",
       "      <td>120</td>\n",
       "      <td>126</td>\n",
       "      <td>1675</td>\n",
       "    </tr>\n",
       "    <tr>\n",
       "      <th>종로구</th>\n",
       "      <td>190</td>\n",
       "      <td>105</td>\n",
       "      <td>55</td>\n",
       "      <td>45</td>\n",
       "      <td>206</td>\n",
       "      <td>77</td>\n",
       "      <td>678</td>\n",
       "    </tr>\n",
       "    <tr>\n",
       "      <th>중구</th>\n",
       "      <td>202</td>\n",
       "      <td>109</td>\n",
       "      <td>37</td>\n",
       "      <td>38</td>\n",
       "      <td>122</td>\n",
       "      <td>35</td>\n",
       "      <td>543</td>\n",
       "    </tr>\n",
       "    <tr>\n",
       "      <th>중랑구</th>\n",
       "      <td>450</td>\n",
       "      <td>514</td>\n",
       "      <td>92</td>\n",
       "      <td>132</td>\n",
       "      <td>84</td>\n",
       "      <td>22</td>\n",
       "      <td>1294</td>\n",
       "    </tr>\n",
       "  </tbody>\n",
       "</table>\n",
       "<p>250 rows × 7 columns</p>\n",
       "</div>"
      ],
      "text/plain": [
       "          초등학교_전출_도내  초등학교_전출_도외  중학교_전출_도내  중학교_전출_도외  고등학교_전출_도내  \\\n",
       "년도   지역                                                              \n",
       "2012 강남구         662         600        224        304         298   \n",
       "     강동구         911         695        208        231         170   \n",
       "     강북구         485         342        174        125         126   \n",
       "     강서구        1103         959        227        217         302   \n",
       "     관악구         762         638        188        241         285   \n",
       "...              ...         ...        ...        ...         ...   \n",
       "2021 용산구         316         200         73         81         108   \n",
       "     은평구         597         598         92        142         120   \n",
       "     종로구         190         105         55         45         206   \n",
       "     중구          202         109         37         38         122   \n",
       "     중랑구         450         514         92        132          84   \n",
       "\n",
       "          고등학교_전출_도외  total  \n",
       "년도   지역                      \n",
       "2012 강남구         161   2249  \n",
       "     강동구          81   2296  \n",
       "     강북구          32   1284  \n",
       "     강서구         169   2977  \n",
       "     관악구          81   2195  \n",
       "...              ...    ...  \n",
       "2021 용산구          35    813  \n",
       "     은평구         126   1675  \n",
       "     종로구          77    678  \n",
       "     중구           35    543  \n",
       "     중랑구          22   1294  \n",
       "\n",
       "[250 rows x 7 columns]"
      ]
     },
     "execution_count": 60,
     "metadata": {},
     "output_type": "execute_result"
    }
   ],
   "source": [
    "전출"
   ]
  },
  {
   "cell_type": "code",
   "execution_count": 66,
   "id": "0bbfd864-911e-4100-9c73-022d41cf181b",
   "metadata": {
    "tags": []
   },
   "outputs": [],
   "source": [
    "ndf = (전입['total'] - 전출['total']).to_frame()"
   ]
  },
  {
   "cell_type": "code",
   "execution_count": 71,
   "id": "f2addb0a-18fd-4d93-8f1f-5d832348dd44",
   "metadata": {
    "tags": []
   },
   "outputs": [
    {
     "data": {
      "text/plain": [
       "13853"
      ]
     },
     "execution_count": 71,
     "metadata": {},
     "output_type": "execute_result"
    }
   ],
   "source": [
    "ndf.sort_values(['년도', 'total'], ascending=False).groupby('년도').head(1)['total'].sum()"
   ]
  },
  {
   "cell_type": "code",
   "execution_count": 72,
   "id": "0d308ebb-f8c9-487c-8155-f603fa010160",
   "metadata": {
    "tags": []
   },
   "outputs": [
    {
     "data": {
      "text/html": [
       "<div>\n",
       "<style scoped>\n",
       "    .dataframe tbody tr th:only-of-type {\n",
       "        vertical-align: middle;\n",
       "    }\n",
       "\n",
       "    .dataframe tbody tr th {\n",
       "        vertical-align: top;\n",
       "    }\n",
       "\n",
       "    .dataframe thead th {\n",
       "        text-align: right;\n",
       "    }\n",
       "</style>\n",
       "<table border=\"1\" class=\"dataframe\">\n",
       "  <thead>\n",
       "    <tr style=\"text-align: right;\">\n",
       "      <th></th>\n",
       "      <th>ID</th>\n",
       "      <th>model</th>\n",
       "      <th>year</th>\n",
       "      <th>price</th>\n",
       "      <th>transmission</th>\n",
       "      <th>mileage</th>\n",
       "      <th>fuelType</th>\n",
       "      <th>tax</th>\n",
       "      <th>mpg</th>\n",
       "      <th>engineSize</th>\n",
       "    </tr>\n",
       "  </thead>\n",
       "  <tbody>\n",
       "    <tr>\n",
       "      <th>0</th>\n",
       "      <td>10170</td>\n",
       "      <td>A Class</td>\n",
       "      <td>2012</td>\n",
       "      <td>11940</td>\n",
       "      <td>Automatic</td>\n",
       "      <td>46000</td>\n",
       "      <td>Diesel</td>\n",
       "      <td>30</td>\n",
       "      <td>64.2</td>\n",
       "      <td>2.1</td>\n",
       "    </tr>\n",
       "    <tr>\n",
       "      <th>1</th>\n",
       "      <td>9551</td>\n",
       "      <td>CL Class</td>\n",
       "      <td>2020</td>\n",
       "      <td>38624</td>\n",
       "      <td>Semi-Auto</td>\n",
       "      <td>19</td>\n",
       "      <td>Petrol</td>\n",
       "      <td>150</td>\n",
       "      <td>36.7</td>\n",
       "      <td>2.0</td>\n",
       "    </tr>\n",
       "  </tbody>\n",
       "</table>\n",
       "</div>"
      ],
      "text/plain": [
       "      ID      model  year  price transmission  mileage fuelType  tax   mpg  \\\n",
       "0  10170    A Class  2012  11940    Automatic    46000   Diesel   30  64.2   \n",
       "1   9551   CL Class  2020  38624    Semi-Auto       19   Petrol  150  36.7   \n",
       "\n",
       "   engineSize  \n",
       "0         2.1  \n",
       "1         2.0  "
      ]
     },
     "metadata": {},
     "output_type": "display_data"
    },
    {
     "data": {
      "text/html": [
       "<div>\n",
       "<style scoped>\n",
       "    .dataframe tbody tr th:only-of-type {\n",
       "        vertical-align: middle;\n",
       "    }\n",
       "\n",
       "    .dataframe tbody tr th {\n",
       "        vertical-align: top;\n",
       "    }\n",
       "\n",
       "    .dataframe thead th {\n",
       "        text-align: right;\n",
       "    }\n",
       "</style>\n",
       "<table border=\"1\" class=\"dataframe\">\n",
       "  <thead>\n",
       "    <tr style=\"text-align: right;\">\n",
       "      <th></th>\n",
       "      <th>ID</th>\n",
       "      <th>model</th>\n",
       "      <th>year</th>\n",
       "      <th>transmission</th>\n",
       "      <th>mileage</th>\n",
       "      <th>fuelType</th>\n",
       "      <th>tax</th>\n",
       "      <th>mpg</th>\n",
       "      <th>engineSize</th>\n",
       "    </tr>\n",
       "  </thead>\n",
       "  <tbody>\n",
       "    <tr>\n",
       "      <th>0</th>\n",
       "      <td>0</td>\n",
       "      <td>SLK</td>\n",
       "      <td>2005</td>\n",
       "      <td>Automatic</td>\n",
       "      <td>63000</td>\n",
       "      <td>Petrol</td>\n",
       "      <td>325</td>\n",
       "      <td>32.1</td>\n",
       "      <td>1.8</td>\n",
       "    </tr>\n",
       "    <tr>\n",
       "      <th>1</th>\n",
       "      <td>2</td>\n",
       "      <td>SL CLASS</td>\n",
       "      <td>2016</td>\n",
       "      <td>Automatic</td>\n",
       "      <td>6200</td>\n",
       "      <td>Petrol</td>\n",
       "      <td>555</td>\n",
       "      <td>28.0</td>\n",
       "      <td>5.5</td>\n",
       "    </tr>\n",
       "  </tbody>\n",
       "</table>\n",
       "</div>"
      ],
      "text/plain": [
       "   ID      model  year transmission  mileage fuelType  tax   mpg  engineSize\n",
       "0   0        SLK  2005    Automatic    63000   Petrol  325  32.1         1.8\n",
       "1   2   SL CLASS  2016    Automatic     6200   Petrol  555  28.0         5.5"
      ]
     },
     "execution_count": 72,
     "metadata": {},
     "output_type": "execute_result"
    }
   ],
   "source": [
    "import pandas as pd\n",
    "train = pd.read_csv('https://raw.githubusercontent.com/Datamanim/datarepo/main/krdatacertificate/e5_p2_train_.csv')\n",
    "test = pd.read_csv('https://raw.githubusercontent.com/Datamanim/datarepo/main/krdatacertificate/e5_p2_test_.csv')\n",
    "\n",
    "display(train.head(2))\n",
    "test.head(2)"
   ]
  },
  {
   "cell_type": "code",
   "execution_count": 73,
   "id": "364fc141-12b3-4590-ba81-4a380d3a7a4d",
   "metadata": {
    "tags": []
   },
   "outputs": [
    {
     "name": "stdout",
     "output_type": "stream",
     "text": [
      "<class 'pandas.core.frame.DataFrame'>\n",
      "RangeIndex: 9823 entries, 0 to 9822\n",
      "Data columns (total 10 columns):\n",
      " #   Column        Non-Null Count  Dtype  \n",
      "---  ------        --------------  -----  \n",
      " 0   ID            9823 non-null   int64  \n",
      " 1   model         9823 non-null   object \n",
      " 2   year          9823 non-null   int64  \n",
      " 3   price         9823 non-null   int64  \n",
      " 4   transmission  9823 non-null   object \n",
      " 5   mileage       9823 non-null   int64  \n",
      " 6   fuelType      9823 non-null   object \n",
      " 7   tax           9823 non-null   int64  \n",
      " 8   mpg           9823 non-null   float64\n",
      " 9   engineSize    9823 non-null   float64\n",
      "dtypes: float64(2), int64(5), object(3)\n",
      "memory usage: 767.6+ KB\n"
     ]
    }
   ],
   "source": [
    "train.info()"
   ]
  },
  {
   "cell_type": "code",
   "execution_count": 74,
   "id": "0bcceea3-00b9-43cd-b423-0507f8408ea0",
   "metadata": {
    "tags": []
   },
   "outputs": [
    {
     "name": "stdout",
     "output_type": "stream",
     "text": [
      "<class 'pandas.core.frame.DataFrame'>\n",
      "RangeIndex: 3296 entries, 0 to 3295\n",
      "Data columns (total 9 columns):\n",
      " #   Column        Non-Null Count  Dtype  \n",
      "---  ------        --------------  -----  \n",
      " 0   ID            3296 non-null   int64  \n",
      " 1   model         3296 non-null   object \n",
      " 2   year          3296 non-null   int64  \n",
      " 3   transmission  3296 non-null   object \n",
      " 4   mileage       3296 non-null   int64  \n",
      " 5   fuelType      3296 non-null   object \n",
      " 6   tax           3296 non-null   int64  \n",
      " 7   mpg           3296 non-null   float64\n",
      " 8   engineSize    3296 non-null   float64\n",
      "dtypes: float64(2), int64(4), object(3)\n",
      "memory usage: 231.9+ KB\n"
     ]
    }
   ],
   "source": [
    "test.info()"
   ]
  },
  {
   "cell_type": "code",
   "execution_count": 75,
   "id": "543cacaa-9caf-43fe-a870-6b37388791ce",
   "metadata": {
    "tags": []
   },
   "outputs": [],
   "source": [
    "y_train = train.pop('price')\n",
    "train = train.drop(columns='ID')\n",
    "test_id = test.pop('ID')"
   ]
  },
  {
   "cell_type": "code",
   "execution_count": 76,
   "id": "fc68298c-aeb4-49ee-aaae-f34afa4c3eac",
   "metadata": {
    "tags": []
   },
   "outputs": [
    {
     "data": {
      "text/html": [
       "<div>\n",
       "<style scoped>\n",
       "    .dataframe tbody tr th:only-of-type {\n",
       "        vertical-align: middle;\n",
       "    }\n",
       "\n",
       "    .dataframe tbody tr th {\n",
       "        vertical-align: top;\n",
       "    }\n",
       "\n",
       "    .dataframe thead th {\n",
       "        text-align: right;\n",
       "    }\n",
       "</style>\n",
       "<table border=\"1\" class=\"dataframe\">\n",
       "  <thead>\n",
       "    <tr style=\"text-align: right;\">\n",
       "      <th></th>\n",
       "      <th>year</th>\n",
       "      <th>mileage</th>\n",
       "      <th>tax</th>\n",
       "      <th>mpg</th>\n",
       "      <th>engineSize</th>\n",
       "    </tr>\n",
       "  </thead>\n",
       "  <tbody>\n",
       "    <tr>\n",
       "      <th>count</th>\n",
       "      <td>9823.000000</td>\n",
       "      <td>9823.000000</td>\n",
       "      <td>9823.000000</td>\n",
       "      <td>9823.000000</td>\n",
       "      <td>9823.000000</td>\n",
       "    </tr>\n",
       "    <tr>\n",
       "      <th>mean</th>\n",
       "      <td>2017.291764</td>\n",
       "      <td>21920.129797</td>\n",
       "      <td>129.983712</td>\n",
       "      <td>55.086633</td>\n",
       "      <td>2.073073</td>\n",
       "    </tr>\n",
       "    <tr>\n",
       "      <th>std</th>\n",
       "      <td>2.239658</td>\n",
       "      <td>21266.824972</td>\n",
       "      <td>64.754362</td>\n",
       "      <td>15.343101</td>\n",
       "      <td>0.572922</td>\n",
       "    </tr>\n",
       "    <tr>\n",
       "      <th>min</th>\n",
       "      <td>1970.000000</td>\n",
       "      <td>1.000000</td>\n",
       "      <td>0.000000</td>\n",
       "      <td>1.100000</td>\n",
       "      <td>0.000000</td>\n",
       "    </tr>\n",
       "    <tr>\n",
       "      <th>25%</th>\n",
       "      <td>2016.000000</td>\n",
       "      <td>6058.500000</td>\n",
       "      <td>125.000000</td>\n",
       "      <td>45.600000</td>\n",
       "      <td>1.800000</td>\n",
       "    </tr>\n",
       "    <tr>\n",
       "      <th>50%</th>\n",
       "      <td>2018.000000</td>\n",
       "      <td>15181.000000</td>\n",
       "      <td>145.000000</td>\n",
       "      <td>56.500000</td>\n",
       "      <td>2.000000</td>\n",
       "    </tr>\n",
       "    <tr>\n",
       "      <th>75%</th>\n",
       "      <td>2019.000000</td>\n",
       "      <td>31695.500000</td>\n",
       "      <td>145.000000</td>\n",
       "      <td>64.200000</td>\n",
       "      <td>2.100000</td>\n",
       "    </tr>\n",
       "    <tr>\n",
       "      <th>max</th>\n",
       "      <td>2020.000000</td>\n",
       "      <td>259000.000000</td>\n",
       "      <td>580.000000</td>\n",
       "      <td>217.300000</td>\n",
       "      <td>6.200000</td>\n",
       "    </tr>\n",
       "  </tbody>\n",
       "</table>\n",
       "</div>"
      ],
      "text/plain": [
       "              year        mileage          tax          mpg   engineSize\n",
       "count  9823.000000    9823.000000  9823.000000  9823.000000  9823.000000\n",
       "mean   2017.291764   21920.129797   129.983712    55.086633     2.073073\n",
       "std       2.239658   21266.824972    64.754362    15.343101     0.572922\n",
       "min    1970.000000       1.000000     0.000000     1.100000     0.000000\n",
       "25%    2016.000000    6058.500000   125.000000    45.600000     1.800000\n",
       "50%    2018.000000   15181.000000   145.000000    56.500000     2.000000\n",
       "75%    2019.000000   31695.500000   145.000000    64.200000     2.100000\n",
       "max    2020.000000  259000.000000   580.000000   217.300000     6.200000"
      ]
     },
     "execution_count": 76,
     "metadata": {},
     "output_type": "execute_result"
    }
   ],
   "source": [
    "train.describe()"
   ]
  },
  {
   "cell_type": "code",
   "execution_count": 77,
   "id": "e83667ce-e94c-46e5-bc42-43563d64787a",
   "metadata": {
    "tags": []
   },
   "outputs": [
    {
     "data": {
      "text/html": [
       "<div>\n",
       "<style scoped>\n",
       "    .dataframe tbody tr th:only-of-type {\n",
       "        vertical-align: middle;\n",
       "    }\n",
       "\n",
       "    .dataframe tbody tr th {\n",
       "        vertical-align: top;\n",
       "    }\n",
       "\n",
       "    .dataframe thead th {\n",
       "        text-align: right;\n",
       "    }\n",
       "</style>\n",
       "<table border=\"1\" class=\"dataframe\">\n",
       "  <thead>\n",
       "    <tr style=\"text-align: right;\">\n",
       "      <th></th>\n",
       "      <th>year</th>\n",
       "      <th>mileage</th>\n",
       "      <th>tax</th>\n",
       "      <th>mpg</th>\n",
       "      <th>engineSize</th>\n",
       "    </tr>\n",
       "  </thead>\n",
       "  <tbody>\n",
       "    <tr>\n",
       "      <th>count</th>\n",
       "      <td>3296.000000</td>\n",
       "      <td>3296.000000</td>\n",
       "      <td>3296.000000</td>\n",
       "      <td>3296.000000</td>\n",
       "      <td>3296.000000</td>\n",
       "    </tr>\n",
       "    <tr>\n",
       "      <th>mean</th>\n",
       "      <td>2017.309769</td>\n",
       "      <td>22037.266383</td>\n",
       "      <td>129.937803</td>\n",
       "      <td>55.362106</td>\n",
       "      <td>2.066930</td>\n",
       "    </tr>\n",
       "    <tr>\n",
       "      <th>std</th>\n",
       "      <td>2.179831</td>\n",
       "      <td>20907.995253</td>\n",
       "      <td>66.755305</td>\n",
       "      <td>14.847783</td>\n",
       "      <td>0.571008</td>\n",
       "    </tr>\n",
       "    <tr>\n",
       "      <th>min</th>\n",
       "      <td>1998.000000</td>\n",
       "      <td>9.000000</td>\n",
       "      <td>0.000000</td>\n",
       "      <td>20.500000</td>\n",
       "      <td>0.000000</td>\n",
       "    </tr>\n",
       "    <tr>\n",
       "      <th>25%</th>\n",
       "      <td>2016.000000</td>\n",
       "      <td>6154.500000</td>\n",
       "      <td>125.000000</td>\n",
       "      <td>45.600000</td>\n",
       "      <td>1.600000</td>\n",
       "    </tr>\n",
       "    <tr>\n",
       "      <th>50%</th>\n",
       "      <td>2018.000000</td>\n",
       "      <td>15215.500000</td>\n",
       "      <td>145.000000</td>\n",
       "      <td>56.500000</td>\n",
       "      <td>2.000000</td>\n",
       "    </tr>\n",
       "    <tr>\n",
       "      <th>75%</th>\n",
       "      <td>2019.000000</td>\n",
       "      <td>32000.000000</td>\n",
       "      <td>145.000000</td>\n",
       "      <td>64.200000</td>\n",
       "      <td>2.100000</td>\n",
       "    </tr>\n",
       "    <tr>\n",
       "      <th>max</th>\n",
       "      <td>2020.000000</td>\n",
       "      <td>130000.000000</td>\n",
       "      <td>580.000000</td>\n",
       "      <td>188.300000</td>\n",
       "      <td>6.200000</td>\n",
       "    </tr>\n",
       "  </tbody>\n",
       "</table>\n",
       "</div>"
      ],
      "text/plain": [
       "              year        mileage          tax          mpg   engineSize\n",
       "count  3296.000000    3296.000000  3296.000000  3296.000000  3296.000000\n",
       "mean   2017.309769   22037.266383   129.937803    55.362106     2.066930\n",
       "std       2.179831   20907.995253    66.755305    14.847783     0.571008\n",
       "min    1998.000000       9.000000     0.000000    20.500000     0.000000\n",
       "25%    2016.000000    6154.500000   125.000000    45.600000     1.600000\n",
       "50%    2018.000000   15215.500000   145.000000    56.500000     2.000000\n",
       "75%    2019.000000   32000.000000   145.000000    64.200000     2.100000\n",
       "max    2020.000000  130000.000000   580.000000   188.300000     6.200000"
      ]
     },
     "execution_count": 77,
     "metadata": {},
     "output_type": "execute_result"
    }
   ],
   "source": [
    "test.describe()"
   ]
  },
  {
   "cell_type": "code",
   "execution_count": 78,
   "id": "860cda93-b6ff-40fa-af6d-89f1f17ebbfa",
   "metadata": {
    "tags": []
   },
   "outputs": [],
   "source": [
    "from sklearn.preprocessing import RobustScaler\n",
    "from sklearn.model_selection import train_test_split\n",
    "from sklearn.ensemble import RandomForestRegressor\n",
    "from sklearn.metrics import mean_squared_error"
   ]
  },
  {
   "cell_type": "code",
   "execution_count": 79,
   "id": "48f0cc7f-e38c-4578-89e7-72694011f994",
   "metadata": {
    "tags": []
   },
   "outputs": [],
   "source": [
    "numeric_cols = train.select_dtypes(exclude='O').columns\n",
    "scaler = RobustScaler()\n",
    "\n",
    "for col in numeric_cols:\n",
    "    train[col] = scaler.fit_transform(train[[col]])\n",
    "    test[col] = scaler.transform(test[[col]])"
   ]
  },
  {
   "cell_type": "code",
   "execution_count": 80,
   "id": "0380c5be-7184-4c9b-b1e8-b169141f298d",
   "metadata": {
    "tags": []
   },
   "outputs": [],
   "source": [
    "train = pd.get_dummies(train)\n",
    "test = pd.get_dummies(test)"
   ]
  },
  {
   "cell_type": "code",
   "execution_count": 81,
   "id": "8f656941-f3a9-445c-a9e4-c264b2d50065",
   "metadata": {
    "tags": []
   },
   "outputs": [
    {
     "data": {
      "text/plain": [
       "Index(['fuelType_Other', 'model_ CLC Class', 'model_ R Class', 'model_180',\n",
       "       'model_200', 'model_230', 'transmission_Other'],\n",
       "      dtype='object')"
      ]
     },
     "execution_count": 81,
     "metadata": {},
     "output_type": "execute_result"
    }
   ],
   "source": [
    "train.columns.difference(test.columns)"
   ]
  },
  {
   "cell_type": "code",
   "execution_count": 82,
   "id": "6539edf5-fc51-448a-84ee-c03d8d30819e",
   "metadata": {
    "tags": []
   },
   "outputs": [
    {
     "data": {
      "text/plain": [
       "Index(['model_220'], dtype='object')"
      ]
     },
     "execution_count": 82,
     "metadata": {},
     "output_type": "execute_result"
    }
   ],
   "source": [
    "test.columns.difference(train.columns)"
   ]
  },
  {
   "cell_type": "code",
   "execution_count": 97,
   "id": "4551a8be-601f-4869-afa3-32621641a2f8",
   "metadata": {
    "tags": []
   },
   "outputs": [],
   "source": [
    "diff_cols = train.columns.difference(test.columns).append(test.columns.difference(train.columns))"
   ]
  },
  {
   "cell_type": "code",
   "execution_count": 98,
   "id": "dbf6de64-5833-4d57-97b0-ace38df6b4b4",
   "metadata": {
    "tags": []
   },
   "outputs": [
    {
     "data": {
      "text/plain": [
       "Index(['fuelType_Other', 'model_ CLC Class', 'model_ R Class', 'model_180',\n",
       "       'model_200', 'model_230', 'transmission_Other', 'model_220'],\n",
       "      dtype='object')"
      ]
     },
     "execution_count": 98,
     "metadata": {},
     "output_type": "execute_result"
    }
   ],
   "source": [
    "diff_cols"
   ]
  },
  {
   "cell_type": "code",
   "execution_count": 99,
   "id": "da91f481-2951-4ff8-adb9-e0c149c506a0",
   "metadata": {
    "tags": []
   },
   "outputs": [],
   "source": [
    "train = train.reindex(columns=set(train.columns.append(test.columns)), fill_value=0)\n",
    "test = test.reindex(columns=set(train.columns.append(test.columns)), fill_value=0)"
   ]
  },
  {
   "cell_type": "code",
   "execution_count": 100,
   "id": "ca61bc9a-86eb-438a-9d5d-8feaee062c6b",
   "metadata": {
    "tags": []
   },
   "outputs": [],
   "source": [
    "for col in diff_cols:\n",
    "    train[col] = train[col].astype('uint8')\n",
    "    test[col] = test[col].astype('uint8')"
   ]
  },
  {
   "cell_type": "code",
   "execution_count": 128,
   "id": "a62157d7-9b29-44b0-805d-823293cdaa2b",
   "metadata": {
    "tags": []
   },
   "outputs": [],
   "source": [
    "train = train.sort_index(axis=1)\n",
    "test = test.sort_index(axis=1)"
   ]
  },
  {
   "cell_type": "code",
   "execution_count": 129,
   "id": "b327c10f-6d3f-4276-90cf-0f7d5b229556",
   "metadata": {
    "tags": []
   },
   "outputs": [],
   "source": [
    "x_tr, x_val, y_tr, y_val = train_test_split(train, y_train, test_size=0.25, random_state=0)"
   ]
  },
  {
   "cell_type": "code",
   "execution_count": 132,
   "id": "107e2ac6-8a7a-4fc8-993e-0b000c633305",
   "metadata": {
    "tags": []
   },
   "outputs": [
    {
     "data": {
      "text/html": [
       "<style>#sk-container-id-12 {color: black;}#sk-container-id-12 pre{padding: 0;}#sk-container-id-12 div.sk-toggleable {background-color: white;}#sk-container-id-12 label.sk-toggleable__label {cursor: pointer;display: block;width: 100%;margin-bottom: 0;padding: 0.3em;box-sizing: border-box;text-align: center;}#sk-container-id-12 label.sk-toggleable__label-arrow:before {content: \"▸\";float: left;margin-right: 0.25em;color: #696969;}#sk-container-id-12 label.sk-toggleable__label-arrow:hover:before {color: black;}#sk-container-id-12 div.sk-estimator:hover label.sk-toggleable__label-arrow:before {color: black;}#sk-container-id-12 div.sk-toggleable__content {max-height: 0;max-width: 0;overflow: hidden;text-align: left;background-color: #f0f8ff;}#sk-container-id-12 div.sk-toggleable__content pre {margin: 0.2em;color: black;border-radius: 0.25em;background-color: #f0f8ff;}#sk-container-id-12 input.sk-toggleable__control:checked~div.sk-toggleable__content {max-height: 200px;max-width: 100%;overflow: auto;}#sk-container-id-12 input.sk-toggleable__control:checked~label.sk-toggleable__label-arrow:before {content: \"▾\";}#sk-container-id-12 div.sk-estimator input.sk-toggleable__control:checked~label.sk-toggleable__label {background-color: #d4ebff;}#sk-container-id-12 div.sk-label input.sk-toggleable__control:checked~label.sk-toggleable__label {background-color: #d4ebff;}#sk-container-id-12 input.sk-hidden--visually {border: 0;clip: rect(1px 1px 1px 1px);clip: rect(1px, 1px, 1px, 1px);height: 1px;margin: -1px;overflow: hidden;padding: 0;position: absolute;width: 1px;}#sk-container-id-12 div.sk-estimator {font-family: monospace;background-color: #f0f8ff;border: 1px dotted black;border-radius: 0.25em;box-sizing: border-box;margin-bottom: 0.5em;}#sk-container-id-12 div.sk-estimator:hover {background-color: #d4ebff;}#sk-container-id-12 div.sk-parallel-item::after {content: \"\";width: 100%;border-bottom: 1px solid gray;flex-grow: 1;}#sk-container-id-12 div.sk-label:hover label.sk-toggleable__label {background-color: #d4ebff;}#sk-container-id-12 div.sk-serial::before {content: \"\";position: absolute;border-left: 1px solid gray;box-sizing: border-box;top: 0;bottom: 0;left: 50%;z-index: 0;}#sk-container-id-12 div.sk-serial {display: flex;flex-direction: column;align-items: center;background-color: white;padding-right: 0.2em;padding-left: 0.2em;position: relative;}#sk-container-id-12 div.sk-item {position: relative;z-index: 1;}#sk-container-id-12 div.sk-parallel {display: flex;align-items: stretch;justify-content: center;background-color: white;position: relative;}#sk-container-id-12 div.sk-item::before, #sk-container-id-12 div.sk-parallel-item::before {content: \"\";position: absolute;border-left: 1px solid gray;box-sizing: border-box;top: 0;bottom: 0;left: 50%;z-index: -1;}#sk-container-id-12 div.sk-parallel-item {display: flex;flex-direction: column;z-index: 1;position: relative;background-color: white;}#sk-container-id-12 div.sk-parallel-item:first-child::after {align-self: flex-end;width: 50%;}#sk-container-id-12 div.sk-parallel-item:last-child::after {align-self: flex-start;width: 50%;}#sk-container-id-12 div.sk-parallel-item:only-child::after {width: 0;}#sk-container-id-12 div.sk-dashed-wrapped {border: 1px dashed gray;margin: 0 0.4em 0.5em 0.4em;box-sizing: border-box;padding-bottom: 0.4em;background-color: white;}#sk-container-id-12 div.sk-label label {font-family: monospace;font-weight: bold;display: inline-block;line-height: 1.2em;}#sk-container-id-12 div.sk-label-container {text-align: center;}#sk-container-id-12 div.sk-container {/* jupyter's `normalize.less` sets `[hidden] { display: none; }` but bootstrap.min.css set `[hidden] { display: none !important; }` so we also need the `!important` here to be able to override the default hidden behavior on the sphinx rendered scikit-learn.org. See: https://github.com/scikit-learn/scikit-learn/issues/21755 */display: inline-block !important;position: relative;}#sk-container-id-12 div.sk-text-repr-fallback {display: none;}</style><div id=\"sk-container-id-12\" class=\"sk-top-container\"><div class=\"sk-text-repr-fallback\"><pre>RandomForestRegressor(random_state=0)</pre><b>In a Jupyter environment, please rerun this cell to show the HTML representation or trust the notebook. <br />On GitHub, the HTML representation is unable to render, please try loading this page with nbviewer.org.</b></div><div class=\"sk-container\" hidden><div class=\"sk-item\"><div class=\"sk-estimator sk-toggleable\"><input class=\"sk-toggleable__control sk-hidden--visually\" id=\"sk-estimator-id-12\" type=\"checkbox\" checked><label for=\"sk-estimator-id-12\" class=\"sk-toggleable__label sk-toggleable__label-arrow\">RandomForestRegressor</label><div class=\"sk-toggleable__content\"><pre>RandomForestRegressor(random_state=0)</pre></div></div></div></div></div>"
      ],
      "text/plain": [
       "RandomForestRegressor(random_state=0)"
      ]
     },
     "execution_count": 132,
     "metadata": {},
     "output_type": "execute_result"
    }
   ],
   "source": [
    "model = RandomForestRegressor(random_state=0)\n",
    "model.fit(x_tr, y_tr)"
   ]
  },
  {
   "cell_type": "code",
   "execution_count": 133,
   "id": "22ed25c7-6d98-474b-9f3c-0990f3ddacd3",
   "metadata": {
    "tags": []
   },
   "outputs": [
    {
     "data": {
      "text/plain": [
       "2607.4812363926317"
      ]
     },
     "execution_count": 133,
     "metadata": {},
     "output_type": "execute_result"
    }
   ],
   "source": [
    "pred = model.predict(x_val)\n",
    "mean_squared_error(y_val, pred)**0.5"
   ]
  },
  {
   "cell_type": "code",
   "execution_count": 134,
   "id": "5ecad86a-0204-4da0-a14a-faaff88b02c2",
   "metadata": {
    "tags": []
   },
   "outputs": [],
   "source": [
    "pred = model.predict(test)\n",
    "result = pd.DataFrame({\n",
    "    'ID': test_id,\n",
    "    'price': pred\n",
    "})"
   ]
  },
  {
   "cell_type": "code",
   "execution_count": 135,
   "id": "b71b2fb4-f84f-45c1-a152-f664bb39f82b",
   "metadata": {
    "tags": []
   },
   "outputs": [],
   "source": [
    "result.to_csv('07 5회 기출 변형.csv', index=False)"
   ]
  },
  {
   "cell_type": "code",
   "execution_count": 136,
   "id": "6508c082-8b09-4c6f-85ed-990adbe76f37",
   "metadata": {
    "tags": []
   },
   "outputs": [
    {
     "data": {
      "text/html": [
       "<div>\n",
       "<style scoped>\n",
       "    .dataframe tbody tr th:only-of-type {\n",
       "        vertical-align: middle;\n",
       "    }\n",
       "\n",
       "    .dataframe tbody tr th {\n",
       "        vertical-align: top;\n",
       "    }\n",
       "\n",
       "    .dataframe thead th {\n",
       "        text-align: right;\n",
       "    }\n",
       "</style>\n",
       "<table border=\"1\" class=\"dataframe\">\n",
       "  <thead>\n",
       "    <tr style=\"text-align: right;\">\n",
       "      <th></th>\n",
       "      <th>ID</th>\n",
       "      <th>height</th>\n",
       "    </tr>\n",
       "  </thead>\n",
       "  <tbody>\n",
       "    <tr>\n",
       "      <th>0</th>\n",
       "      <td>user_1</td>\n",
       "      <td>164.57</td>\n",
       "    </tr>\n",
       "    <tr>\n",
       "      <th>1</th>\n",
       "      <td>user_2</td>\n",
       "      <td>174.99</td>\n",
       "    </tr>\n",
       "    <tr>\n",
       "      <th>2</th>\n",
       "      <td>user_3</td>\n",
       "      <td>171.41</td>\n",
       "    </tr>\n",
       "    <tr>\n",
       "      <th>3</th>\n",
       "      <td>user_4</td>\n",
       "      <td>162.47</td>\n",
       "    </tr>\n",
       "    <tr>\n",
       "      <th>4</th>\n",
       "      <td>user_5</td>\n",
       "      <td>167.11</td>\n",
       "    </tr>\n",
       "  </tbody>\n",
       "</table>\n",
       "</div>"
      ],
      "text/plain": [
       "       ID  height\n",
       "0  user_1  164.57\n",
       "1  user_2  174.99\n",
       "2  user_3  171.41\n",
       "3  user_4  162.47\n",
       "4  user_5  167.11"
      ]
     },
     "execution_count": 136,
     "metadata": {},
     "output_type": "execute_result"
    }
   ],
   "source": [
    "import pandas as pd \n",
    "df= pd.read_csv('https://raw.githubusercontent.com/Datamanim/datarepo/main/krdatacertificate/e5_p3_1.csv')\n",
    "df.head()"
   ]
  },
  {
   "cell_type": "code",
   "execution_count": 137,
   "id": "45b1861e-46b5-43f8-831a-b002d4b4f192",
   "metadata": {
    "tags": []
   },
   "outputs": [],
   "source": [
    "n = len(df)"
   ]
  },
  {
   "cell_type": "code",
   "execution_count": 139,
   "id": "67dac117-9128-4307-bdbc-6a3f2e3b455e",
   "metadata": {
    "tags": []
   },
   "outputs": [
    {
     "name": "stderr",
     "output_type": "stream",
     "text": [
      "C:\\Users\\pc\\AppData\\Local\\Temp\\ipykernel_10980\\3698961737.py:1: FutureWarning: The default value of numeric_only in DataFrame.mean is deprecated. In a future version, it will default to False. In addition, specifying 'numeric_only=None' is deprecated. Select only valid columns or specify the value of numeric_only to silence this warning.\n",
      "  df.mean()\n"
     ]
    },
    {
     "data": {
      "text/plain": [
       "height    169.937273\n",
       "dtype: float64"
      ]
     },
     "execution_count": 139,
     "metadata": {},
     "output_type": "execute_result"
    }
   ],
   "source": [
    "df.mean()"
   ]
  },
  {
   "cell_type": "code",
   "execution_count": 143,
   "id": "850d348c-eba4-404e-9992-7287724ba8b7",
   "metadata": {
    "tags": []
   },
   "outputs": [],
   "source": [
    "from scipy.stats import t"
   ]
  },
  {
   "cell_type": "code",
   "execution_count": 144,
   "id": "51b20ea0-86a5-4399-8ec1-ca02f85e22a7",
   "metadata": {
    "tags": []
   },
   "outputs": [
    {
     "data": {
      "text/plain": [
       "<scipy.stats._continuous_distns.t_gen at 0x11d7af8f750>"
      ]
     },
     "execution_count": 144,
     "metadata": {},
     "output_type": "execute_result"
    }
   ],
   "source": [
    "t"
   ]
  },
  {
   "cell_type": "code",
   "execution_count": 149,
   "id": "856bbf10-9962-4815-b76b-01cf8e97491a",
   "metadata": {
    "tags": []
   },
   "outputs": [
    {
     "data": {
      "text/plain": [
       "5.977625087231691"
      ]
     },
     "execution_count": 149,
     "metadata": {},
     "output_type": "execute_result"
    }
   ],
   "source": [
    "df['height'].std()"
   ]
  },
  {
   "cell_type": "code",
   "execution_count": 150,
   "id": "5486f25a-f26b-4fbd-8b87-687e53f81364",
   "metadata": {
    "tags": []
   },
   "outputs": [
    {
     "data": {
      "text/html": [
       "<div>\n",
       "<style scoped>\n",
       "    .dataframe tbody tr th:only-of-type {\n",
       "        vertical-align: middle;\n",
       "    }\n",
       "\n",
       "    .dataframe tbody tr th {\n",
       "        vertical-align: top;\n",
       "    }\n",
       "\n",
       "    .dataframe thead th {\n",
       "        text-align: right;\n",
       "    }\n",
       "</style>\n",
       "<table border=\"1\" class=\"dataframe\">\n",
       "  <thead>\n",
       "    <tr style=\"text-align: right;\">\n",
       "      <th></th>\n",
       "      <th>ID</th>\n",
       "      <th>value</th>\n",
       "    </tr>\n",
       "  </thead>\n",
       "  <tbody>\n",
       "    <tr>\n",
       "      <th>0</th>\n",
       "      <td>A</td>\n",
       "      <td>84.179434</td>\n",
       "    </tr>\n",
       "    <tr>\n",
       "      <th>1</th>\n",
       "      <td>A</td>\n",
       "      <td>93.971003</td>\n",
       "    </tr>\n",
       "    <tr>\n",
       "      <th>2</th>\n",
       "      <td>A</td>\n",
       "      <td>62.140957</td>\n",
       "    </tr>\n",
       "    <tr>\n",
       "      <th>3</th>\n",
       "      <td>A</td>\n",
       "      <td>72.911723</td>\n",
       "    </tr>\n",
       "    <tr>\n",
       "      <th>4</th>\n",
       "      <td>A</td>\n",
       "      <td>79.252747</td>\n",
       "    </tr>\n",
       "  </tbody>\n",
       "</table>\n",
       "</div>"
      ],
      "text/plain": [
       "  ID      value\n",
       "0  A  84.179434\n",
       "1  A  93.971003\n",
       "2  A  62.140957\n",
       "3  A  72.911723\n",
       "4  A  79.252747"
      ]
     },
     "execution_count": 150,
     "metadata": {},
     "output_type": "execute_result"
    }
   ],
   "source": [
    "import pandas as pd \n",
    "df= pd.read_csv('https://raw.githubusercontent.com/Datamanim/datarepo/main/krdatacertificate/e5_p3_2.csv')\n",
    "df.head()"
   ]
  },
  {
   "cell_type": "code",
   "execution_count": 151,
   "id": "4c7bc5db-0cc9-4b7c-97f5-dfee1759347a",
   "metadata": {
    "tags": []
   },
   "outputs": [],
   "source": [
    "a = df[df['ID'] == 'A']\n",
    "b = df[df['ID'] == 'B']\n",
    "c = df[df['ID'] == 'C']"
   ]
  },
  {
   "cell_type": "code",
   "execution_count": 152,
   "id": "c3f46bdb-8eb8-4e59-90f9-e8df27c4fcd9",
   "metadata": {
    "tags": []
   },
   "outputs": [],
   "source": [
    "from scipy.stats import kruskal"
   ]
  },
  {
   "cell_type": "code",
   "execution_count": 154,
   "id": "1aa3faec-0ec9-4544-b0e1-8e6c44f5d903",
   "metadata": {
    "tags": []
   },
   "outputs": [],
   "source": [
    "statistic, pvalue = kruskal(a.value, b.value, c.value)"
   ]
  },
  {
   "cell_type": "code",
   "execution_count": 155,
   "id": "1db0332f-6b84-4baf-bb3e-6d1b75229937",
   "metadata": {
    "tags": []
   },
   "outputs": [
    {
     "data": {
      "text/plain": [
       "6.521"
      ]
     },
     "execution_count": 155,
     "metadata": {},
     "output_type": "execute_result"
    }
   ],
   "source": [
    "round(statistic, 3)"
   ]
  },
  {
   "cell_type": "code",
   "execution_count": 156,
   "id": "7eb1b056-55b6-4e11-9a1a-374f20070a9d",
   "metadata": {
    "tags": []
   },
   "outputs": [
    {
     "data": {
      "text/plain": [
       "0.038"
      ]
     },
     "execution_count": 156,
     "metadata": {},
     "output_type": "execute_result"
    }
   ],
   "source": [
    "round(pvalue, 3)"
   ]
  },
  {
   "cell_type": "code",
   "execution_count": 157,
   "id": "551d3d66-39bf-448b-819e-74eac18ee5f1",
   "metadata": {
    "tags": []
   },
   "outputs": [
    {
     "data": {
      "text/plain": [
       "'대립가설'"
      ]
     },
     "execution_count": 157,
     "metadata": {},
     "output_type": "execute_result"
    }
   ],
   "source": [
    "'대립가설'"
   ]
  },
  {
   "cell_type": "code",
   "execution_count": null,
   "id": "4c53c113-3f23-4323-a555-ac8c8c289a38",
   "metadata": {},
   "outputs": [],
   "source": []
  }
 ],
 "metadata": {
  "kernelspec": {
   "display_name": "Python 3",
   "language": "python",
   "name": "python3"
  },
  "language_info": {
   "codemirror_mode": {
    "name": "ipython",
    "version": 3
   },
   "file_extension": ".py",
   "mimetype": "text/x-python",
   "name": "python",
   "nbconvert_exporter": "python",
   "pygments_lexer": "ipython3",
   "version": "3.11.4"
  }
 },
 "nbformat": 4,
 "nbformat_minor": 5
}
