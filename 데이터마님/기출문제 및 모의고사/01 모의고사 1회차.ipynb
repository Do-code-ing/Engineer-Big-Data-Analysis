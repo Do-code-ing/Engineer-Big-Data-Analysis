{
 "cells": [
  {
   "cell_type": "code",
   "execution_count": 1,
   "id": "d3e5c720-db36-4465-bcdd-89b600bfe5fd",
   "metadata": {
    "tags": []
   },
   "outputs": [],
   "source": [
    "import pandas as pd\n",
    "df = pd.read_csv('https://raw.githubusercontent.com/Datamanim/datarepo/main/bank/train.csv')"
   ]
  },
  {
   "cell_type": "code",
   "execution_count": 2,
   "id": "1297476f-cd61-4b74-8244-f5735fa38ef1",
   "metadata": {
    "tags": []
   },
   "outputs": [
    {
     "data": {
      "text/html": [
       "<div>\n",
       "<style scoped>\n",
       "    .dataframe tbody tr th:only-of-type {\n",
       "        vertical-align: middle;\n",
       "    }\n",
       "\n",
       "    .dataframe tbody tr th {\n",
       "        vertical-align: top;\n",
       "    }\n",
       "\n",
       "    .dataframe thead th {\n",
       "        text-align: right;\n",
       "    }\n",
       "</style>\n",
       "<table border=\"1\" class=\"dataframe\">\n",
       "  <thead>\n",
       "    <tr style=\"text-align: right;\">\n",
       "      <th></th>\n",
       "      <th>ID</th>\n",
       "      <th>age</th>\n",
       "      <th>job</th>\n",
       "      <th>marital</th>\n",
       "      <th>education</th>\n",
       "      <th>default</th>\n",
       "      <th>balance</th>\n",
       "      <th>housing</th>\n",
       "      <th>loan</th>\n",
       "      <th>contact</th>\n",
       "      <th>day</th>\n",
       "      <th>month</th>\n",
       "      <th>campaign</th>\n",
       "      <th>pdays</th>\n",
       "      <th>previous</th>\n",
       "      <th>poutcome</th>\n",
       "      <th>y</th>\n",
       "    </tr>\n",
       "  </thead>\n",
       "  <tbody>\n",
       "    <tr>\n",
       "      <th>0</th>\n",
       "      <td>13829</td>\n",
       "      <td>29</td>\n",
       "      <td>technician</td>\n",
       "      <td>single</td>\n",
       "      <td>tertiary</td>\n",
       "      <td>no</td>\n",
       "      <td>18254</td>\n",
       "      <td>no</td>\n",
       "      <td>no</td>\n",
       "      <td>cellular</td>\n",
       "      <td>11</td>\n",
       "      <td>may</td>\n",
       "      <td>2</td>\n",
       "      <td>-1</td>\n",
       "      <td>0</td>\n",
       "      <td>unknown</td>\n",
       "      <td>no</td>\n",
       "    </tr>\n",
       "    <tr>\n",
       "      <th>1</th>\n",
       "      <td>22677</td>\n",
       "      <td>26</td>\n",
       "      <td>services</td>\n",
       "      <td>single</td>\n",
       "      <td>secondary</td>\n",
       "      <td>no</td>\n",
       "      <td>512</td>\n",
       "      <td>yes</td>\n",
       "      <td>yes</td>\n",
       "      <td>unknown</td>\n",
       "      <td>5</td>\n",
       "      <td>jun</td>\n",
       "      <td>3</td>\n",
       "      <td>-1</td>\n",
       "      <td>0</td>\n",
       "      <td>unknown</td>\n",
       "      <td>no</td>\n",
       "    </tr>\n",
       "    <tr>\n",
       "      <th>2</th>\n",
       "      <td>10541</td>\n",
       "      <td>30</td>\n",
       "      <td>management</td>\n",
       "      <td>single</td>\n",
       "      <td>secondary</td>\n",
       "      <td>no</td>\n",
       "      <td>135</td>\n",
       "      <td>no</td>\n",
       "      <td>no</td>\n",
       "      <td>cellular</td>\n",
       "      <td>14</td>\n",
       "      <td>aug</td>\n",
       "      <td>2</td>\n",
       "      <td>-1</td>\n",
       "      <td>0</td>\n",
       "      <td>unknown</td>\n",
       "      <td>no</td>\n",
       "    </tr>\n",
       "    <tr>\n",
       "      <th>3</th>\n",
       "      <td>13689</td>\n",
       "      <td>41</td>\n",
       "      <td>technician</td>\n",
       "      <td>married</td>\n",
       "      <td>unknown</td>\n",
       "      <td>no</td>\n",
       "      <td>30</td>\n",
       "      <td>yes</td>\n",
       "      <td>no</td>\n",
       "      <td>cellular</td>\n",
       "      <td>10</td>\n",
       "      <td>jul</td>\n",
       "      <td>1</td>\n",
       "      <td>-1</td>\n",
       "      <td>0</td>\n",
       "      <td>unknown</td>\n",
       "      <td>no</td>\n",
       "    </tr>\n",
       "    <tr>\n",
       "      <th>4</th>\n",
       "      <td>11304</td>\n",
       "      <td>27</td>\n",
       "      <td>admin.</td>\n",
       "      <td>single</td>\n",
       "      <td>secondary</td>\n",
       "      <td>no</td>\n",
       "      <td>321</td>\n",
       "      <td>no</td>\n",
       "      <td>yes</td>\n",
       "      <td>unknown</td>\n",
       "      <td>2</td>\n",
       "      <td>sep</td>\n",
       "      <td>1</td>\n",
       "      <td>-1</td>\n",
       "      <td>0</td>\n",
       "      <td>unknown</td>\n",
       "      <td>no</td>\n",
       "    </tr>\n",
       "    <tr>\n",
       "      <th>...</th>\n",
       "      <td>...</td>\n",
       "      <td>...</td>\n",
       "      <td>...</td>\n",
       "      <td>...</td>\n",
       "      <td>...</td>\n",
       "      <td>...</td>\n",
       "      <td>...</td>\n",
       "      <td>...</td>\n",
       "      <td>...</td>\n",
       "      <td>...</td>\n",
       "      <td>...</td>\n",
       "      <td>...</td>\n",
       "      <td>...</td>\n",
       "      <td>...</td>\n",
       "      <td>...</td>\n",
       "      <td>...</td>\n",
       "      <td>...</td>\n",
       "    </tr>\n",
       "    <tr>\n",
       "      <th>12865</th>\n",
       "      <td>14023</td>\n",
       "      <td>47</td>\n",
       "      <td>technician</td>\n",
       "      <td>married</td>\n",
       "      <td>secondary</td>\n",
       "      <td>no</td>\n",
       "      <td>1167</td>\n",
       "      <td>yes</td>\n",
       "      <td>no</td>\n",
       "      <td>cellular</td>\n",
       "      <td>30</td>\n",
       "      <td>apr</td>\n",
       "      <td>1</td>\n",
       "      <td>87</td>\n",
       "      <td>5</td>\n",
       "      <td>failure</td>\n",
       "      <td>yes</td>\n",
       "    </tr>\n",
       "    <tr>\n",
       "      <th>12866</th>\n",
       "      <td>17259</td>\n",
       "      <td>31</td>\n",
       "      <td>unknown</td>\n",
       "      <td>married</td>\n",
       "      <td>secondary</td>\n",
       "      <td>no</td>\n",
       "      <td>111</td>\n",
       "      <td>no</td>\n",
       "      <td>no</td>\n",
       "      <td>cellular</td>\n",
       "      <td>21</td>\n",
       "      <td>nov</td>\n",
       "      <td>2</td>\n",
       "      <td>93</td>\n",
       "      <td>2</td>\n",
       "      <td>failure</td>\n",
       "      <td>yes</td>\n",
       "    </tr>\n",
       "    <tr>\n",
       "      <th>12867</th>\n",
       "      <td>15200</td>\n",
       "      <td>37</td>\n",
       "      <td>unemployed</td>\n",
       "      <td>single</td>\n",
       "      <td>tertiary</td>\n",
       "      <td>no</td>\n",
       "      <td>1316</td>\n",
       "      <td>yes</td>\n",
       "      <td>no</td>\n",
       "      <td>cellular</td>\n",
       "      <td>18</td>\n",
       "      <td>nov</td>\n",
       "      <td>1</td>\n",
       "      <td>172</td>\n",
       "      <td>2</td>\n",
       "      <td>failure</td>\n",
       "      <td>no</td>\n",
       "    </tr>\n",
       "    <tr>\n",
       "      <th>12868</th>\n",
       "      <td>13775</td>\n",
       "      <td>42</td>\n",
       "      <td>management</td>\n",
       "      <td>married</td>\n",
       "      <td>tertiary</td>\n",
       "      <td>no</td>\n",
       "      <td>479</td>\n",
       "      <td>yes</td>\n",
       "      <td>no</td>\n",
       "      <td>unknown</td>\n",
       "      <td>28</td>\n",
       "      <td>may</td>\n",
       "      <td>2</td>\n",
       "      <td>-1</td>\n",
       "      <td>0</td>\n",
       "      <td>unknown</td>\n",
       "      <td>no</td>\n",
       "    </tr>\n",
       "    <tr>\n",
       "      <th>12869</th>\n",
       "      <td>20137</td>\n",
       "      <td>24</td>\n",
       "      <td>services</td>\n",
       "      <td>single</td>\n",
       "      <td>secondary</td>\n",
       "      <td>no</td>\n",
       "      <td>0</td>\n",
       "      <td>no</td>\n",
       "      <td>no</td>\n",
       "      <td>unknown</td>\n",
       "      <td>16</td>\n",
       "      <td>may</td>\n",
       "      <td>1</td>\n",
       "      <td>-1</td>\n",
       "      <td>0</td>\n",
       "      <td>unknown</td>\n",
       "      <td>no</td>\n",
       "    </tr>\n",
       "  </tbody>\n",
       "</table>\n",
       "<p>12870 rows × 17 columns</p>\n",
       "</div>"
      ],
      "text/plain": [
       "          ID  age         job  marital  education default  balance housing  \\\n",
       "0      13829   29  technician   single   tertiary      no    18254      no   \n",
       "1      22677   26    services   single  secondary      no      512     yes   \n",
       "2      10541   30  management   single  secondary      no      135      no   \n",
       "3      13689   41  technician  married    unknown      no       30     yes   \n",
       "4      11304   27      admin.   single  secondary      no      321      no   \n",
       "...      ...  ...         ...      ...        ...     ...      ...     ...   \n",
       "12865  14023   47  technician  married  secondary      no     1167     yes   \n",
       "12866  17259   31     unknown  married  secondary      no      111      no   \n",
       "12867  15200   37  unemployed   single   tertiary      no     1316     yes   \n",
       "12868  13775   42  management  married   tertiary      no      479     yes   \n",
       "12869  20137   24    services   single  secondary      no        0      no   \n",
       "\n",
       "      loan   contact  day month  campaign  pdays  previous poutcome    y  \n",
       "0       no  cellular   11   may         2     -1         0  unknown   no  \n",
       "1      yes   unknown    5   jun         3     -1         0  unknown   no  \n",
       "2       no  cellular   14   aug         2     -1         0  unknown   no  \n",
       "3       no  cellular   10   jul         1     -1         0  unknown   no  \n",
       "4      yes   unknown    2   sep         1     -1         0  unknown   no  \n",
       "...    ...       ...  ...   ...       ...    ...       ...      ...  ...  \n",
       "12865   no  cellular   30   apr         1     87         5  failure  yes  \n",
       "12866   no  cellular   21   nov         2     93         2  failure  yes  \n",
       "12867   no  cellular   18   nov         1    172         2  failure   no  \n",
       "12868   no   unknown   28   may         2     -1         0  unknown   no  \n",
       "12869   no   unknown   16   may         1     -1         0  unknown   no  \n",
       "\n",
       "[12870 rows x 17 columns]"
      ]
     },
     "execution_count": 2,
     "metadata": {},
     "output_type": "execute_result"
    }
   ],
   "source": [
    "df"
   ]
  },
  {
   "cell_type": "code",
   "execution_count": 4,
   "id": "bab54062-4357-4e40-a164-267902f9cbc1",
   "metadata": {
    "tags": []
   },
   "outputs": [
    {
     "data": {
      "text/plain": [
       "30"
      ]
     },
     "execution_count": 4,
     "metadata": {},
     "output_type": "execute_result"
    }
   ],
   "source": [
    "df['age'].apply(lambda x:x//10*10).value_counts().index[0]"
   ]
  },
  {
   "cell_type": "code",
   "execution_count": 6,
   "id": "a16cae02-e77e-4d58-85ac-5c398d0ce0c6",
   "metadata": {
    "tags": []
   },
   "outputs": [
    {
     "data": {
      "text/plain": [
       "5056"
      ]
     },
     "execution_count": 6,
     "metadata": {},
     "output_type": "execute_result"
    }
   ],
   "source": [
    "df['age'].apply(lambda x:x//10*10).value_counts().values[0]"
   ]
  },
  {
   "cell_type": "code",
   "execution_count": 7,
   "id": "777d2208-140f-42e0-8a71-f4163d233af4",
   "metadata": {
    "tags": []
   },
   "outputs": [
    {
     "data": {
      "text/plain": [
       "504"
      ]
     },
     "execution_count": 7,
     "metadata": {},
     "output_type": "execute_result"
    }
   ],
   "source": [
    "cond1 = df.age >= 25\n",
    "cond2 = df.age < 29\n",
    "cond3 = df.housing == 'yes'\n",
    "len(df[cond1 & cond2 & cond3])"
   ]
  },
  {
   "cell_type": "code",
   "execution_count": 9,
   "id": "d8f720b2-0eb6-468c-b2b0-2e5fc7b10453",
   "metadata": {
    "tags": []
   },
   "outputs": [
    {
     "data": {
      "text/html": [
       "<div>\n",
       "<style scoped>\n",
       "    .dataframe tbody tr th:only-of-type {\n",
       "        vertical-align: middle;\n",
       "    }\n",
       "\n",
       "    .dataframe tbody tr th {\n",
       "        vertical-align: top;\n",
       "    }\n",
       "\n",
       "    .dataframe thead th {\n",
       "        text-align: right;\n",
       "    }\n",
       "</style>\n",
       "<table border=\"1\" class=\"dataframe\">\n",
       "  <thead>\n",
       "    <tr style=\"text-align: right;\">\n",
       "      <th></th>\n",
       "      <th>job</th>\n",
       "      <th>marital</th>\n",
       "      <th>education</th>\n",
       "      <th>default</th>\n",
       "      <th>housing</th>\n",
       "      <th>loan</th>\n",
       "      <th>contact</th>\n",
       "      <th>month</th>\n",
       "      <th>poutcome</th>\n",
       "      <th>y</th>\n",
       "    </tr>\n",
       "  </thead>\n",
       "  <tbody>\n",
       "    <tr>\n",
       "      <th>count</th>\n",
       "      <td>12870</td>\n",
       "      <td>12870</td>\n",
       "      <td>12870</td>\n",
       "      <td>12870</td>\n",
       "      <td>12870</td>\n",
       "      <td>12870</td>\n",
       "      <td>12870</td>\n",
       "      <td>12870</td>\n",
       "      <td>12870</td>\n",
       "      <td>12870</td>\n",
       "    </tr>\n",
       "    <tr>\n",
       "      <th>unique</th>\n",
       "      <td>12</td>\n",
       "      <td>3</td>\n",
       "      <td>4</td>\n",
       "      <td>2</td>\n",
       "      <td>2</td>\n",
       "      <td>2</td>\n",
       "      <td>3</td>\n",
       "      <td>12</td>\n",
       "      <td>4</td>\n",
       "      <td>2</td>\n",
       "    </tr>\n",
       "    <tr>\n",
       "      <th>top</th>\n",
       "      <td>management</td>\n",
       "      <td>married</td>\n",
       "      <td>secondary</td>\n",
       "      <td>no</td>\n",
       "      <td>yes</td>\n",
       "      <td>no</td>\n",
       "      <td>cellular</td>\n",
       "      <td>may</td>\n",
       "      <td>unknown</td>\n",
       "      <td>no</td>\n",
       "    </tr>\n",
       "    <tr>\n",
       "      <th>freq</th>\n",
       "      <td>2858</td>\n",
       "      <td>7490</td>\n",
       "      <td>6368</td>\n",
       "      <td>12662</td>\n",
       "      <td>6605</td>\n",
       "      <td>11060</td>\n",
       "      <td>8756</td>\n",
       "      <td>3594</td>\n",
       "      <td>10070</td>\n",
       "      <td>8903</td>\n",
       "    </tr>\n",
       "  </tbody>\n",
       "</table>\n",
       "</div>"
      ],
      "text/plain": [
       "               job  marital  education default housing   loan   contact  \\\n",
       "count        12870    12870      12870   12870   12870  12870     12870   \n",
       "unique          12        3          4       2       2      2         3   \n",
       "top     management  married  secondary      no     yes     no  cellular   \n",
       "freq          2858     7490       6368   12662    6605  11060      8756   \n",
       "\n",
       "        month poutcome      y  \n",
       "count   12870    12870  12870  \n",
       "unique     12        4      2  \n",
       "top       may  unknown     no  \n",
       "freq     3594    10070   8903  "
      ]
     },
     "execution_count": 9,
     "metadata": {},
     "output_type": "execute_result"
    }
   ],
   "source": [
    "df.describe(include='O')"
   ]
  },
  {
   "cell_type": "code",
   "execution_count": 10,
   "id": "3b54b8b4-2612-421f-afdb-4834e8fa38f3",
   "metadata": {
    "tags": []
   },
   "outputs": [
    {
     "data": {
      "text/plain": [
       "3473.73"
      ]
     },
     "execution_count": 10,
     "metadata": {},
     "output_type": "execute_result"
    }
   ],
   "source": [
    "cond1 = df.balance >= df.balance.mean()\n",
    "df[cond1].sort_values(by='ID', ascending=False).head(100).balance.mean()"
   ]
  },
  {
   "cell_type": "code",
   "execution_count": 18,
   "id": "1e3b3bf6-06bb-4b0f-9d20-640f180a145b",
   "metadata": {
    "tags": []
   },
   "outputs": [
    {
     "data": {
      "text/plain": [
       "(15, 'may')"
      ]
     },
     "execution_count": 18,
     "metadata": {},
     "output_type": "execute_result"
    }
   ],
   "source": [
    "df[['day', 'month']].groupby(['day', 'month']).value_counts().sort_values().index[-1]"
   ]
  },
  {
   "cell_type": "code",
   "execution_count": 20,
   "id": "e20662dd-0e80-46e6-b10c-9f5f8120cdee",
   "metadata": {
    "tags": []
   },
   "outputs": [],
   "source": [
    "cond1 = df.job =='unknown'"
   ]
  },
  {
   "cell_type": "code",
   "execution_count": 21,
   "id": "a0ff7e77-ee77-4411-bb40-6d84003dc56c",
   "metadata": {
    "tags": []
   },
   "outputs": [],
   "source": [
    "from scipy.stats import shapiro"
   ]
  },
  {
   "cell_type": "code",
   "execution_count": 23,
   "id": "c43dbacf-5e7f-4b68-af6c-631cabc1bbc5",
   "metadata": {
    "tags": []
   },
   "outputs": [],
   "source": [
    "_, pvalue = shapiro(df[cond1].age)"
   ]
  },
  {
   "cell_type": "code",
   "execution_count": 24,
   "id": "e649eefc-eb5d-4a9d-8cbe-dbdb6d6396c1",
   "metadata": {
    "tags": []
   },
   "outputs": [
    {
     "data": {
      "text/plain": [
       "0.19612720608711243"
      ]
     },
     "execution_count": 24,
     "metadata": {},
     "output_type": "execute_result"
    }
   ],
   "source": [
    "pvalue"
   ]
  },
  {
   "cell_type": "code",
   "execution_count": 27,
   "id": "a0ca0207-34e1-443c-9841-ff0989df4f7a",
   "metadata": {
    "tags": []
   },
   "outputs": [],
   "source": [
    "from scipy.stats import pearsonr"
   ]
  },
  {
   "cell_type": "code",
   "execution_count": 28,
   "id": "282ba6b4-2d2f-4ec2-8e07-882b685d3d8f",
   "metadata": {
    "tags": []
   },
   "outputs": [
    {
     "data": {
      "text/plain": [
       "PearsonRResult(statistic=0.10198734763981485, pvalue=4.16000022618503e-31)"
      ]
     },
     "execution_count": 28,
     "metadata": {},
     "output_type": "execute_result"
    }
   ],
   "source": [
    "pearsonr(df.age, df.balance)"
   ]
  },
  {
   "cell_type": "code",
   "execution_count": 30,
   "id": "a76fe026-7cae-46d6-96db-5a1af617b91c",
   "metadata": {
    "tags": []
   },
   "outputs": [],
   "source": [
    "from scipy.stats import chi2_contingency"
   ]
  },
  {
   "cell_type": "code",
   "execution_count": 31,
   "id": "9f68399b-a873-41ae-b884-1c7b8f84f04f",
   "metadata": {
    "tags": []
   },
   "outputs": [],
   "source": [
    "cdf = pd.crosstab(df.y, df.education)"
   ]
  },
  {
   "cell_type": "code",
   "execution_count": 32,
   "id": "c2f21d84-b71c-4ca4-9ff5-000a74f5f9e5",
   "metadata": {
    "tags": []
   },
   "outputs": [
    {
     "data": {
      "text/plain": [
       "Chi2ContingencyResult(statistic=133.87601246919445, pvalue=7.901201277473551e-29, dof=3, expected_freq=array([[1300.51592852, 4405.15182595, 2818.93745144,  378.39479409],\n",
       "       [ 579.48407148, 1962.84817405, 1256.06254856,  168.60520591]]))"
      ]
     },
     "execution_count": 32,
     "metadata": {},
     "output_type": "execute_result"
    }
   ],
   "source": [
    "chi2_contingency(cdf)"
   ]
  },
  {
   "cell_type": "code",
   "execution_count": 33,
   "id": "5c2c5e67-11b3-4343-a866-d6a79a8a85a4",
   "metadata": {
    "tags": []
   },
   "outputs": [
    {
     "data": {
      "text/plain": [
       "married     7490\n",
       "single      3905\n",
       "divorced    1475\n",
       "Name: marital, dtype: int64"
      ]
     },
     "execution_count": 33,
     "metadata": {},
     "output_type": "execute_result"
    }
   ],
   "source": [
    "df.marital.value_counts()"
   ]
  },
  {
   "cell_type": "code",
   "execution_count": 56,
   "id": "0e58f5c4-09cb-4727-9e8f-7607d9d037fb",
   "metadata": {
    "tags": []
   },
   "outputs": [],
   "source": [
    "ndf = df.groupby(['job', 'marital']).size().reset_index()"
   ]
  },
  {
   "cell_type": "code",
   "execution_count": 60,
   "id": "f51ea550-09ad-4f7a-8e7d-d696c561a6e7",
   "metadata": {
    "tags": []
   },
   "outputs": [],
   "source": [
    "pdf = ndf.pivot_table(index='job', columns='marital')[0]"
   ]
  },
  {
   "cell_type": "code",
   "execution_count": 62,
   "id": "a06f2c40-13f3-4434-9fde-a87d795a4e40",
   "metadata": {
    "tags": []
   },
   "outputs": [],
   "source": [
    "pdf = pdf.fillna(0)"
   ]
  },
  {
   "cell_type": "code",
   "execution_count": 63,
   "id": "11e42cd8-0703-44c1-81c1-dd9faae36611",
   "metadata": {
    "tags": []
   },
   "outputs": [],
   "source": [
    "pdf['ratio'] = pdf['divorced'] / pdf['married']"
   ]
  },
  {
   "cell_type": "code",
   "execution_count": 67,
   "id": "f38917ba-e981-4248-b982-dedc8872c7a9",
   "metadata": {
    "tags": []
   },
   "outputs": [
    {
     "data": {
      "text/plain": [
       "0.2831050228310502"
      ]
     },
     "execution_count": 67,
     "metadata": {},
     "output_type": "execute_result"
    }
   ],
   "source": [
    "pdf['ratio'].sort_values().values[-1]"
   ]
  },
  {
   "cell_type": "code",
   "execution_count": 121,
   "id": "8f18d1aa-5e61-4d5c-a9db-1c5f775a31e5",
   "metadata": {
    "tags": []
   },
   "outputs": [
    {
     "data": {
      "text/html": [
       "<div>\n",
       "<style scoped>\n",
       "    .dataframe tbody tr th:only-of-type {\n",
       "        vertical-align: middle;\n",
       "    }\n",
       "\n",
       "    .dataframe tbody tr th {\n",
       "        vertical-align: top;\n",
       "    }\n",
       "\n",
       "    .dataframe thead th {\n",
       "        text-align: right;\n",
       "    }\n",
       "</style>\n",
       "<table border=\"1\" class=\"dataframe\">\n",
       "  <thead>\n",
       "    <tr style=\"text-align: right;\">\n",
       "      <th></th>\n",
       "      <th>ID</th>\n",
       "      <th>age</th>\n",
       "      <th>job</th>\n",
       "      <th>marital</th>\n",
       "      <th>education</th>\n",
       "      <th>default</th>\n",
       "      <th>balance</th>\n",
       "      <th>housing</th>\n",
       "      <th>loan</th>\n",
       "      <th>contact</th>\n",
       "      <th>day</th>\n",
       "      <th>month</th>\n",
       "      <th>campaign</th>\n",
       "      <th>pdays</th>\n",
       "      <th>previous</th>\n",
       "      <th>poutcome</th>\n",
       "      <th>y</th>\n",
       "    </tr>\n",
       "  </thead>\n",
       "  <tbody>\n",
       "    <tr>\n",
       "      <th>0</th>\n",
       "      <td>13829</td>\n",
       "      <td>29</td>\n",
       "      <td>technician</td>\n",
       "      <td>single</td>\n",
       "      <td>tertiary</td>\n",
       "      <td>no</td>\n",
       "      <td>18254</td>\n",
       "      <td>no</td>\n",
       "      <td>no</td>\n",
       "      <td>cellular</td>\n",
       "      <td>11</td>\n",
       "      <td>may</td>\n",
       "      <td>2</td>\n",
       "      <td>-1</td>\n",
       "      <td>0</td>\n",
       "      <td>unknown</td>\n",
       "      <td>no</td>\n",
       "    </tr>\n",
       "    <tr>\n",
       "      <th>1</th>\n",
       "      <td>22677</td>\n",
       "      <td>26</td>\n",
       "      <td>services</td>\n",
       "      <td>single</td>\n",
       "      <td>secondary</td>\n",
       "      <td>no</td>\n",
       "      <td>512</td>\n",
       "      <td>yes</td>\n",
       "      <td>yes</td>\n",
       "      <td>unknown</td>\n",
       "      <td>5</td>\n",
       "      <td>jun</td>\n",
       "      <td>3</td>\n",
       "      <td>-1</td>\n",
       "      <td>0</td>\n",
       "      <td>unknown</td>\n",
       "      <td>no</td>\n",
       "    </tr>\n",
       "    <tr>\n",
       "      <th>2</th>\n",
       "      <td>10541</td>\n",
       "      <td>30</td>\n",
       "      <td>management</td>\n",
       "      <td>single</td>\n",
       "      <td>secondary</td>\n",
       "      <td>no</td>\n",
       "      <td>135</td>\n",
       "      <td>no</td>\n",
       "      <td>no</td>\n",
       "      <td>cellular</td>\n",
       "      <td>14</td>\n",
       "      <td>aug</td>\n",
       "      <td>2</td>\n",
       "      <td>-1</td>\n",
       "      <td>0</td>\n",
       "      <td>unknown</td>\n",
       "      <td>no</td>\n",
       "    </tr>\n",
       "    <tr>\n",
       "      <th>3</th>\n",
       "      <td>13689</td>\n",
       "      <td>41</td>\n",
       "      <td>technician</td>\n",
       "      <td>married</td>\n",
       "      <td>unknown</td>\n",
       "      <td>no</td>\n",
       "      <td>30</td>\n",
       "      <td>yes</td>\n",
       "      <td>no</td>\n",
       "      <td>cellular</td>\n",
       "      <td>10</td>\n",
       "      <td>jul</td>\n",
       "      <td>1</td>\n",
       "      <td>-1</td>\n",
       "      <td>0</td>\n",
       "      <td>unknown</td>\n",
       "      <td>no</td>\n",
       "    </tr>\n",
       "    <tr>\n",
       "      <th>4</th>\n",
       "      <td>11304</td>\n",
       "      <td>27</td>\n",
       "      <td>admin.</td>\n",
       "      <td>single</td>\n",
       "      <td>secondary</td>\n",
       "      <td>no</td>\n",
       "      <td>321</td>\n",
       "      <td>no</td>\n",
       "      <td>yes</td>\n",
       "      <td>unknown</td>\n",
       "      <td>2</td>\n",
       "      <td>sep</td>\n",
       "      <td>1</td>\n",
       "      <td>-1</td>\n",
       "      <td>0</td>\n",
       "      <td>unknown</td>\n",
       "      <td>no</td>\n",
       "    </tr>\n",
       "  </tbody>\n",
       "</table>\n",
       "</div>"
      ],
      "text/plain": [
       "      ID  age         job  marital  education default  balance housing loan  \\\n",
       "0  13829   29  technician   single   tertiary      no    18254      no   no   \n",
       "1  22677   26    services   single  secondary      no      512     yes  yes   \n",
       "2  10541   30  management   single  secondary      no      135      no   no   \n",
       "3  13689   41  technician  married    unknown      no       30     yes   no   \n",
       "4  11304   27      admin.   single  secondary      no      321      no  yes   \n",
       "\n",
       "    contact  day month  campaign  pdays  previous poutcome   y  \n",
       "0  cellular   11   may         2     -1         0  unknown  no  \n",
       "1   unknown    5   jun         3     -1         0  unknown  no  \n",
       "2  cellular   14   aug         2     -1         0  unknown  no  \n",
       "3  cellular   10   jul         1     -1         0  unknown  no  \n",
       "4   unknown    2   sep         1     -1         0  unknown  no  "
      ]
     },
     "metadata": {},
     "output_type": "display_data"
    },
    {
     "data": {
      "text/html": [
       "<div>\n",
       "<style scoped>\n",
       "    .dataframe tbody tr th:only-of-type {\n",
       "        vertical-align: middle;\n",
       "    }\n",
       "\n",
       "    .dataframe tbody tr th {\n",
       "        vertical-align: top;\n",
       "    }\n",
       "\n",
       "    .dataframe thead th {\n",
       "        text-align: right;\n",
       "    }\n",
       "</style>\n",
       "<table border=\"1\" class=\"dataframe\">\n",
       "  <thead>\n",
       "    <tr style=\"text-align: right;\">\n",
       "      <th></th>\n",
       "      <th>ID</th>\n",
       "      <th>age</th>\n",
       "      <th>job</th>\n",
       "      <th>marital</th>\n",
       "      <th>education</th>\n",
       "      <th>default</th>\n",
       "      <th>balance</th>\n",
       "      <th>housing</th>\n",
       "      <th>loan</th>\n",
       "      <th>contact</th>\n",
       "      <th>day</th>\n",
       "      <th>month</th>\n",
       "      <th>campaign</th>\n",
       "      <th>pdays</th>\n",
       "      <th>previous</th>\n",
       "      <th>poutcome</th>\n",
       "    </tr>\n",
       "  </thead>\n",
       "  <tbody>\n",
       "    <tr>\n",
       "      <th>0</th>\n",
       "      <td>53608</td>\n",
       "      <td>32</td>\n",
       "      <td>management</td>\n",
       "      <td>single</td>\n",
       "      <td>tertiary</td>\n",
       "      <td>no</td>\n",
       "      <td>12569</td>\n",
       "      <td>no</td>\n",
       "      <td>no</td>\n",
       "      <td>cellular</td>\n",
       "      <td>1</td>\n",
       "      <td>jul</td>\n",
       "      <td>2</td>\n",
       "      <td>295</td>\n",
       "      <td>2</td>\n",
       "      <td>success</td>\n",
       "    </tr>\n",
       "    <tr>\n",
       "      <th>1</th>\n",
       "      <td>51055</td>\n",
       "      <td>25</td>\n",
       "      <td>services</td>\n",
       "      <td>single</td>\n",
       "      <td>secondary</td>\n",
       "      <td>no</td>\n",
       "      <td>801</td>\n",
       "      <td>no</td>\n",
       "      <td>no</td>\n",
       "      <td>cellular</td>\n",
       "      <td>5</td>\n",
       "      <td>jun</td>\n",
       "      <td>2</td>\n",
       "      <td>-1</td>\n",
       "      <td>0</td>\n",
       "      <td>unknown</td>\n",
       "    </tr>\n",
       "    <tr>\n",
       "      <th>2</th>\n",
       "      <td>52573</td>\n",
       "      <td>46</td>\n",
       "      <td>blue-collar</td>\n",
       "      <td>married</td>\n",
       "      <td>secondary</td>\n",
       "      <td>no</td>\n",
       "      <td>1728</td>\n",
       "      <td>yes</td>\n",
       "      <td>no</td>\n",
       "      <td>unknown</td>\n",
       "      <td>26</td>\n",
       "      <td>may</td>\n",
       "      <td>2</td>\n",
       "      <td>-1</td>\n",
       "      <td>0</td>\n",
       "      <td>unknown</td>\n",
       "    </tr>\n",
       "    <tr>\n",
       "      <th>3</th>\n",
       "      <td>50458</td>\n",
       "      <td>39</td>\n",
       "      <td>management</td>\n",
       "      <td>divorced</td>\n",
       "      <td>secondary</td>\n",
       "      <td>no</td>\n",
       "      <td>51</td>\n",
       "      <td>no</td>\n",
       "      <td>no</td>\n",
       "      <td>unknown</td>\n",
       "      <td>17</td>\n",
       "      <td>jun</td>\n",
       "      <td>2</td>\n",
       "      <td>-1</td>\n",
       "      <td>0</td>\n",
       "      <td>unknown</td>\n",
       "    </tr>\n",
       "    <tr>\n",
       "      <th>4</th>\n",
       "      <td>52272</td>\n",
       "      <td>31</td>\n",
       "      <td>services</td>\n",
       "      <td>single</td>\n",
       "      <td>tertiary</td>\n",
       "      <td>no</td>\n",
       "      <td>1626</td>\n",
       "      <td>no</td>\n",
       "      <td>no</td>\n",
       "      <td>unknown</td>\n",
       "      <td>31</td>\n",
       "      <td>jul</td>\n",
       "      <td>1</td>\n",
       "      <td>-1</td>\n",
       "      <td>0</td>\n",
       "      <td>unknown</td>\n",
       "    </tr>\n",
       "  </tbody>\n",
       "</table>\n",
       "</div>"
      ],
      "text/plain": [
       "      ID  age          job   marital  education default  balance housing loan  \\\n",
       "0  53608   32   management    single   tertiary      no    12569      no   no   \n",
       "1  51055   25     services    single  secondary      no      801      no   no   \n",
       "2  52573   46  blue-collar   married  secondary      no     1728     yes   no   \n",
       "3  50458   39   management  divorced  secondary      no       51      no   no   \n",
       "4  52272   31     services    single   tertiary      no     1626      no   no   \n",
       "\n",
       "    contact  day month  campaign  pdays  previous poutcome  \n",
       "0  cellular    1   jul         2    295         2  success  \n",
       "1  cellular    5   jun         2     -1         0  unknown  \n",
       "2   unknown   26   may         2     -1         0  unknown  \n",
       "3   unknown   17   jun         2     -1         0  unknown  \n",
       "4   unknown   31   jul         1     -1         0  unknown  "
      ]
     },
     "metadata": {},
     "output_type": "display_data"
    },
    {
     "data": {
      "text/html": [
       "<div>\n",
       "<style scoped>\n",
       "    .dataframe tbody tr th:only-of-type {\n",
       "        vertical-align: middle;\n",
       "    }\n",
       "\n",
       "    .dataframe tbody tr th {\n",
       "        vertical-align: top;\n",
       "    }\n",
       "\n",
       "    .dataframe thead th {\n",
       "        text-align: right;\n",
       "    }\n",
       "</style>\n",
       "<table border=\"1\" class=\"dataframe\">\n",
       "  <thead>\n",
       "    <tr style=\"text-align: right;\">\n",
       "      <th></th>\n",
       "      <th>ID</th>\n",
       "      <th>predict</th>\n",
       "    </tr>\n",
       "  </thead>\n",
       "  <tbody>\n",
       "    <tr>\n",
       "      <th>0</th>\n",
       "      <td>53608</td>\n",
       "      <td>0.0</td>\n",
       "    </tr>\n",
       "    <tr>\n",
       "      <th>1</th>\n",
       "      <td>51055</td>\n",
       "      <td>0.0</td>\n",
       "    </tr>\n",
       "    <tr>\n",
       "      <th>2</th>\n",
       "      <td>52573</td>\n",
       "      <td>0.0</td>\n",
       "    </tr>\n",
       "    <tr>\n",
       "      <th>3</th>\n",
       "      <td>50458</td>\n",
       "      <td>0.0</td>\n",
       "    </tr>\n",
       "    <tr>\n",
       "      <th>4</th>\n",
       "      <td>52272</td>\n",
       "      <td>0.0</td>\n",
       "    </tr>\n",
       "  </tbody>\n",
       "</table>\n",
       "</div>"
      ],
      "text/plain": [
       "      ID  predict\n",
       "0  53608      0.0\n",
       "1  51055      0.0\n",
       "2  52573      0.0\n",
       "3  50458      0.0\n",
       "4  52272      0.0"
      ]
     },
     "metadata": {},
     "output_type": "display_data"
    }
   ],
   "source": [
    "import pandas as pd\n",
    "train= pd.read_csv('https://raw.githubusercontent.com/Datamanim/datarepo/main/bank/train.csv')\n",
    "test= pd.read_csv('https://raw.githubusercontent.com/Datamanim/datarepo/main/bank/test.csv')\n",
    "submission= pd.read_csv('https://raw.githubusercontent.com/Datamanim/datarepo/main/bank/submission.csv')\n",
    "\n",
    "display(train.head())\n",
    "display(test.head())\n",
    "display(submission.head())"
   ]
  },
  {
   "cell_type": "code",
   "execution_count": 122,
   "id": "1cf7dab8-222a-41cc-ab9c-a2a6b246476a",
   "metadata": {
    "tags": []
   },
   "outputs": [
    {
     "name": "stdout",
     "output_type": "stream",
     "text": [
      "<class 'pandas.core.frame.DataFrame'>\n",
      "RangeIndex: 12870 entries, 0 to 12869\n",
      "Data columns (total 17 columns):\n",
      " #   Column     Non-Null Count  Dtype \n",
      "---  ------     --------------  ----- \n",
      " 0   ID         12870 non-null  int64 \n",
      " 1   age        12870 non-null  int64 \n",
      " 2   job        12870 non-null  object\n",
      " 3   marital    12870 non-null  object\n",
      " 4   education  12870 non-null  object\n",
      " 5   default    12870 non-null  object\n",
      " 6   balance    12870 non-null  int64 \n",
      " 7   housing    12870 non-null  object\n",
      " 8   loan       12870 non-null  object\n",
      " 9   contact    12870 non-null  object\n",
      " 10  day        12870 non-null  int64 \n",
      " 11  month      12870 non-null  object\n",
      " 12  campaign   12870 non-null  int64 \n",
      " 13  pdays      12870 non-null  int64 \n",
      " 14  previous   12870 non-null  int64 \n",
      " 15  poutcome   12870 non-null  object\n",
      " 16  y          12870 non-null  object\n",
      "dtypes: int64(7), object(10)\n",
      "memory usage: 1.7+ MB\n"
     ]
    }
   ],
   "source": [
    "train.info()"
   ]
  },
  {
   "cell_type": "code",
   "execution_count": 123,
   "id": "ebea9ffd-d2cb-4709-b1d1-59a96727f33b",
   "metadata": {
    "tags": []
   },
   "outputs": [
    {
     "name": "stdout",
     "output_type": "stream",
     "text": [
      "<class 'pandas.core.frame.DataFrame'>\n",
      "RangeIndex: 4291 entries, 0 to 4290\n",
      "Data columns (total 16 columns):\n",
      " #   Column     Non-Null Count  Dtype \n",
      "---  ------     --------------  ----- \n",
      " 0   ID         4291 non-null   int64 \n",
      " 1   age        4291 non-null   int64 \n",
      " 2   job        4291 non-null   object\n",
      " 3   marital    4291 non-null   object\n",
      " 4   education  4291 non-null   object\n",
      " 5   default    4291 non-null   object\n",
      " 6   balance    4291 non-null   int64 \n",
      " 7   housing    4291 non-null   object\n",
      " 8   loan       4291 non-null   object\n",
      " 9   contact    4291 non-null   object\n",
      " 10  day        4291 non-null   int64 \n",
      " 11  month      4291 non-null   object\n",
      " 12  campaign   4291 non-null   int64 \n",
      " 13  pdays      4291 non-null   int64 \n",
      " 14  previous   4291 non-null   int64 \n",
      " 15  poutcome   4291 non-null   object\n",
      "dtypes: int64(7), object(9)\n",
      "memory usage: 536.5+ KB\n"
     ]
    }
   ],
   "source": [
    "test.info()"
   ]
  },
  {
   "cell_type": "code",
   "execution_count": 124,
   "id": "32ada544-f8f7-4f4f-8592-2cd4f01b0821",
   "metadata": {
    "tags": []
   },
   "outputs": [],
   "source": [
    "drop_cols = ['ID']\n",
    "train = train.drop(columns=drop_cols)\n",
    "test_ID = test.pop('ID')\n",
    "y_train = train.pop('y')"
   ]
  },
  {
   "cell_type": "code",
   "execution_count": 125,
   "id": "584fd46c-7fa2-4a77-9921-a3f4cb2a635e",
   "metadata": {
    "tags": []
   },
   "outputs": [],
   "source": [
    "y_train = y_train.map({\n",
    "    'no' : 0,\n",
    "    'yes' : 1\n",
    "})"
   ]
  },
  {
   "cell_type": "code",
   "execution_count": 126,
   "id": "ed97e6d4-7130-41ff-a666-23185139497d",
   "metadata": {
    "tags": []
   },
   "outputs": [],
   "source": [
    "from sklearn.preprocessing import RobustScaler\n",
    "from sklearn.model_selection import train_test_split\n",
    "from sklearn.ensemble import RandomForestClassifier\n",
    "from sklearn.metrics import roc_auc_score"
   ]
  },
  {
   "cell_type": "code",
   "execution_count": 127,
   "id": "76cb31e9-42d4-40c0-9db1-5e01a042caf9",
   "metadata": {
    "tags": []
   },
   "outputs": [],
   "source": [
    "scaler = RobustScaler()"
   ]
  },
  {
   "cell_type": "code",
   "execution_count": 128,
   "id": "33f4a166-32bd-4ac3-9802-030534f88393",
   "metadata": {
    "tags": []
   },
   "outputs": [],
   "source": [
    "numeric_cols = train.select_dtypes('int').columns.tolist()"
   ]
  },
  {
   "cell_type": "code",
   "execution_count": 129,
   "id": "01267607-603f-4376-83de-eb83ea2fc8e4",
   "metadata": {
    "tags": []
   },
   "outputs": [],
   "source": [
    "for col in numeric_cols:\n",
    "    train[col] = scaler.fit_transform(train[[col]])\n",
    "    test[col] = scaler.transform(test[[col]])"
   ]
  },
  {
   "cell_type": "code",
   "execution_count": 130,
   "id": "ee13d7d1-2714-4b46-874f-1879817078fe",
   "metadata": {
    "tags": []
   },
   "outputs": [],
   "source": [
    "train = pd.get_dummies(train)\n",
    "test = pd.get_dummies(test)"
   ]
  },
  {
   "cell_type": "code",
   "execution_count": 131,
   "id": "975bf3f2-0beb-499e-81be-e3955dd1e431",
   "metadata": {
    "tags": []
   },
   "outputs": [],
   "source": [
    "x_tr, x_val, y_tr, y_val = train_test_split(train, y_train, test_size=0.25, stratify=y_train, random_state=0)"
   ]
  },
  {
   "cell_type": "code",
   "execution_count": 132,
   "id": "3cdb7c09-0d59-4e0c-86f3-0e5ce2072227",
   "metadata": {
    "tags": []
   },
   "outputs": [
    {
     "data": {
      "text/html": [
       "<style>#sk-container-id-16 {color: black;}#sk-container-id-16 pre{padding: 0;}#sk-container-id-16 div.sk-toggleable {background-color: white;}#sk-container-id-16 label.sk-toggleable__label {cursor: pointer;display: block;width: 100%;margin-bottom: 0;padding: 0.3em;box-sizing: border-box;text-align: center;}#sk-container-id-16 label.sk-toggleable__label-arrow:before {content: \"▸\";float: left;margin-right: 0.25em;color: #696969;}#sk-container-id-16 label.sk-toggleable__label-arrow:hover:before {color: black;}#sk-container-id-16 div.sk-estimator:hover label.sk-toggleable__label-arrow:before {color: black;}#sk-container-id-16 div.sk-toggleable__content {max-height: 0;max-width: 0;overflow: hidden;text-align: left;background-color: #f0f8ff;}#sk-container-id-16 div.sk-toggleable__content pre {margin: 0.2em;color: black;border-radius: 0.25em;background-color: #f0f8ff;}#sk-container-id-16 input.sk-toggleable__control:checked~div.sk-toggleable__content {max-height: 200px;max-width: 100%;overflow: auto;}#sk-container-id-16 input.sk-toggleable__control:checked~label.sk-toggleable__label-arrow:before {content: \"▾\";}#sk-container-id-16 div.sk-estimator input.sk-toggleable__control:checked~label.sk-toggleable__label {background-color: #d4ebff;}#sk-container-id-16 div.sk-label input.sk-toggleable__control:checked~label.sk-toggleable__label {background-color: #d4ebff;}#sk-container-id-16 input.sk-hidden--visually {border: 0;clip: rect(1px 1px 1px 1px);clip: rect(1px, 1px, 1px, 1px);height: 1px;margin: -1px;overflow: hidden;padding: 0;position: absolute;width: 1px;}#sk-container-id-16 div.sk-estimator {font-family: monospace;background-color: #f0f8ff;border: 1px dotted black;border-radius: 0.25em;box-sizing: border-box;margin-bottom: 0.5em;}#sk-container-id-16 div.sk-estimator:hover {background-color: #d4ebff;}#sk-container-id-16 div.sk-parallel-item::after {content: \"\";width: 100%;border-bottom: 1px solid gray;flex-grow: 1;}#sk-container-id-16 div.sk-label:hover label.sk-toggleable__label {background-color: #d4ebff;}#sk-container-id-16 div.sk-serial::before {content: \"\";position: absolute;border-left: 1px solid gray;box-sizing: border-box;top: 0;bottom: 0;left: 50%;z-index: 0;}#sk-container-id-16 div.sk-serial {display: flex;flex-direction: column;align-items: center;background-color: white;padding-right: 0.2em;padding-left: 0.2em;position: relative;}#sk-container-id-16 div.sk-item {position: relative;z-index: 1;}#sk-container-id-16 div.sk-parallel {display: flex;align-items: stretch;justify-content: center;background-color: white;position: relative;}#sk-container-id-16 div.sk-item::before, #sk-container-id-16 div.sk-parallel-item::before {content: \"\";position: absolute;border-left: 1px solid gray;box-sizing: border-box;top: 0;bottom: 0;left: 50%;z-index: -1;}#sk-container-id-16 div.sk-parallel-item {display: flex;flex-direction: column;z-index: 1;position: relative;background-color: white;}#sk-container-id-16 div.sk-parallel-item:first-child::after {align-self: flex-end;width: 50%;}#sk-container-id-16 div.sk-parallel-item:last-child::after {align-self: flex-start;width: 50%;}#sk-container-id-16 div.sk-parallel-item:only-child::after {width: 0;}#sk-container-id-16 div.sk-dashed-wrapped {border: 1px dashed gray;margin: 0 0.4em 0.5em 0.4em;box-sizing: border-box;padding-bottom: 0.4em;background-color: white;}#sk-container-id-16 div.sk-label label {font-family: monospace;font-weight: bold;display: inline-block;line-height: 1.2em;}#sk-container-id-16 div.sk-label-container {text-align: center;}#sk-container-id-16 div.sk-container {/* jupyter's `normalize.less` sets `[hidden] { display: none; }` but bootstrap.min.css set `[hidden] { display: none !important; }` so we also need the `!important` here to be able to override the default hidden behavior on the sphinx rendered scikit-learn.org. See: https://github.com/scikit-learn/scikit-learn/issues/21755 */display: inline-block !important;position: relative;}#sk-container-id-16 div.sk-text-repr-fallback {display: none;}</style><div id=\"sk-container-id-16\" class=\"sk-top-container\"><div class=\"sk-text-repr-fallback\"><pre>RandomForestClassifier(random_state=0)</pre><b>In a Jupyter environment, please rerun this cell to show the HTML representation or trust the notebook. <br />On GitHub, the HTML representation is unable to render, please try loading this page with nbviewer.org.</b></div><div class=\"sk-container\" hidden><div class=\"sk-item\"><div class=\"sk-estimator sk-toggleable\"><input class=\"sk-toggleable__control sk-hidden--visually\" id=\"sk-estimator-id-16\" type=\"checkbox\" checked><label for=\"sk-estimator-id-16\" class=\"sk-toggleable__label sk-toggleable__label-arrow\">RandomForestClassifier</label><div class=\"sk-toggleable__content\"><pre>RandomForestClassifier(random_state=0)</pre></div></div></div></div></div>"
      ],
      "text/plain": [
       "RandomForestClassifier(random_state=0)"
      ]
     },
     "execution_count": 132,
     "metadata": {},
     "output_type": "execute_result"
    }
   ],
   "source": [
    "model = RandomForestClassifier(random_state=0)\n",
    "model.fit(x_tr, y_tr)"
   ]
  },
  {
   "cell_type": "code",
   "execution_count": 133,
   "id": "78fff3e0-c8cf-457c-8fcf-3043173c2488",
   "metadata": {
    "tags": []
   },
   "outputs": [
    {
     "data": {
      "text/plain": [
       "0.7704298358113787"
      ]
     },
     "execution_count": 133,
     "metadata": {},
     "output_type": "execute_result"
    }
   ],
   "source": [
    "pred_proba = model.predict_proba(x_val)[:, 1]\n",
    "roc_auc_score(y_val, pred_proba)"
   ]
  },
  {
   "cell_type": "code",
   "execution_count": 136,
   "id": "1f4d50c9-f1e6-497c-855a-7268b3d95aaa",
   "metadata": {
    "tags": []
   },
   "outputs": [],
   "source": [
    "result_proba = model.predict_proba(test)[:, 1]\n",
    "result = pd.DataFrame({\n",
    "    'ID' : test_ID,\n",
    "    'predict' : result_proba\n",
    "})\n",
    "result.to_csv('01 모의고사 1회차.csv', index=False)"
   ]
  },
  {
   "cell_type": "code",
   "execution_count": 141,
   "id": "af407883-f7bb-4c4a-94bb-201de1aec1d3",
   "metadata": {
    "tags": []
   },
   "outputs": [
    {
     "data": {
      "text/plain": [
       "array([0.76, 0.93, 0.02, ..., 0.13, 0.62, 0.07])"
      ]
     },
     "execution_count": 141,
     "metadata": {},
     "output_type": "execute_result"
    }
   ],
   "source": [
    "result_proba"
   ]
  },
  {
   "cell_type": "code",
   "execution_count": null,
   "id": "cdd01270-1a04-4eee-a0a9-f518c6c14384",
   "metadata": {},
   "outputs": [],
   "source": []
  }
 ],
 "metadata": {
  "kernelspec": {
   "display_name": "Python 3",
   "language": "python",
   "name": "python3"
  },
  "language_info": {
   "codemirror_mode": {
    "name": "ipython",
    "version": 3
   },
   "file_extension": ".py",
   "mimetype": "text/x-python",
   "name": "python",
   "nbconvert_exporter": "python",
   "pygments_lexer": "ipython3",
   "version": "3.11.4"
  }
 },
 "nbformat": 4,
 "nbformat_minor": 5
}
