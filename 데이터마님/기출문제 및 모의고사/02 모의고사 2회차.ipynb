{
 "cells": [
  {
   "cell_type": "code",
   "execution_count": 53,
   "id": "1e3175a6-6a09-464b-b939-71ccde6ff545",
   "metadata": {
    "tags": []
   },
   "outputs": [],
   "source": [
    "import pandas as pd\n",
    "df = pd.read_csv('https://raw.githubusercontent.com/Datamanim/datarepo/main/stroke_/train.csv')"
   ]
  },
  {
   "cell_type": "code",
   "execution_count": 54,
   "id": "cc28b8af-41b9-41f5-b7fd-d85fed37011c",
   "metadata": {
    "tags": []
   },
   "outputs": [
    {
     "data": {
      "text/html": [
       "<div>\n",
       "<style scoped>\n",
       "    .dataframe tbody tr th:only-of-type {\n",
       "        vertical-align: middle;\n",
       "    }\n",
       "\n",
       "    .dataframe tbody tr th {\n",
       "        vertical-align: top;\n",
       "    }\n",
       "\n",
       "    .dataframe thead th {\n",
       "        text-align: right;\n",
       "    }\n",
       "</style>\n",
       "<table border=\"1\" class=\"dataframe\">\n",
       "  <thead>\n",
       "    <tr style=\"text-align: right;\">\n",
       "      <th></th>\n",
       "      <th>id</th>\n",
       "      <th>gender</th>\n",
       "      <th>age</th>\n",
       "      <th>hypertension</th>\n",
       "      <th>heart_disease</th>\n",
       "      <th>ever_married</th>\n",
       "      <th>work_type</th>\n",
       "      <th>Residence_type</th>\n",
       "      <th>avg_glucose_level</th>\n",
       "      <th>bmi</th>\n",
       "      <th>smoking_status</th>\n",
       "      <th>stroke</th>\n",
       "    </tr>\n",
       "  </thead>\n",
       "  <tbody>\n",
       "    <tr>\n",
       "      <th>0</th>\n",
       "      <td>1192</td>\n",
       "      <td>Female</td>\n",
       "      <td>31</td>\n",
       "      <td>0</td>\n",
       "      <td>0</td>\n",
       "      <td>No</td>\n",
       "      <td>Govt_job</td>\n",
       "      <td>Rural</td>\n",
       "      <td>70.66</td>\n",
       "      <td>27.2</td>\n",
       "      <td>never smoked</td>\n",
       "      <td>0</td>\n",
       "    </tr>\n",
       "    <tr>\n",
       "      <th>1</th>\n",
       "      <td>77</td>\n",
       "      <td>Female</td>\n",
       "      <td>13</td>\n",
       "      <td>0</td>\n",
       "      <td>0</td>\n",
       "      <td>No</td>\n",
       "      <td>children</td>\n",
       "      <td>Rural</td>\n",
       "      <td>85.81</td>\n",
       "      <td>18.6</td>\n",
       "      <td>Unknown</td>\n",
       "      <td>0</td>\n",
       "    </tr>\n",
       "    <tr>\n",
       "      <th>2</th>\n",
       "      <td>59200</td>\n",
       "      <td>Male</td>\n",
       "      <td>18</td>\n",
       "      <td>0</td>\n",
       "      <td>0</td>\n",
       "      <td>No</td>\n",
       "      <td>Private</td>\n",
       "      <td>Urban</td>\n",
       "      <td>60.56</td>\n",
       "      <td>33.0</td>\n",
       "      <td>never smoked</td>\n",
       "      <td>0</td>\n",
       "    </tr>\n",
       "    <tr>\n",
       "      <th>3</th>\n",
       "      <td>24905</td>\n",
       "      <td>Female</td>\n",
       "      <td>65</td>\n",
       "      <td>0</td>\n",
       "      <td>0</td>\n",
       "      <td>Yes</td>\n",
       "      <td>Private</td>\n",
       "      <td>Urban</td>\n",
       "      <td>205.77</td>\n",
       "      <td>46.0</td>\n",
       "      <td>formerly smoked</td>\n",
       "      <td>1</td>\n",
       "    </tr>\n",
       "    <tr>\n",
       "      <th>4</th>\n",
       "      <td>24257</td>\n",
       "      <td>Male</td>\n",
       "      <td>4</td>\n",
       "      <td>0</td>\n",
       "      <td>0</td>\n",
       "      <td>No</td>\n",
       "      <td>children</td>\n",
       "      <td>Rural</td>\n",
       "      <td>90.42</td>\n",
       "      <td>16.2</td>\n",
       "      <td>Unknown</td>\n",
       "      <td>0</td>\n",
       "    </tr>\n",
       "  </tbody>\n",
       "</table>\n",
       "</div>"
      ],
      "text/plain": [
       "      id  gender age  hypertension  heart_disease ever_married work_type  \\\n",
       "0   1192  Female  31             0              0           No  Govt_job   \n",
       "1     77  Female  13             0              0           No  children   \n",
       "2  59200    Male  18             0              0           No   Private   \n",
       "3  24905  Female  65             0              0          Yes   Private   \n",
       "4  24257    Male   4             0              0           No  children   \n",
       "\n",
       "  Residence_type  avg_glucose_level   bmi   smoking_status  stroke  \n",
       "0          Rural              70.66  27.2     never smoked       0  \n",
       "1          Rural              85.81  18.6          Unknown       0  \n",
       "2          Urban              60.56  33.0     never smoked       0  \n",
       "3          Urban             205.77  46.0  formerly smoked       1  \n",
       "4          Rural              90.42  16.2          Unknown       0  "
      ]
     },
     "execution_count": 54,
     "metadata": {},
     "output_type": "execute_result"
    }
   ],
   "source": [
    "df.head()"
   ]
  },
  {
   "cell_type": "code",
   "execution_count": 55,
   "id": "cb9dad50-52ef-4acd-902d-3c8224a80f4b",
   "metadata": {
    "tags": []
   },
   "outputs": [],
   "source": [
    "cond1 = df.gender =='Male'"
   ]
  },
  {
   "cell_type": "code",
   "execution_count": 56,
   "id": "ba7aa238-3615-4934-a640-b0f6a2da8b9f",
   "metadata": {
    "tags": []
   },
   "outputs": [],
   "source": [
    "def to_int(x):\n",
    "    result = ''\n",
    "    for c in x:\n",
    "        if c.isnumeric():\n",
    "            result += c\n",
    "    return int(result)\n",
    "\n",
    "df.age = df.age.apply(to_int)"
   ]
  },
  {
   "cell_type": "code",
   "execution_count": 57,
   "id": "4b0f820a-82ce-43c0-b2ee-d89371507cf8",
   "metadata": {
    "tags": []
   },
   "outputs": [
    {
     "data": {
      "text/plain": [
       "44.68623481781376"
      ]
     },
     "execution_count": 57,
     "metadata": {},
     "output_type": "execute_result"
    }
   ],
   "source": [
    "df[cond1].age.mean()"
   ]
  },
  {
   "cell_type": "code",
   "execution_count": 58,
   "id": "2f6ee5ab-0fbe-4161-9887-40d5a4294f03",
   "metadata": {
    "tags": []
   },
   "outputs": [
    {
     "data": {
      "text/plain": [
       "'29.166'"
      ]
     },
     "execution_count": 58,
     "metadata": {},
     "output_type": "execute_result"
    }
   ],
   "source": [
    "bmi_median = df.bmi.dropna().median()\n",
    "format(df.bmi.fillna(bmi_median).mean(), '.3f')"
   ]
  },
  {
   "cell_type": "code",
   "execution_count": 59,
   "id": "6cfa385d-c2cb-483a-b2ff-95061121e819",
   "metadata": {
    "tags": []
   },
   "outputs": [
    {
     "data": {
      "text/plain": [
       "'29.188'"
      ]
     },
     "execution_count": 59,
     "metadata": {},
     "output_type": "execute_result"
    }
   ],
   "source": [
    "format(df.bmi.fillna(method='ffill').mean(), '.3f')"
   ]
  },
  {
   "cell_type": "code",
   "execution_count": 61,
   "id": "2d85338b-2b5d-4eee-b208-36430617f278",
   "metadata": {
    "tags": []
   },
   "outputs": [],
   "source": [
    "cond1 = df.bmi.isnull() == True"
   ]
  },
  {
   "cell_type": "code",
   "execution_count": 67,
   "id": "05f0bf18-cc50-4265-a658-84706dcbcc18",
   "metadata": {
    "tags": []
   },
   "outputs": [],
   "source": [
    "df['age2'] = df.age.apply(lambda x:x//10*10)"
   ]
  },
  {
   "cell_type": "code",
   "execution_count": 72,
   "id": "30a789b2-8ea2-4c02-b272-5e6e39dc4548",
   "metadata": {
    "tags": []
   },
   "outputs": [],
   "source": [
    "bmi_age2_mean = df[~cond1].groupby('age2').bmi.mean()"
   ]
  },
  {
   "cell_type": "code",
   "execution_count": 74,
   "id": "2ebe1360-d7a5-41fa-8433-7f35a239ddc1",
   "metadata": {
    "tags": []
   },
   "outputs": [],
   "source": [
    "dic = {x:y for x, y in bmi_age2_mean.items()}"
   ]
  },
  {
   "cell_type": "code",
   "execution_count": 78,
   "id": "60b0cfa3-ff5e-401a-bdae-c9ff99f0366a",
   "metadata": {
    "tags": []
   },
   "outputs": [],
   "source": [
    "df.loc[cond1, 'bmi'] = df[cond1].age2.map(lambda x:dic[x])"
   ]
  },
  {
   "cell_type": "code",
   "execution_count": 80,
   "id": "0ac05552-ebce-4ec0-b67e-894f1e4296d0",
   "metadata": {
    "tags": []
   },
   "outputs": [
    {
     "data": {
      "text/plain": [
       "29.2627029367386"
      ]
     },
     "execution_count": 80,
     "metadata": {},
     "output_type": "execute_result"
    }
   ],
   "source": [
    "df.bmi.mean()"
   ]
  },
  {
   "cell_type": "code",
   "execution_count": 86,
   "id": "82b0b66e-3255-45a5-81d8-4647afaea01b",
   "metadata": {
    "tags": []
   },
   "outputs": [
    {
     "data": {
      "text/plain": [
       "'125.188'"
      ]
     },
     "execution_count": 86,
     "metadata": {},
     "output_type": "execute_result"
    }
   ],
   "source": [
    "cond1 = df.avg_glucose_level >= 200\n",
    "df.loc[cond1, 'avg_glucose_level'] = 199\n",
    "cond2 = df.stroke == 1\n",
    "format(df[cond2].avg_glucose_level.mean(), '.3f')"
   ]
  },
  {
   "cell_type": "code",
   "execution_count": 93,
   "id": "2ab3972f-a69b-4a97-88b0-fd97d2f16620",
   "metadata": {
    "tags": []
   },
   "outputs": [],
   "source": [
    "df = pd.read_csv('https://raw.githubusercontent.com/Datamanim/datarepo/main/pok/Pokemon.csv')"
   ]
  },
  {
   "cell_type": "code",
   "execution_count": 94,
   "id": "060129a0-7176-4599-97a7-7894cd6442d0",
   "metadata": {
    "tags": []
   },
   "outputs": [
    {
     "data": {
      "text/html": [
       "<div>\n",
       "<style scoped>\n",
       "    .dataframe tbody tr th:only-of-type {\n",
       "        vertical-align: middle;\n",
       "    }\n",
       "\n",
       "    .dataframe tbody tr th {\n",
       "        vertical-align: top;\n",
       "    }\n",
       "\n",
       "    .dataframe thead th {\n",
       "        text-align: right;\n",
       "    }\n",
       "</style>\n",
       "<table border=\"1\" class=\"dataframe\">\n",
       "  <thead>\n",
       "    <tr style=\"text-align: right;\">\n",
       "      <th></th>\n",
       "      <th>#</th>\n",
       "      <th>Name</th>\n",
       "      <th>Type 1</th>\n",
       "      <th>Type 2</th>\n",
       "      <th>Total</th>\n",
       "      <th>HP</th>\n",
       "      <th>Attack</th>\n",
       "      <th>Defense</th>\n",
       "      <th>Sp. Atk</th>\n",
       "      <th>Sp. Def</th>\n",
       "      <th>Speed</th>\n",
       "      <th>Generation</th>\n",
       "      <th>Legendary</th>\n",
       "    </tr>\n",
       "  </thead>\n",
       "  <tbody>\n",
       "    <tr>\n",
       "      <th>0</th>\n",
       "      <td>1</td>\n",
       "      <td>Bulbasaur</td>\n",
       "      <td>Grass</td>\n",
       "      <td>Poison</td>\n",
       "      <td>318</td>\n",
       "      <td>45</td>\n",
       "      <td>49</td>\n",
       "      <td>49</td>\n",
       "      <td>65</td>\n",
       "      <td>65</td>\n",
       "      <td>45</td>\n",
       "      <td>1</td>\n",
       "      <td>False</td>\n",
       "    </tr>\n",
       "    <tr>\n",
       "      <th>1</th>\n",
       "      <td>2</td>\n",
       "      <td>Ivysaur</td>\n",
       "      <td>Grass</td>\n",
       "      <td>Poison</td>\n",
       "      <td>405</td>\n",
       "      <td>60</td>\n",
       "      <td>62</td>\n",
       "      <td>63</td>\n",
       "      <td>80</td>\n",
       "      <td>80</td>\n",
       "      <td>60</td>\n",
       "      <td>1</td>\n",
       "      <td>False</td>\n",
       "    </tr>\n",
       "    <tr>\n",
       "      <th>2</th>\n",
       "      <td>3</td>\n",
       "      <td>Venusaur</td>\n",
       "      <td>Grass</td>\n",
       "      <td>Poison</td>\n",
       "      <td>525</td>\n",
       "      <td>80</td>\n",
       "      <td>82</td>\n",
       "      <td>83</td>\n",
       "      <td>100</td>\n",
       "      <td>100</td>\n",
       "      <td>80</td>\n",
       "      <td>1</td>\n",
       "      <td>False</td>\n",
       "    </tr>\n",
       "    <tr>\n",
       "      <th>3</th>\n",
       "      <td>3</td>\n",
       "      <td>VenusaurMega Venusaur</td>\n",
       "      <td>Grass</td>\n",
       "      <td>Poison</td>\n",
       "      <td>625</td>\n",
       "      <td>80</td>\n",
       "      <td>100</td>\n",
       "      <td>123</td>\n",
       "      <td>122</td>\n",
       "      <td>120</td>\n",
       "      <td>80</td>\n",
       "      <td>1</td>\n",
       "      <td>False</td>\n",
       "    </tr>\n",
       "    <tr>\n",
       "      <th>4</th>\n",
       "      <td>4</td>\n",
       "      <td>Charmander</td>\n",
       "      <td>Fire</td>\n",
       "      <td>NaN</td>\n",
       "      <td>309</td>\n",
       "      <td>39</td>\n",
       "      <td>52</td>\n",
       "      <td>43</td>\n",
       "      <td>60</td>\n",
       "      <td>50</td>\n",
       "      <td>65</td>\n",
       "      <td>1</td>\n",
       "      <td>False</td>\n",
       "    </tr>\n",
       "  </tbody>\n",
       "</table>\n",
       "</div>"
      ],
      "text/plain": [
       "   #                   Name Type 1  Type 2  Total  HP  Attack  Defense  \\\n",
       "0  1              Bulbasaur  Grass  Poison    318  45      49       49   \n",
       "1  2                Ivysaur  Grass  Poison    405  60      62       63   \n",
       "2  3               Venusaur  Grass  Poison    525  80      82       83   \n",
       "3  3  VenusaurMega Venusaur  Grass  Poison    625  80     100      123   \n",
       "4  4             Charmander   Fire     NaN    309  39      52       43   \n",
       "\n",
       "   Sp. Atk  Sp. Def  Speed  Generation  Legendary  \n",
       "0       65       65     45           1      False  \n",
       "1       80       80     60           1      False  \n",
       "2      100      100     80           1      False  \n",
       "3      122      120     80           1      False  \n",
       "4       60       50     65           1      False  "
      ]
     },
     "execution_count": 94,
     "metadata": {},
     "output_type": "execute_result"
    }
   ],
   "source": [
    "df.head()"
   ]
  },
  {
   "cell_type": "code",
   "execution_count": 95,
   "id": "14e122a0-13ca-4611-acc6-11430e24f7e6",
   "metadata": {
    "tags": []
   },
   "outputs": [
    {
     "name": "stdout",
     "output_type": "stream",
     "text": [
      "<class 'pandas.core.frame.DataFrame'>\n",
      "RangeIndex: 800 entries, 0 to 799\n",
      "Data columns (total 13 columns):\n",
      " #   Column      Non-Null Count  Dtype \n",
      "---  ------      --------------  ----- \n",
      " 0   #           800 non-null    int64 \n",
      " 1   Name        800 non-null    object\n",
      " 2   Type 1      800 non-null    object\n",
      " 3   Type 2      414 non-null    object\n",
      " 4   Total       800 non-null    int64 \n",
      " 5   HP          800 non-null    int64 \n",
      " 6   Attack      800 non-null    int64 \n",
      " 7   Defense     800 non-null    int64 \n",
      " 8   Sp. Atk     800 non-null    int64 \n",
      " 9   Sp. Def     800 non-null    int64 \n",
      " 10  Speed       800 non-null    int64 \n",
      " 11  Generation  800 non-null    int64 \n",
      " 12  Legendary   800 non-null    bool  \n",
      "dtypes: bool(1), int64(9), object(3)\n",
      "memory usage: 75.9+ KB\n"
     ]
    }
   ],
   "source": [
    "df.info()"
   ]
  },
  {
   "cell_type": "code",
   "execution_count": 104,
   "id": "bc512c9c-a3b2-48e5-b11d-99451c34c5b0",
   "metadata": {
    "tags": []
   },
   "outputs": [],
   "source": [
    "ndf = df.sort_values('Attack', ascending=False)"
   ]
  },
  {
   "cell_type": "code",
   "execution_count": 105,
   "id": "66e79219-b250-4ab7-a159-45260d8daac9",
   "metadata": {
    "tags": []
   },
   "outputs": [],
   "source": [
    "ndf1 = ndf.iloc[:400, :]\n",
    "ndf2 = ndf.iloc[400:800, :]"
   ]
  },
  {
   "cell_type": "code",
   "execution_count": 106,
   "id": "7ef88201-ca83-4dad-b459-4fa0c0e78988",
   "metadata": {
    "tags": []
   },
   "outputs": [
    {
     "data": {
      "text/plain": [
       "57"
      ]
     },
     "execution_count": 106,
     "metadata": {},
     "output_type": "execute_result"
    }
   ],
   "source": [
    "ndf1.Legendary.sum() - ndf2.Legendary.sum()"
   ]
  },
  {
   "cell_type": "code",
   "execution_count": 112,
   "id": "0202a87c-6387-4a2c-b1d6-7e91e90beb91",
   "metadata": {
    "tags": []
   },
   "outputs": [
    {
     "data": {
      "text/plain": [
       "'Flying'"
      ]
     },
     "execution_count": 112,
     "metadata": {},
     "output_type": "execute_result"
    }
   ],
   "source": [
    "df.groupby('Type 1').Total.mean().sort_values(ascending=False).index[2]"
   ]
  },
  {
   "cell_type": "code",
   "execution_count": 113,
   "id": "209b47ef-0263-4835-a9c0-6ad7bb6e2ab0",
   "metadata": {
    "tags": []
   },
   "outputs": [],
   "source": [
    "ndf = df.dropna()"
   ]
  },
  {
   "cell_type": "code",
   "execution_count": 117,
   "id": "5002e66b-da5e-4d2f-9eae-28a7138d88c9",
   "metadata": {
    "tags": []
   },
   "outputs": [],
   "source": [
    "n = int(len(df)*0.6)"
   ]
  },
  {
   "cell_type": "code",
   "execution_count": 119,
   "id": "c549e6d9-88e4-4171-8496-0cea385634b3",
   "metadata": {
    "tags": []
   },
   "outputs": [
    {
     "data": {
      "text/plain": [
       "55.0"
      ]
     },
     "execution_count": 119,
     "metadata": {},
     "output_type": "execute_result"
    }
   ],
   "source": [
    "ndf.head(n).Defense.quantile(0.25)"
   ]
  },
  {
   "cell_type": "code",
   "execution_count": 121,
   "id": "9138870f-4eab-45d8-a54b-d71bb6daee16",
   "metadata": {
    "tags": []
   },
   "outputs": [
    {
     "data": {
      "text/plain": [
       "37"
      ]
     },
     "execution_count": 121,
     "metadata": {},
     "output_type": "execute_result"
    }
   ],
   "source": [
    "cond1 = df['Type 1'] == 'Fire'\n",
    "fire_mean = df[cond1].Attack.mean()\n",
    "cond2 = df['Type 1'] == 'Water'\n",
    "cond3 = df['Attack'] >= fire_mean\n",
    "len(df[cond2 & cond3])"
   ]
  },
  {
   "cell_type": "code",
   "execution_count": 122,
   "id": "794cc6db-9954-4477-9841-9f5ea643d5e4",
   "metadata": {
    "tags": []
   },
   "outputs": [],
   "source": [
    "temp = df[['Generation', 'Speed', 'Defense']].groupby('Generation').mean()"
   ]
  },
  {
   "cell_type": "code",
   "execution_count": 126,
   "id": "8e6cc043-62d9-407b-b4e9-d4286fcde559",
   "metadata": {
    "tags": []
   },
   "outputs": [],
   "source": [
    "temp2 = abs(temp.Speed - temp.Defense)"
   ]
  },
  {
   "cell_type": "code",
   "execution_count": 128,
   "id": "8188f4c8-4fa9-4e7d-aad4-14bce5f93935",
   "metadata": {
    "tags": []
   },
   "outputs": [
    {
     "data": {
      "text/plain": [
       "2"
      ]
     },
     "execution_count": 128,
     "metadata": {},
     "output_type": "execute_result"
    }
   ],
   "source": [
    "temp2.sort_values().index[-1]"
   ]
  },
  {
   "cell_type": "code",
   "execution_count": 239,
   "id": "c0bc41fd-9dd7-4aa0-b2ae-960ae502f5e8",
   "metadata": {
    "tags": []
   },
   "outputs": [
    {
     "data": {
      "text/html": [
       "<div>\n",
       "<style scoped>\n",
       "    .dataframe tbody tr th:only-of-type {\n",
       "        vertical-align: middle;\n",
       "    }\n",
       "\n",
       "    .dataframe tbody tr th {\n",
       "        vertical-align: top;\n",
       "    }\n",
       "\n",
       "    .dataframe thead th {\n",
       "        text-align: right;\n",
       "    }\n",
       "</style>\n",
       "<table border=\"1\" class=\"dataframe\">\n",
       "  <thead>\n",
       "    <tr style=\"text-align: right;\">\n",
       "      <th></th>\n",
       "      <th>id</th>\n",
       "      <th>gender</th>\n",
       "      <th>age</th>\n",
       "      <th>hypertension</th>\n",
       "      <th>heart_disease</th>\n",
       "      <th>ever_married</th>\n",
       "      <th>work_type</th>\n",
       "      <th>Residence_type</th>\n",
       "      <th>avg_glucose_level</th>\n",
       "      <th>bmi</th>\n",
       "      <th>smoking_status</th>\n",
       "      <th>stroke</th>\n",
       "    </tr>\n",
       "  </thead>\n",
       "  <tbody>\n",
       "    <tr>\n",
       "      <th>0</th>\n",
       "      <td>1192</td>\n",
       "      <td>Female</td>\n",
       "      <td>31</td>\n",
       "      <td>0</td>\n",
       "      <td>0</td>\n",
       "      <td>No</td>\n",
       "      <td>Govt_job</td>\n",
       "      <td>Rural</td>\n",
       "      <td>70.66</td>\n",
       "      <td>27.2</td>\n",
       "      <td>never smoked</td>\n",
       "      <td>0</td>\n",
       "    </tr>\n",
       "    <tr>\n",
       "      <th>1</th>\n",
       "      <td>77</td>\n",
       "      <td>Female</td>\n",
       "      <td>13</td>\n",
       "      <td>0</td>\n",
       "      <td>0</td>\n",
       "      <td>No</td>\n",
       "      <td>children</td>\n",
       "      <td>Rural</td>\n",
       "      <td>85.81</td>\n",
       "      <td>18.6</td>\n",
       "      <td>Unknown</td>\n",
       "      <td>0</td>\n",
       "    </tr>\n",
       "    <tr>\n",
       "      <th>2</th>\n",
       "      <td>59200</td>\n",
       "      <td>Male</td>\n",
       "      <td>18</td>\n",
       "      <td>0</td>\n",
       "      <td>0</td>\n",
       "      <td>No</td>\n",
       "      <td>Private</td>\n",
       "      <td>Urban</td>\n",
       "      <td>60.56</td>\n",
       "      <td>33.0</td>\n",
       "      <td>never smoked</td>\n",
       "      <td>0</td>\n",
       "    </tr>\n",
       "    <tr>\n",
       "      <th>3</th>\n",
       "      <td>24905</td>\n",
       "      <td>Female</td>\n",
       "      <td>65</td>\n",
       "      <td>0</td>\n",
       "      <td>0</td>\n",
       "      <td>Yes</td>\n",
       "      <td>Private</td>\n",
       "      <td>Urban</td>\n",
       "      <td>205.77</td>\n",
       "      <td>46.0</td>\n",
       "      <td>formerly smoked</td>\n",
       "      <td>1</td>\n",
       "    </tr>\n",
       "    <tr>\n",
       "      <th>4</th>\n",
       "      <td>24257</td>\n",
       "      <td>Male</td>\n",
       "      <td>4</td>\n",
       "      <td>0</td>\n",
       "      <td>0</td>\n",
       "      <td>No</td>\n",
       "      <td>children</td>\n",
       "      <td>Rural</td>\n",
       "      <td>90.42</td>\n",
       "      <td>16.2</td>\n",
       "      <td>Unknown</td>\n",
       "      <td>0</td>\n",
       "    </tr>\n",
       "  </tbody>\n",
       "</table>\n",
       "</div>"
      ],
      "text/plain": [
       "      id  gender age  hypertension  heart_disease ever_married work_type  \\\n",
       "0   1192  Female  31             0              0           No  Govt_job   \n",
       "1     77  Female  13             0              0           No  children   \n",
       "2  59200    Male  18             0              0           No   Private   \n",
       "3  24905  Female  65             0              0          Yes   Private   \n",
       "4  24257    Male   4             0              0           No  children   \n",
       "\n",
       "  Residence_type  avg_glucose_level   bmi   smoking_status  stroke  \n",
       "0          Rural              70.66  27.2     never smoked       0  \n",
       "1          Rural              85.81  18.6          Unknown       0  \n",
       "2          Urban              60.56  33.0     never smoked       0  \n",
       "3          Urban             205.77  46.0  formerly smoked       1  \n",
       "4          Rural              90.42  16.2          Unknown       0  "
      ]
     },
     "metadata": {},
     "output_type": "display_data"
    },
    {
     "data": {
      "text/html": [
       "<div>\n",
       "<style scoped>\n",
       "    .dataframe tbody tr th:only-of-type {\n",
       "        vertical-align: middle;\n",
       "    }\n",
       "\n",
       "    .dataframe tbody tr th {\n",
       "        vertical-align: top;\n",
       "    }\n",
       "\n",
       "    .dataframe thead th {\n",
       "        text-align: right;\n",
       "    }\n",
       "</style>\n",
       "<table border=\"1\" class=\"dataframe\">\n",
       "  <thead>\n",
       "    <tr style=\"text-align: right;\">\n",
       "      <th></th>\n",
       "      <th>id</th>\n",
       "      <th>gender</th>\n",
       "      <th>age</th>\n",
       "      <th>hypertension</th>\n",
       "      <th>heart_disease</th>\n",
       "      <th>ever_married</th>\n",
       "      <th>work_type</th>\n",
       "      <th>Residence_type</th>\n",
       "      <th>avg_glucose_level</th>\n",
       "      <th>bmi</th>\n",
       "      <th>smoking_status</th>\n",
       "    </tr>\n",
       "  </thead>\n",
       "  <tbody>\n",
       "    <tr>\n",
       "      <th>0</th>\n",
       "      <td>47472</td>\n",
       "      <td>Female</td>\n",
       "      <td>58</td>\n",
       "      <td>0</td>\n",
       "      <td>0</td>\n",
       "      <td>Yes</td>\n",
       "      <td>Private</td>\n",
       "      <td>Urban</td>\n",
       "      <td>107.26</td>\n",
       "      <td>38.6</td>\n",
       "      <td>formerly smoked</td>\n",
       "    </tr>\n",
       "    <tr>\n",
       "      <th>1</th>\n",
       "      <td>36841</td>\n",
       "      <td>Male</td>\n",
       "      <td>78</td>\n",
       "      <td>1</td>\n",
       "      <td>0</td>\n",
       "      <td>Yes</td>\n",
       "      <td>Self-employed</td>\n",
       "      <td>Rural</td>\n",
       "      <td>56.11</td>\n",
       "      <td>25.5</td>\n",
       "      <td>formerly smoked</td>\n",
       "    </tr>\n",
       "    <tr>\n",
       "      <th>2</th>\n",
       "      <td>3135</td>\n",
       "      <td>Female</td>\n",
       "      <td>73</td>\n",
       "      <td>0</td>\n",
       "      <td>0</td>\n",
       "      <td>No</td>\n",
       "      <td>Self-employed</td>\n",
       "      <td>Rural</td>\n",
       "      <td>69.35</td>\n",
       "      <td>NaN</td>\n",
       "      <td>never smoked</td>\n",
       "    </tr>\n",
       "    <tr>\n",
       "      <th>3</th>\n",
       "      <td>65218</td>\n",
       "      <td>Male</td>\n",
       "      <td>2</td>\n",
       "      <td>0</td>\n",
       "      <td>0</td>\n",
       "      <td>No</td>\n",
       "      <td>children</td>\n",
       "      <td>Rural</td>\n",
       "      <td>109.10</td>\n",
       "      <td>20.0</td>\n",
       "      <td>Unknown</td>\n",
       "    </tr>\n",
       "    <tr>\n",
       "      <th>4</th>\n",
       "      <td>1847</td>\n",
       "      <td>Female</td>\n",
       "      <td>20</td>\n",
       "      <td>0</td>\n",
       "      <td>0</td>\n",
       "      <td>No</td>\n",
       "      <td>Govt_job</td>\n",
       "      <td>Rural</td>\n",
       "      <td>79.53</td>\n",
       "      <td>NaN</td>\n",
       "      <td>never smoked</td>\n",
       "    </tr>\n",
       "  </tbody>\n",
       "</table>\n",
       "</div>"
      ],
      "text/plain": [
       "      id  gender  age  hypertension  heart_disease ever_married  \\\n",
       "0  47472  Female   58             0              0          Yes   \n",
       "1  36841    Male   78             1              0          Yes   \n",
       "2   3135  Female   73             0              0           No   \n",
       "3  65218    Male    2             0              0           No   \n",
       "4   1847  Female   20             0              0           No   \n",
       "\n",
       "       work_type Residence_type  avg_glucose_level   bmi   smoking_status  \n",
       "0        Private          Urban             107.26  38.6  formerly smoked  \n",
       "1  Self-employed          Rural              56.11  25.5  formerly smoked  \n",
       "2  Self-employed          Rural              69.35   NaN     never smoked  \n",
       "3       children          Rural             109.10  20.0          Unknown  \n",
       "4       Govt_job          Rural              79.53   NaN     never smoked  "
      ]
     },
     "metadata": {},
     "output_type": "display_data"
    }
   ],
   "source": [
    "import pandas as pd\n",
    "train= pd.read_csv('https://raw.githubusercontent.com/Datamanim/datarepo/main/stroke_/train.csv')\n",
    "test= pd.read_csv('https://raw.githubusercontent.com/Datamanim/datarepo/main/stroke_/test.csv')\n",
    "\n",
    "display(train.head())\n",
    "display(test.head())"
   ]
  },
  {
   "cell_type": "code",
   "execution_count": 240,
   "id": "4bc816b3-8ea8-448f-936e-bda0721eb23d",
   "metadata": {
    "tags": []
   },
   "outputs": [
    {
     "name": "stdout",
     "output_type": "stream",
     "text": [
      "<class 'pandas.core.frame.DataFrame'>\n",
      "RangeIndex: 1137 entries, 0 to 1136\n",
      "Data columns (total 12 columns):\n",
      " #   Column             Non-Null Count  Dtype  \n",
      "---  ------             --------------  -----  \n",
      " 0   id                 1137 non-null   int64  \n",
      " 1   gender             1137 non-null   object \n",
      " 2   age                1137 non-null   object \n",
      " 3   hypertension       1137 non-null   int64  \n",
      " 4   heart_disease      1137 non-null   int64  \n",
      " 5   ever_married       1137 non-null   object \n",
      " 6   work_type          1137 non-null   object \n",
      " 7   Residence_type     1137 non-null   object \n",
      " 8   avg_glucose_level  1137 non-null   float64\n",
      " 9   bmi                1085 non-null   float64\n",
      " 10  smoking_status     1137 non-null   object \n",
      " 11  stroke             1137 non-null   int64  \n",
      "dtypes: float64(2), int64(4), object(6)\n",
      "memory usage: 106.7+ KB\n"
     ]
    }
   ],
   "source": [
    "train.info()"
   ]
  },
  {
   "cell_type": "code",
   "execution_count": 241,
   "id": "08a8ca15-0c1d-4e39-9ec6-81ba483ecd39",
   "metadata": {
    "tags": []
   },
   "outputs": [
    {
     "name": "stdout",
     "output_type": "stream",
     "text": [
      "<class 'pandas.core.frame.DataFrame'>\n",
      "RangeIndex: 932 entries, 0 to 931\n",
      "Data columns (total 11 columns):\n",
      " #   Column             Non-Null Count  Dtype  \n",
      "---  ------             --------------  -----  \n",
      " 0   id                 932 non-null    int64  \n",
      " 1   gender             932 non-null    object \n",
      " 2   age                932 non-null    int64  \n",
      " 3   hypertension       932 non-null    int64  \n",
      " 4   heart_disease      932 non-null    int64  \n",
      " 5   ever_married       932 non-null    object \n",
      " 6   work_type          932 non-null    object \n",
      " 7   Residence_type     932 non-null    object \n",
      " 8   avg_glucose_level  932 non-null    float64\n",
      " 9   bmi                875 non-null    float64\n",
      " 10  smoking_status     932 non-null    object \n",
      "dtypes: float64(2), int64(4), object(5)\n",
      "memory usage: 80.2+ KB\n"
     ]
    }
   ],
   "source": [
    "test.info()"
   ]
  },
  {
   "cell_type": "code",
   "execution_count": 242,
   "id": "31784658-538c-4454-b97e-255ddf9f4c01",
   "metadata": {
    "tags": []
   },
   "outputs": [],
   "source": [
    "def to_int(x):\n",
    "    result = ''\n",
    "    for c in x:\n",
    "        if c.isnumeric():\n",
    "            result += c\n",
    "    return int(result)\n",
    "\n",
    "train['age'] = train['age'].apply(to_int)"
   ]
  },
  {
   "cell_type": "code",
   "execution_count": 243,
   "id": "13add740-b8e8-46a4-b05c-1237a26dc760",
   "metadata": {
    "tags": []
   },
   "outputs": [],
   "source": [
    "train['bmi'] = train['bmi'].fillna(train.bmi.mean())\n",
    "test['bmi'] = test['bmi'].fillna(test.bmi.mean())"
   ]
  },
  {
   "cell_type": "code",
   "execution_count": 244,
   "id": "3b7acf66-bbea-4641-8e8b-7596289cf088",
   "metadata": {
    "tags": []
   },
   "outputs": [
    {
     "data": {
      "text/html": [
       "<div>\n",
       "<style scoped>\n",
       "    .dataframe tbody tr th:only-of-type {\n",
       "        vertical-align: middle;\n",
       "    }\n",
       "\n",
       "    .dataframe tbody tr th {\n",
       "        vertical-align: top;\n",
       "    }\n",
       "\n",
       "    .dataframe thead th {\n",
       "        text-align: right;\n",
       "    }\n",
       "</style>\n",
       "<table border=\"1\" class=\"dataframe\">\n",
       "  <thead>\n",
       "    <tr style=\"text-align: right;\">\n",
       "      <th></th>\n",
       "      <th>id</th>\n",
       "      <th>age</th>\n",
       "      <th>hypertension</th>\n",
       "      <th>heart_disease</th>\n",
       "      <th>avg_glucose_level</th>\n",
       "      <th>bmi</th>\n",
       "      <th>stroke</th>\n",
       "    </tr>\n",
       "  </thead>\n",
       "  <tbody>\n",
       "    <tr>\n",
       "      <th>count</th>\n",
       "      <td>1137.000000</td>\n",
       "      <td>1137.000000</td>\n",
       "      <td>1137.000000</td>\n",
       "      <td>1137.000000</td>\n",
       "      <td>1137.000000</td>\n",
       "      <td>1137.000000</td>\n",
       "      <td>1137.000000</td>\n",
       "    </tr>\n",
       "    <tr>\n",
       "      <th>mean</th>\n",
       "      <td>36750.933157</td>\n",
       "      <td>45.189094</td>\n",
       "      <td>0.118734</td>\n",
       "      <td>0.068602</td>\n",
       "      <td>107.664002</td>\n",
       "      <td>29.198065</td>\n",
       "      <td>0.120493</td>\n",
       "    </tr>\n",
       "    <tr>\n",
       "      <th>std</th>\n",
       "      <td>21112.281253</td>\n",
       "      <td>23.070207</td>\n",
       "      <td>0.323617</td>\n",
       "      <td>0.252887</td>\n",
       "      <td>47.618723</td>\n",
       "      <td>7.492022</td>\n",
       "      <td>0.325680</td>\n",
       "    </tr>\n",
       "    <tr>\n",
       "      <th>min</th>\n",
       "      <td>77.000000</td>\n",
       "      <td>0.000000</td>\n",
       "      <td>0.000000</td>\n",
       "      <td>0.000000</td>\n",
       "      <td>55.270000</td>\n",
       "      <td>11.300000</td>\n",
       "      <td>0.000000</td>\n",
       "    </tr>\n",
       "    <tr>\n",
       "      <th>25%</th>\n",
       "      <td>17986.000000</td>\n",
       "      <td>28.000000</td>\n",
       "      <td>0.000000</td>\n",
       "      <td>0.000000</td>\n",
       "      <td>77.600000</td>\n",
       "      <td>24.200000</td>\n",
       "      <td>0.000000</td>\n",
       "    </tr>\n",
       "    <tr>\n",
       "      <th>50%</th>\n",
       "      <td>37479.000000</td>\n",
       "      <td>48.000000</td>\n",
       "      <td>0.000000</td>\n",
       "      <td>0.000000</td>\n",
       "      <td>91.820000</td>\n",
       "      <td>28.800000</td>\n",
       "      <td>0.000000</td>\n",
       "    </tr>\n",
       "    <tr>\n",
       "      <th>75%</th>\n",
       "      <td>55410.000000</td>\n",
       "      <td>63.000000</td>\n",
       "      <td>0.000000</td>\n",
       "      <td>0.000000</td>\n",
       "      <td>113.850000</td>\n",
       "      <td>33.000000</td>\n",
       "      <td>0.000000</td>\n",
       "    </tr>\n",
       "    <tr>\n",
       "      <th>max</th>\n",
       "      <td>72918.000000</td>\n",
       "      <td>82.000000</td>\n",
       "      <td>1.000000</td>\n",
       "      <td>1.000000</td>\n",
       "      <td>266.590000</td>\n",
       "      <td>64.400000</td>\n",
       "      <td>1.000000</td>\n",
       "    </tr>\n",
       "  </tbody>\n",
       "</table>\n",
       "</div>"
      ],
      "text/plain": [
       "                 id          age  hypertension  heart_disease  \\\n",
       "count   1137.000000  1137.000000   1137.000000    1137.000000   \n",
       "mean   36750.933157    45.189094      0.118734       0.068602   \n",
       "std    21112.281253    23.070207      0.323617       0.252887   \n",
       "min       77.000000     0.000000      0.000000       0.000000   \n",
       "25%    17986.000000    28.000000      0.000000       0.000000   \n",
       "50%    37479.000000    48.000000      0.000000       0.000000   \n",
       "75%    55410.000000    63.000000      0.000000       0.000000   \n",
       "max    72918.000000    82.000000      1.000000       1.000000   \n",
       "\n",
       "       avg_glucose_level          bmi       stroke  \n",
       "count        1137.000000  1137.000000  1137.000000  \n",
       "mean          107.664002    29.198065     0.120493  \n",
       "std            47.618723     7.492022     0.325680  \n",
       "min            55.270000    11.300000     0.000000  \n",
       "25%            77.600000    24.200000     0.000000  \n",
       "50%            91.820000    28.800000     0.000000  \n",
       "75%           113.850000    33.000000     0.000000  \n",
       "max           266.590000    64.400000     1.000000  "
      ]
     },
     "execution_count": 244,
     "metadata": {},
     "output_type": "execute_result"
    }
   ],
   "source": [
    "train.describe()"
   ]
  },
  {
   "cell_type": "code",
   "execution_count": 245,
   "id": "7c28f54a-57bb-496b-bca9-d7d60738fdc6",
   "metadata": {
    "tags": []
   },
   "outputs": [
    {
     "data": {
      "text/html": [
       "<div>\n",
       "<style scoped>\n",
       "    .dataframe tbody tr th:only-of-type {\n",
       "        vertical-align: middle;\n",
       "    }\n",
       "\n",
       "    .dataframe tbody tr th {\n",
       "        vertical-align: top;\n",
       "    }\n",
       "\n",
       "    .dataframe thead th {\n",
       "        text-align: right;\n",
       "    }\n",
       "</style>\n",
       "<table border=\"1\" class=\"dataframe\">\n",
       "  <thead>\n",
       "    <tr style=\"text-align: right;\">\n",
       "      <th></th>\n",
       "      <th>id</th>\n",
       "      <th>age</th>\n",
       "      <th>hypertension</th>\n",
       "      <th>heart_disease</th>\n",
       "      <th>avg_glucose_level</th>\n",
       "      <th>bmi</th>\n",
       "    </tr>\n",
       "  </thead>\n",
       "  <tbody>\n",
       "    <tr>\n",
       "      <th>count</th>\n",
       "      <td>932.000000</td>\n",
       "      <td>932.000000</td>\n",
       "      <td>932.000000</td>\n",
       "      <td>932.000000</td>\n",
       "      <td>932.000000</td>\n",
       "      <td>932.000000</td>\n",
       "    </tr>\n",
       "    <tr>\n",
       "      <th>mean</th>\n",
       "      <td>36644.275751</td>\n",
       "      <td>44.821888</td>\n",
       "      <td>0.114807</td>\n",
       "      <td>0.050429</td>\n",
       "      <td>107.130708</td>\n",
       "      <td>28.644114</td>\n",
       "    </tr>\n",
       "    <tr>\n",
       "      <th>std</th>\n",
       "      <td>21087.289033</td>\n",
       "      <td>22.753582</td>\n",
       "      <td>0.318960</td>\n",
       "      <td>0.218946</td>\n",
       "      <td>45.336215</td>\n",
       "      <td>7.679627</td>\n",
       "    </tr>\n",
       "    <tr>\n",
       "      <th>min</th>\n",
       "      <td>121.000000</td>\n",
       "      <td>0.000000</td>\n",
       "      <td>0.000000</td>\n",
       "      <td>0.000000</td>\n",
       "      <td>55.230000</td>\n",
       "      <td>12.800000</td>\n",
       "    </tr>\n",
       "    <tr>\n",
       "      <th>25%</th>\n",
       "      <td>17584.750000</td>\n",
       "      <td>26.000000</td>\n",
       "      <td>0.000000</td>\n",
       "      <td>0.000000</td>\n",
       "      <td>77.820000</td>\n",
       "      <td>23.800000</td>\n",
       "    </tr>\n",
       "    <tr>\n",
       "      <th>50%</th>\n",
       "      <td>37056.500000</td>\n",
       "      <td>47.000000</td>\n",
       "      <td>0.000000</td>\n",
       "      <td>0.000000</td>\n",
       "      <td>92.840000</td>\n",
       "      <td>28.100000</td>\n",
       "    </tr>\n",
       "    <tr>\n",
       "      <th>75%</th>\n",
       "      <td>54125.500000</td>\n",
       "      <td>63.000000</td>\n",
       "      <td>0.000000</td>\n",
       "      <td>0.000000</td>\n",
       "      <td>115.560000</td>\n",
       "      <td>32.000000</td>\n",
       "    </tr>\n",
       "    <tr>\n",
       "      <th>max</th>\n",
       "      <td>72911.000000</td>\n",
       "      <td>82.000000</td>\n",
       "      <td>1.000000</td>\n",
       "      <td>1.000000</td>\n",
       "      <td>271.740000</td>\n",
       "      <td>92.000000</td>\n",
       "    </tr>\n",
       "  </tbody>\n",
       "</table>\n",
       "</div>"
      ],
      "text/plain": [
       "                 id         age  hypertension  heart_disease  \\\n",
       "count    932.000000  932.000000    932.000000     932.000000   \n",
       "mean   36644.275751   44.821888      0.114807       0.050429   \n",
       "std    21087.289033   22.753582      0.318960       0.218946   \n",
       "min      121.000000    0.000000      0.000000       0.000000   \n",
       "25%    17584.750000   26.000000      0.000000       0.000000   \n",
       "50%    37056.500000   47.000000      0.000000       0.000000   \n",
       "75%    54125.500000   63.000000      0.000000       0.000000   \n",
       "max    72911.000000   82.000000      1.000000       1.000000   \n",
       "\n",
       "       avg_glucose_level         bmi  \n",
       "count         932.000000  932.000000  \n",
       "mean          107.130708   28.644114  \n",
       "std            45.336215    7.679627  \n",
       "min            55.230000   12.800000  \n",
       "25%            77.820000   23.800000  \n",
       "50%            92.840000   28.100000  \n",
       "75%           115.560000   32.000000  \n",
       "max           271.740000   92.000000  "
      ]
     },
     "execution_count": 245,
     "metadata": {},
     "output_type": "execute_result"
    }
   ],
   "source": [
    "test.describe()"
   ]
  },
  {
   "cell_type": "code",
   "execution_count": 246,
   "id": "92479385-fee1-4475-b7f7-bbe20ac2f46f",
   "metadata": {
    "tags": []
   },
   "outputs": [],
   "source": [
    "train = train.drop(columns='id')\n",
    "y_train = train.pop('stroke')\n",
    "test_id = test.pop('id')"
   ]
  },
  {
   "cell_type": "code",
   "execution_count": 247,
   "id": "da5d5a62-c94f-45a0-93be-de42cda7781c",
   "metadata": {
    "tags": []
   },
   "outputs": [],
   "source": [
    "from sklearn.preprocessing import RobustScaler\n",
    "from sklearn.model_selection import train_test_split\n",
    "from sklearn.ensemble import RandomForestClassifier\n",
    "from sklearn.metrics import roc_auc_score"
   ]
  },
  {
   "cell_type": "code",
   "execution_count": 248,
   "id": "5c987e4f-af10-4b92-a8dc-60ae0cb6dc87",
   "metadata": {
    "tags": []
   },
   "outputs": [],
   "source": [
    "scaler = RobustScaler()\n",
    "numeric_cols = train.select_dtypes(exclude='O').columns.tolist()"
   ]
  },
  {
   "cell_type": "code",
   "execution_count": 249,
   "id": "a855c102-c285-49db-96c4-136f54678454",
   "metadata": {
    "tags": []
   },
   "outputs": [
    {
     "data": {
      "text/plain": [
       "['age', 'hypertension', 'heart_disease', 'avg_glucose_level', 'bmi']"
      ]
     },
     "execution_count": 249,
     "metadata": {},
     "output_type": "execute_result"
    }
   ],
   "source": [
    "numeric_cols"
   ]
  },
  {
   "cell_type": "code",
   "execution_count": 250,
   "id": "9e3bf7b4-2c59-409e-9d66-6ceaf0356711",
   "metadata": {
    "tags": []
   },
   "outputs": [],
   "source": [
    "for col in numeric_cols:\n",
    "    train[col] = scaler.fit_transform(train[[col]])\n",
    "    test[col] = scaler.transform(test[[col]])"
   ]
  },
  {
   "cell_type": "code",
   "execution_count": 256,
   "id": "56171ccb-ace6-483e-b343-5f9bcd241d33",
   "metadata": {
    "tags": []
   },
   "outputs": [],
   "source": [
    "train = pd.get_dummies(train)\n",
    "test = pd.get_dummies(test)"
   ]
  },
  {
   "cell_type": "code",
   "execution_count": 257,
   "id": "3e7c28a1-faa8-4ab4-abf0-5bba07de682d",
   "metadata": {
    "tags": []
   },
   "outputs": [],
   "source": [
    "test = test.reindex(columns=train.columns, fill_value=0)"
   ]
  },
  {
   "cell_type": "code",
   "execution_count": 258,
   "id": "7c25e689-d12a-4e86-a927-b897626fab5a",
   "metadata": {
    "tags": []
   },
   "outputs": [
    {
     "name": "stderr",
     "output_type": "stream",
     "text": [
      "C:\\Users\\pc\\AppData\\Local\\Temp\\ipykernel_25844\\1744347398.py:1: DeprecationWarning: In a future version, `df.iloc[:, i] = newvals` will attempt to set the values inplace instead of always setting a new array. To retain the old behavior, use either `df[df.columns[i]] = newvals` or, if columns are non-unique, `df.isetitem(i, newvals)`\n",
      "  test.loc[:, 'gender_Other'] = test['gender_Other'].astype('uint8')\n"
     ]
    }
   ],
   "source": [
    "test.loc[:, 'gender_Other'] = test['gender_Other'].astype('uint8')"
   ]
  },
  {
   "cell_type": "code",
   "execution_count": 259,
   "id": "f194e5d6-6fd0-431d-b264-168d5aa95796",
   "metadata": {
    "tags": []
   },
   "outputs": [
    {
     "name": "stdout",
     "output_type": "stream",
     "text": [
      "<class 'pandas.core.frame.DataFrame'>\n",
      "RangeIndex: 932 entries, 0 to 931\n",
      "Data columns (total 21 columns):\n",
      " #   Column                          Non-Null Count  Dtype  \n",
      "---  ------                          --------------  -----  \n",
      " 0   age                             932 non-null    float64\n",
      " 1   hypertension                    932 non-null    float64\n",
      " 2   heart_disease                   932 non-null    float64\n",
      " 3   avg_glucose_level               932 non-null    float64\n",
      " 4   bmi                             932 non-null    float64\n",
      " 5   gender_Female                   932 non-null    uint8  \n",
      " 6   gender_Male                     932 non-null    uint8  \n",
      " 7   gender_Other                    932 non-null    uint8  \n",
      " 8   ever_married_No                 932 non-null    uint8  \n",
      " 9   ever_married_Yes                932 non-null    uint8  \n",
      " 10  work_type_Govt_job              932 non-null    uint8  \n",
      " 11  work_type_Never_worked          932 non-null    uint8  \n",
      " 12  work_type_Private               932 non-null    uint8  \n",
      " 13  work_type_Self-employed         932 non-null    uint8  \n",
      " 14  work_type_children              932 non-null    uint8  \n",
      " 15  Residence_type_Rural            932 non-null    uint8  \n",
      " 16  Residence_type_Urban            932 non-null    uint8  \n",
      " 17  smoking_status_Unknown          932 non-null    uint8  \n",
      " 18  smoking_status_formerly smoked  932 non-null    uint8  \n",
      " 19  smoking_status_never smoked     932 non-null    uint8  \n",
      " 20  smoking_status_smokes           932 non-null    uint8  \n",
      "dtypes: float64(5), uint8(16)\n",
      "memory usage: 51.1 KB\n"
     ]
    }
   ],
   "source": [
    "test.info()"
   ]
  },
  {
   "cell_type": "code",
   "execution_count": 260,
   "id": "e673440d-5883-4ce2-a9f3-2639fcf5e419",
   "metadata": {
    "tags": []
   },
   "outputs": [],
   "source": [
    "x_tr, x_val, y_tr, y_val = train_test_split(train, y_train, test_size=0.25, stratify=y_train, random_state=0)"
   ]
  },
  {
   "cell_type": "code",
   "execution_count": 286,
   "id": "279d1007-ac5e-42c4-807d-e75bd078e3f4",
   "metadata": {
    "tags": []
   },
   "outputs": [
    {
     "data": {
      "text/html": [
       "<style>#sk-container-id-10 {color: black;}#sk-container-id-10 pre{padding: 0;}#sk-container-id-10 div.sk-toggleable {background-color: white;}#sk-container-id-10 label.sk-toggleable__label {cursor: pointer;display: block;width: 100%;margin-bottom: 0;padding: 0.3em;box-sizing: border-box;text-align: center;}#sk-container-id-10 label.sk-toggleable__label-arrow:before {content: \"▸\";float: left;margin-right: 0.25em;color: #696969;}#sk-container-id-10 label.sk-toggleable__label-arrow:hover:before {color: black;}#sk-container-id-10 div.sk-estimator:hover label.sk-toggleable__label-arrow:before {color: black;}#sk-container-id-10 div.sk-toggleable__content {max-height: 0;max-width: 0;overflow: hidden;text-align: left;background-color: #f0f8ff;}#sk-container-id-10 div.sk-toggleable__content pre {margin: 0.2em;color: black;border-radius: 0.25em;background-color: #f0f8ff;}#sk-container-id-10 input.sk-toggleable__control:checked~div.sk-toggleable__content {max-height: 200px;max-width: 100%;overflow: auto;}#sk-container-id-10 input.sk-toggleable__control:checked~label.sk-toggleable__label-arrow:before {content: \"▾\";}#sk-container-id-10 div.sk-estimator input.sk-toggleable__control:checked~label.sk-toggleable__label {background-color: #d4ebff;}#sk-container-id-10 div.sk-label input.sk-toggleable__control:checked~label.sk-toggleable__label {background-color: #d4ebff;}#sk-container-id-10 input.sk-hidden--visually {border: 0;clip: rect(1px 1px 1px 1px);clip: rect(1px, 1px, 1px, 1px);height: 1px;margin: -1px;overflow: hidden;padding: 0;position: absolute;width: 1px;}#sk-container-id-10 div.sk-estimator {font-family: monospace;background-color: #f0f8ff;border: 1px dotted black;border-radius: 0.25em;box-sizing: border-box;margin-bottom: 0.5em;}#sk-container-id-10 div.sk-estimator:hover {background-color: #d4ebff;}#sk-container-id-10 div.sk-parallel-item::after {content: \"\";width: 100%;border-bottom: 1px solid gray;flex-grow: 1;}#sk-container-id-10 div.sk-label:hover label.sk-toggleable__label {background-color: #d4ebff;}#sk-container-id-10 div.sk-serial::before {content: \"\";position: absolute;border-left: 1px solid gray;box-sizing: border-box;top: 0;bottom: 0;left: 50%;z-index: 0;}#sk-container-id-10 div.sk-serial {display: flex;flex-direction: column;align-items: center;background-color: white;padding-right: 0.2em;padding-left: 0.2em;position: relative;}#sk-container-id-10 div.sk-item {position: relative;z-index: 1;}#sk-container-id-10 div.sk-parallel {display: flex;align-items: stretch;justify-content: center;background-color: white;position: relative;}#sk-container-id-10 div.sk-item::before, #sk-container-id-10 div.sk-parallel-item::before {content: \"\";position: absolute;border-left: 1px solid gray;box-sizing: border-box;top: 0;bottom: 0;left: 50%;z-index: -1;}#sk-container-id-10 div.sk-parallel-item {display: flex;flex-direction: column;z-index: 1;position: relative;background-color: white;}#sk-container-id-10 div.sk-parallel-item:first-child::after {align-self: flex-end;width: 50%;}#sk-container-id-10 div.sk-parallel-item:last-child::after {align-self: flex-start;width: 50%;}#sk-container-id-10 div.sk-parallel-item:only-child::after {width: 0;}#sk-container-id-10 div.sk-dashed-wrapped {border: 1px dashed gray;margin: 0 0.4em 0.5em 0.4em;box-sizing: border-box;padding-bottom: 0.4em;background-color: white;}#sk-container-id-10 div.sk-label label {font-family: monospace;font-weight: bold;display: inline-block;line-height: 1.2em;}#sk-container-id-10 div.sk-label-container {text-align: center;}#sk-container-id-10 div.sk-container {/* jupyter's `normalize.less` sets `[hidden] { display: none; }` but bootstrap.min.css set `[hidden] { display: none !important; }` so we also need the `!important` here to be able to override the default hidden behavior on the sphinx rendered scikit-learn.org. See: https://github.com/scikit-learn/scikit-learn/issues/21755 */display: inline-block !important;position: relative;}#sk-container-id-10 div.sk-text-repr-fallback {display: none;}</style><div id=\"sk-container-id-10\" class=\"sk-top-container\"><div class=\"sk-text-repr-fallback\"><pre>RandomForestClassifier(max_depth=5, random_state=0)</pre><b>In a Jupyter environment, please rerun this cell to show the HTML representation or trust the notebook. <br />On GitHub, the HTML representation is unable to render, please try loading this page with nbviewer.org.</b></div><div class=\"sk-container\" hidden><div class=\"sk-item\"><div class=\"sk-estimator sk-toggleable\"><input class=\"sk-toggleable__control sk-hidden--visually\" id=\"sk-estimator-id-10\" type=\"checkbox\" checked><label for=\"sk-estimator-id-10\" class=\"sk-toggleable__label sk-toggleable__label-arrow\">RandomForestClassifier</label><div class=\"sk-toggleable__content\"><pre>RandomForestClassifier(max_depth=5, random_state=0)</pre></div></div></div></div></div>"
      ],
      "text/plain": [
       "RandomForestClassifier(max_depth=5, random_state=0)"
      ]
     },
     "execution_count": 286,
     "metadata": {},
     "output_type": "execute_result"
    }
   ],
   "source": [
    "model = RandomForestClassifier(random_state=0, max_depth=5, n_estimators=100)\n",
    "model.fit(x_tr, y_tr)"
   ]
  },
  {
   "cell_type": "code",
   "execution_count": 296,
   "id": "4225edf0-3372-409b-9696-83e7386a434b",
   "metadata": {
    "tags": []
   },
   "outputs": [
    {
     "data": {
      "text/plain": [
       "0.8216545582376377"
      ]
     },
     "execution_count": 296,
     "metadata": {},
     "output_type": "execute_result"
    }
   ],
   "source": [
    "pred_proba = model.predict_proba(x_val)[:, 1]\n",
    "roc_auc_score(y_val, pred_proba)"
   ]
  },
  {
   "cell_type": "code",
   "execution_count": 291,
   "id": "589fb75e-4473-4333-b437-c017717185df",
   "metadata": {
    "tags": []
   },
   "outputs": [],
   "source": [
    "pred = model.predict_proba(test)[:, 1]\n",
    "result = pd.DataFrame({\n",
    "    'id' : test_id,\n",
    "    'stroke': pred\n",
    "})"
   ]
  },
  {
   "cell_type": "code",
   "execution_count": 292,
   "id": "285ee0df-1ffa-45e9-aab0-7586a01c12c2",
   "metadata": {
    "tags": []
   },
   "outputs": [],
   "source": [
    "result.to_csv('02 모의고사 2회차.csv', index=False)"
   ]
  },
  {
   "cell_type": "code",
   "execution_count": 293,
   "id": "4e188027-6539-4757-94fc-efe48f3db939",
   "metadata": {
    "tags": []
   },
   "outputs": [
    {
     "data": {
      "text/plain": [
       "array([0.1487817 , 0.34460231, 0.23601616, 0.00381573, 0.03246665,\n",
       "       0.05129434, 0.20057448, 0.08185425, 0.00321086, 0.18213672,\n",
       "       0.23124608, 0.03140364, 0.35059031, 0.25263562, 0.06764825,\n",
       "       0.01709937, 0.07413201, 0.00308446, 0.07794924, 0.16621422,\n",
       "       0.0218789 , 0.17091771, 0.30066093, 0.11802283, 0.00381573,\n",
       "       0.06370705, 0.00366893, 0.12259083, 0.17474729, 0.07387311,\n",
       "       0.20014602, 0.15225127, 0.07371864, 0.01937207, 0.06181868,\n",
       "       0.33560613, 0.05334866, 0.15375597, 0.13498644, 0.01769925,\n",
       "       0.00290382, 0.28373711, 0.1935967 , 0.01916947, 0.06182467,\n",
       "       0.16947882, 0.09369748, 0.3112935 , 0.01913782, 0.07646464,\n",
       "       0.09106704, 0.18720987, 0.16762321, 0.25679062, 0.41285855,\n",
       "       0.00366893, 0.05487655, 0.07438909, 0.05148894, 0.05367589,\n",
       "       0.41371663, 0.26056663, 0.32509641, 0.06333154, 0.06848908,\n",
       "       0.12643559, 0.14401949, 0.03888302, 0.00366893, 0.06457615,\n",
       "       0.30570791, 0.31110377, 0.16762448, 0.21628533, 0.0667226 ,\n",
       "       0.26460237, 0.10662127, 0.15101848, 0.14565229, 0.02559664,\n",
       "       0.31867427, 0.04953952, 0.20287729, 0.07895045, 0.02420822,\n",
       "       0.08825472, 0.06325365, 0.12665254, 0.16735504, 0.23185005,\n",
       "       0.01465629, 0.0962733 , 0.02128917, 0.25802842, 0.06434518,\n",
       "       0.0632353 , 0.06173956, 0.0666998 , 0.39318476, 0.01410821,\n",
       "       0.063351  , 0.13117621, 0.00299188, 0.2021545 , 0.06964771,\n",
       "       0.25744091, 0.21329509, 0.01302926, 0.13586782, 0.00308446,\n",
       "       0.04623918, 0.25549195, 0.02474408, 0.16109961, 0.04632315,\n",
       "       0.07316285, 0.27011632, 0.0948738 , 0.34916824, 0.284969  ,\n",
       "       0.01166529, 0.07708259, 0.0486096 , 0.00366893, 0.23484647,\n",
       "       0.0614498 , 0.16653284, 0.1539216 , 0.04092122, 0.07965975,\n",
       "       0.21927452, 0.07265332, 0.11185784, 0.0217288 , 0.00401695,\n",
       "       0.17656828, 0.42362027, 0.14426179, 0.00390831, 0.01067788,\n",
       "       0.20433599, 0.10155356, 0.03242861, 0.15297677, 0.01429469,\n",
       "       0.03292206, 0.01658766, 0.02245087, 0.31258914, 0.07659034,\n",
       "       0.06119344, 0.00366893, 0.01981418, 0.16583127, 0.30748113,\n",
       "       0.07964327, 0.00381573, 0.02552824, 0.05287303, 0.07022548,\n",
       "       0.21146794, 0.22963735, 0.1163785 , 0.07741145, 0.04673495,\n",
       "       0.10016653, 0.00290382, 0.01980904, 0.00299188, 0.06539758,\n",
       "       0.0239891 , 0.10890156, 0.00821583, 0.22626162, 0.26054287,\n",
       "       0.13809278, 0.01767341, 0.08153768, 0.07594005, 0.05831718,\n",
       "       0.23690415, 0.3580858 , 0.07249232, 0.07958717, 0.00401695,\n",
       "       0.06764825, 0.00427902, 0.17114212, 0.11057059, 0.10317727,\n",
       "       0.00390831, 0.07812916, 0.00308446, 0.11724427, 0.05860483,\n",
       "       0.07550649, 0.12473925, 0.00390831, 0.12627672, 0.0347566 ,\n",
       "       0.05587878, 0.01660949, 0.00299188, 0.05647008, 0.07311571,\n",
       "       0.33902152, 0.44016422, 0.33467585, 0.07246627, 0.02396317,\n",
       "       0.4212412 , 0.14849738, 0.43987647, 0.20854161, 0.06618165,\n",
       "       0.03249531, 0.3508254 , 0.0333086 , 0.20139874, 0.0662614 ,\n",
       "       0.39004344, 0.15199573, 0.03838105, 0.09490732, 0.41019737,\n",
       "       0.07372296, 0.07384276, 0.00308446, 0.15328042, 0.28399302,\n",
       "       0.24814336, 0.00300044, 0.0135371 , 0.06275683, 0.06224884,\n",
       "       0.026355  , 0.01202002, 0.07131009, 0.07308249, 0.02804894,\n",
       "       0.17635343, 0.08753445, 0.21569104, 0.01863969, 0.06138489,\n",
       "       0.00381573, 0.07687911, 0.02984404, 0.01742971, 0.01908266,\n",
       "       0.07232479, 0.00381573, 0.00299188, 0.09302435, 0.02500471,\n",
       "       0.09385746, 0.22027628, 0.00357634, 0.15234275, 0.03348345,\n",
       "       0.00460348, 0.14363749, 0.4693079 , 0.06334363, 0.01908266,\n",
       "       0.12323817, 0.0815054 , 0.03650427, 0.07302331, 0.00308446,\n",
       "       0.10889798, 0.38589386, 0.15763084, 0.02055885, 0.12276066,\n",
       "       0.19406988, 0.02392507, 0.27642412, 0.05077656, 0.20367815,\n",
       "       0.0707789 , 0.33148864, 0.00299188, 0.24154852, 0.02007089,\n",
       "       0.2159201 , 0.00780467, 0.17814504, 0.00381573, 0.14141776,\n",
       "       0.08973585, 0.20046891, 0.06353477, 0.06105282, 0.05068285,\n",
       "       0.03920882, 0.18362016, 0.16253656, 0.00728126, 0.09427844,\n",
       "       0.1426285 , 0.01678557, 0.19146234, 0.06355604, 0.04656492,\n",
       "       0.01557133, 0.0357091 , 0.14833678, 0.05741387, 0.27034816,\n",
       "       0.1614008 , 0.00366893, 0.00412729, 0.16443567, 0.16199888,\n",
       "       0.01743596, 0.06933492, 0.16996625, 0.07793129, 0.0205861 ,\n",
       "       0.08006149, 0.11764868, 0.18969655, 0.23537952, 0.23279457,\n",
       "       0.14409008, 0.14895596, 0.07103729, 0.04352225, 0.21295062,\n",
       "       0.08955841, 0.02108723, 0.01417823, 0.19593801, 0.08110706,\n",
       "       0.10544761, 0.01882312, 0.14935007, 0.17344804, 0.01769925,\n",
       "       0.22662788, 0.04874113, 0.00308446, 0.17641445, 0.05902839,\n",
       "       0.00393391, 0.12175993, 0.12315844, 0.11143702, 0.41667586,\n",
       "       0.07544405, 0.07944805, 0.06845178, 0.07257081, 0.04766156,\n",
       "       0.27113147, 0.00290382, 0.02247701, 0.06366438, 0.14395029,\n",
       "       0.20431528, 0.02926407, 0.02307873, 0.49256157, 0.01562598,\n",
       "       0.08963701, 0.0367057 , 0.04481061, 0.19640424, 0.29825297,\n",
       "       0.01417823, 0.25213923, 0.04266992, 0.07699941, 0.02687713,\n",
       "       0.23166715, 0.26302394, 0.07204418, 0.22833509, 0.16070957,\n",
       "       0.12214061, 0.25649222, 0.00390831, 0.07384999, 0.06185232,\n",
       "       0.14345221, 0.05804323, 0.04203519, 0.00873978, 0.1790789 ,\n",
       "       0.00392936, 0.02990239, 0.05901114, 0.06542968, 0.073173  ,\n",
       "       0.17680206, 0.3155038 , 0.1282117 , 0.30501907, 0.10270267,\n",
       "       0.00468947, 0.01287091, 0.02128917, 0.03865666, 0.00393391,\n",
       "       0.0704518 , 0.14285049, 0.05652625, 0.15287291, 0.0242028 ,\n",
       "       0.07325849, 0.06607222, 0.11875407, 0.06434098, 0.02137134,\n",
       "       0.03319188, 0.06182385, 0.01503264, 0.06837367, 0.0375954 ,\n",
       "       0.00478205, 0.08243487, 0.05993651, 0.00468947, 0.18727822,\n",
       "       0.08194332, 0.1251204 , 0.07940027, 0.07132208, 0.26087255,\n",
       "       0.03198304, 0.03650427, 0.31381833, 0.14797192, 0.27155519,\n",
       "       0.30747407, 0.08856918, 0.09034213, 0.29440014, 0.16365966,\n",
       "       0.02176565, 0.10482175, 0.08630884, 0.01543869, 0.09986028,\n",
       "       0.19254113, 0.07452841, 0.10937707, 0.13913321, 0.0825025 ,\n",
       "       0.06649592, 0.06409054, 0.00408391, 0.37357827, 0.23676099,\n",
       "       0.08206988, 0.00390831, 0.08090754, 0.01981418, 0.40008997,\n",
       "       0.14252604, 0.07832334, 0.10443072, 0.06857679, 0.38771578,\n",
       "       0.17433445, 0.17361238, 0.03137956, 0.02191996, 0.23855135,\n",
       "       0.27192787, 0.06833223, 0.05106273, 0.15889553, 0.07573005,\n",
       "       0.07341122, 0.24758042, 0.0768885 , 0.13044362, 0.02371354,\n",
       "       0.07713956, 0.22217039, 0.28897905, 0.13173606, 0.02442561,\n",
       "       0.17783004, 0.08039711, 0.00427902, 0.12932353, 0.07020304,\n",
       "       0.06866951, 0.14954044, 0.05422133, 0.06559124, 0.07528199,\n",
       "       0.00390831, 0.26388738, 0.04632315, 0.11887445, 0.23727731,\n",
       "       0.23198686, 0.24302892, 0.17422696, 0.10203526, 0.00401695,\n",
       "       0.00361308, 0.05598672, 0.32704713, 0.15388272, 0.17042333,\n",
       "       0.10927921, 0.12664893, 0.00390831, 0.09615087, 0.19166508,\n",
       "       0.14777568, 0.21673357, 0.06841233, 0.39439515, 0.13563251,\n",
       "       0.20634335, 0.07627103, 0.11826712, 0.08800022, 0.06975528,\n",
       "       0.0475475 , 0.15346639, 0.28698301, 0.18016925, 0.08295793,\n",
       "       0.00427902, 0.05747256, 0.24287825, 0.03403552, 0.30717804,\n",
       "       0.08184292, 0.06872641, 0.0704518 , 0.09367107, 0.1328231 ,\n",
       "       0.07109258, 0.11403512, 0.02003292, 0.28453982, 0.12075909,\n",
       "       0.00456803, 0.03392196, 0.13457337, 0.00299188, 0.20120766,\n",
       "       0.32288195, 0.02128292, 0.37087526, 0.00403471, 0.06622725,\n",
       "       0.02359386, 0.03306596, 0.1933114 , 0.04766156, 0.15593517,\n",
       "       0.25745493, 0.00290382, 0.18333208, 0.00299188, 0.21951852,\n",
       "       0.43923406, 0.13668346, 0.10693651, 0.3647324 , 0.21010661,\n",
       "       0.0911683 , 0.19530976, 0.08691698, 0.07568139, 0.02398455,\n",
       "       0.46869858, 0.03689659, 0.16178424, 0.32240337, 0.0511134 ,\n",
       "       0.42809936, 0.35880043, 0.02411552, 0.07840567, 0.00381573,\n",
       "       0.14773467, 0.07082517, 0.06097353, 0.101024  , 0.20071303,\n",
       "       0.00299188, 0.36134828, 0.07753859, 0.03352323, 0.15409434,\n",
       "       0.01791242, 0.13950109, 0.07849143, 0.00299188, 0.03302878,\n",
       "       0.1553463 , 0.10384117, 0.0762229 , 0.14815833, 0.08709404,\n",
       "       0.16909157, 0.26428258, 0.00780467, 0.25658452, 0.31793484,\n",
       "       0.03101223, 0.09609208, 0.0943828 , 0.21653317, 0.06769951,\n",
       "       0.00381573, 0.22976754, 0.13903718, 0.37740752, 0.23706814,\n",
       "       0.0452379 , 0.00886601, 0.13249281, 0.04002782, 0.10772539,\n",
       "       0.41422138, 0.15020854, 0.0567158 , 0.33123943, 0.05300148,\n",
       "       0.34181733, 0.00381573, 0.07492121, 0.05539249, 0.12729787,\n",
       "       0.08952065, 0.14132262, 0.11876845, 0.111118  , 0.08286779,\n",
       "       0.02832356, 0.05928016, 0.39021168, 0.16120471, 0.06580356,\n",
       "       0.21831917, 0.09022518, 0.17954237, 0.19481983, 0.00392936,\n",
       "       0.15819022, 0.06545589, 0.02339839, 0.0768885 , 0.21113638,\n",
       "       0.05551288, 0.11336515, 0.09648903, 0.01366893, 0.05516797,\n",
       "       0.00390831, 0.00401695, 0.14799105, 0.11706888, 0.17824095,\n",
       "       0.42810107, 0.1349764 , 0.0045109 , 0.1712874 , 0.02230403,\n",
       "       0.10135157, 0.0568237 , 0.01385597, 0.08177127, 0.4212424 ,\n",
       "       0.01473558, 0.04870407, 0.11522305, 0.11971052, 0.01283027,\n",
       "       0.05273899, 0.00862812, 0.10000572, 0.09585849, 0.093605  ,\n",
       "       0.19770102, 0.05491717, 0.06457606, 0.22460689, 0.17123037,\n",
       "       0.30399422, 0.15559165, 0.22234601, 0.41492467, 0.05388126,\n",
       "       0.07055862, 0.08691157, 0.07823559, 0.02816285, 0.06446578,\n",
       "       0.25762936, 0.0337675 , 0.05608923, 0.12299455, 0.25128862,\n",
       "       0.07408792, 0.02661814, 0.00381573, 0.04426558, 0.07038587,\n",
       "       0.03392355, 0.05049621, 0.07074891, 0.06696409, 0.05635545,\n",
       "       0.05880693, 0.29101608, 0.15634957, 0.00299188, 0.04989309,\n",
       "       0.20260349, 0.17656244, 0.08066205, 0.07302331, 0.02143613,\n",
       "       0.00381573, 0.00390831, 0.00401695, 0.05682104, 0.14134711,\n",
       "       0.09269102, 0.14642548, 0.06493699, 0.26741174, 0.05512226,\n",
       "       0.05731888, 0.00381573, 0.01470734, 0.07825306, 0.0893062 ,\n",
       "       0.13263431, 0.17785641, 0.08754805, 0.00728126, 0.09462442,\n",
       "       0.00478205, 0.40253622, 0.05869073, 0.03359434, 0.10571301,\n",
       "       0.09827704, 0.08992816, 0.13513682, 0.05422864, 0.16262123,\n",
       "       0.06164616, 0.04343741, 0.07244518, 0.02180885, 0.23208177,\n",
       "       0.34106352, 0.10095252, 0.08955677, 0.07668369, 0.02701418,\n",
       "       0.07078165, 0.07290052, 0.1105277 , 0.42115087, 0.30836767,\n",
       "       0.0778997 , 0.02478338, 0.28876519, 0.00390831, 0.17942109,\n",
       "       0.04276376, 0.22414751, 0.09141131, 0.06375077, 0.0669716 ,\n",
       "       0.13203602, 0.05876582, 0.09151768, 0.00308446, 0.00357634,\n",
       "       0.17211591, 0.09675374, 0.06751857, 0.08962244, 0.05043421,\n",
       "       0.06833701, 0.01698462, 0.09346286, 0.22194963, 0.01982021,\n",
       "       0.05933425, 0.17703457, 0.00308446, 0.16613098, 0.03434024,\n",
       "       0.08182495, 0.02035992, 0.01417823, 0.05392697, 0.0031981 ,\n",
       "       0.19630388, 0.05955247, 0.07450732, 0.19951671, 0.11287572,\n",
       "       0.39119126, 0.00403052, 0.25021408, 0.05589827, 0.06893233,\n",
       "       0.09899623, 0.01870248, 0.03061253, 0.00300044, 0.07947569,\n",
       "       0.02512639, 0.05939456, 0.16306576, 0.01121207, 0.11765138,\n",
       "       0.07328139, 0.31528928, 0.06299655, 0.1440065 , 0.09395114,\n",
       "       0.08946801, 0.06893029, 0.2570068 , 0.11177559, 0.14248024,\n",
       "       0.06779273, 0.07409587, 0.00460348, 0.1681581 , 0.02986432,\n",
       "       0.23934997, 0.00381573, 0.23852828, 0.36281638, 0.04766185,\n",
       "       0.14707459, 0.19665246, 0.00895475, 0.18448216, 0.06930677,\n",
       "       0.1454814 , 0.18944823, 0.02760011, 0.08306137, 0.02995488,\n",
       "       0.0204704 , 0.07983032, 0.2330785 , 0.09668764, 0.12303132,\n",
       "       0.08456974, 0.33003933, 0.07975836, 0.17627322, 0.01632932,\n",
       "       0.21459468, 0.04924576, 0.31506803, 0.07431122, 0.06268014,\n",
       "       0.06941799, 0.01028598, 0.05301146, 0.08802115, 0.09604074,\n",
       "       0.01700081, 0.338953  , 0.02593138, 0.08074992, 0.28793499,\n",
       "       0.13684015, 0.06246079, 0.07090119, 0.06412461, 0.00299188,\n",
       "       0.0774373 , 0.01812949, 0.12926792, 0.080913  , 0.03922948,\n",
       "       0.00381573, 0.0554277 , 0.10958204, 0.02465725, 0.09616631,\n",
       "       0.14873302, 0.20084898, 0.08889158, 0.02152942, 0.31937137,\n",
       "       0.1674486 , 0.00437564, 0.04879844, 0.23013655, 0.17762689,\n",
       "       0.31706321, 0.0636209 , 0.08384938, 0.03255124, 0.01597683,\n",
       "       0.00381573, 0.10405419, 0.01791709, 0.27678771, 0.20328559,\n",
       "       0.0046559 , 0.3090984 , 0.16747482, 0.09958682, 0.06071055,\n",
       "       0.08494512, 0.00904055, 0.23239738, 0.05068285, 0.04764272,\n",
       "       0.00390831, 0.42269932, 0.13748444, 0.02687807, 0.08001847,\n",
       "       0.2923712 , 0.06982664])"
      ]
     },
     "execution_count": 293,
     "metadata": {},
     "output_type": "execute_result"
    }
   ],
   "source": [
    "pred"
   ]
  },
  {
   "cell_type": "code",
   "execution_count": null,
   "id": "0fc4bcc5-4dce-40ee-893d-d68103a13fea",
   "metadata": {},
   "outputs": [],
   "source": []
  }
 ],
 "metadata": {
  "kernelspec": {
   "display_name": "Python 3",
   "language": "python",
   "name": "python3"
  },
  "language_info": {
   "codemirror_mode": {
    "name": "ipython",
    "version": 3
   },
   "file_extension": ".py",
   "mimetype": "text/x-python",
   "name": "python",
   "nbconvert_exporter": "python",
   "pygments_lexer": "ipython3",
   "version": "3.11.4"
  }
 },
 "nbformat": 4,
 "nbformat_minor": 5
}
