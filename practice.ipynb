{
 "cells": [
  {
   "cell_type": "code",
   "execution_count": 1,
   "id": "dffbdeb1-d2e6-46f3-91d1-94a603b2ee10",
   "metadata": {
    "tags": []
   },
   "outputs": [],
   "source": [
    "import pandas as pd"
   ]
  },
  {
   "cell_type": "code",
   "execution_count": 2,
   "id": "f4eb75d5-0c1c-469a-9144-92051df6c4cf",
   "metadata": {
    "tags": []
   },
   "outputs": [],
   "source": [
    "filename = '교육부_학생건강검사 결과_20151201.csv'\n",
    "\n",
    "df = pd.read_csv(filename, encoding='cp949')\n",
    "df = df.reset_index()"
   ]
  },
  {
   "cell_type": "code",
   "execution_count": 3,
   "id": "7b103030-81f8-4717-ad04-04be35de7304",
   "metadata": {
    "tags": []
   },
   "outputs": [
    {
     "data": {
      "text/html": [
       "<div>\n",
       "<style scoped>\n",
       "    .dataframe tbody tr th:only-of-type {\n",
       "        vertical-align: middle;\n",
       "    }\n",
       "\n",
       "    .dataframe tbody tr th {\n",
       "        vertical-align: top;\n",
       "    }\n",
       "\n",
       "    .dataframe thead th {\n",
       "        text-align: right;\n",
       "    }\n",
       "</style>\n",
       "<table border=\"1\" class=\"dataframe\">\n",
       "  <thead>\n",
       "    <tr style=\"text-align: right;\">\n",
       "      <th></th>\n",
       "      <th>index</th>\n",
       "      <th>고유식별번호(ID)</th>\n",
       "      <th>최종가중치</th>\n",
       "      <th>학교고유번호(ID)</th>\n",
       "      <th>도시규모</th>\n",
       "      <th>도시규모별분석용</th>\n",
       "      <th>학년도</th>\n",
       "      <th>광역시도</th>\n",
       "      <th>시도별</th>\n",
       "      <th>학교급별</th>\n",
       "      <th>...</th>\n",
       "      <th>키</th>\n",
       "      <th>몸무게</th>\n",
       "      <th>혈당식전(mgdl)</th>\n",
       "      <th>총콜레스테롤(mgdl)</th>\n",
       "      <th>간기능(AST)단위(UL)</th>\n",
       "      <th>간기능(ALT)단위(UL)</th>\n",
       "      <th>혈색소(gdl)</th>\n",
       "      <th>간염검사</th>\n",
       "      <th>수축기</th>\n",
       "      <th>이완기</th>\n",
       "    </tr>\n",
       "  </thead>\n",
       "  <tbody>\n",
       "    <tr>\n",
       "      <th>0</th>\n",
       "      <td>0</td>\n",
       "      <td>Aa011남10101</td>\n",
       "      <td>169.550665</td>\n",
       "      <td>Aa01</td>\n",
       "      <td>대도시/중소도시</td>\n",
       "      <td>특별/광역시</td>\n",
       "      <td>2015</td>\n",
       "      <td>서울</td>\n",
       "      <td>서울특별시교육청</td>\n",
       "      <td>1</td>\n",
       "      <td>...</td>\n",
       "      <td>125.8</td>\n",
       "      <td>27.3</td>\n",
       "      <td>NaN</td>\n",
       "      <td>NaN</td>\n",
       "      <td>NaN</td>\n",
       "      <td>NaN</td>\n",
       "      <td>NaN</td>\n",
       "      <td>NaN</td>\n",
       "      <td>77.0</td>\n",
       "      <td>58.0</td>\n",
       "    </tr>\n",
       "    <tr>\n",
       "      <th>1</th>\n",
       "      <td>1</td>\n",
       "      <td>Aa011남10102</td>\n",
       "      <td>169.550665</td>\n",
       "      <td>Aa01</td>\n",
       "      <td>대도시/중소도시</td>\n",
       "      <td>특별/광역시</td>\n",
       "      <td>2015</td>\n",
       "      <td>서울</td>\n",
       "      <td>서울특별시교육청</td>\n",
       "      <td>1</td>\n",
       "      <td>...</td>\n",
       "      <td>124.3</td>\n",
       "      <td>25.4</td>\n",
       "      <td>NaN</td>\n",
       "      <td>NaN</td>\n",
       "      <td>NaN</td>\n",
       "      <td>NaN</td>\n",
       "      <td>NaN</td>\n",
       "      <td>NaN</td>\n",
       "      <td>83.0</td>\n",
       "      <td>51.0</td>\n",
       "    </tr>\n",
       "    <tr>\n",
       "      <th>2</th>\n",
       "      <td>2</td>\n",
       "      <td>Aa011남10103</td>\n",
       "      <td>169.550665</td>\n",
       "      <td>Aa01</td>\n",
       "      <td>대도시/중소도시</td>\n",
       "      <td>특별/광역시</td>\n",
       "      <td>2015</td>\n",
       "      <td>서울</td>\n",
       "      <td>서울특별시교육청</td>\n",
       "      <td>1</td>\n",
       "      <td>...</td>\n",
       "      <td>119.2</td>\n",
       "      <td>23.5</td>\n",
       "      <td>NaN</td>\n",
       "      <td>NaN</td>\n",
       "      <td>NaN</td>\n",
       "      <td>NaN</td>\n",
       "      <td>NaN</td>\n",
       "      <td>NaN</td>\n",
       "      <td>103.0</td>\n",
       "      <td>65.0</td>\n",
       "    </tr>\n",
       "    <tr>\n",
       "      <th>3</th>\n",
       "      <td>3</td>\n",
       "      <td>Aa011남10104</td>\n",
       "      <td>169.550665</td>\n",
       "      <td>Aa01</td>\n",
       "      <td>대도시/중소도시</td>\n",
       "      <td>특별/광역시</td>\n",
       "      <td>2015</td>\n",
       "      <td>서울</td>\n",
       "      <td>서울특별시교육청</td>\n",
       "      <td>1</td>\n",
       "      <td>...</td>\n",
       "      <td>115.0</td>\n",
       "      <td>20.0</td>\n",
       "      <td>NaN</td>\n",
       "      <td>NaN</td>\n",
       "      <td>NaN</td>\n",
       "      <td>NaN</td>\n",
       "      <td>NaN</td>\n",
       "      <td>NaN</td>\n",
       "      <td>92.0</td>\n",
       "      <td>66.0</td>\n",
       "    </tr>\n",
       "    <tr>\n",
       "      <th>4</th>\n",
       "      <td>4</td>\n",
       "      <td>Aa011남10105</td>\n",
       "      <td>169.550665</td>\n",
       "      <td>Aa01</td>\n",
       "      <td>대도시/중소도시</td>\n",
       "      <td>특별/광역시</td>\n",
       "      <td>2015</td>\n",
       "      <td>서울</td>\n",
       "      <td>서울특별시교육청</td>\n",
       "      <td>1</td>\n",
       "      <td>...</td>\n",
       "      <td>120.0</td>\n",
       "      <td>33.5</td>\n",
       "      <td>NaN</td>\n",
       "      <td>NaN</td>\n",
       "      <td>NaN</td>\n",
       "      <td>NaN</td>\n",
       "      <td>NaN</td>\n",
       "      <td>NaN</td>\n",
       "      <td>102.0</td>\n",
       "      <td>59.0</td>\n",
       "    </tr>\n",
       "  </tbody>\n",
       "</table>\n",
       "<p>5 rows × 26 columns</p>\n",
       "</div>"
      ],
      "text/plain": [
       "   index   고유식별번호(ID)       최종가중치 학교고유번호(ID)      도시규모 도시규모별분석용   학년도 광역시도  \\\n",
       "0      0  Aa011남10101  169.550665       Aa01  대도시/중소도시   특별/광역시  2015   서울   \n",
       "1      1  Aa011남10102  169.550665       Aa01  대도시/중소도시   특별/광역시  2015   서울   \n",
       "2      2  Aa011남10103  169.550665       Aa01  대도시/중소도시   특별/광역시  2015   서울   \n",
       "3      3  Aa011남10104  169.550665       Aa01  대도시/중소도시   특별/광역시  2015   서울   \n",
       "4      4  Aa011남10105  169.550665       Aa01  대도시/중소도시   특별/광역시  2015   서울   \n",
       "\n",
       "        시도별  학교급별  ...      키   몸무게  혈당식전(mgdl)  총콜레스테롤(mgdl) 간기능(AST)단위(UL)  \\\n",
       "0  서울특별시교육청     1  ...  125.8  27.3         NaN           NaN            NaN   \n",
       "1  서울특별시교육청     1  ...  124.3  25.4         NaN           NaN            NaN   \n",
       "2  서울특별시교육청     1  ...  119.2  23.5         NaN           NaN            NaN   \n",
       "3  서울특별시교육청     1  ...  115.0  20.0         NaN           NaN            NaN   \n",
       "4  서울특별시교육청     1  ...  120.0  33.5         NaN           NaN            NaN   \n",
       "\n",
       "  간기능(ALT)단위(UL)  혈색소(gdl)  간염검사    수축기   이완기  \n",
       "0            NaN       NaN   NaN   77.0  58.0  \n",
       "1            NaN       NaN   NaN   83.0  51.0  \n",
       "2            NaN       NaN   NaN  103.0  65.0  \n",
       "3            NaN       NaN   NaN   92.0  66.0  \n",
       "4            NaN       NaN   NaN  102.0  59.0  \n",
       "\n",
       "[5 rows x 26 columns]"
      ]
     },
     "execution_count": 3,
     "metadata": {},
     "output_type": "execute_result"
    }
   ],
   "source": [
    "df.head()"
   ]
  },
  {
   "cell_type": "code",
   "execution_count": 4,
   "id": "91769f09-56ce-49ac-9be0-1422b76a7df3",
   "metadata": {
    "tags": []
   },
   "outputs": [
    {
     "name": "stdout",
     "output_type": "stream",
     "text": [
      "<class 'pandas.core.frame.DataFrame'>\n",
      "RangeIndex: 9686 entries, 0 to 9685\n",
      "Data columns (total 26 columns):\n",
      " #   Column          Non-Null Count  Dtype  \n",
      "---  ------          --------------  -----  \n",
      " 0   index           9686 non-null   int64  \n",
      " 1   고유식별번호(ID)      9686 non-null   object \n",
      " 2   최종가중치           9686 non-null   float64\n",
      " 3   학교고유번호(ID)      9686 non-null   object \n",
      " 4   도시규모            9686 non-null   object \n",
      " 5   도시규모별분석용        9686 non-null   object \n",
      " 6   학년도             9686 non-null   int64  \n",
      " 7   광역시도            9686 non-null   object \n",
      " 8   시도별             9686 non-null   object \n",
      " 9   학교급별            9686 non-null   int64  \n",
      " 10  학교명             9686 non-null   object \n",
      " 11  공학여부            9686 non-null   object \n",
      " 12  학년              9686 non-null   int64  \n",
      " 13  반               9686 non-null   int64  \n",
      " 14  성별              9686 non-null   object \n",
      " 15  건강검진일           9686 non-null   object \n",
      " 16  키               9686 non-null   float64\n",
      " 17  몸무게             9682 non-null   float64\n",
      " 18  혈당식전(mgdl)      338 non-null    float64\n",
      " 19  총콜레스테롤(mgdl)    339 non-null    float64\n",
      " 20  간기능(AST)단위(UL)  336 non-null    float64\n",
      " 21  간기능(ALT)단위(UL)  337 non-null    float64\n",
      " 22  혈색소(gdl)        578 non-null    float64\n",
      " 23  간염검사            831 non-null    object \n",
      " 24  수축기             3025 non-null   float64\n",
      " 25  이완기             3025 non-null   float64\n",
      "dtypes: float64(10), int64(5), object(11)\n",
      "memory usage: 1.9+ MB\n"
     ]
    }
   ],
   "source": [
    "df.info()"
   ]
  },
  {
   "cell_type": "code",
   "execution_count": 5,
   "id": "28b95e6e-3c0b-42c4-8c3d-6179f8df4604",
   "metadata": {
    "tags": []
   },
   "outputs": [],
   "source": [
    "df = df[['몸무게','키']]\n",
    "df = df.dropna()"
   ]
  },
  {
   "cell_type": "code",
   "execution_count": 6,
   "id": "ab0b21b6-12ad-4d02-b502-f52e190b6109",
   "metadata": {
    "tags": []
   },
   "outputs": [
    {
     "data": {
      "text/html": [
       "<div>\n",
       "<style scoped>\n",
       "    .dataframe tbody tr th:only-of-type {\n",
       "        vertical-align: middle;\n",
       "    }\n",
       "\n",
       "    .dataframe tbody tr th {\n",
       "        vertical-align: top;\n",
       "    }\n",
       "\n",
       "    .dataframe thead th {\n",
       "        text-align: right;\n",
       "    }\n",
       "</style>\n",
       "<table border=\"1\" class=\"dataframe\">\n",
       "  <thead>\n",
       "    <tr style=\"text-align: right;\">\n",
       "      <th></th>\n",
       "      <th>몸무게</th>\n",
       "      <th>키</th>\n",
       "    </tr>\n",
       "  </thead>\n",
       "  <tbody>\n",
       "    <tr>\n",
       "      <th>0</th>\n",
       "      <td>27.3</td>\n",
       "      <td>125.8</td>\n",
       "    </tr>\n",
       "    <tr>\n",
       "      <th>1</th>\n",
       "      <td>25.4</td>\n",
       "      <td>124.3</td>\n",
       "    </tr>\n",
       "    <tr>\n",
       "      <th>2</th>\n",
       "      <td>23.5</td>\n",
       "      <td>119.2</td>\n",
       "    </tr>\n",
       "    <tr>\n",
       "      <th>3</th>\n",
       "      <td>20.0</td>\n",
       "      <td>115.0</td>\n",
       "    </tr>\n",
       "    <tr>\n",
       "      <th>4</th>\n",
       "      <td>33.5</td>\n",
       "      <td>120.0</td>\n",
       "    </tr>\n",
       "  </tbody>\n",
       "</table>\n",
       "</div>"
      ],
      "text/plain": [
       "    몸무게      키\n",
       "0  27.3  125.8\n",
       "1  25.4  124.3\n",
       "2  23.5  119.2\n",
       "3  20.0  115.0\n",
       "4  33.5  120.0"
      ]
     },
     "execution_count": 6,
     "metadata": {},
     "output_type": "execute_result"
    }
   ],
   "source": [
    "df.head()"
   ]
  },
  {
   "cell_type": "code",
   "execution_count": 7,
   "id": "60907814-454d-4a52-abe8-373170fb05ac",
   "metadata": {
    "tags": []
   },
   "outputs": [],
   "source": [
    "x_train = df['몸무게']\n",
    "y_train = df['키']"
   ]
  },
  {
   "cell_type": "code",
   "execution_count": 8,
   "id": "ab5ebc67-22a6-4c70-94e9-18d68814a4c4",
   "metadata": {
    "tags": []
   },
   "outputs": [],
   "source": [
    "from sklearn.preprocessing import PolynomialFeatures\n",
    "from sklearn.linear_model import LinearRegression"
   ]
  },
  {
   "cell_type": "code",
   "execution_count": 9,
   "id": "aa059c7f-cb84-4b80-a0c2-7b4ab03801c3",
   "metadata": {
    "tags": []
   },
   "outputs": [],
   "source": [
    "from sklearn.ensemble import RandomForestRegressor\n",
    "from sklearn.model_selection import train_test_split"
   ]
  },
  {
   "cell_type": "code",
   "execution_count": 10,
   "id": "34ee7abf-23ee-4e37-a390-18e6f44af044",
   "metadata": {
    "tags": []
   },
   "outputs": [],
   "source": [
    "from sklearn.metrics import mean_squared_error"
   ]
  },
  {
   "cell_type": "code",
   "execution_count": 11,
   "id": "03ef861c-639a-4415-bc23-6656c02dc6ef",
   "metadata": {
    "tags": []
   },
   "outputs": [],
   "source": [
    "x_train = x_train.to_frame()"
   ]
  },
  {
   "cell_type": "code",
   "execution_count": 37,
   "id": "d247b545-d020-4f6b-bbce-aa250d665e69",
   "metadata": {
    "tags": []
   },
   "outputs": [],
   "source": [
    "poly = PolynomialFeatures(degree=3)"
   ]
  },
  {
   "cell_type": "code",
   "execution_count": 38,
   "id": "4b0efdea-ba2a-41bf-afb4-9a8e9640aeb7",
   "metadata": {
    "tags": []
   },
   "outputs": [],
   "source": [
    "x_train = poly.fit_transform(x_train)"
   ]
  },
  {
   "cell_type": "code",
   "execution_count": 39,
   "id": "fb83bfe5-934b-4d70-a49d-e90d7888097f",
   "metadata": {
    "tags": []
   },
   "outputs": [],
   "source": [
    "model1 = LinearRegression()"
   ]
  },
  {
   "cell_type": "code",
   "execution_count": 59,
   "id": "2af73c2c-fbc8-4d72-b7ab-ed9aef324efe",
   "metadata": {
    "tags": []
   },
   "outputs": [],
   "source": [
    "def fiit(model):\n",
    "    x_tr, x_val, y_tr, y_val = train_test_split(x_train, y_train, test_size=0.2, random_state=0)\n",
    "    model.fit(x_tr, y_tr)\n",
    "    pred = model.predict(x_val)\n",
    "    print(mean_squared_error(y_val, pred)**0.5)\n",
    "    print(model.score(x_val, y_val))"
   ]
  },
  {
   "cell_type": "code",
   "execution_count": 60,
   "id": "cffc6255-4e5d-4d9b-96e9-4f1dbace2a7e",
   "metadata": {
    "tags": []
   },
   "outputs": [
    {
     "name": "stdout",
     "output_type": "stream",
     "text": [
      "6.956654540307149\n",
      "0.8285810747383602\n"
     ]
    }
   ],
   "source": [
    "fiit(model1)"
   ]
  },
  {
   "cell_type": "code",
   "execution_count": 61,
   "id": "b1585d3a-a8d4-4ec3-855a-87867f57ad54",
   "metadata": {
    "tags": []
   },
   "outputs": [],
   "source": [
    "model2 = RandomForestRegressor(random_state=0, max_depth=5)"
   ]
  },
  {
   "cell_type": "code",
   "execution_count": 62,
   "id": "d95fa962-b3da-4507-86c9-b6383897e4e6",
   "metadata": {
    "tags": []
   },
   "outputs": [
    {
     "name": "stdout",
     "output_type": "stream",
     "text": [
      "6.930989329473548\n",
      "0.8298435744877263\n"
     ]
    }
   ],
   "source": [
    "fiit(model2)"
   ]
  },
  {
   "cell_type": "code",
   "execution_count": 33,
   "id": "410bf170-a1d9-4705-8b06-9c2097468a9c",
   "metadata": {
    "tags": []
   },
   "outputs": [],
   "source": [
    "x_train = df['몸무게'].to_frame()"
   ]
  },
  {
   "cell_type": "code",
   "execution_count": 19,
   "id": "c86e73fa-7911-4de4-bcd8-1c7c37969d92",
   "metadata": {
    "tags": []
   },
   "outputs": [],
   "source": [
    "model3 = LinearRegression()"
   ]
  },
  {
   "cell_type": "code",
   "execution_count": 20,
   "id": "0ebf3585-a6df-4e8d-b1e5-ad3c235f9c0d",
   "metadata": {
    "tags": []
   },
   "outputs": [
    {
     "name": "stdout",
     "output_type": "stream",
     "text": [
      "8.8616095899348\n"
     ]
    }
   ],
   "source": [
    "fiit(model3)"
   ]
  },
  {
   "cell_type": "code",
   "execution_count": 58,
   "id": "5d1996eb-f792-4116-a287-ebd264171a7e",
   "metadata": {
    "tags": []
   },
   "outputs": [
    {
     "ename": "AttributeError",
     "evalue": "'RandomForestRegressor' object has no attribute 'intercept_'",
     "output_type": "error",
     "traceback": [
      "\u001b[1;31m---------------------------------------------------------------------------\u001b[0m",
      "\u001b[1;31mAttributeError\u001b[0m                            Traceback (most recent call last)",
      "Cell \u001b[1;32mIn[58], line 1\u001b[0m\n\u001b[1;32m----> 1\u001b[0m model2\u001b[38;5;241m.\u001b[39mintercept_\n",
      "\u001b[1;31mAttributeError\u001b[0m: 'RandomForestRegressor' object has no attribute 'intercept_'"
     ]
    }
   ],
   "source": [
    "model2.score()"
   ]
  },
  {
   "cell_type": "code",
   "execution_count": null,
   "id": "cd026c59-1548-44ab-8fe6-eef234867a26",
   "metadata": {},
   "outputs": [],
   "source": []
  }
 ],
 "metadata": {
  "kernelspec": {
   "display_name": "Python 3",
   "language": "python",
   "name": "python3"
  },
  "language_info": {
   "codemirror_mode": {
    "name": "ipython",
    "version": 3
   },
   "file_extension": ".py",
   "mimetype": "text/x-python",
   "name": "python",
   "nbconvert_exporter": "python",
   "pygments_lexer": "ipython3",
   "version": "3.11.4"
  }
 },
 "nbformat": 4,
 "nbformat_minor": 5
}
